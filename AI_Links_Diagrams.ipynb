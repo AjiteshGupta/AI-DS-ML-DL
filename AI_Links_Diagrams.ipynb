{
  "nbformat": 4,
  "nbformat_minor": 0,
  "metadata": {
    "colab": {
      "name": "AI Links Diagrams.ipynb",
      "version": "0.3.2",
      "provenance": [],
      "include_colab_link": true
    },
    "kernelspec": {
      "name": "python3",
      "display_name": "Python 3"
    }
  },
  "cells": [
    {
      "cell_type": "markdown",
      "metadata": {
        "id": "view-in-github",
        "colab_type": "text"
      },
      "source": [
        "<a href=\"https://colab.research.google.com/github/SudhakarAnemu/AI-DS-ML-DL-Materials/blob/master/AI_Links_Diagrams.ipynb\" target=\"_parent\"><img src=\"https://colab.research.google.com/assets/colab-badge.svg\" alt=\"Open In Colab\"/></a>"
      ]
    },
    {
      "cell_type": "code",
      "metadata": {
        "id": "PnG2dz91_cG4",
        "colab_type": "code",
        "colab": {}
      },
      "source": [
        ""
      ],
      "execution_count": 0,
      "outputs": []
    },
    {
      "cell_type": "markdown",
      "metadata": {
        "id": "0YKUylxW_q2W",
        "colab_type": "text"
      },
      "source": [
        "# Url's for Quick reference"
      ]
    },
    {
      "cell_type": "markdown",
      "metadata": {
        "id": "JrxssEYI_f_V",
        "colab_type": "text"
      },
      "source": [
        "For Business Applications you can see at\n",
        "1. Data Science Process https://lnkd.in/fMHtxYP\n",
        "2. Data Visualization in Business https://lnkd.in/fYUCzgC\n",
        "3. Understand How to answer Why https://lnkd.in/f396Dqg\n",
        "4. Know ML Key Terminology https://lnkd.in/fCihY9W\n",
        "5. Understand ML Implementation https://lnkd.in/f5aUbBM\n",
        "6. ML Applications on Marketing https://lnkd.in/fUDGAQW\n",
        "and Retail https://lnkd.in/fihPTJf\n",
        "\n",
        "Hiring data science intern until 1 July 2019 https://lnkd.in/fbKPq3A\n",
        "\n",
        "\n",
        "# Statistics\n",
        "\n",
        "1. Medium(I feel it is bit advanced so READ IT LATER)\n",
        "\n",
        " https://medium.com/better-programming/statistics-review-for-data-scientists-and-management-df8f94760221\n",
        " \n",
        "2. PDF - 365 - DS - Statistics - cheat sheet\n",
        "\n",
        "3. Medium\n",
        "https://medium.com/tag/data-visualization\n",
        "\n",
        "4.\n",
        "\n",
        " \n",
        " \n",
        " # Plotly\n",
        " \n",
        " 1. https://plot.ly/python/user-guide/\n",
        " We can create an interactive graphs by using above options. \n",
        " \n",
        " 2. \n",
        " \n",
        "# NLP \n",
        " \n",
        " 1. \n",
        "https://www.cs.jhu.edu/~jason/465/\n",
        "\n",
        "2. \n",
        "https://emerj.com/?s=natural+language+understanding\n",
        "\n",
        "3.\n",
        "\n",
        "# Otheres(Need to check)\n",
        "\n",
        "1. https://towardsdatascience.com/@williamkoehrsen\n",
        "2. https://www.kaggle.com/getting-started/5243\n",
        "\n",
        "\n",
        "# Good to learn\n",
        "\n",
        "1.https://nbviewer.jupyter.org/\n",
        "2. https://plot.ly/python/user-guide/\n",
        "\n"
      ]
    }
  ]
}