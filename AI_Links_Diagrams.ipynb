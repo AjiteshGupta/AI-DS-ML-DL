{
  "nbformat": 4,
  "nbformat_minor": 0,
  "metadata": {
    "colab": {
      "name": "AI Links Diagrams.ipynb",
      "version": "0.3.2",
      "provenance": [],
      "include_colab_link": true
    },
    "kernelspec": {
      "name": "python3",
      "display_name": "Python 3"
    }
  },
  "cells": [
    {
      "cell_type": "markdown",
      "metadata": {
        "id": "view-in-github",
        "colab_type": "text"
      },
      "source": [
        "<a href=\"https://colab.research.google.com/github/SudhakarAnemu/AI-DS-ML-DL-Materials/blob/master/AI_Links_Diagrams.ipynb\" target=\"_parent\"><img src=\"https://colab.research.google.com/assets/colab-badge.svg\" alt=\"Open In Colab\"/></a>"
      ]
    },
    {
      "cell_type": "code",
      "metadata": {
        "id": "PnG2dz91_cG4",
        "colab_type": "code",
        "colab": {}
      },
      "source": [
        ""
      ],
      "execution_count": 0,
      "outputs": []
    },
    {
      "cell_type": "markdown",
      "metadata": {
        "id": "0YKUylxW_q2W",
        "colab_type": "text"
      },
      "source": [
        "# Url's for Quick reference"
      ]
    },
    {
      "cell_type": "markdown",
      "metadata": {
        "id": "JrxssEYI_f_V",
        "colab_type": "text"
      },
      "source": [
        "# Markdown - https://www.tablesgenerator.com/markdown_tables#\n",
        "\n",
        "# Useful links : \n",
        "\n",
        "For Business Applications you can see at\n",
        "1. Data Science Process https://lnkd.in/fMHtxYP\n",
        "2. Data Visualization in Business https://lnkd.in/fYUCzgC\n",
        "3. Understand How to answer Why https://lnkd.in/f396Dqg\n",
        "4. Know ML Key Terminology https://lnkd.in/fCihY9W\n",
        "5. Understand ML Implementation https://lnkd.in/f5aUbBM\n",
        "6. ML Applications on Marketing https://lnkd.in/fUDGAQW\n",
        "and Retail https://lnkd.in/fihPTJf\n",
        "\n",
        "Hiring data science intern until 1 July 2019 https://lnkd.in/fbKPq3A\n",
        "\n",
        "\n",
        "# Statistics\n",
        "\n",
        "1. Medium(I feel it is bit advanced so READ IT LATER)\n",
        " https://medium.com/better-programming/statistics-review-for-data-scientists-and-management-df8f94760221<br>\n",
        "2. PDF - 365 - DS - Statistics - cheat sheet <br>\n",
        "3. Medium : https://medium.com/tag/data-visualization <br>\n",
        "4.https://www.youtube.com/watch?v=uhxtUt_-GyM&list=PLGcvh64d5a4HfGkm8O4SIqbrS5HFaaM3B (Khan Acadamy - playlist - Stat)<br>\n",
        "5. https://www.youtube.com/watch?v=vDqOoI-4Z6M&list=PL7AF1C14AF1B05894 (Khan Acadamy - playlist - Algebra)<br>\n",
        "\n",
        "\n",
        "<br>Materials\n",
        "<br>1. https://www.khanacademy.org/\n",
        "# AI\n",
        "1.https://www.fast.ai/<br>\n",
        " \n",
        " \n",
        " # Plotly\n",
        " \n",
        " 1. https://plot.ly/python/user-guide/\n",
        " We can create an interactive graphs by using above options. \n",
        " \n",
        " 2. \n",
        " \n",
        "# NLP \n",
        " \n",
        "1 https://www.cs.jhu.edu/~jason/465/ <br>\n",
        "2 https://emerj.com/?s=natural+language+understanding<br>\n",
        "3 https://w3.ibm.com/w3publisher/ai-infuse/get-help/nlp-embedded-libraries (IBM, you can find recoreded one)<br>\n",
        "\n",
        "# Otheres(Need to check)\n",
        "\n",
        "1. https://towardsdatascience.com/@williamkoehrsen\n",
        "2. https://www.kaggle.com/getting-started/5243\n",
        "\n",
        "\n",
        "# Good to learn\n",
        "\n",
        "1.https://nbviewer.jupyter.org/\n",
        "2. https://plot.ly/python/user-guide/\n",
        "\n",
        "\n",
        "# Learn Datastructures \n",
        "\n",
        "\n",
        "# Free Courses :\n",
        "\n",
        "https://365datascience.teachable.com/   js365datascience\n",
        "\n",
        "# IBM LInks\n",
        "\n",
        "1.Using AI to build AI\n",
        "https://w3.ibm.com/thinkacademy/#/behind-the-news/auto-ai <br>\n",
        "2. https://ai-academy.w3ibm.mybluemix.net/ (learn more about IBM AI)<br>\n",
        "3. https://www.ibm.com/community/datascience/  (External link)\n",
        "\n",
        "# Where can I start\n",
        "\n",
        "1. Where can I start AI - https://hackernoon.com/i-want-to-learn-artificial-intelligence-and-machine-learning-where-can-i-start-7a392a3086ec <br>\n",
        "https://trello.com/b/tyHAvpcY/online-ai-masters-degree<br>\n",
        "2.\n",
        "\n",
        "# Pandas\n",
        "\n",
        "S.No | Url | Description|\n",
        "-|----------------|---------------|\n",
        "1|https://towardsdatascience.com/10-simple-hacks-to-speed-up-your-data-analysis-in-python-ec18c6396e6b|Panda Jypyter Tricks\n",
        "\n",
        "# Links vs Date of capture\n",
        "\n",
        "S.No | Date(Number) | Url|Description|\n",
        "-|----------------|---------------|----|\n",
        "1|22nd June 2019|1. https://www.coursera.org/learn/mathematical-thinking|Mathematical thinking of ML\n",
        "1|Above|2. https://towardsdatascience.com/false-positive-and-false-negative-b29df2c60aca |Confusion Matrix"
      ]
    }
  ]
}