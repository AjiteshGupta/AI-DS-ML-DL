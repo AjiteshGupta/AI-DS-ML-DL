{
  "nbformat": 4,
  "nbformat_minor": 0,
  "metadata": {
    "colab": {
      "name": "CognitiveDeepLearning.ipynb",
      "provenance": [],
      "authorship_tag": "ABX9TyMaX9Tw4o9RRFN0zYjeA15N",
      "include_colab_link": true
    },
    "kernelspec": {
      "name": "python3",
      "display_name": "Python 3"
    },
    "accelerator": "TPU"
  },
  "cells": [
    {
      "cell_type": "markdown",
      "metadata": {
        "id": "view-in-github",
        "colab_type": "text"
      },
      "source": [
        "<a href=\"https://colab.research.google.com/github/SudhakarAnemu/AI-DS-ML-DL/blob/master/CognitiveDeepLearning.ipynb\" target=\"_parent\"><img src=\"https://colab.research.google.com/assets/colab-badge.svg\" alt=\"Open In Colab\"/></a>"
      ]
    },
    {
      "cell_type": "code",
      "metadata": {
        "id": "IbTTa0824oGR",
        "colab_type": "code",
        "colab": {}
      },
      "source": [
        "!pip install tensorflow"
      ],
      "execution_count": 0,
      "outputs": []
    },
    {
      "cell_type": "markdown",
      "metadata": {
        "id": "S91mdG1w4uja",
        "colab_type": "text"
      },
      "source": [
        "# 1 Deep Learning Fundamentals"
      ]
    },
    {
      "cell_type": "markdown",
      "metadata": {
        "id": "lZ2r9kOb5LKT",
        "colab_type": "text"
      },
      "source": [
        "## Module1 : TensorFlow Hello World"
      ]
    },
    {
      "cell_type": "markdown",
      "metadata": {
        "id": "CU0v0hWeDBKb",
        "colab_type": "text"
      },
      "source": [
        "Importing the tensor package"
      ]
    },
    {
      "cell_type": "code",
      "metadata": {
        "id": "H8bkYAo35Uj8",
        "colab_type": "code",
        "colab": {}
      },
      "source": [
        "import tensorflow as tf"
      ],
      "execution_count": 0,
      "outputs": []
    },
    {
      "cell_type": "code",
      "metadata": {
        "id": "GT0Nz5ZN5tHL",
        "colab_type": "code",
        "colab": {
          "base_uri": "https://localhost:8080/",
          "height": 54
        },
        "outputId": "97d269ed-abd6-447a-806f-9f6ce9647057"
      },
      "source": [
        "print(\"Version of the Tensorflow : \", tf.version)"
      ],
      "execution_count": 4,
      "outputs": [
        {
          "output_type": "stream",
          "text": [
            "Version of the Tensorflow :  <module 'tensorflow._api.v1.version' from '/usr/local/lib/python3.6/dist-packages/tensorflow_core/_api/v1/version/__init__.py'>\n"
          ],
          "name": "stdout"
        }
      ]
    },
    {
      "cell_type": "markdown",
      "metadata": {
        "id": "r2wuXEMr48pI",
        "colab_type": "text"
      },
      "source": [
        "# 2 Deep Learning with TensorFlow"
      ]
    },
    {
      "cell_type": "markdown",
      "metadata": {
        "id": "NmLxhm2v4_pj",
        "colab_type": "text"
      },
      "source": [
        "# 3 Accelerating Deep Learning with GPU"
      ]
    }
  ]
}