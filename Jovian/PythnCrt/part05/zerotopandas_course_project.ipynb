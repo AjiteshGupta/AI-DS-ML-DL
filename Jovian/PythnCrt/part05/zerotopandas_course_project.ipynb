{
  "nbformat": 4,
  "nbformat_minor": 0,
  "metadata": {
    "kernelspec": {
      "display_name": "Python 3",
      "language": "python",
      "name": "python3"
    },
    "language_info": {
      "codemirror_mode": {
        "name": "ipython",
        "version": 3
      },
      "file_extension": ".py",
      "mimetype": "text/x-python",
      "name": "python",
      "nbconvert_exporter": "python",
      "pygments_lexer": "ipython3",
      "version": "3.8.5"
    },
    "colab": {
      "name": "zerotopandas-course-project.ipynb",
      "provenance": [],
      "toc_visible": true
    }
  },
  "cells": [
    {
      "cell_type": "code",
      "metadata": {
        "id": "WR6wHoEqIn-J"
      },
      "source": [
        "# Jovian Commit Essentials\n",
        "# Please retain and execute this cell without modifying the contents for `jovian.commit` to work\n",
        "!pip install jovian --upgrade -q\n",
        "import jovian\n",
        "jovian.utils.colab.set_colab_file_id('1DMtScMDo9qKbH644atAa4neVWTaIR0rD')"
      ],
      "execution_count": null,
      "outputs": []
    },
    {
      "cell_type": "markdown",
      "metadata": {
        "id": "2oV_PwKXcI35"
      },
      "source": [
        "# Name : Sudhakar Anemu\n",
        "## Email : sudhakar.anemu@gmail.com"
      ]
    },
    {
      "cell_type": "markdown",
      "metadata": {
        "id": "u69EbTb9In-a"
      },
      "source": [
        "# Project Title - Groceries(Market Basket)\n",
        "\n",
        "Groceries is one of the daily dataset which is used by many number of retailers to Analyze the Market(of Groceries). Here we are trying to analyze the combination of different items which customer used to buy. It allows the retailers to identifies the relationships between the itesms that people buy. \n",
        "<br>\n",
        "I observed this Dataset from the Kaggle(https://www.kaggle.com/heeraldedhia/groceries-dataset). I am going to analyze it using Pyhon Libraries. A course form the Zero to Pandas](zerotopandas.com) helped me lot to understand about the Pyhon and its libraries. \n"
      ]
    },
    {
      "cell_type": "markdown",
      "metadata": {
        "id": "Yni9VpzhIn-j"
      },
      "source": [
        "## Downloading the Dataset\n",
        "\n",
        "> - We find an interesting dataset on this page: https://www.kaggle.com/datasets?fileType=csv\n",
        "> - The data should be in CSV format, and should contain at least 3 columns and 150 rows\n",
        "> - Download the dataset using the [`opendatasets` Python library](https://github.com/JovianML/opendatasets#opendatasets)"
      ]
    },
    {
      "cell_type": "code",
      "metadata": {
        "id": "Jm2uzjjpIn-p"
      },
      "source": [
        "!pip install jovian opendatasets --upgrade --quiet"
      ],
      "execution_count": 48,
      "outputs": []
    },
    {
      "cell_type": "markdown",
      "metadata": {
        "id": "L25CKMj8In-w"
      },
      "source": [
        "Let's begin by downloading the data, and listing the files within the dataset."
      ]
    },
    {
      "cell_type": "code",
      "metadata": {
        "id": "weuadvyuIn-x"
      },
      "source": [
        "# Downloading the dataset\n",
        "dataset_url = 'https://www.kaggle.com/heeraldedhia/groceries-dataset' "
      ],
      "execution_count": 49,
      "outputs": []
    },
    {
      "cell_type": "code",
      "metadata": {
        "id": "LlxHkdcJIn-5",
        "outputId": "0c3f1d20-272e-4660-c3c1-4fa1da4cd739",
        "colab": {
          "base_uri": "https://localhost:8080/",
          "height": 121
        }
      },
      "source": [
        "import opendatasets as od\n",
        "od.download(dataset_url)"
      ],
      "execution_count": 50,
      "outputs": [
        {
          "output_type": "stream",
          "text": [
            "Please provide your Kaggle credentials to download this dataset. Learn more: http://bit.ly/kaggle-creds\n",
            "Your Kaggle username: anemusudhakar\n",
            "Your Kaggle Key: ··········\n"
          ],
          "name": "stdout"
        },
        {
          "output_type": "stream",
          "text": [
            "100%|██████████| 257k/257k [00:00<00:00, 32.0MB/s]"
          ],
          "name": "stderr"
        },
        {
          "output_type": "stream",
          "text": [
            "Downloading groceries-dataset.zip to ./groceries-dataset\n",
            "\n"
          ],
          "name": "stdout"
        },
        {
          "output_type": "stream",
          "text": [
            "\n"
          ],
          "name": "stderr"
        }
      ]
    },
    {
      "cell_type": "markdown",
      "metadata": {
        "id": "iDModCKMIn_A"
      },
      "source": [
        "The dataset has been downloaded and extracted."
      ]
    },
    {
      "cell_type": "code",
      "metadata": {
        "id": "FobRSrupIn_C"
      },
      "source": [
        "# Accessing the Directory/Dataset\n",
        "data_dir = '/content/groceries-dataset'"
      ],
      "execution_count": 52,
      "outputs": []
    },
    {
      "cell_type": "code",
      "metadata": {
        "id": "wEvP_kmqIn_M",
        "outputId": "0a11b202-8b02-4f50-d87d-e7004d1ae7f8",
        "colab": {
          "base_uri": "https://localhost:8080/",
          "height": 34
        }
      },
      "source": [
        "import os\n",
        "file = os.listdir(data_dir)\n",
        "print(\"Dataset : \", file)"
      ],
      "execution_count": 53,
      "outputs": [
        {
          "output_type": "stream",
          "text": [
            "Dataset :  ['Groceries_dataset.csv']\n"
          ],
          "name": "stdout"
        }
      ]
    },
    {
      "cell_type": "markdown",
      "metadata": {
        "id": "lXRD_rnsIn_S"
      },
      "source": [
        "Let us save and upload our work to Jovian before continuing."
      ]
    },
    {
      "cell_type": "code",
      "metadata": {
        "id": "cVWrwNH7In_T"
      },
      "source": [
        "project_name = \"zerotopandas-course-project-starter\" # change this (use lowercase letters and hyphens only)"
      ],
      "execution_count": 12,
      "outputs": []
    },
    {
      "cell_type": "code",
      "metadata": {
        "id": "1WUU2sBdIn_Y"
      },
      "source": [
        "!pip install jovian --upgrade -q"
      ],
      "execution_count": 13,
      "outputs": []
    },
    {
      "cell_type": "code",
      "metadata": {
        "id": "4BI94HnUIn_d"
      },
      "source": [
        "import jovian"
      ],
      "execution_count": null,
      "outputs": []
    },
    {
      "cell_type": "code",
      "metadata": {
        "id": "kAFhEJoxIn_j",
        "outputId": "6a3cef69-1dd7-430c-e538-a8297ad8194b"
      },
      "source": [
        "jovian.commit(project=project_name)"
      ],
      "execution_count": null,
      "outputs": [
        {
          "output_type": "display_data",
          "data": {
            "application/javascript": [
              "window.require && require([\"base/js/namespace\"],function(Jupyter){Jupyter.notebook.save_checkpoint()})"
            ],
            "text/plain": [
              "<IPython.core.display.Javascript object>"
            ]
          },
          "metadata": {
            "tags": []
          }
        },
        {
          "output_type": "stream",
          "text": [
            "[jovian] Attempting to save notebook..\u001b[0m\n"
          ],
          "name": "stdout"
        }
      ]
    },
    {
      "cell_type": "markdown",
      "metadata": {
        "id": "4a6XajWDIn_t"
      },
      "source": [
        "## Data Preparation and Cleaning\n",
        "\n",
        "**TODO** - Write some explanation here.\n",
        "\n"
      ]
    },
    {
      "cell_type": "markdown",
      "metadata": {
        "id": "CgV9cbVuIn_u"
      },
      "source": [
        "> Instructions (delete this cell):\n",
        ">\n",
        "> - Load the dataset into a data frame using Pandas\n",
        "> - Explore the number of rows & columns, ranges of values etc.\n",
        "> - Handle missing, incorrect and invalid data\n",
        "> - Perform any additional steps (parsing dates, creating additional columns, merging multiple dataset etc.)"
      ]
    },
    {
      "cell_type": "code",
      "metadata": {
        "id": "2tdcdHULIn_w"
      },
      "source": [
        "import pandas as pd\n",
        "import matplotlib.pyplot as plt\n",
        "import seaborn as sns\n",
        "%matplotlib inline"
      ],
      "execution_count": 54,
      "outputs": []
    },
    {
      "cell_type": "code",
      "metadata": {
        "id": "HCHQEpT8In_4"
      },
      "source": [
        "df = pd.read_csv('/content/groceries-dataset/Groceries_dataset.csv')"
      ],
      "execution_count": 108,
      "outputs": []
    },
    {
      "cell_type": "code",
      "metadata": {
        "id": "WY2HGvq-FBaI",
        "outputId": "5bcbdf83-8d4f-42f4-af35-c85dd26b4f3e",
        "colab": {
          "base_uri": "https://localhost:8080/",
          "height": 34
        }
      },
      "source": [
        "data.shape"
      ],
      "execution_count": 56,
      "outputs": [
        {
          "output_type": "execute_result",
          "data": {
            "text/plain": [
              "(38765, 3)"
            ]
          },
          "metadata": {
            "tags": []
          },
          "execution_count": 56
        }
      ]
    },
    {
      "cell_type": "code",
      "metadata": {
        "id": "IEv3qsF9TiQw",
        "outputId": "bcfe8964-e892-4fab-957c-5a4c3e03a1c3",
        "colab": {
          "base_uri": "https://localhost:8080/",
          "height": 191
        }
      },
      "source": [
        "df.info()"
      ],
      "execution_count": 148,
      "outputs": [
        {
          "output_type": "stream",
          "text": [
            "<class 'pandas.core.frame.DataFrame'>\n",
            "RangeIndex: 38765 entries, 0 to 38764\n",
            "Data columns (total 3 columns):\n",
            " #   Column           Non-Null Count  Dtype \n",
            "---  ------           --------------  ----- \n",
            " 0   Member_number    38765 non-null  int64 \n",
            " 1   Date             38765 non-null  object\n",
            " 2   itemDescription  38765 non-null  object\n",
            "dtypes: int64(1), object(2)\n",
            "memory usage: 908.7+ KB\n"
          ],
          "name": "stdout"
        }
      ]
    },
    {
      "cell_type": "code",
      "metadata": {
        "id": "42JzOHk2FEKN",
        "outputId": "fd2665fa-a616-4930-c711-9242adf3319a",
        "colab": {
          "base_uri": "https://localhost:8080/",
          "height": 34
        }
      },
      "source": [
        "df.columns"
      ],
      "execution_count": 110,
      "outputs": [
        {
          "output_type": "execute_result",
          "data": {
            "text/plain": [
              "Index(['Member_number', 'Date', 'itemDescription'], dtype='object')"
            ]
          },
          "metadata": {
            "tags": []
          },
          "execution_count": 110
        }
      ]
    },
    {
      "cell_type": "code",
      "metadata": {
        "id": "C0G0F2wmIn_8",
        "outputId": "85f87634-3d94-4058-ba69-49a67c6ed2aa",
        "colab": {
          "base_uri": "https://localhost:8080/",
          "height": 206
        }
      },
      "source": [
        "df.head(5)"
      ],
      "execution_count": 111,
      "outputs": [
        {
          "output_type": "execute_result",
          "data": {
            "text/html": [
              "<div>\n",
              "<style scoped>\n",
              "    .dataframe tbody tr th:only-of-type {\n",
              "        vertical-align: middle;\n",
              "    }\n",
              "\n",
              "    .dataframe tbody tr th {\n",
              "        vertical-align: top;\n",
              "    }\n",
              "\n",
              "    .dataframe thead th {\n",
              "        text-align: right;\n",
              "    }\n",
              "</style>\n",
              "<table border=\"1\" class=\"dataframe\">\n",
              "  <thead>\n",
              "    <tr style=\"text-align: right;\">\n",
              "      <th></th>\n",
              "      <th>Member_number</th>\n",
              "      <th>Date</th>\n",
              "      <th>itemDescription</th>\n",
              "    </tr>\n",
              "  </thead>\n",
              "  <tbody>\n",
              "    <tr>\n",
              "      <th>0</th>\n",
              "      <td>1808</td>\n",
              "      <td>21-07-2015</td>\n",
              "      <td>tropical fruit</td>\n",
              "    </tr>\n",
              "    <tr>\n",
              "      <th>1</th>\n",
              "      <td>2552</td>\n",
              "      <td>05-01-2015</td>\n",
              "      <td>whole milk</td>\n",
              "    </tr>\n",
              "    <tr>\n",
              "      <th>2</th>\n",
              "      <td>2300</td>\n",
              "      <td>19-09-2015</td>\n",
              "      <td>pip fruit</td>\n",
              "    </tr>\n",
              "    <tr>\n",
              "      <th>3</th>\n",
              "      <td>1187</td>\n",
              "      <td>12-12-2015</td>\n",
              "      <td>other vegetables</td>\n",
              "    </tr>\n",
              "    <tr>\n",
              "      <th>4</th>\n",
              "      <td>3037</td>\n",
              "      <td>01-02-2015</td>\n",
              "      <td>whole milk</td>\n",
              "    </tr>\n",
              "  </tbody>\n",
              "</table>\n",
              "</div>"
            ],
            "text/plain": [
              "   Member_number        Date   itemDescription\n",
              "0           1808  21-07-2015    tropical fruit\n",
              "1           2552  05-01-2015        whole milk\n",
              "2           2300  19-09-2015         pip fruit\n",
              "3           1187  12-12-2015  other vegetables\n",
              "4           3037  01-02-2015        whole milk"
            ]
          },
          "metadata": {
            "tags": []
          },
          "execution_count": 111
        }
      ]
    },
    {
      "cell_type": "code",
      "metadata": {
        "id": "SAQYdjZ1IoAC",
        "outputId": "6bcdc161-59ae-4071-8c3b-990acd5bce48",
        "colab": {
          "base_uri": "https://localhost:8080/",
          "height": 300
        }
      },
      "source": [
        "df.describe()"
      ],
      "execution_count": 112,
      "outputs": [
        {
          "output_type": "execute_result",
          "data": {
            "text/html": [
              "<div>\n",
              "<style scoped>\n",
              "    .dataframe tbody tr th:only-of-type {\n",
              "        vertical-align: middle;\n",
              "    }\n",
              "\n",
              "    .dataframe tbody tr th {\n",
              "        vertical-align: top;\n",
              "    }\n",
              "\n",
              "    .dataframe thead th {\n",
              "        text-align: right;\n",
              "    }\n",
              "</style>\n",
              "<table border=\"1\" class=\"dataframe\">\n",
              "  <thead>\n",
              "    <tr style=\"text-align: right;\">\n",
              "      <th></th>\n",
              "      <th>Member_number</th>\n",
              "    </tr>\n",
              "  </thead>\n",
              "  <tbody>\n",
              "    <tr>\n",
              "      <th>count</th>\n",
              "      <td>38765.000000</td>\n",
              "    </tr>\n",
              "    <tr>\n",
              "      <th>mean</th>\n",
              "      <td>3003.641868</td>\n",
              "    </tr>\n",
              "    <tr>\n",
              "      <th>std</th>\n",
              "      <td>1153.611031</td>\n",
              "    </tr>\n",
              "    <tr>\n",
              "      <th>min</th>\n",
              "      <td>1000.000000</td>\n",
              "    </tr>\n",
              "    <tr>\n",
              "      <th>25%</th>\n",
              "      <td>2002.000000</td>\n",
              "    </tr>\n",
              "    <tr>\n",
              "      <th>50%</th>\n",
              "      <td>3005.000000</td>\n",
              "    </tr>\n",
              "    <tr>\n",
              "      <th>75%</th>\n",
              "      <td>4007.000000</td>\n",
              "    </tr>\n",
              "    <tr>\n",
              "      <th>max</th>\n",
              "      <td>5000.000000</td>\n",
              "    </tr>\n",
              "  </tbody>\n",
              "</table>\n",
              "</div>"
            ],
            "text/plain": [
              "       Member_number\n",
              "count   38765.000000\n",
              "mean     3003.641868\n",
              "std      1153.611031\n",
              "min      1000.000000\n",
              "25%      2002.000000\n",
              "50%      3005.000000\n",
              "75%      4007.000000\n",
              "max      5000.000000"
            ]
          },
          "metadata": {
            "tags": []
          },
          "execution_count": 112
        }
      ]
    },
    {
      "cell_type": "code",
      "metadata": {
        "id": "sQrRqAFfIoAL",
        "outputId": "4523b6c3-635a-40b8-b397-7d2c54eb9fb2",
        "colab": {
          "base_uri": "https://localhost:8080/",
          "height": 86
        }
      },
      "source": [
        "df.isnull().sum()"
      ],
      "execution_count": 113,
      "outputs": [
        {
          "output_type": "execute_result",
          "data": {
            "text/plain": [
              "Member_number      0\n",
              "Date               0\n",
              "itemDescription    0\n",
              "dtype: int64"
            ]
          },
          "metadata": {
            "tags": []
          },
          "execution_count": 113
        }
      ]
    },
    {
      "cell_type": "code",
      "metadata": {
        "id": "rjZxKqNkIoAZ"
      },
      "source": [
        "import jovian"
      ],
      "execution_count": null,
      "outputs": []
    },
    {
      "cell_type": "code",
      "metadata": {
        "id": "h196TgdUIoAc",
        "outputId": "89888bc2-b2f9-4851-b2ce-97161cffd941"
      },
      "source": [
        "jovian.commit()"
      ],
      "execution_count": null,
      "outputs": [
        {
          "output_type": "display_data",
          "data": {
            "application/javascript": [
              "window.require && require([\"base/js/namespace\"],function(Jupyter){Jupyter.notebook.save_checkpoint()})"
            ],
            "text/plain": [
              "<IPython.core.display.Javascript object>"
            ]
          },
          "metadata": {
            "tags": []
          }
        },
        {
          "output_type": "stream",
          "text": [
            "[jovian] Attempting to save notebook..\u001b[0m\n",
            "[jovian] Updating notebook \"aakashns/zerotopandas-course-project-starter\" on https://jovian.ml/\u001b[0m\n",
            "[jovian] Uploading notebook..\u001b[0m\n",
            "[jovian] Capturing environment..\u001b[0m\n",
            "[jovian] Committed successfully! https://jovian.ml/aakashns/zerotopandas-course-project-starter\u001b[0m\n"
          ],
          "name": "stdout"
        },
        {
          "output_type": "execute_result",
          "data": {
            "text/plain": [
              "'https://jovian.ml/aakashns/zerotopandas-course-project-starter'"
            ]
          },
          "metadata": {
            "tags": []
          },
          "execution_count": 23
        }
      ]
    },
    {
      "cell_type": "markdown",
      "metadata": {
        "id": "SKp9Owk_IoAi"
      },
      "source": [
        "## Exploratory Analysis and Visualization\n",
        "\n",
        "**TODO** - write some explanation here.\n",
        "\n"
      ]
    },
    {
      "cell_type": "markdown",
      "metadata": {
        "id": "kv-aPmttIoAj"
      },
      "source": [
        "> Instructions (delete this cell)\n",
        "> \n",
        "> - Compute the mean, sum, range and other interesting statistics for numeric columns\n",
        "> - Explore distributions of numeric columns using histograms etc.\n",
        "> - Explore relationship between columns using scatter plots, bar charts etc.\n",
        "> - Make a note of interesting insights from the exploratory analysis"
      ]
    },
    {
      "cell_type": "markdown",
      "metadata": {
        "id": "5WXsFQVZIoAk"
      },
      "source": [
        "Let's begin by importing`matplotlib.pyplot` and `seaborn`."
      ]
    },
    {
      "cell_type": "code",
      "metadata": {
        "id": "TvwndnSdIoAk"
      },
      "source": [
        "import seaborn as sns\n",
        "import matplotlib\n",
        "import matplotlib.pyplot as plt\n",
        "import numpy as np\n",
        "%matplotlib inline\n",
        "\n",
        "sns.set_style('darkgrid')\n",
        "matplotlib.rcParams['font.size'] = 14\n",
        "matplotlib.rcParams['figure.figsize'] = (9, 5)\n",
        "matplotlib.rcParams['figure.facecolor'] = '#00000000'"
      ],
      "execution_count": 114,
      "outputs": []
    },
    {
      "cell_type": "markdown",
      "metadata": {
        "id": "fc4rboD8IoAp"
      },
      "source": [
        "**TODO** - Explore one or more columns by plotting a graph below, and add some explanation about it"
      ]
    },
    {
      "cell_type": "code",
      "metadata": {
        "id": "Klo8U1OvlkB2",
        "outputId": "92773b3f-8971-4250-bf58-2f0e45908786",
        "colab": {
          "base_uri": "https://localhost:8080/",
          "height": 225
        }
      },
      "source": [
        "df['itemDescription'].value_counts()"
      ],
      "execution_count": 124,
      "outputs": [
        {
          "output_type": "execute_result",
          "data": {
            "text/plain": [
              "whole milk               2502\n",
              "other vegetables         1898\n",
              "rolls/buns               1716\n",
              "soda                     1514\n",
              "yogurt                   1334\n",
              "                         ... \n",
              "make up remover             5\n",
              "bags                        4\n",
              "baby cosmetics              3\n",
              "kitchen utensil             1\n",
              "preservation products       1\n",
              "Name: itemDescription, Length: 167, dtype: int64"
            ]
          },
          "metadata": {
            "tags": []
          },
          "execution_count": 124
        }
      ]
    },
    {
      "cell_type": "code",
      "metadata": {
        "id": "8CQJAQU6k-4n",
        "outputId": "35ed87d2-8a61-4576-ecb4-ffeccca416ce",
        "colab": {
          "base_uri": "https://localhost:8080/",
          "height": 341
        }
      },
      "source": [
        "sns.barplot(x=df['itemDescription'].value_counts().head(5).index, y=df['itemDescription'].value_counts().head(5).values)"
      ],
      "execution_count": 123,
      "outputs": [
        {
          "output_type": "execute_result",
          "data": {
            "text/plain": [
              "<matplotlib.axes._subplots.AxesSubplot at 0x7f668cfb75c0>"
            ]
          },
          "metadata": {
            "tags": []
          },
          "execution_count": 123
        },
        {
          "output_type": "display_data",
          "data": {
            "image/png": "[encoded data removed]",
            "text/plain": [
              "<Figure size 648x360 with 1 Axes>"
            ]
          },
          "metadata": {
            "tags": [],
            "needs_background": "light"
          }
        }
      ]
    },
    {
      "cell_type": "markdown",
      "metadata": {
        "id": "Blh5qBPjIoA4"
      },
      "source": [
        "**TODO** - Explore one or more columns by plotting a graph below, and add some explanation about it"
      ]
    },
    {
      "cell_type": "code",
      "metadata": {
        "id": "NMx1yR6oIoA8",
        "outputId": "983730f2-bfdf-46ff-b6dc-2ec1910aedba",
        "colab": {
          "base_uri": "https://localhost:8080/",
          "height": 225
        }
      },
      "source": [
        "df['Member_number'].value_counts()"
      ],
      "execution_count": 125,
      "outputs": [
        {
          "output_type": "execute_result",
          "data": {
            "text/plain": [
              "3180    36\n",
              "3050    33\n",
              "2051    33\n",
              "3737    33\n",
              "2433    31\n",
              "        ..\n",
              "4565     2\n",
              "2373     2\n",
              "3788     2\n",
              "2614     2\n",
              "2844     2\n",
              "Name: Member_number, Length: 3898, dtype: int64"
            ]
          },
          "metadata": {
            "tags": []
          },
          "execution_count": 125
        }
      ]
    },
    {
      "cell_type": "code",
      "metadata": {
        "id": "QzfO3lfNmNuu",
        "outputId": "9b4335d4-30b1-4554-f131-08617bc1d5fd",
        "colab": {
          "base_uri": "https://localhost:8080/",
          "height": 341
        }
      },
      "source": [
        "sns.barplot(x=df['Member_number'].value_counts().head(5).index, y=df['Member_number'].value_counts().head(5).values)"
      ],
      "execution_count": 126,
      "outputs": [
        {
          "output_type": "execute_result",
          "data": {
            "text/plain": [
              "<matplotlib.axes._subplots.AxesSubplot at 0x7f668c186ba8>"
            ]
          },
          "metadata": {
            "tags": []
          },
          "execution_count": 126
        },
        {
          "output_type": "display_data",
          "data": {
            "image/png": "[encoded data removed]",
            "text/plain": [
              "<Figure size 648x360 with 1 Axes>"
            ]
          },
          "metadata": {
            "tags": [],
            "needs_background": "light"
          }
        }
      ]
    },
    {
      "cell_type": "markdown",
      "metadata": {
        "id": "1EGxtwrZIoBD"
      },
      "source": [
        "**TODO** - Explore one or more columns by plotting a graph below, and add some explanation about it"
      ]
    },
    {
      "cell_type": "code",
      "metadata": {
        "id": "C5e2e3LzIoBD",
        "outputId": "6ef0ecd8-c813-435f-e147-be7fd1b9c05d",
        "colab": {
          "base_uri": "https://localhost:8080/",
          "height": 225
        }
      },
      "source": [
        "df['Date'].value_counts()"
      ],
      "execution_count": 128,
      "outputs": [
        {
          "output_type": "execute_result",
          "data": {
            "text/plain": [
              "21-01-2015    96\n",
              "21-07-2015    93\n",
              "29-11-2015    92\n",
              "08-08-2015    92\n",
              "30-04-2015    91\n",
              "              ..\n",
              "29-06-2014    26\n",
              "04-07-2014    24\n",
              "17-03-2015    23\n",
              "16-03-2015    23\n",
              "01-09-2015    22\n",
              "Name: Date, Length: 728, dtype: int64"
            ]
          },
          "metadata": {
            "tags": []
          },
          "execution_count": 128
        }
      ]
    },
    {
      "cell_type": "code",
      "metadata": {
        "id": "-vggJptVnRsW",
        "outputId": "dc33eb58-6b9e-4c0c-8a1f-cc8fa933b160",
        "colab": {
          "base_uri": "https://localhost:8080/",
          "height": 121
        }
      },
      "source": [
        "df['Date'].value_counts().tail(5)"
      ],
      "execution_count": 131,
      "outputs": [
        {
          "output_type": "execute_result",
          "data": {
            "text/plain": [
              "29-06-2014    26\n",
              "04-07-2014    24\n",
              "17-03-2015    23\n",
              "16-03-2015    23\n",
              "01-09-2015    22\n",
              "Name: Date, dtype: int64"
            ]
          },
          "metadata": {
            "tags": []
          },
          "execution_count": 131
        }
      ]
    },
    {
      "cell_type": "code",
      "metadata": {
        "id": "v4MsCERiIoBH",
        "outputId": "9ba4ced4-4c61-4239-8066-20fe797ae85e",
        "colab": {
          "base_uri": "https://localhost:8080/",
          "height": 341
        }
      },
      "source": [
        "sns.barplot(x=df['Date'].value_counts().tail(5).index, y=df['Date'].value_counts().tail(5).values)"
      ],
      "execution_count": 130,
      "outputs": [
        {
          "output_type": "execute_result",
          "data": {
            "text/plain": [
              "<matplotlib.axes._subplots.AxesSubplot at 0x7f6687066fd0>"
            ]
          },
          "metadata": {
            "tags": []
          },
          "execution_count": 130
        },
        {
          "output_type": "display_data",
          "data": {
            "image/png": "[encoded data removed]",
            "text/plain": [
              "<Figure size 648x360 with 1 Axes>"
            ]
          },
          "metadata": {
            "tags": [],
            "needs_background": "light"
          }
        }
      ]
    },
    {
      "cell_type": "markdown",
      "metadata": {
        "id": "9nbsrDwmIoBN"
      },
      "source": [
        "**TODO** - Explore one or more columns by plotting a graph below, and add some explanation about it"
      ]
    },
    {
      "cell_type": "code",
      "metadata": {
        "id": "C7ycc9q0IoBO",
        "outputId": "0bfbe40b-08ab-4b28-f055-ebda517b6637",
        "colab": {
          "base_uri": "https://localhost:8080/",
          "height": 417
        }
      },
      "source": [
        "# Create a scatter plot\n",
        "df1 = df.head(10)\n",
        "sns.scatterplot(df1.Member_number, # X-axis\n",
        "                df1.itemDescription,  # Y-axis\n",
        "                hue=df1.Member_number,  # Dot color\n",
        "                s=100);\n",
        "\n",
        "# Chart title\n",
        "plt.title(\"Flowers\");"
      ],
      "execution_count": 136,
      "outputs": [
        {
          "output_type": "stream",
          "text": [
            "/usr/local/lib/python3.6/dist-packages/seaborn/_decorators.py:43: FutureWarning: Pass the following variables as keyword args: x, y. From version 0.12, the only valid positional argument will be `data`, and passing other arguments without an explicit keyword will result in an error or misinterpretation.\n",
            "  FutureWarning\n"
          ],
          "name": "stderr"
        },
        {
          "output_type": "display_data",
          "data": {
            "image/png": "[encoded data removed]",
            "text/plain": [
              "<Figure size 648x360 with 1 Axes>"
            ]
          },
          "metadata": {
            "tags": [],
            "needs_background": "light"
          }
        }
      ]
    },
    {
      "cell_type": "markdown",
      "metadata": {
        "id": "NnECZ6AoIoBb"
      },
      "source": [
        "Let us save and upload our work to Jovian before continuing"
      ]
    },
    {
      "cell_type": "code",
      "metadata": {
        "id": "HkTSsYgAIoBc"
      },
      "source": [
        "import jovian"
      ],
      "execution_count": null,
      "outputs": []
    },
    {
      "cell_type": "code",
      "metadata": {
        "id": "4HRkg-9rIoBh",
        "outputId": "86c7a332-ea2d-468c-8f62-55360e93088f"
      },
      "source": [
        "jovian.commit()"
      ],
      "execution_count": null,
      "outputs": [
        {
          "output_type": "display_data",
          "data": {
            "application/javascript": [
              "window.require && require([\"base/js/namespace\"],function(Jupyter){Jupyter.notebook.save_checkpoint()})"
            ],
            "text/plain": [
              "<IPython.core.display.Javascript object>"
            ]
          },
          "metadata": {
            "tags": []
          }
        },
        {
          "output_type": "stream",
          "text": [
            "[jovian] Attempting to save notebook..\u001b[0m\n",
            "[jovian] Updating notebook \"aakashns/zerotopandas-course-project-starter\" on https://jovian.ml/\u001b[0m\n",
            "[jovian] Uploading notebook..\u001b[0m\n",
            "[jovian] Capturing environment..\u001b[0m\n",
            "[jovian] Committed successfully! https://jovian.ml/aakashns/zerotopandas-course-project-starter\u001b[0m\n"
          ],
          "name": "stdout"
        },
        {
          "output_type": "execute_result",
          "data": {
            "text/plain": [
              "'https://jovian.ml/aakashns/zerotopandas-course-project-starter'"
            ]
          },
          "metadata": {
            "tags": []
          },
          "execution_count": 26
        }
      ]
    },
    {
      "cell_type": "markdown",
      "metadata": {
        "id": "fyJZqmMCIoBk"
      },
      "source": [
        "## Asking and Answering Questions\n",
        "\n",
        "TODO - write some explanation here.\n",
        "\n"
      ]
    },
    {
      "cell_type": "markdown",
      "metadata": {
        "id": "euFhpq0ZIoBk"
      },
      "source": [
        "> Instructions (delete this cell)\n",
        ">\n",
        "> - Ask at least 5 interesting questions about your dataset\n",
        "> - Answer the questions either by computing the results using Numpy/Pandas or by plotting graphs using Matplotlib/Seaborn\n",
        "> - Create new columns, merge multiple dataset and perform grouping/aggregation wherever necessary\n",
        "> - Wherever you're using a library function from Pandas/Numpy/Matplotlib etc. explain briefly what it does\n",
        "\n"
      ]
    },
    {
      "cell_type": "markdown",
      "metadata": {
        "id": "Ym9tiVxwIoBo"
      },
      "source": [
        "#### Q1: Identify the all items which were bought by the user number."
      ]
    },
    {
      "cell_type": "code",
      "metadata": {
        "id": "CEW5fQLhIoBp",
        "outputId": "1c551e8c-4b52-4580-a608-720b7dc163f0",
        "colab": {
          "base_uri": "https://localhost:8080/",
          "height": 34
        }
      },
      "source": [
        "mem_num = input(\"Input the member number : (3180/3050) \")"
      ],
      "execution_count": 171,
      "outputs": [
        {
          "output_type": "stream",
          "text": [
            "Input the member number : (3180/3050) 3050\n"
          ],
          "name": "stdout"
        }
      ]
    },
    {
      "cell_type": "code",
      "metadata": {
        "id": "VnDLmJW2rDSx",
        "outputId": "86a17ee0-e151-4640-e1da-b05db151ccd9",
        "colab": {
          "base_uri": "https://localhost:8080/",
          "height": 1000
        }
      },
      "source": [
        "df[df['Member_number'] == int(mem_num)]"
      ],
      "execution_count": 172,
      "outputs": [
        {
          "output_type": "execute_result",
          "data": {
            "text/html": [
              "<div>\n",
              "<style scoped>\n",
              "    .dataframe tbody tr th:only-of-type {\n",
              "        vertical-align: middle;\n",
              "    }\n",
              "\n",
              "    .dataframe tbody tr th {\n",
              "        vertical-align: top;\n",
              "    }\n",
              "\n",
              "    .dataframe thead th {\n",
              "        text-align: right;\n",
              "    }\n",
              "</style>\n",
              "<table border=\"1\" class=\"dataframe\">\n",
              "  <thead>\n",
              "    <tr style=\"text-align: right;\">\n",
              "      <th></th>\n",
              "      <th>Member_number</th>\n",
              "      <th>Date</th>\n",
              "      <th>itemDescription</th>\n",
              "    </tr>\n",
              "  </thead>\n",
              "  <tbody>\n",
              "    <tr>\n",
              "      <th>1192</th>\n",
              "      <td>3050</td>\n",
              "      <td>07-04-2015</td>\n",
              "      <td>yogurt</td>\n",
              "    </tr>\n",
              "    <tr>\n",
              "      <th>2122</th>\n",
              "      <td>3050</td>\n",
              "      <td>11-03-2015</td>\n",
              "      <td>pip fruit</td>\n",
              "    </tr>\n",
              "    <tr>\n",
              "      <th>2283</th>\n",
              "      <td>3050</td>\n",
              "      <td>15-12-2015</td>\n",
              "      <td>hard cheese</td>\n",
              "    </tr>\n",
              "    <tr>\n",
              "      <th>2431</th>\n",
              "      <td>3050</td>\n",
              "      <td>21-06-2015</td>\n",
              "      <td>frankfurter</td>\n",
              "    </tr>\n",
              "    <tr>\n",
              "      <th>4161</th>\n",
              "      <td>3050</td>\n",
              "      <td>10-08-2015</td>\n",
              "      <td>whole milk</td>\n",
              "    </tr>\n",
              "    <tr>\n",
              "      <th>4588</th>\n",
              "      <td>3050</td>\n",
              "      <td>20-10-2015</td>\n",
              "      <td>other vegetables</td>\n",
              "    </tr>\n",
              "    <tr>\n",
              "      <th>4867</th>\n",
              "      <td>3050</td>\n",
              "      <td>06-05-2015</td>\n",
              "      <td>chicken</td>\n",
              "    </tr>\n",
              "    <tr>\n",
              "      <th>7499</th>\n",
              "      <td>3050</td>\n",
              "      <td>11-03-2015</td>\n",
              "      <td>pork</td>\n",
              "    </tr>\n",
              "    <tr>\n",
              "      <th>7853</th>\n",
              "      <td>3050</td>\n",
              "      <td>11-03-2015</td>\n",
              "      <td>sausage</td>\n",
              "    </tr>\n",
              "    <tr>\n",
              "      <th>8014</th>\n",
              "      <td>3050</td>\n",
              "      <td>15-12-2015</td>\n",
              "      <td>other vegetables</td>\n",
              "    </tr>\n",
              "    <tr>\n",
              "      <th>8140</th>\n",
              "      <td>3050</td>\n",
              "      <td>20-10-2015</td>\n",
              "      <td>sausage</td>\n",
              "    </tr>\n",
              "    <tr>\n",
              "      <th>8419</th>\n",
              "      <td>3050</td>\n",
              "      <td>06-05-2015</td>\n",
              "      <td>beef</td>\n",
              "    </tr>\n",
              "    <tr>\n",
              "      <th>8455</th>\n",
              "      <td>3050</td>\n",
              "      <td>11-03-2015</td>\n",
              "      <td>dessert</td>\n",
              "    </tr>\n",
              "    <tr>\n",
              "      <th>11554</th>\n",
              "      <td>3050</td>\n",
              "      <td>03-05-2014</td>\n",
              "      <td>dessert</td>\n",
              "    </tr>\n",
              "    <tr>\n",
              "      <th>15331</th>\n",
              "      <td>3050</td>\n",
              "      <td>11-11-2014</td>\n",
              "      <td>butter</td>\n",
              "    </tr>\n",
              "    <tr>\n",
              "      <th>17341</th>\n",
              "      <td>3050</td>\n",
              "      <td>07-04-2015</td>\n",
              "      <td>whole milk</td>\n",
              "    </tr>\n",
              "    <tr>\n",
              "      <th>18271</th>\n",
              "      <td>3050</td>\n",
              "      <td>11-03-2015</td>\n",
              "      <td>grapes</td>\n",
              "    </tr>\n",
              "    <tr>\n",
              "      <th>18432</th>\n",
              "      <td>3050</td>\n",
              "      <td>15-12-2015</td>\n",
              "      <td>whole milk</td>\n",
              "    </tr>\n",
              "    <tr>\n",
              "      <th>18580</th>\n",
              "      <td>3050</td>\n",
              "      <td>21-06-2015</td>\n",
              "      <td>bottled water</td>\n",
              "    </tr>\n",
              "    <tr>\n",
              "      <th>20310</th>\n",
              "      <td>3050</td>\n",
              "      <td>10-08-2015</td>\n",
              "      <td>chocolate</td>\n",
              "    </tr>\n",
              "    <tr>\n",
              "      <th>20737</th>\n",
              "      <td>3050</td>\n",
              "      <td>20-10-2015</td>\n",
              "      <td>sliced cheese</td>\n",
              "    </tr>\n",
              "    <tr>\n",
              "      <th>21016</th>\n",
              "      <td>3050</td>\n",
              "      <td>06-05-2015</td>\n",
              "      <td>white bread</td>\n",
              "    </tr>\n",
              "    <tr>\n",
              "      <th>23648</th>\n",
              "      <td>3050</td>\n",
              "      <td>11-03-2015</td>\n",
              "      <td>soda</td>\n",
              "    </tr>\n",
              "    <tr>\n",
              "      <th>24002</th>\n",
              "      <td>3050</td>\n",
              "      <td>11-03-2015</td>\n",
              "      <td>dessert</td>\n",
              "    </tr>\n",
              "    <tr>\n",
              "      <th>24163</th>\n",
              "      <td>3050</td>\n",
              "      <td>15-12-2015</td>\n",
              "      <td>zwieback</td>\n",
              "    </tr>\n",
              "    <tr>\n",
              "      <th>24289</th>\n",
              "      <td>3050</td>\n",
              "      <td>20-10-2015</td>\n",
              "      <td>rolls/buns</td>\n",
              "    </tr>\n",
              "    <tr>\n",
              "      <th>24568</th>\n",
              "      <td>3050</td>\n",
              "      <td>06-05-2015</td>\n",
              "      <td>semi-finished bread</td>\n",
              "    </tr>\n",
              "    <tr>\n",
              "      <th>24604</th>\n",
              "      <td>3050</td>\n",
              "      <td>11-03-2015</td>\n",
              "      <td>yogurt</td>\n",
              "    </tr>\n",
              "    <tr>\n",
              "      <th>27703</th>\n",
              "      <td>3050</td>\n",
              "      <td>03-05-2014</td>\n",
              "      <td>root vegetables</td>\n",
              "    </tr>\n",
              "    <tr>\n",
              "      <th>31480</th>\n",
              "      <td>3050</td>\n",
              "      <td>11-11-2014</td>\n",
              "      <td>waffles</td>\n",
              "    </tr>\n",
              "    <tr>\n",
              "      <th>32630</th>\n",
              "      <td>3050</td>\n",
              "      <td>10-08-2015</td>\n",
              "      <td>roll products</td>\n",
              "    </tr>\n",
              "    <tr>\n",
              "      <th>35163</th>\n",
              "      <td>3050</td>\n",
              "      <td>11-03-2015</td>\n",
              "      <td>whole milk</td>\n",
              "    </tr>\n",
              "    <tr>\n",
              "      <th>36999</th>\n",
              "      <td>3050</td>\n",
              "      <td>21-06-2015</td>\n",
              "      <td>pickled vegetables</td>\n",
              "    </tr>\n",
              "  </tbody>\n",
              "</table>\n",
              "</div>"
            ],
            "text/plain": [
              "       Member_number        Date      itemDescription\n",
              "1192            3050  07-04-2015               yogurt\n",
              "2122            3050  11-03-2015            pip fruit\n",
              "2283            3050  15-12-2015          hard cheese\n",
              "2431            3050  21-06-2015          frankfurter\n",
              "4161            3050  10-08-2015           whole milk\n",
              "4588            3050  20-10-2015     other vegetables\n",
              "4867            3050  06-05-2015              chicken\n",
              "7499            3050  11-03-2015                 pork\n",
              "7853            3050  11-03-2015              sausage\n",
              "8014            3050  15-12-2015     other vegetables\n",
              "8140            3050  20-10-2015              sausage\n",
              "8419            3050  06-05-2015                 beef\n",
              "8455            3050  11-03-2015              dessert\n",
              "11554           3050  03-05-2014              dessert\n",
              "15331           3050  11-11-2014               butter\n",
              "17341           3050  07-04-2015           whole milk\n",
              "18271           3050  11-03-2015               grapes\n",
              "18432           3050  15-12-2015           whole milk\n",
              "18580           3050  21-06-2015        bottled water\n",
              "20310           3050  10-08-2015            chocolate\n",
              "20737           3050  20-10-2015        sliced cheese\n",
              "21016           3050  06-05-2015          white bread\n",
              "23648           3050  11-03-2015                 soda\n",
              "24002           3050  11-03-2015              dessert\n",
              "24163           3050  15-12-2015             zwieback\n",
              "24289           3050  20-10-2015           rolls/buns\n",
              "24568           3050  06-05-2015  semi-finished bread\n",
              "24604           3050  11-03-2015               yogurt\n",
              "27703           3050  03-05-2014      root vegetables\n",
              "31480           3050  11-11-2014              waffles\n",
              "32630           3050  10-08-2015       roll products \n",
              "35163           3050  11-03-2015           whole milk\n",
              "36999           3050  21-06-2015   pickled vegetables"
            ]
          },
          "metadata": {
            "tags": []
          },
          "execution_count": 172
        }
      ]
    },
    {
      "cell_type": "code",
      "metadata": {
        "id": "KXYcervsIoBv"
      },
      "source": [
        ""
      ],
      "execution_count": null,
      "outputs": []
    },
    {
      "cell_type": "code",
      "metadata": {
        "id": "pIP_9p5mIoBx"
      },
      "source": [
        ""
      ],
      "execution_count": null,
      "outputs": []
    },
    {
      "cell_type": "markdown",
      "metadata": {
        "id": "ciMvqWASIoB0"
      },
      "source": [
        "#### Q2: How many types of particular items are available"
      ]
    },
    {
      "cell_type": "code",
      "metadata": {
        "id": "upRwgLezIoB0",
        "outputId": "f0d6cfcf-dbc7-4982-93c8-7858e6b4e8a6",
        "colab": {
          "base_uri": "https://localhost:8080/",
          "height": 225
        }
      },
      "source": [
        "df.itemDescription.unique"
      ],
      "execution_count": 147,
      "outputs": [
        {
          "output_type": "execute_result",
          "data": {
            "text/plain": [
              "<bound method Series.unique of 0               tropical fruit\n",
              "1                   whole milk\n",
              "2                    pip fruit\n",
              "3             other vegetables\n",
              "4                   whole milk\n",
              "                 ...          \n",
              "38760            sliced cheese\n",
              "38761                    candy\n",
              "38762                 cake bar\n",
              "38763    fruit/vegetable juice\n",
              "38764                 cat food\n",
              "Name: itemDescription, Length: 38765, dtype: object>"
            ]
          },
          "metadata": {
            "tags": []
          },
          "execution_count": 147
        }
      ]
    },
    {
      "cell_type": "code",
      "metadata": {
        "id": "YSFFcRqYIoB2"
      },
      "source": [
        "def chek_val(val):\n",
        "    return df[df['itemDescription'].str.contains(val)]['itemDescription'].value_counts()"
      ],
      "execution_count": 160,
      "outputs": []
    },
    {
      "cell_type": "code",
      "metadata": {
        "id": "z8EVBW9kuMgQ",
        "outputId": "053e72c0-72ff-4181-887f-c6d8013cc907",
        "colab": {
          "base_uri": "https://localhost:8080/",
          "height": 52
        }
      },
      "source": [
        "in_type = input(\"Input a type : (fruit/milk/cheese/candy/bar/juice/food) : \")\n",
        "print(\"Given type : \", in_type)"
      ],
      "execution_count": 165,
      "outputs": [
        {
          "output_type": "stream",
          "text": [
            "Input a type : (fruit/milk/cheese/candy/bar/juice/food) : milk\n",
            "Given type :  milk\n"
          ],
          "name": "stdout"
        }
      ]
    },
    {
      "cell_type": "code",
      "metadata": {
        "id": "E0-XgrOTIoB4",
        "outputId": "c0a063ef-8bdc-4b53-d7a9-17e40f6afb2e",
        "colab": {
          "base_uri": "https://localhost:8080/",
          "height": 104
        }
      },
      "source": [
        "chek_val(in_type)"
      ],
      "execution_count": 166,
      "outputs": [
        {
          "output_type": "execute_result",
          "data": {
            "text/plain": [
              "whole milk        2502\n",
              "UHT-milk           323\n",
              "butter milk        263\n",
              "condensed milk      98\n",
              "Name: itemDescription, dtype: int64"
            ]
          },
          "metadata": {
            "tags": []
          },
          "execution_count": 166
        }
      ]
    },
    {
      "cell_type": "code",
      "metadata": {
        "id": "zVGQ9rUpuuXA",
        "outputId": "c35f2e16-e33c-46e3-c5a3-f8d117431d9c",
        "colab": {
          "base_uri": "https://localhost:8080/",
          "height": 341
        }
      },
      "source": [
        "sns.barplot(x=chek_val('fruit').head(4).index, y=chek_val('fruit').head(4).values)"
      ],
      "execution_count": 170,
      "outputs": [
        {
          "output_type": "execute_result",
          "data": {
            "text/plain": [
              "<matplotlib.axes._subplots.AxesSubplot at 0x7f6684497e80>"
            ]
          },
          "metadata": {
            "tags": []
          },
          "execution_count": 170
        },
        {
          "output_type": "display_data",
          "data": {
            "image/png": "[encoded data removed]",
            "text/plain": [
              "<Figure size 648x360 with 1 Axes>"
            ]
          },
          "metadata": {
            "tags": [],
            "needs_background": "light"
          }
        }
      ]
    },
    {
      "cell_type": "markdown",
      "metadata": {
        "id": "sqAniJmsIoB8"
      },
      "source": [
        "#### Q3: TODO - ask a question here and answer it below"
      ]
    },
    {
      "cell_type": "code",
      "metadata": {
        "id": "ObHS4QlkIoB8",
        "outputId": "5ac3480b-f320-445e-e34f-4841027dda65",
        "colab": {
          "base_uri": "https://localhost:8080/",
          "height": 206
        }
      },
      "source": [
        "df1 = df\n",
        "df1.head(5)"
      ],
      "execution_count": 178,
      "outputs": [
        {
          "output_type": "execute_result",
          "data": {
            "text/html": [
              "<div>\n",
              "<style scoped>\n",
              "    .dataframe tbody tr th:only-of-type {\n",
              "        vertical-align: middle;\n",
              "    }\n",
              "\n",
              "    .dataframe tbody tr th {\n",
              "        vertical-align: top;\n",
              "    }\n",
              "\n",
              "    .dataframe thead th {\n",
              "        text-align: right;\n",
              "    }\n",
              "</style>\n",
              "<table border=\"1\" class=\"dataframe\">\n",
              "  <thead>\n",
              "    <tr style=\"text-align: right;\">\n",
              "      <th></th>\n",
              "      <th>Member_number</th>\n",
              "      <th>Date</th>\n",
              "      <th>itemDescription</th>\n",
              "    </tr>\n",
              "  </thead>\n",
              "  <tbody>\n",
              "    <tr>\n",
              "      <th>0</th>\n",
              "      <td>1808</td>\n",
              "      <td>21-07-2015</td>\n",
              "      <td>tropical fruit, , ,</td>\n",
              "    </tr>\n",
              "    <tr>\n",
              "      <th>1</th>\n",
              "      <td>2552</td>\n",
              "      <td>05-01-2015</td>\n",
              "      <td>whole milk, , ,</td>\n",
              "    </tr>\n",
              "    <tr>\n",
              "      <th>2</th>\n",
              "      <td>2300</td>\n",
              "      <td>19-09-2015</td>\n",
              "      <td>pip fruit, , ,</td>\n",
              "    </tr>\n",
              "    <tr>\n",
              "      <th>3</th>\n",
              "      <td>1187</td>\n",
              "      <td>12-12-2015</td>\n",
              "      <td>other vegetables, , ,</td>\n",
              "    </tr>\n",
              "    <tr>\n",
              "      <th>4</th>\n",
              "      <td>3037</td>\n",
              "      <td>01-02-2015</td>\n",
              "      <td>whole milk, , ,</td>\n",
              "    </tr>\n",
              "  </tbody>\n",
              "</table>\n",
              "</div>"
            ],
            "text/plain": [
              "   Member_number        Date         itemDescription\n",
              "0           1808  21-07-2015    tropical fruit, , , \n",
              "1           2552  05-01-2015        whole milk, , , \n",
              "2           2300  19-09-2015         pip fruit, , , \n",
              "3           1187  12-12-2015  other vegetables, , , \n",
              "4           3037  01-02-2015        whole milk, , , "
            ]
          },
          "metadata": {
            "tags": []
          },
          "execution_count": 178
        }
      ]
    },
    {
      "cell_type": "code",
      "metadata": {
        "id": "lViS3mXxIoB_",
        "outputId": "f419bf31-372d-41f2-adf8-8eaed5d1a180",
        "colab": {
          "base_uri": "https://localhost:8080/",
          "height": 206
        }
      },
      "source": [
        "df1['itemDescription']  =df1['itemDescription'].apply(lambda x:x+', ')\n",
        "df1.head(5)"
      ],
      "execution_count": 179,
      "outputs": [
        {
          "output_type": "execute_result",
          "data": {
            "text/html": [
              "<div>\n",
              "<style scoped>\n",
              "    .dataframe tbody tr th:only-of-type {\n",
              "        vertical-align: middle;\n",
              "    }\n",
              "\n",
              "    .dataframe tbody tr th {\n",
              "        vertical-align: top;\n",
              "    }\n",
              "\n",
              "    .dataframe thead th {\n",
              "        text-align: right;\n",
              "    }\n",
              "</style>\n",
              "<table border=\"1\" class=\"dataframe\">\n",
              "  <thead>\n",
              "    <tr style=\"text-align: right;\">\n",
              "      <th></th>\n",
              "      <th>Member_number</th>\n",
              "      <th>Date</th>\n",
              "      <th>itemDescription</th>\n",
              "    </tr>\n",
              "  </thead>\n",
              "  <tbody>\n",
              "    <tr>\n",
              "      <th>0</th>\n",
              "      <td>1808</td>\n",
              "      <td>21-07-2015</td>\n",
              "      <td>tropical fruit, , , ,</td>\n",
              "    </tr>\n",
              "    <tr>\n",
              "      <th>1</th>\n",
              "      <td>2552</td>\n",
              "      <td>05-01-2015</td>\n",
              "      <td>whole milk, , , ,</td>\n",
              "    </tr>\n",
              "    <tr>\n",
              "      <th>2</th>\n",
              "      <td>2300</td>\n",
              "      <td>19-09-2015</td>\n",
              "      <td>pip fruit, , , ,</td>\n",
              "    </tr>\n",
              "    <tr>\n",
              "      <th>3</th>\n",
              "      <td>1187</td>\n",
              "      <td>12-12-2015</td>\n",
              "      <td>other vegetables, , , ,</td>\n",
              "    </tr>\n",
              "    <tr>\n",
              "      <th>4</th>\n",
              "      <td>3037</td>\n",
              "      <td>01-02-2015</td>\n",
              "      <td>whole milk, , , ,</td>\n",
              "    </tr>\n",
              "  </tbody>\n",
              "</table>\n",
              "</div>"
            ],
            "text/plain": [
              "   Member_number        Date           itemDescription\n",
              "0           1808  21-07-2015    tropical fruit, , , , \n",
              "1           2552  05-01-2015        whole milk, , , , \n",
              "2           2300  19-09-2015         pip fruit, , , , \n",
              "3           1187  12-12-2015  other vegetables, , , , \n",
              "4           3037  01-02-2015        whole milk, , , , "
            ]
          },
          "metadata": {
            "tags": []
          },
          "execution_count": 179
        }
      ]
    },
    {
      "cell_type": "code",
      "metadata": {
        "id": "fryrjwclIoCB"
      },
      "source": [
        "val = df1.groupby(['Member_number','Date'])['itemDescription'].sum()"
      ],
      "execution_count": 180,
      "outputs": []
    },
    {
      "cell_type": "code",
      "metadata": {
        "id": "RbG16N1gwQXh",
        "outputId": "38d72b0e-3262-49d9-bdc8-c775a29b3a75",
        "colab": {
          "base_uri": "https://localhost:8080/",
          "height": 225
        }
      },
      "source": [
        "val.head(10)"
      ],
      "execution_count": 183,
      "outputs": [
        {
          "output_type": "execute_result",
          "data": {
            "text/plain": [
              "Member_number  Date      \n",
              "1000           15-03-2015    sausage, , , , whole milk, , , , semi-finished...\n",
              "               24-06-2014    whole milk, , , , pastry, , , , salty snack, ,...\n",
              "               24-07-2015           canned beer, , , , misc. beverages, , , , \n",
              "               25-11-2015              sausage, , , , hygiene articles, , , , \n",
              "               27-05-2015               soda, , , , pickled vegetables, , , , \n",
              "1001           02-05-2015                      frankfurter, , , , curd, , , , \n",
              "               07-02-2014    sausage, , , , whole milk, , , , rolls/buns, ,...\n",
              "               12-12-2014                       whole milk, , , , soda, , , , \n",
              "               14-04-2015                      beef, , , , white bread, , , , \n",
              "               20-01-2015    frankfurter, , , , soda, , , , whipped/sour cr...\n",
              "Name: itemDescription, dtype: object"
            ]
          },
          "metadata": {
            "tags": []
          },
          "execution_count": 183
        }
      ]
    },
    {
      "cell_type": "code",
      "metadata": {
        "id": "ehlJYbFBwZO1"
      },
      "source": [
        "val = pd.DataFrame(val).reset_index()"
      ],
      "execution_count": 184,
      "outputs": []
    },
    {
      "cell_type": "code",
      "metadata": {
        "id": "xqHe4K0cwalQ",
        "outputId": "c9a2b6e5-f65d-417c-a89e-0d0b12eeab8c",
        "colab": {
          "base_uri": "https://localhost:8080/",
          "height": 363
        }
      },
      "source": [
        "val.head(10)"
      ],
      "execution_count": 185,
      "outputs": [
        {
          "output_type": "execute_result",
          "data": {
            "text/html": [
              "<div>\n",
              "<style scoped>\n",
              "    .dataframe tbody tr th:only-of-type {\n",
              "        vertical-align: middle;\n",
              "    }\n",
              "\n",
              "    .dataframe tbody tr th {\n",
              "        vertical-align: top;\n",
              "    }\n",
              "\n",
              "    .dataframe thead th {\n",
              "        text-align: right;\n",
              "    }\n",
              "</style>\n",
              "<table border=\"1\" class=\"dataframe\">\n",
              "  <thead>\n",
              "    <tr style=\"text-align: right;\">\n",
              "      <th></th>\n",
              "      <th>Member_number</th>\n",
              "      <th>Date</th>\n",
              "      <th>itemDescription</th>\n",
              "    </tr>\n",
              "  </thead>\n",
              "  <tbody>\n",
              "    <tr>\n",
              "      <th>0</th>\n",
              "      <td>1000</td>\n",
              "      <td>15-03-2015</td>\n",
              "      <td>sausage, , , , whole milk, , , , semi-finished...</td>\n",
              "    </tr>\n",
              "    <tr>\n",
              "      <th>1</th>\n",
              "      <td>1000</td>\n",
              "      <td>24-06-2014</td>\n",
              "      <td>whole milk, , , , pastry, , , , salty snack, ,...</td>\n",
              "    </tr>\n",
              "    <tr>\n",
              "      <th>2</th>\n",
              "      <td>1000</td>\n",
              "      <td>24-07-2015</td>\n",
              "      <td>canned beer, , , , misc. beverages, , , ,</td>\n",
              "    </tr>\n",
              "    <tr>\n",
              "      <th>3</th>\n",
              "      <td>1000</td>\n",
              "      <td>25-11-2015</td>\n",
              "      <td>sausage, , , , hygiene articles, , , ,</td>\n",
              "    </tr>\n",
              "    <tr>\n",
              "      <th>4</th>\n",
              "      <td>1000</td>\n",
              "      <td>27-05-2015</td>\n",
              "      <td>soda, , , , pickled vegetables, , , ,</td>\n",
              "    </tr>\n",
              "    <tr>\n",
              "      <th>5</th>\n",
              "      <td>1001</td>\n",
              "      <td>02-05-2015</td>\n",
              "      <td>frankfurter, , , , curd, , , ,</td>\n",
              "    </tr>\n",
              "    <tr>\n",
              "      <th>6</th>\n",
              "      <td>1001</td>\n",
              "      <td>07-02-2014</td>\n",
              "      <td>sausage, , , , whole milk, , , , rolls/buns, ,...</td>\n",
              "    </tr>\n",
              "    <tr>\n",
              "      <th>7</th>\n",
              "      <td>1001</td>\n",
              "      <td>12-12-2014</td>\n",
              "      <td>whole milk, , , , soda, , , ,</td>\n",
              "    </tr>\n",
              "    <tr>\n",
              "      <th>8</th>\n",
              "      <td>1001</td>\n",
              "      <td>14-04-2015</td>\n",
              "      <td>beef, , , , white bread, , , ,</td>\n",
              "    </tr>\n",
              "    <tr>\n",
              "      <th>9</th>\n",
              "      <td>1001</td>\n",
              "      <td>20-01-2015</td>\n",
              "      <td>frankfurter, , , , soda, , , , whipped/sour cr...</td>\n",
              "    </tr>\n",
              "  </tbody>\n",
              "</table>\n",
              "</div>"
            ],
            "text/plain": [
              "   Member_number        Date                                    itemDescription\n",
              "0           1000  15-03-2015  sausage, , , , whole milk, , , , semi-finished...\n",
              "1           1000  24-06-2014  whole milk, , , , pastry, , , , salty snack, ,...\n",
              "2           1000  24-07-2015         canned beer, , , , misc. beverages, , , , \n",
              "3           1000  25-11-2015            sausage, , , , hygiene articles, , , , \n",
              "4           1000  27-05-2015             soda, , , , pickled vegetables, , , , \n",
              "5           1001  02-05-2015                    frankfurter, , , , curd, , , , \n",
              "6           1001  07-02-2014  sausage, , , , whole milk, , , , rolls/buns, ,...\n",
              "7           1001  12-12-2014                     whole milk, , , , soda, , , , \n",
              "8           1001  14-04-2015                    beef, , , , white bread, , , , \n",
              "9           1001  20-01-2015  frankfurter, , , , soda, , , , whipped/sour cr..."
            ]
          },
          "metadata": {
            "tags": []
          },
          "execution_count": 185
        }
      ]
    },
    {
      "cell_type": "markdown",
      "metadata": {
        "id": "KWZrgCuhIoCF"
      },
      "source": [
        "#### Q4: TODO - ask a question here and answer it below"
      ]
    },
    {
      "cell_type": "code",
      "metadata": {
        "id": "i4q_iJihIoCF"
      },
      "source": [
        ""
      ],
      "execution_count": null,
      "outputs": []
    },
    {
      "cell_type": "code",
      "metadata": {
        "id": "jnltXQkGIoCJ"
      },
      "source": [
        ""
      ],
      "execution_count": null,
      "outputs": []
    },
    {
      "cell_type": "code",
      "metadata": {
        "id": "F3v4OwuRIoCN"
      },
      "source": [
        ""
      ],
      "execution_count": null,
      "outputs": []
    },
    {
      "cell_type": "markdown",
      "metadata": {
        "id": "f9q-XCHxIoCR"
      },
      "source": [
        "#### Q5: TODO - ask a question here and answer it below"
      ]
    },
    {
      "cell_type": "code",
      "metadata": {
        "id": "g4q5oD-vIoCR"
      },
      "source": [
        ""
      ],
      "execution_count": null,
      "outputs": []
    },
    {
      "cell_type": "code",
      "metadata": {
        "id": "xPZSkva6IoCW"
      },
      "source": [
        ""
      ],
      "execution_count": null,
      "outputs": []
    },
    {
      "cell_type": "code",
      "metadata": {
        "id": "bcXR3UqHIoCa"
      },
      "source": [
        ""
      ],
      "execution_count": null,
      "outputs": []
    },
    {
      "cell_type": "markdown",
      "metadata": {
        "id": "MjLq0z4mIoCg"
      },
      "source": [
        "Let us save and upload our work to Jovian before continuing."
      ]
    },
    {
      "cell_type": "code",
      "metadata": {
        "id": "Qxo2I80bIoCh"
      },
      "source": [
        "import jovian"
      ],
      "execution_count": null,
      "outputs": []
    },
    {
      "cell_type": "code",
      "metadata": {
        "id": "5kYDWdRBIoCj",
        "outputId": "a1fd103c-9cd9-426c-ac70-f76cf2fa3673"
      },
      "source": [
        "jovian.commit()"
      ],
      "execution_count": null,
      "outputs": [
        {
          "output_type": "display_data",
          "data": {
            "application/javascript": [
              "window.require && require([\"base/js/namespace\"],function(Jupyter){Jupyter.notebook.save_checkpoint()})"
            ],
            "text/plain": [
              "<IPython.core.display.Javascript object>"
            ]
          },
          "metadata": {
            "tags": []
          }
        },
        {
          "output_type": "stream",
          "text": [
            "[jovian] Attempting to save notebook..\u001b[0m\n",
            "[jovian] Updating notebook \"aakashns/zerotopandas-course-project-starter\" on https://jovian.ml/\u001b[0m\n",
            "[jovian] Uploading notebook..\u001b[0m\n",
            "[jovian] Capturing environment..\u001b[0m\n",
            "[jovian] Committed successfully! https://jovian.ml/aakashns/zerotopandas-course-project-starter\u001b[0m\n"
          ],
          "name": "stdout"
        },
        {
          "output_type": "execute_result",
          "data": {
            "text/plain": [
              "'https://jovian.ml/aakashns/zerotopandas-course-project-starter'"
            ]
          },
          "metadata": {
            "tags": []
          },
          "execution_count": 29
        }
      ]
    },
    {
      "cell_type": "markdown",
      "metadata": {
        "id": "x2ngJ8QAIoCn"
      },
      "source": [
        "## Inferences and Conclusion\n",
        "\n",
        "**TODO** - Write some explanation here: a summary of all the inferences drawn from the analysis, and any conclusions you may have drawn by answering various questions."
      ]
    },
    {
      "cell_type": "code",
      "metadata": {
        "id": "Y51riAiXIoCn"
      },
      "source": [
        "import jovian"
      ],
      "execution_count": null,
      "outputs": []
    },
    {
      "cell_type": "code",
      "metadata": {
        "id": "cGUNnul3IoCq",
        "outputId": "67ff676b-69ac-42ef-950d-c14b2c047155"
      },
      "source": [
        "jovian.commit()"
      ],
      "execution_count": null,
      "outputs": [
        {
          "output_type": "display_data",
          "data": {
            "application/javascript": [
              "window.require && require([\"base/js/namespace\"],function(Jupyter){Jupyter.notebook.save_checkpoint()})"
            ],
            "text/plain": [
              "<IPython.core.display.Javascript object>"
            ]
          },
          "metadata": {
            "tags": []
          }
        },
        {
          "output_type": "stream",
          "text": [
            "[jovian] Attempting to save notebook..\u001b[0m\n",
            "[jovian] Updating notebook \"aakashns/zerotopandas-course-project-starter\" on https://jovian.ml/\u001b[0m\n",
            "[jovian] Uploading notebook..\u001b[0m\n",
            "[jovian] Capturing environment..\u001b[0m\n",
            "[jovian] Committed successfully! https://jovian.ml/aakashns/zerotopandas-course-project-starter\u001b[0m\n"
          ],
          "name": "stdout"
        },
        {
          "output_type": "execute_result",
          "data": {
            "text/plain": [
              "'https://jovian.ml/aakashns/zerotopandas-course-project-starter'"
            ]
          },
          "metadata": {
            "tags": []
          },
          "execution_count": 31
        }
      ]
    },
    {
      "cell_type": "markdown",
      "metadata": {
        "id": "HRgmStMRIoCu"
      },
      "source": [
        "## References and Future Work\n",
        "\n",
        "**TODO** - Write some explanation here: ideas for future projects using this dataset, and links to resources you found useful."
      ]
    },
    {
      "cell_type": "markdown",
      "metadata": {
        "id": "S8Dt1ePpIoCv"
      },
      "source": [
        "> Submission Instructions (delete this cell)\n",
        "> \n",
        "> - Upload your notebook to your Jovian.ml profile using `jovian.commit`.\n",
        "> - **Make a submission here**: https://jovian.ml/learn/data-analysis-with-python-zero-to-pandas/assignment/course-project\n",
        "> - Share your work on the forum: https://jovian.ml/forum/t/course-project-on-exploratory-data-analysis-discuss-and-share-your-work/11684\n",
        "> - Share your work on social media (Twitter, LinkedIn, Telegram etc.) and tag [@JovianML](https://twitter.com/jovianml)\n",
        ">\n",
        "> (Optional) Write a blog post\n",
        "> \n",
        "> - A blog post is a great way to present and showcase your work.  \n",
        "> - Sign up on [Medium.com](https://medium.com) to write a blog post for your project.\n",
        "> - Copy over the explanations from your Jupyter notebook into your blog post, and [embed code cells & outputs](https://medium.com/jovianml/share-and-embed-jupyter-notebooks-online-with-jovian-ml-df709a03064e)\n",
        "> - Check out the Jovian.ml Medium publication for inspiration: https://medium.com/jovianml\n",
        "\n",
        "\n",
        " "
      ]
    },
    {
      "cell_type": "code",
      "metadata": {
        "id": "SrYWrppoIoCv"
      },
      "source": [
        "import jovian"
      ],
      "execution_count": null,
      "outputs": []
    },
    {
      "cell_type": "code",
      "metadata": {
        "scrolled": true,
        "id": "GqeXf-FDIoC3",
        "outputId": "4df41c47-ac3e-498f-f9df-fec1652c0c5b"
      },
      "source": [
        "jovian.commit()"
      ],
      "execution_count": null,
      "outputs": [
        {
          "output_type": "display_data",
          "data": {
            "application/javascript": [
              "window.require && require([\"base/js/namespace\"],function(Jupyter){Jupyter.notebook.save_checkpoint()})"
            ],
            "text/plain": [
              "<IPython.core.display.Javascript object>"
            ]
          },
          "metadata": {
            "tags": []
          }
        },
        {
          "output_type": "stream",
          "text": [
            "[jovian] Attempting to save notebook..\u001b[0m\n",
            "[jovian] Updating notebook \"aakashns/zerotopandas-course-project-starter\" on https://jovian.ml/\u001b[0m\n",
            "[jovian] Uploading notebook..\u001b[0m\n",
            "[jovian] Capturing environment..\u001b[0m\n",
            "[jovian] Committed successfully! https://jovian.ml/aakashns/zerotopandas-course-project-starter\u001b[0m\n"
          ],
          "name": "stdout"
        },
        {
          "output_type": "execute_result",
          "data": {
            "text/plain": [
              "'https://jovian.ml/aakashns/zerotopandas-course-project-starter'"
            ]
          },
          "metadata": {
            "tags": []
          },
          "execution_count": 35
        }
      ]
    },
    {
      "cell_type": "code",
      "metadata": {
        "id": "Ms83dwNzIoC7"
      },
      "source": [
        ""
      ],
      "execution_count": null,
      "outputs": []
    }
  ]
}