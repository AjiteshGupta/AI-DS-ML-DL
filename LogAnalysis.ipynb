{
  "nbformat": 4,
  "nbformat_minor": 0,
  "metadata": {
    "colab": {
      "name": "LogAnalysis.ipynb",
      "version": "0.3.2",
      "provenance": [],
      "include_colab_link": true
    },
    "kernelspec": {
      "name": "python3",
      "display_name": "Python 3"
    },
    "accelerator": "TPU"
  },
  "cells": [
    {
      "cell_type": "markdown",
      "metadata": {
        "id": "view-in-github",
        "colab_type": "text"
      },
      "source": [
        "<a href=\"https://colab.research.google.com/github/SudhakarAnemu/AI-DS-ML-DL-Materials/blob/master/LogAnalysis.ipynb\" target=\"_parent\"><img src=\"https://colab.research.google.com/assets/colab-badge.svg\" alt=\"Open In Colab\"/></a>"
      ]
    },
    {
      "cell_type": "code",
      "metadata": {
        "id": "QFehx0jdv1cf",
        "colab_type": "code",
        "outputId": "be4e07fd-85ce-4abb-de47-e1c14deabf9b",
        "colab": {
          "base_uri": "https://localhost:8080/",
          "height": 34
        }
      },
      "source": [
        "print(\"JS - This program is talking about Log Analysis\")"
      ],
      "execution_count": 1,
      "outputs": [
        {
          "output_type": "stream",
          "text": [
            "JS - This program is talking about Log Analysis\n"
          ],
          "name": "stdout"
        }
      ]
    },
    {
      "cell_type": "code",
      "metadata": {
        "id": "4CSq7Q3GAZ6Y",
        "colab_type": "code",
        "colab": {}
      },
      "source": [
        "import re"
      ],
      "execution_count": 0,
      "outputs": []
    },
    {
      "cell_type": "code",
      "metadata": {
        "id": "5GnGcQ6cArzF",
        "colab_type": "code",
        "outputId": "f9dfd5e4-327f-4116-a867-f572b72d8d94",
        "colab": {
          "base_uri": "https://localhost:8080/",
          "height": 34
        }
      },
      "source": [
        "file1 = open(\"second.txt\", \"r\")\n",
        "file2 = open(\"testfile.txt\",\"w\") \n",
        " \n",
        "pattern = r'emailId'\n",
        "\n",
        "for line in file1:\n",
        "  match = re.search(pattern,line)\n",
        "  if(match):\n",
        "#     print(\".. M : \", match)\n",
        "    file2.write(line)\n",
        "#     print(\"Line : \", line)\n",
        "\n",
        "print(\"End\")\n",
        "\n",
        "file1.close()\n",
        "file2.close() "
      ],
      "execution_count": 3,
      "outputs": [
        {
          "output_type": "stream",
          "text": [
            "End\n"
          ],
          "name": "stdout"
        }
      ]
    },
    {
      "cell_type": "code",
      "metadata": {
        "id": "OhDXByx7_Jc7",
        "colab_type": "code",
        "outputId": "f07ce1de-852e-48be-a969-e6b76a59685b",
        "colab": {
          "base_uri": "https://localhost:8080/",
          "height": 289
        }
      },
      "source": [
        "file = open(\"testfile.txt\", \"r\")\n",
        "fila = open(\"testfile1.txt\",\"w\")   \n",
        "\n",
        "for line in file:\n",
        "  a = line.split()\n",
        "  b = a[7].split('\"')\n",
        "  s = a[0] +\",\"+ a[1]+\",\"+b[0]\n",
        "  print(\"s is : \", s)\n",
        "  fila.write(s)\n",
        "  \n",
        "fila.write(\"js - Hello World\\n\") \n",
        "fila.write(\"js - Hello World\") \n",
        "\n",
        "print(\"end\")\n",
        "\n",
        "file.close\n",
        "fila.close"
      ],
      "execution_count": 4,
      "outputs": [
        {
          "output_type": "stream",
          "text": [
            "s is :  2019-07-02,03:19:53,raniagra@us.ibm.com\n",
            "s is :  2019-07-02,05:18:43,avinash.chandra@in.ibm.com\n",
            "s is :  2019-07-02,05:33:54,avinash.chandra@in.ibm.com\n",
            "s is :  2019-07-02,05:34:33,avinash.chandra@in.ibm.com\n",
            "s is :  2019-07-02,05:37:15,nganacha@in.ibm.com\n",
            "s is :  2019-07-02,05:37:33,nganacha@in.ibm.com\n",
            "s is :  2019-07-02,05:38:11,avinash.chandra@in.ibm.com\n",
            "s is :  2019-07-02,05:39:58,nganacha@in.ibm.com\n",
            "s is :  2019-07-02,05:40:06,nganacha@in.ibm.com\n",
            "s is :  2019-07-02,05:40:08,nganacha@in.ibm.com\n",
            "s is :  2019-07-02,05:42:19,avinash.chandra@in.ibm.com\n",
            "s is :  2019-07-02,05:42:49,anudchan@in.ibm.com\n",
            "s is :  2019-07-02,05:47:14,kumarr03@avisbudget.com\n",
            "s is :  2019-07-02,05:48:24,kumarr03@avisbudget.com\n",
            "end\n"
          ],
          "name": "stdout"
        },
        {
          "output_type": "execute_result",
          "data": {
            "text/plain": [
              "<function TextIOWrapper.close>"
            ]
          },
          "metadata": {
            "tags": []
          },
          "execution_count": 4
        }
      ]
    },
    {
      "cell_type": "code",
      "metadata": {
        "id": "cI4IMNoH-LDB",
        "colab_type": "code",
        "colab": {
          "base_uri": "https://localhost:8080/",
          "height": 231
        },
        "outputId": "ab0736e9-0377-4421-b44b-440b32ee92b9"
      },
      "source": [
        "fila = open(\"testfile1.txt\",\"w\") \n",
        " \n",
        "fila.write(\"Hello World\\n\") \n",
        "fila.write(\"This is our new text file\") \n",
        "\n",
        "a = \"abc\"\n",
        "b = \"def\"\n",
        "\n",
        "c = a + \" \" + b\n",
        "\n",
        "type(c)\n",
        "\n",
        "file.write(c)\n",
        "\n",
        "fila.close() "
      ],
      "execution_count": 10,
      "outputs": [
        {
          "output_type": "error",
          "ename": "UnsupportedOperation",
          "evalue": "ignored",
          "traceback": [
            "\u001b[0;31m---------------------------------------------------------------------------\u001b[0m",
            "\u001b[0;31mUnsupportedOperation\u001b[0m                      Traceback (most recent call last)",
            "\u001b[0;32m<ipython-input-10-8de5764c22bb>\u001b[0m in \u001b[0;36m<module>\u001b[0;34m()\u001b[0m\n\u001b[1;32m     11\u001b[0m \u001b[0mtype\u001b[0m\u001b[0;34m(\u001b[0m\u001b[0mc\u001b[0m\u001b[0;34m)\u001b[0m\u001b[0;34m\u001b[0m\u001b[0;34m\u001b[0m\u001b[0m\n\u001b[1;32m     12\u001b[0m \u001b[0;34m\u001b[0m\u001b[0m\n\u001b[0;32m---> 13\u001b[0;31m \u001b[0mfile\u001b[0m\u001b[0;34m.\u001b[0m\u001b[0mwrite\u001b[0m\u001b[0;34m(\u001b[0m\u001b[0mc\u001b[0m\u001b[0;34m)\u001b[0m\u001b[0;34m\u001b[0m\u001b[0;34m\u001b[0m\u001b[0m\n\u001b[0m\u001b[1;32m     14\u001b[0m \u001b[0;34m\u001b[0m\u001b[0m\n\u001b[1;32m     15\u001b[0m \u001b[0mfila\u001b[0m\u001b[0;34m.\u001b[0m\u001b[0mclose\u001b[0m\u001b[0;34m(\u001b[0m\u001b[0;34m)\u001b[0m\u001b[0;34m\u001b[0m\u001b[0;34m\u001b[0m\u001b[0m\n",
            "\u001b[0;31mUnsupportedOperation\u001b[0m: not writable"
          ]
        }
      ]
    },
    {
      "cell_type": "code",
      "metadata": {
        "id": "hQA9KNfFJEiu",
        "colab_type": "code",
        "outputId": "0ac50d1a-9ada-45bc-8315-67cb747750d4",
        "colab": {
          "base_uri": "https://localhost:8080/",
          "height": 68
        }
      },
      "source": [
        "fila = open(\"testfile1.txt\",\"r\") \n",
        " \n",
        "print(\"\")\n",
        "print(\"\", fila.read())\n",
        "\n",
        "fila.close() "
      ],
      "execution_count": 9,
      "outputs": [
        {
          "output_type": "stream",
          "text": [
            "\n",
            " Hello World\n",
            "This is our new text file\n"
          ],
          "name": "stdout"
        }
      ]
    }
  ]
}