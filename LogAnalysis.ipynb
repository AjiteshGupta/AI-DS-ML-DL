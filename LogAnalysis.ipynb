{
  "nbformat": 4,
  "nbformat_minor": 0,
  "metadata": {
    "colab": {
      "name": "LogAnalysis.ipynb",
      "version": "0.3.2",
      "provenance": [],
      "include_colab_link": true
    },
    "kernelspec": {
      "name": "python3",
      "display_name": "Python 3"
    },
    "accelerator": "TPU"
  },
  "cells": [
    {
      "cell_type": "markdown",
      "metadata": {
        "id": "view-in-github",
        "colab_type": "text"
      },
      "source": [
        "<a href=\"https://colab.research.google.com/github/SudhakarAnemu/AI-DS-ML-DL-Materials/blob/master/LogAnalysis.ipynb\" target=\"_parent\"><img src=\"https://colab.research.google.com/assets/colab-badge.svg\" alt=\"Open In Colab\"/></a>"
      ]
    },
    {
      "cell_type": "code",
      "metadata": {
        "id": "QFehx0jdv1cf",
        "colab_type": "code",
        "outputId": "15bc99ef-6ed4-4065-ed69-f1c32d26afed",
        "colab": {
          "base_uri": "https://localhost:8080/",
          "height": 36
        }
      },
      "source": [
        "print(\"JS - This program is talking about Log Analysis\")"
      ],
      "execution_count": 24,
      "outputs": [
        {
          "output_type": "stream",
          "text": [
            "JS - This program is talking about Log Analysis\n"
          ],
          "name": "stdout"
        }
      ]
    },
    {
      "cell_type": "code",
      "metadata": {
        "id": "4CSq7Q3GAZ6Y",
        "colab_type": "code",
        "colab": {
          "base_uri": "https://localhost:8080/",
          "height": 36
        },
        "outputId": "d3db1ad7-ae6b-4eb1-96f9-bc285f675df5"
      },
      "source": [
        "import re\n",
        "import pandas as pd\n",
        "import csv\n",
        "import seaborn as sns\n",
        "import matplotlib.pyplot as plt\n",
        "%matplotlib inline\n",
        "import plotly \n",
        "import plotly.plotly as py\n",
        "import plotly.graph_objs as go\n",
        "plotly.tools.set_credentials_file(username='sudhakar.anemu', api_key='gsV5SUHPip75363I87dw')\n",
        "print(\"End of Import\")"
      ],
      "execution_count": 101,
      "outputs": [
        {
          "output_type": "stream",
          "text": [
            "End of Import\n"
          ],
          "name": "stdout"
        }
      ]
    },
    {
      "cell_type": "code",
      "metadata": {
        "id": "5GnGcQ6cArzF",
        "colab_type": "code",
        "outputId": "4b0ebb19-7adf-412f-8d28-5bf13eb19d6e",
        "colab": {
          "base_uri": "https://localhost:8080/",
          "height": 34
        }
      },
      "source": [
        "file1 = open(\"second.txt\", \"r\")\n",
        "file2 = open(\"testfile.txt\",\"w\") \n",
        " \n",
        "pattern = r'emailId'\n",
        "\n",
        "for line in file1:\n",
        "  match = re.search(pattern,line)\n",
        "  if(match):\n",
        "    file2.write(line)\n",
        "\n",
        "print(\"End\")\n",
        "\n",
        "file1.close()\n",
        "file2.close() "
      ],
      "execution_count": 0,
      "outputs": [
        {
          "output_type": "stream",
          "text": [
            "End\n"
          ],
          "name": "stdout"
        }
      ]
    },
    {
      "cell_type": "code",
      "metadata": {
        "id": "OhDXByx7_Jc7",
        "colab_type": "code",
        "outputId": "b63997d0-88df-488e-84c7-50246e61842d",
        "colab": {
          "base_uri": "https://localhost:8080/",
          "height": 714
        }
      },
      "source": [
        "file = open(\"testfile.txt\", \"r\")\n",
        "fila = open(\"testfile1.txt\",\"w\")   \n",
        "\n",
        "for line in file:\n",
        "  a = line.split()\n",
        "  b = a[7].split('\"')\n",
        "  s = a[0] +\",\"+ a[1]+\",\"+b[0]+\"\\n\"\n",
        "  print(\"s is : \", s)\n",
        "  fila.write(s)\n",
        "  \n",
        "print(\"end\")\n",
        "\n",
        "file.close()\n",
        "fila.close()"
      ],
      "execution_count": 0,
      "outputs": [
        {
          "output_type": "stream",
          "text": [
            "s is :  2019-07-02,03:19:53,raniagra@us.ibm.com\n",
            "\n",
            "s is :  2019-07-02,05:18:43,avinash.chandra@in.ibm.com\n",
            "\n",
            "s is :  2019-07-02,05:33:54,avinash.chandra@in.ibm.com\n",
            "\n",
            "s is :  2019-07-02,05:34:33,avinash.chandra@in.ibm.com\n",
            "\n",
            "s is :  2019-07-02,05:37:15,nganacha@in.ibm.com\n",
            "\n",
            "s is :  2019-07-02,05:37:33,nganacha@in.ibm.com\n",
            "\n",
            "s is :  2019-07-02,05:38:11,avinash.chandra@in.ibm.com\n",
            "\n",
            "s is :  2019-07-02,05:39:58,nganacha@in.ibm.com\n",
            "\n",
            "s is :  2019-07-02,05:40:06,nganacha@in.ibm.com\n",
            "\n",
            "s is :  2019-07-02,05:40:08,nganacha@in.ibm.com\n",
            "\n",
            "s is :  2019-07-02,05:42:19,avinash.chandra@in.ibm.com\n",
            "\n",
            "s is :  2019-07-02,05:42:49,anudchan@in.ibm.com\n",
            "\n",
            "s is :  2019-07-02,05:47:14,kumarr03@avisbudget.com\n",
            "\n",
            "s is :  2019-07-02,05:48:24,kumarr03@avisbudget.com\n",
            "\n",
            "s is :  2019-07-02,06:03:36,nganacha@in.ibm.com\n",
            "\n",
            "s is :  2019-07-02,06:08:23,avinash.chandra@in.ibm.com\n",
            "\n",
            "s is :  2019-07-02,06:13:03,kumarr03@avisbudget.com\n",
            "\n",
            "s is :  2019-07-02,06:14:29,avinash.chandra@in.ibm.com\n",
            "\n",
            "s is :  2019-07-02,06:16:32,nganacha@in.ibm.com\n",
            "\n",
            "s is :  2019-07-02,06:20:42,nganacha@in.ibm.com\n",
            "\n",
            "end\n"
          ],
          "name": "stdout"
        }
      ]
    },
    {
      "cell_type": "code",
      "metadata": {
        "id": "cI4IMNoH-LDB",
        "colab_type": "code",
        "colab": {}
      },
      "source": [
        "# fila = open(\"testfile1.txt\",\"w\") \n",
        " \n",
        "# fila.write(\"Hello World\\n\") \n",
        "# fila.write(\"This is our new text file\") \n",
        "\n",
        "# a = \"abc\"\n",
        "# b = \"def\"\n",
        "\n",
        "# c = \"\\n\" + a + \" \" + b \n",
        "\n",
        "# # type(c)\n",
        "\n",
        "# fila.write(c)\n",
        "\n",
        "# fila.close() "
      ],
      "execution_count": 0,
      "outputs": []
    },
    {
      "cell_type": "code",
      "metadata": {
        "id": "hQA9KNfFJEiu",
        "colab_type": "code",
        "outputId": "e5192113-9787-4898-b3c3-3b17b73272dd",
        "colab": {
          "base_uri": "https://localhost:8080/",
          "height": 391
        }
      },
      "source": [
        "fila = open(\"testfile1.txt\",\"r\") \n",
        " \n",
        "print(\"\")\n",
        "print(\"\", fila.read())\n",
        "\n",
        "fila.close() "
      ],
      "execution_count": 0,
      "outputs": [
        {
          "output_type": "stream",
          "text": [
            "\n",
            " 2019-07-02,03:19:53,raniagra@us.ibm.com\n",
            "2019-07-02,05:18:43,avinash.chandra@in.ibm.com\n",
            "2019-07-02,05:33:54,avinash.chandra@in.ibm.com\n",
            "2019-07-02,05:34:33,avinash.chandra@in.ibm.com\n",
            "2019-07-02,05:37:15,nganacha@in.ibm.com\n",
            "2019-07-02,05:37:33,nganacha@in.ibm.com\n",
            "2019-07-02,05:38:11,avinash.chandra@in.ibm.com\n",
            "2019-07-02,05:39:58,nganacha@in.ibm.com\n",
            "2019-07-02,05:40:06,nganacha@in.ibm.com\n",
            "2019-07-02,05:40:08,nganacha@in.ibm.com\n",
            "2019-07-02,05:42:19,avinash.chandra@in.ibm.com\n",
            "2019-07-02,05:42:49,anudchan@in.ibm.com\n",
            "2019-07-02,05:47:14,kumarr03@avisbudget.com\n",
            "2019-07-02,05:48:24,kumarr03@avisbudget.com\n",
            "2019-07-02,06:03:36,nganacha@in.ibm.com\n",
            "2019-07-02,06:08:23,avinash.chandra@in.ibm.com\n",
            "2019-07-02,06:13:03,kumarr03@avisbudget.com\n",
            "2019-07-02,06:14:29,avinash.chandra@in.ibm.com\n",
            "2019-07-02,06:16:32,nganacha@in.ibm.com\n",
            "2019-07-02,06:20:42,nganacha@in.ibm.com\n",
            "\n"
          ],
          "name": "stdout"
        }
      ]
    },
    {
      "cell_type": "code",
      "metadata": {
        "id": "huQ1r7RQ0KCv",
        "colab_type": "code",
        "outputId": "2ea168a7-402f-4cf6-8a79-e70dde49b1a3",
        "colab": {
          "base_uri": "https://localhost:8080/",
          "height": 357
        }
      },
      "source": [
        "# df = pd.read_fwf('testfile1.txt')\n",
        "# df.to_csv('log.csv')\n",
        "\n",
        "#-----------------------------------------------------------------------------\n",
        "\n",
        "\n",
        "# txt_file = \"testfile1.txt\"\n",
        "# csv_file = \"logcsv.csv\"\n",
        "\n",
        "# in_txt = csv.reader(open(txt_file, \"r\"), delimiter = ',')\n",
        "# out_csv = csv.writer(open(csv_file, 'wb'))\n",
        "\n",
        "# out_csv.writerows(in_txt)\n",
        "\n",
        "#-----------------------------------------------------------------------------\n",
        "\n",
        "# # below one is good code\n",
        "# fila = open(\"testfile1.txt\",\"r\") \n",
        "# list(csv.reader(fila, delimiter=','))\n",
        "\n",
        "#-----------------------------------------------------------------------------\n",
        "\n",
        "\n",
        "with open(txtfile, 'r') as infile, open(csvfile, 'w') as outfile:\n",
        "     stripped = (line.strip() for line in infile)\n",
        "     lines = (line.split(\",\") for line in stripped if line)\n",
        "     writer = csv.writer(outfile)\n",
        "     writer.writerows(lines)\n",
        "      \n",
        "\n",
        "#-----------------------------------------------------------------------------\n",
        "\n",
        "\n",
        "\n"
      ],
      "execution_count": 0,
      "outputs": [
        {
          "output_type": "execute_result",
          "data": {
            "text/plain": [
              "[['2019-07-02', '03:19:53', 'raniagra@us.ibm.com'],\n",
              " ['2019-07-02', '05:18:43', 'avinash.chandra@in.ibm.com'],\n",
              " ['2019-07-02', '05:33:54', 'avinash.chandra@in.ibm.com'],\n",
              " ['2019-07-02', '05:34:33', 'avinash.chandra@in.ibm.com'],\n",
              " ['2019-07-02', '05:37:15', 'nganacha@in.ibm.com'],\n",
              " ['2019-07-02', '05:37:33', 'nganacha@in.ibm.com'],\n",
              " ['2019-07-02', '05:38:11', 'avinash.chandra@in.ibm.com'],\n",
              " ['2019-07-02', '05:39:58', 'nganacha@in.ibm.com'],\n",
              " ['2019-07-02', '05:40:06', 'nganacha@in.ibm.com'],\n",
              " ['2019-07-02', '05:40:08', 'nganacha@in.ibm.com'],\n",
              " ['2019-07-02', '05:42:19', 'avinash.chandra@in.ibm.com'],\n",
              " ['2019-07-02', '05:42:49', 'anudchan@in.ibm.com'],\n",
              " ['2019-07-02', '05:47:14', 'kumarr03@avisbudget.com'],\n",
              " ['2019-07-02', '05:48:24', 'kumarr03@avisbudget.com'],\n",
              " ['2019-07-02', '06:03:36', 'nganacha@in.ibm.com'],\n",
              " ['2019-07-02', '06:08:23', 'avinash.chandra@in.ibm.com'],\n",
              " ['2019-07-02', '06:13:03', 'kumarr03@avisbudget.com'],\n",
              " ['2019-07-02', '06:14:29', 'avinash.chandra@in.ibm.com'],\n",
              " ['2019-07-02', '06:16:32', 'nganacha@in.ibm.com'],\n",
              " ['2019-07-02', '06:20:42', 'nganacha@in.ibm.com']]"
            ]
          },
          "metadata": {
            "tags": []
          },
          "execution_count": 23
        }
      ]
    },
    {
      "cell_type": "code",
      "metadata": {
        "id": "N6TKemmN70oG",
        "colab_type": "code",
        "colab": {}
      },
      "source": [
        "df = pd.read_csv('2ConvCsvFile.csv')"
      ],
      "execution_count": 0,
      "outputs": []
    },
    {
      "cell_type": "code",
      "metadata": {
        "id": "575oyVJY8EEq",
        "colab_type": "code",
        "colab": {}
      },
      "source": [
        "df.columns = [\"Date\", \"Time\", \"Emailid\"]"
      ],
      "execution_count": 0,
      "outputs": []
    },
    {
      "cell_type": "code",
      "metadata": {
        "id": "e6oFRj9Q0zMt",
        "colab_type": "code",
        "outputId": "cb1f9c05-eead-49dd-eac2-cf1da8f45d43",
        "colab": {
          "base_uri": "https://localhost:8080/",
          "height": 206
        }
      },
      "source": [
        "df.head(5)"
      ],
      "execution_count": 80,
      "outputs": [
        {
          "output_type": "execute_result",
          "data": {
            "text/html": [
              "<div>\n",
              "<style scoped>\n",
              "    .dataframe tbody tr th:only-of-type {\n",
              "        vertical-align: middle;\n",
              "    }\n",
              "\n",
              "    .dataframe tbody tr th {\n",
              "        vertical-align: top;\n",
              "    }\n",
              "\n",
              "    .dataframe thead th {\n",
              "        text-align: right;\n",
              "    }\n",
              "</style>\n",
              "<table border=\"1\" class=\"dataframe\">\n",
              "  <thead>\n",
              "    <tr style=\"text-align: right;\">\n",
              "      <th></th>\n",
              "      <th>Date</th>\n",
              "      <th>Time</th>\n",
              "      <th>Emailid</th>\n",
              "    </tr>\n",
              "  </thead>\n",
              "  <tbody>\n",
              "    <tr>\n",
              "      <th>0</th>\n",
              "      <td>02-07-2019</td>\n",
              "      <td>05:18:43</td>\n",
              "      <td>avinash.chandra@in.ibm.com</td>\n",
              "    </tr>\n",
              "    <tr>\n",
              "      <th>1</th>\n",
              "      <td>02-07-2019</td>\n",
              "      <td>05:33:54</td>\n",
              "      <td>avinash.chandra@in.ibm.com</td>\n",
              "    </tr>\n",
              "    <tr>\n",
              "      <th>2</th>\n",
              "      <td>02-07-2019</td>\n",
              "      <td>05:34:33</td>\n",
              "      <td>avinash.chandra@in.ibm.com</td>\n",
              "    </tr>\n",
              "    <tr>\n",
              "      <th>3</th>\n",
              "      <td>02-07-2019</td>\n",
              "      <td>05:37:15</td>\n",
              "      <td>nganacha@in.ibm.com</td>\n",
              "    </tr>\n",
              "    <tr>\n",
              "      <th>4</th>\n",
              "      <td>02-07-2019</td>\n",
              "      <td>05:37:33</td>\n",
              "      <td>nganacha@in.ibm.com</td>\n",
              "    </tr>\n",
              "  </tbody>\n",
              "</table>\n",
              "</div>"
            ],
            "text/plain": [
              "         Date      Time                     Emailid\n",
              "0  02-07-2019  05:18:43  avinash.chandra@in.ibm.com\n",
              "1  02-07-2019  05:33:54  avinash.chandra@in.ibm.com\n",
              "2  02-07-2019  05:34:33  avinash.chandra@in.ibm.com\n",
              "3  02-07-2019  05:37:15         nganacha@in.ibm.com\n",
              "4  02-07-2019  05:37:33         nganacha@in.ibm.com"
            ]
          },
          "metadata": {
            "tags": []
          },
          "execution_count": 80
        }
      ]
    },
    {
      "cell_type": "code",
      "metadata": {
        "id": "BFEOGG3n9JF5",
        "colab_type": "code",
        "colab": {
          "base_uri": "https://localhost:8080/",
          "height": 36
        },
        "outputId": "38c067ea-40a2-4a7c-9d1a-1cd2bb8e934c"
      },
      "source": [
        "df.columns"
      ],
      "execution_count": 68,
      "outputs": [
        {
          "output_type": "execute_result",
          "data": {
            "text/plain": [
              "Index(['Date', 'Time', 'Emailid'], dtype='object')"
            ]
          },
          "metadata": {
            "tags": []
          },
          "execution_count": 68
        }
      ]
    },
    {
      "cell_type": "code",
      "metadata": {
        "id": "vo-f0xOS06uK",
        "colab_type": "code",
        "outputId": "14139df4-7c5d-4944-9771-56cf8250ada6",
        "colab": {
          "base_uri": "https://localhost:8080/",
          "height": 36
        }
      },
      "source": [
        "df.shape"
      ],
      "execution_count": 69,
      "outputs": [
        {
          "output_type": "execute_result",
          "data": {
            "text/plain": [
              "(36, 3)"
            ]
          },
          "metadata": {
            "tags": []
          },
          "execution_count": 69
        }
      ]
    },
    {
      "cell_type": "code",
      "metadata": {
        "id": "0Vgcqpob1ymi",
        "colab_type": "code",
        "outputId": "c139c37d-bd4d-4f32-fdf1-242d53709d1c",
        "colab": {
          "base_uri": "https://localhost:8080/",
          "height": 167
        }
      },
      "source": [
        "df.info()"
      ],
      "execution_count": 79,
      "outputs": [
        {
          "output_type": "stream",
          "text": [
            "<class 'pandas.core.frame.DataFrame'>\n",
            "RangeIndex: 36 entries, 0 to 35\n",
            "Data columns (total 3 columns):\n",
            "Date       36 non-null object\n",
            "Time       36 non-null object\n",
            "Emailid    36 non-null object\n",
            "dtypes: object(3)\n",
            "memory usage: 944.0+ bytes\n"
          ],
          "name": "stdout"
        }
      ]
    },
    {
      "cell_type": "code",
      "metadata": {
        "id": "HfgagigpEzFI",
        "colab_type": "code",
        "colab": {}
      },
      "source": [
        "df[\"Date\"]=df[\"Date\"].astype(\"datetime64\")"
      ],
      "execution_count": 0,
      "outputs": []
    },
    {
      "cell_type": "code",
      "metadata": {
        "id": "c1jAVrZxE61d",
        "colab_type": "code",
        "colab": {
          "base_uri": "https://localhost:8080/",
          "height": 167
        },
        "outputId": "5185c415-1b6e-4b67-a9c6-6ba7517a7727"
      },
      "source": [
        "df.info()"
      ],
      "execution_count": 82,
      "outputs": [
        {
          "output_type": "stream",
          "text": [
            "<class 'pandas.core.frame.DataFrame'>\n",
            "RangeIndex: 36 entries, 0 to 35\n",
            "Data columns (total 3 columns):\n",
            "Date       36 non-null datetime64[ns]\n",
            "Time       36 non-null object\n",
            "Emailid    36 non-null object\n",
            "dtypes: datetime64[ns](1), object(2)\n",
            "memory usage: 944.0+ bytes\n"
          ],
          "name": "stdout"
        }
      ]
    },
    {
      "cell_type": "code",
      "metadata": {
        "id": "ZH3ZvygKFrKJ",
        "colab_type": "code",
        "colab": {
          "base_uri": "https://localhost:8080/",
          "height": 206
        },
        "outputId": "88f71b17-48a1-44a3-d8a5-118d041c2056"
      },
      "source": [
        "df.head(5)"
      ],
      "execution_count": 91,
      "outputs": [
        {
          "output_type": "execute_result",
          "data": {
            "text/html": [
              "<div>\n",
              "<style scoped>\n",
              "    .dataframe tbody tr th:only-of-type {\n",
              "        vertical-align: middle;\n",
              "    }\n",
              "\n",
              "    .dataframe tbody tr th {\n",
              "        vertical-align: top;\n",
              "    }\n",
              "\n",
              "    .dataframe thead th {\n",
              "        text-align: right;\n",
              "    }\n",
              "</style>\n",
              "<table border=\"1\" class=\"dataframe\">\n",
              "  <thead>\n",
              "    <tr style=\"text-align: right;\">\n",
              "      <th></th>\n",
              "      <th>Date</th>\n",
              "      <th>Time</th>\n",
              "      <th>Emailid</th>\n",
              "    </tr>\n",
              "  </thead>\n",
              "  <tbody>\n",
              "    <tr>\n",
              "      <th>0</th>\n",
              "      <td>2019-02-07</td>\n",
              "      <td>05:18:43</td>\n",
              "      <td>avinash.chandra@in.ibm.com</td>\n",
              "    </tr>\n",
              "    <tr>\n",
              "      <th>1</th>\n",
              "      <td>2019-02-07</td>\n",
              "      <td>05:33:54</td>\n",
              "      <td>avinash.chandra@in.ibm.com</td>\n",
              "    </tr>\n",
              "    <tr>\n",
              "      <th>2</th>\n",
              "      <td>2019-02-07</td>\n",
              "      <td>05:34:33</td>\n",
              "      <td>avinash.chandra@in.ibm.com</td>\n",
              "    </tr>\n",
              "    <tr>\n",
              "      <th>3</th>\n",
              "      <td>2019-02-07</td>\n",
              "      <td>05:37:15</td>\n",
              "      <td>nganacha@in.ibm.com</td>\n",
              "    </tr>\n",
              "    <tr>\n",
              "      <th>4</th>\n",
              "      <td>2019-02-07</td>\n",
              "      <td>05:37:33</td>\n",
              "      <td>nganacha@in.ibm.com</td>\n",
              "    </tr>\n",
              "  </tbody>\n",
              "</table>\n",
              "</div>"
            ],
            "text/plain": [
              "        Date      Time                     Emailid\n",
              "0 2019-02-07  05:18:43  avinash.chandra@in.ibm.com\n",
              "1 2019-02-07  05:33:54  avinash.chandra@in.ibm.com\n",
              "2 2019-02-07  05:34:33  avinash.chandra@in.ibm.com\n",
              "3 2019-02-07  05:37:15         nganacha@in.ibm.com\n",
              "4 2019-02-07  05:37:33         nganacha@in.ibm.com"
            ]
          },
          "metadata": {
            "tags": []
          },
          "execution_count": 91
        }
      ]
    },
    {
      "cell_type": "code",
      "metadata": {
        "id": "DOSa1GXj8bPZ",
        "colab_type": "code",
        "colab": {
          "base_uri": "https://localhost:8080/",
          "height": 175
        },
        "outputId": "6ec3cec3-8c49-43c7-96e0-c79be03291c2"
      },
      "source": [
        "df.describe()"
      ],
      "execution_count": 71,
      "outputs": [
        {
          "output_type": "execute_result",
          "data": {
            "text/html": [
              "<div>\n",
              "<style scoped>\n",
              "    .dataframe tbody tr th:only-of-type {\n",
              "        vertical-align: middle;\n",
              "    }\n",
              "\n",
              "    .dataframe tbody tr th {\n",
              "        vertical-align: top;\n",
              "    }\n",
              "\n",
              "    .dataframe thead th {\n",
              "        text-align: right;\n",
              "    }\n",
              "</style>\n",
              "<table border=\"1\" class=\"dataframe\">\n",
              "  <thead>\n",
              "    <tr style=\"text-align: right;\">\n",
              "      <th></th>\n",
              "      <th>Date</th>\n",
              "      <th>Time</th>\n",
              "      <th>Emailid</th>\n",
              "    </tr>\n",
              "  </thead>\n",
              "  <tbody>\n",
              "    <tr>\n",
              "      <th>count</th>\n",
              "      <td>36</td>\n",
              "      <td>36</td>\n",
              "      <td>36</td>\n",
              "    </tr>\n",
              "    <tr>\n",
              "      <th>unique</th>\n",
              "      <td>3</td>\n",
              "      <td>19</td>\n",
              "      <td>4</td>\n",
              "    </tr>\n",
              "    <tr>\n",
              "      <th>top</th>\n",
              "      <td>02-07-2019</td>\n",
              "      <td>05:47:14</td>\n",
              "      <td>nganacha@in.ibm.com</td>\n",
              "    </tr>\n",
              "    <tr>\n",
              "      <th>freq</th>\n",
              "      <td>19</td>\n",
              "      <td>3</td>\n",
              "      <td>16</td>\n",
              "    </tr>\n",
              "  </tbody>\n",
              "</table>\n",
              "</div>"
            ],
            "text/plain": [
              "              Date      Time              Emailid\n",
              "count           36        36                   36\n",
              "unique           3        19                    4\n",
              "top     02-07-2019  05:47:14  nganacha@in.ibm.com\n",
              "freq            19         3                   16"
            ]
          },
          "metadata": {
            "tags": []
          },
          "execution_count": 71
        }
      ]
    },
    {
      "cell_type": "code",
      "metadata": {
        "id": "4UM4QDBx9DoN",
        "colab_type": "code",
        "colab": {
          "base_uri": "https://localhost:8080/",
          "height": 92
        },
        "outputId": "7fa3d151-4ae7-4f0e-ef9b-61afb93ed4f0"
      },
      "source": [
        "df.isnull().sum()"
      ],
      "execution_count": 72,
      "outputs": [
        {
          "output_type": "execute_result",
          "data": {
            "text/plain": [
              "Date       0\n",
              "Time       0\n",
              "Emailid    0\n",
              "dtype: int64"
            ]
          },
          "metadata": {
            "tags": []
          },
          "execution_count": 72
        }
      ]
    },
    {
      "cell_type": "code",
      "metadata": {
        "id": "5TbPsr7w9qX6",
        "colab_type": "code",
        "colab": {
          "base_uri": "https://localhost:8080/",
          "height": 449
        },
        "outputId": "e789153e-fcb0-4e0e-8802-d93512c2516d"
      },
      "source": [
        "colList = [\"Date\", \"Time\", \"Emailid\"]\n",
        "count=1\n",
        "for i in range(0,len(colList)):\n",
        "    print(\"~~~~~~~~~~~~~~~~~~~~~~~~~~~~~~~Start {} ~~~~~~~~~~~~~~~~~~~~~~~~~~~~~~~~~~~~~~~~~~~~~~~~~\\n\".format(count))\n",
        "    print(\"Name of the column : \",colList[i])\n",
        "    print(df[colList[i]].unique())\n",
        "    print(\"~~~~~~~~~~~~~~~~~~~~~~~~~~~~~~~End~~~~~~~~~~~~~~~~~~~~~~~~~~~~~~~~~~~~~~~~~~~~~~~~~\\n\")\n",
        "    count = count + 1\n",
        "print(\"End of For\")"
      ],
      "execution_count": 73,
      "outputs": [
        {
          "output_type": "stream",
          "text": [
            "~~~~~~~~~~~~~~~~~~~~~~~~~~~~~~~Start 1 ~~~~~~~~~~~~~~~~~~~~~~~~~~~~~~~~~~~~~~~~~~~~~~~~~\n",
            "\n",
            "Name of the column :  Date\n",
            "['02-07-2019' '03-07-2019' '04-07-2019']\n",
            "~~~~~~~~~~~~~~~~~~~~~~~~~~~~~~~End~~~~~~~~~~~~~~~~~~~~~~~~~~~~~~~~~~~~~~~~~~~~~~~~~\n",
            "\n",
            "~~~~~~~~~~~~~~~~~~~~~~~~~~~~~~~Start 2 ~~~~~~~~~~~~~~~~~~~~~~~~~~~~~~~~~~~~~~~~~~~~~~~~~\n",
            "\n",
            "Name of the column :  Time\n",
            "['05:18:43' '05:33:54' '05:34:33' '05:37:15' '05:37:33' '05:38:11'\n",
            " '05:39:58' '05:40:06' '05:40:08' '05:42:19' '05:42:49' '05:47:14'\n",
            " '05:48:24' '06:03:36' '06:08:23' '06:13:03' '06:14:29' '06:16:32'\n",
            " '06:20:42']\n",
            "~~~~~~~~~~~~~~~~~~~~~~~~~~~~~~~End~~~~~~~~~~~~~~~~~~~~~~~~~~~~~~~~~~~~~~~~~~~~~~~~~\n",
            "\n",
            "~~~~~~~~~~~~~~~~~~~~~~~~~~~~~~~Start 3 ~~~~~~~~~~~~~~~~~~~~~~~~~~~~~~~~~~~~~~~~~~~~~~~~~\n",
            "\n",
            "Name of the column :  Emailid\n",
            "['avinash.chandra@in.ibm.com' 'nganacha@in.ibm.com' 'anudchan@in.ibm.com'\n",
            " 'kumarr03@avisbudget.com']\n",
            "~~~~~~~~~~~~~~~~~~~~~~~~~~~~~~~End~~~~~~~~~~~~~~~~~~~~~~~~~~~~~~~~~~~~~~~~~~~~~~~~~\n",
            "\n",
            "End of For\n"
          ],
          "name": "stdout"
        }
      ]
    },
    {
      "cell_type": "code",
      "metadata": {
        "id": "u6ju7zR397PM",
        "colab_type": "code",
        "colab": {
          "base_uri": "https://localhost:8080/",
          "height": 92
        },
        "outputId": "1813cb55-29bc-4906-a1db-928d76e083fe"
      },
      "source": [
        "df.count()"
      ],
      "execution_count": 74,
      "outputs": [
        {
          "output_type": "execute_result",
          "data": {
            "text/plain": [
              "Date       36\n",
              "Time       36\n",
              "Emailid    36\n",
              "dtype: int64"
            ]
          },
          "metadata": {
            "tags": []
          },
          "execution_count": 74
        }
      ]
    },
    {
      "cell_type": "code",
      "metadata": {
        "id": "muecWLMD-wMb",
        "colab_type": "code",
        "colab": {
          "base_uri": "https://localhost:8080/",
          "height": 206
        },
        "outputId": "247be4e1-5e61-4dd7-b4df-fc65c956ff91"
      },
      "source": [
        "df.groupby('Emailid').count()[['Date']]"
      ],
      "execution_count": 86,
      "outputs": [
        {
          "output_type": "execute_result",
          "data": {
            "text/html": [
              "<div>\n",
              "<style scoped>\n",
              "    .dataframe tbody tr th:only-of-type {\n",
              "        vertical-align: middle;\n",
              "    }\n",
              "\n",
              "    .dataframe tbody tr th {\n",
              "        vertical-align: top;\n",
              "    }\n",
              "\n",
              "    .dataframe thead th {\n",
              "        text-align: right;\n",
              "    }\n",
              "</style>\n",
              "<table border=\"1\" class=\"dataframe\">\n",
              "  <thead>\n",
              "    <tr style=\"text-align: right;\">\n",
              "      <th></th>\n",
              "      <th>Date</th>\n",
              "    </tr>\n",
              "    <tr>\n",
              "      <th>Emailid</th>\n",
              "      <th></th>\n",
              "    </tr>\n",
              "  </thead>\n",
              "  <tbody>\n",
              "    <tr>\n",
              "      <th>anudchan@in.ibm.com</th>\n",
              "      <td>3</td>\n",
              "    </tr>\n",
              "    <tr>\n",
              "      <th>avinash.chandra@in.ibm.com</th>\n",
              "      <td>11</td>\n",
              "    </tr>\n",
              "    <tr>\n",
              "      <th>kumarr03@avisbudget.com</th>\n",
              "      <td>6</td>\n",
              "    </tr>\n",
              "    <tr>\n",
              "      <th>nganacha@in.ibm.com</th>\n",
              "      <td>16</td>\n",
              "    </tr>\n",
              "  </tbody>\n",
              "</table>\n",
              "</div>"
            ],
            "text/plain": [
              "                            Date\n",
              "Emailid                         \n",
              "anudchan@in.ibm.com            3\n",
              "avinash.chandra@in.ibm.com    11\n",
              "kumarr03@avisbudget.com        6\n",
              "nganacha@in.ibm.com           16"
            ]
          },
          "metadata": {
            "tags": []
          },
          "execution_count": 86
        }
      ]
    },
    {
      "cell_type": "code",
      "metadata": {
        "id": "aFquUEM5A1F4",
        "colab_type": "code",
        "colab": {
          "base_uri": "https://localhost:8080/",
          "height": 175
        },
        "outputId": "3196a6ff-6072-4763-df8d-75c30ade23e5"
      },
      "source": [
        "df.groupby('Date').count()[['Emailid']]"
      ],
      "execution_count": 85,
      "outputs": [
        {
          "output_type": "execute_result",
          "data": {
            "text/html": [
              "<div>\n",
              "<style scoped>\n",
              "    .dataframe tbody tr th:only-of-type {\n",
              "        vertical-align: middle;\n",
              "    }\n",
              "\n",
              "    .dataframe tbody tr th {\n",
              "        vertical-align: top;\n",
              "    }\n",
              "\n",
              "    .dataframe thead th {\n",
              "        text-align: right;\n",
              "    }\n",
              "</style>\n",
              "<table border=\"1\" class=\"dataframe\">\n",
              "  <thead>\n",
              "    <tr style=\"text-align: right;\">\n",
              "      <th></th>\n",
              "      <th>Emailid</th>\n",
              "    </tr>\n",
              "    <tr>\n",
              "      <th>Date</th>\n",
              "      <th></th>\n",
              "    </tr>\n",
              "  </thead>\n",
              "  <tbody>\n",
              "    <tr>\n",
              "      <th>2019-02-07</th>\n",
              "      <td>19</td>\n",
              "    </tr>\n",
              "    <tr>\n",
              "      <th>2019-03-07</th>\n",
              "      <td>9</td>\n",
              "    </tr>\n",
              "    <tr>\n",
              "      <th>2019-04-07</th>\n",
              "      <td>8</td>\n",
              "    </tr>\n",
              "  </tbody>\n",
              "</table>\n",
              "</div>"
            ],
            "text/plain": [
              "            Emailid\n",
              "Date               \n",
              "2019-02-07       19\n",
              "2019-03-07        9\n",
              "2019-04-07        8"
            ]
          },
          "metadata": {
            "tags": []
          },
          "execution_count": 85
        }
      ]
    },
    {
      "cell_type": "code",
      "metadata": {
        "id": "tOQ9I_WOBKY6",
        "colab_type": "code",
        "colab": {
          "base_uri": "https://localhost:8080/",
          "height": 314
        },
        "outputId": "fb9c92fa-02f9-49a5-9432-65b9c6691f88"
      },
      "source": [
        "sns.countplot(x='Emailid', data=df).set_title('Count based on employee')"
      ],
      "execution_count": 84,
      "outputs": [
        {
          "output_type": "execute_result",
          "data": {
            "text/plain": [
              "Text(0.5, 1.0, 'Count of each employee')"
            ]
          },
          "metadata": {
            "tags": []
          },
          "execution_count": 84
        },
        {
          "output_type": "display_data",
          "data": {
            "image/png": "[encoded data removed]",
            "text/plain": [
              "<Figure size 432x288 with 1 Axes>"
            ]
          },
          "metadata": {
            "tags": []
          }
        }
      ]
    },
    {
      "cell_type": "code",
      "metadata": {
        "id": "8ALlDwmFFJDR",
        "colab_type": "code",
        "colab": {
          "base_uri": "https://localhost:8080/",
          "height": 314
        },
        "outputId": "9d7e7fd7-66c9-45ae-9fc6-4f9a030e6e16"
      },
      "source": [
        "sns.countplot(x='Date', data=df).set_title('Count based on Date')"
      ],
      "execution_count": 88,
      "outputs": [
        {
          "output_type": "execute_result",
          "data": {
            "text/plain": [
              "Text(0.5, 1.0, 'Count based on Date')"
            ]
          },
          "metadata": {
            "tags": []
          },
          "execution_count": 88
        },
        {
          "output_type": "display_data",
          "data": {
            "image/png": "[encoded data removed]",
            "text/plain": [
              "<Figure size 432x288 with 1 Axes>"
            ]
          },
          "metadata": {
            "tags": []
          }
        }
      ]
    },
    {
      "cell_type": "code",
      "metadata": {
        "id": "-6rUIf5EP1Pd",
        "colab_type": "code",
        "colab": {
          "base_uri": "https://localhost:8080/",
          "height": 425
        },
        "outputId": "2b7c91d0-ba1c-4a71-c701-b792fea80281"
      },
      "source": [
        "df.groupby(['Date', 'Emailid']).size().reset_index(name='counts')"
      ],
      "execution_count": 115,
      "outputs": [
        {
          "output_type": "execute_result",
          "data": {
            "text/html": [
              "<div>\n",
              "<style scoped>\n",
              "    .dataframe tbody tr th:only-of-type {\n",
              "        vertical-align: middle;\n",
              "    }\n",
              "\n",
              "    .dataframe tbody tr th {\n",
              "        vertical-align: top;\n",
              "    }\n",
              "\n",
              "    .dataframe thead th {\n",
              "        text-align: right;\n",
              "    }\n",
              "</style>\n",
              "<table border=\"1\" class=\"dataframe\">\n",
              "  <thead>\n",
              "    <tr style=\"text-align: right;\">\n",
              "      <th></th>\n",
              "      <th>Date</th>\n",
              "      <th>Emailid</th>\n",
              "      <th>counts</th>\n",
              "    </tr>\n",
              "  </thead>\n",
              "  <tbody>\n",
              "    <tr>\n",
              "      <th>0</th>\n",
              "      <td>2019-02-07</td>\n",
              "      <td>anudchan@in.ibm.com</td>\n",
              "      <td>1</td>\n",
              "    </tr>\n",
              "    <tr>\n",
              "      <th>1</th>\n",
              "      <td>2019-02-07</td>\n",
              "      <td>avinash.chandra@in.ibm.com</td>\n",
              "      <td>7</td>\n",
              "    </tr>\n",
              "    <tr>\n",
              "      <th>2</th>\n",
              "      <td>2019-02-07</td>\n",
              "      <td>kumarr03@avisbudget.com</td>\n",
              "      <td>3</td>\n",
              "    </tr>\n",
              "    <tr>\n",
              "      <th>3</th>\n",
              "      <td>2019-02-07</td>\n",
              "      <td>nganacha@in.ibm.com</td>\n",
              "      <td>8</td>\n",
              "    </tr>\n",
              "    <tr>\n",
              "      <th>4</th>\n",
              "      <td>2019-03-07</td>\n",
              "      <td>anudchan@in.ibm.com</td>\n",
              "      <td>1</td>\n",
              "    </tr>\n",
              "    <tr>\n",
              "      <th>5</th>\n",
              "      <td>2019-03-07</td>\n",
              "      <td>avinash.chandra@in.ibm.com</td>\n",
              "      <td>2</td>\n",
              "    </tr>\n",
              "    <tr>\n",
              "      <th>6</th>\n",
              "      <td>2019-03-07</td>\n",
              "      <td>kumarr03@avisbudget.com</td>\n",
              "      <td>1</td>\n",
              "    </tr>\n",
              "    <tr>\n",
              "      <th>7</th>\n",
              "      <td>2019-03-07</td>\n",
              "      <td>nganacha@in.ibm.com</td>\n",
              "      <td>5</td>\n",
              "    </tr>\n",
              "    <tr>\n",
              "      <th>8</th>\n",
              "      <td>2019-04-07</td>\n",
              "      <td>anudchan@in.ibm.com</td>\n",
              "      <td>1</td>\n",
              "    </tr>\n",
              "    <tr>\n",
              "      <th>9</th>\n",
              "      <td>2019-04-07</td>\n",
              "      <td>avinash.chandra@in.ibm.com</td>\n",
              "      <td>2</td>\n",
              "    </tr>\n",
              "    <tr>\n",
              "      <th>10</th>\n",
              "      <td>2019-04-07</td>\n",
              "      <td>kumarr03@avisbudget.com</td>\n",
              "      <td>2</td>\n",
              "    </tr>\n",
              "    <tr>\n",
              "      <th>11</th>\n",
              "      <td>2019-04-07</td>\n",
              "      <td>nganacha@in.ibm.com</td>\n",
              "      <td>3</td>\n",
              "    </tr>\n",
              "  </tbody>\n",
              "</table>\n",
              "</div>"
            ],
            "text/plain": [
              "         Date                     Emailid  counts\n",
              "0  2019-02-07         anudchan@in.ibm.com       1\n",
              "1  2019-02-07  avinash.chandra@in.ibm.com       7\n",
              "2  2019-02-07     kumarr03@avisbudget.com       3\n",
              "3  2019-02-07         nganacha@in.ibm.com       8\n",
              "4  2019-03-07         anudchan@in.ibm.com       1\n",
              "5  2019-03-07  avinash.chandra@in.ibm.com       2\n",
              "6  2019-03-07     kumarr03@avisbudget.com       1\n",
              "7  2019-03-07         nganacha@in.ibm.com       5\n",
              "8  2019-04-07         anudchan@in.ibm.com       1\n",
              "9  2019-04-07  avinash.chandra@in.ibm.com       2\n",
              "10 2019-04-07     kumarr03@avisbudget.com       2\n",
              "11 2019-04-07         nganacha@in.ibm.com       3"
            ]
          },
          "metadata": {
            "tags": []
          },
          "execution_count": 115
        }
      ]
    },
    {
      "cell_type": "code",
      "metadata": {
        "id": "F88abtD7Hb2F",
        "colab_type": "code",
        "colab": {
          "base_uri": "https://localhost:8080/",
          "height": 496
        },
        "outputId": "414714d3-1c4e-49d2-a985-3b74219681c9"
      },
      "source": [
        "sns.factorplot('Date', hue='Emailid', kind='count', data=df);\n",
        "plt.title('Factor plot for the Employee and Date')"
      ],
      "execution_count": 113,
      "outputs": [
        {
          "output_type": "stream",
          "text": [
            "/usr/local/lib/python3.6/dist-packages/seaborn/categorical.py:3666: UserWarning:\n",
            "\n",
            "The `factorplot` function has been renamed to `catplot`. The original name will be removed in a future release. Please update your code. Note that the default `kind` in `factorplot` (`'point'`) has changed `'strip'` in `catplot`.\n",
            "\n"
          ],
          "name": "stderr"
        },
        {
          "output_type": "execute_result",
          "data": {
            "text/plain": [
              "Text(0.5, 1.0, 'Factor plot for the Employee and Date')"
            ]
          },
          "metadata": {
            "tags": []
          },
          "execution_count": 113
        },
        {
          "output_type": "display_data",
          "data": {
            "image/png": "[encoded data removed]",
            "text/plain": [
              "<Figure size 544.875x360 with 1 Axes>"
            ]
          },
          "metadata": {
            "tags": []
          }
        }
      ]
    },
    {
      "cell_type": "code",
      "metadata": {
        "id": "JMO7hlKYC-ch",
        "colab_type": "code",
        "colab": {}
      },
      "source": [
        "# df_gptest = df[['Date','Emailid']]\n",
        "# grouped_test1 = df_gptest.groupby(['Date','Emailid'],as_index=False).count()\n",
        "# grouped_test1.head(10).plot.bar()\n",
        "# df2 = df.groupby(['Date', 'Emailid']).size()\n",
        "# df.groupby(['Date', 'Emailid']).size().reset_index(name='counts')\n",
        "# df2.head(50)\n",
        "# df2.describe()\n"
      ],
      "execution_count": 0,
      "outputs": []
    },
    {
      "cell_type": "code",
      "metadata": {
        "id": "K_zioMxXDX6y",
        "colab_type": "code",
        "colab": {}
      },
      "source": [
        "# sns.boxplot(x=\"Emailid\", y=\"Date\", data=df)"
      ],
      "execution_count": 0,
      "outputs": []
    },
    {
      "cell_type": "markdown",
      "metadata": {
        "id": "76CTUMC2BjPt",
        "colab_type": "text"
      },
      "source": [
        "1. about grouping : \n",
        "https://data36.com/pandas-tutorial-2-aggregation-and-grouping/ \n",
        "2. Pandas data types : \n",
        "https://pbpython.com/pandas_dtypes.html\n",
        "3. pandas date\n",
        "https://stackoverflow.com/questions/29370057/select-dataframe-rows-between-two-dates\n",
        "4. Pandas Date and Time - Time series\n",
        "https://medium.com/@bingobee01/pandas-tricks-and-tips-a7b87c3748ea\n",
        "5. Kaggle - seaborn\n",
        "https://www.kaggle.com/mchirico/plotly-seaborn-examples\n",
        "6. \n",
        "https://medium.com/@yoonho0715/seaborn-factor-plot-params-2a3ed9cf71bc\n",
        "7. \n",
        "https://datascienceplus.com/how-does-visualization-in-plotly-differ-from-seaborn/\n",
        "8. https://stackoverflow.com/questions/19384532/get-statistics-for-each-group-such-as-count-mean-etc-using-pandas-groupby\n",
        "9. https://www.dataquest.io/blog/jupyter-notebook-tips-tricks-shortcuts/\n",
        "10.\n",
        "https://kite.com/python/docs/seaborn.factorplot"
      ]
    }
  ]
}