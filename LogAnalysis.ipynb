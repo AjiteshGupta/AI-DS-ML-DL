{
  "nbformat": 4,
  "nbformat_minor": 0,
  "metadata": {
    "colab": {
      "name": "LogAnalysis.ipynb",
      "version": "0.3.2",
      "provenance": [],
      "include_colab_link": true
    },
    "kernelspec": {
      "name": "python3",
      "display_name": "Python 3"
    },
    "accelerator": "TPU"
  },
  "cells": [
    {
      "cell_type": "markdown",
      "metadata": {
        "id": "view-in-github",
        "colab_type": "text"
      },
      "source": [
        "<a href=\"https://colab.research.google.com/github/SudhakarAnemu/AI-DS-ML-DL-Materials/blob/master/LogAnalysis.ipynb\" target=\"_parent\"><img src=\"https://colab.research.google.com/assets/colab-badge.svg\" alt=\"Open In Colab\"/></a>"
      ]
    },
    {
      "cell_type": "code",
      "metadata": {
        "id": "QFehx0jdv1cf",
        "colab_type": "code",
        "colab": {
          "base_uri": "https://localhost:8080/",
          "height": 35
        },
        "outputId": "f8736184-efb6-4826-ead6-fb5254cb5bd3"
      },
      "source": [
        "print(\"JS - This program is talking about Log Analysis\")"
      ],
      "execution_count": 2,
      "outputs": [
        {
          "output_type": "stream",
          "text": [
            "JS - This program is talking about Log Analysis\n"
          ],
          "name": "stdout"
        }
      ]
    },
    {
      "cell_type": "code",
      "metadata": {
        "id": "4CSq7Q3GAZ6Y",
        "colab_type": "code",
        "colab": {}
      },
      "source": [
        "import re"
      ],
      "execution_count": 0,
      "outputs": []
    },
    {
      "cell_type": "code",
      "metadata": {
        "id": "cI4IMNoH-LDB",
        "colab_type": "code",
        "colab": {}
      },
      "source": [
        "file = open(\"testfile.txt\",\"w\") \n",
        " \n",
        "file.write(\"Hello World\\n\") \n",
        "file.write(\"This is our new text file\") \n",
        "\n",
        " \n",
        "file.close() "
      ],
      "execution_count": 0,
      "outputs": []
    },
    {
      "cell_type": "code",
      "metadata": {
        "id": "5GnGcQ6cArzF",
        "colab_type": "code",
        "colab": {
          "base_uri": "https://localhost:8080/",
          "height": 35
        },
        "outputId": "a850f5b9-cdd3-4a49-ac14-68cd54bc0cf9"
      },
      "source": [
        "file1 = open(\"second.txt\", \"r\")\n",
        "file2 = open(\"testfile.txt\",\"w\") \n",
        " \n",
        "pattern = r'emailId'\n",
        "\n",
        "for line in file1:\n",
        "  match = re.search(pattern,line)\n",
        "  if(match):\n",
        "#     print(\".. M : \", match)\n",
        "    file2.write(line)\n",
        "#     print(\"Line : \", line)\n",
        "\n",
        "print(\"End\")\n",
        "\n",
        "file1.close()\n",
        "file2.close() "
      ],
      "execution_count": 90,
      "outputs": [
        {
          "output_type": "stream",
          "text": [
            "End\n"
          ],
          "name": "stdout"
        }
      ]
    },
    {
      "cell_type": "code",
      "metadata": {
        "id": "OhDXByx7_Jc7",
        "colab_type": "code",
        "colab": {
          "base_uri": "https://localhost:8080/",
          "height": 399
        },
        "outputId": "1503efa6-e19d-4878-a6f3-6c9c6c03acbd"
      },
      "source": [
        "file = open(\"testfile.txt\", \"r\")\n",
        "file2 = open(\"csvfile.txt\",\"w\") \n",
        "\n",
        "for line in file:\n",
        "#   print(\"Original Line : \", line)\n",
        "  #print(\"Split         : \", line.split('\"'))\n",
        "   #print(\"Split         : \", line.split())\n",
        "  a = line.split()\n",
        "#   print(\" a : \", a)\n",
        "#   print(\"\\na of 0, 1,  :  : \", a[0], \" \", a[1])\n",
        "  b = a[7].split('\"')\n",
        "#   print(\"\\nb : \", b[0])\n",
        "#   line = a[0]+\",\"+a[1]+\",\"+b[0]\n",
        "#   file2.write()\n",
        "#   print(\"Line is : \", line)\n",
        "\n",
        "  s = a[0] +\",\"+ a[1]+\",\"+b[0]\n",
        "  print(\"s is : \", s)\n",
        "  file2.write(s)\n",
        "  \n",
        "  \n",
        "file.close\n",
        "file2.close"
      ],
      "execution_count": 106,
      "outputs": [
        {
          "output_type": "stream",
          "text": [
            "s is :  2019-07-02,03:19:53,raniagra@us.ibm.com\n",
            "s is :  2019-07-02,05:18:43,avinash.chandra@in.ibm.com\n",
            "s is :  2019-07-02,05:33:54,avinash.chandra@in.ibm.com\n",
            "s is :  2019-07-02,05:34:33,avinash.chandra@in.ibm.com\n",
            "s is :  2019-07-02,05:37:15,nganacha@in.ibm.com\n",
            "s is :  2019-07-02,05:37:33,nganacha@in.ibm.com\n",
            "s is :  2019-07-02,05:38:11,avinash.chandra@in.ibm.com\n",
            "s is :  2019-07-02,05:39:58,nganacha@in.ibm.com\n",
            "s is :  2019-07-02,05:40:06,nganacha@in.ibm.com\n",
            "s is :  2019-07-02,05:40:08,nganacha@in.ibm.com\n",
            "s is :  2019-07-02,05:42:19,avinash.chandra@in.ibm.com\n",
            "s is :  2019-07-02,05:42:49,anudchan@in.ibm.com\n",
            "s is :  2019-07-02,05:47:14,kumarr03@avisbudget.com\n",
            "s is :  2019-07-02,05:48:24,kumarr03@avisbudget.com\n",
            "s is :  2019-07-02,06:03:36,nganacha@in.ibm.com\n",
            "s is :  2019-07-02,06:08:23,avinash.chandra@in.ibm.com\n",
            "s is :  2019-07-02,06:13:03,kumarr03@avisbudget.com\n",
            "s is :  2019-07-02,06:14:29,avinash.chandra@in.ibm.com\n",
            "s is :  2019-07-02,06:16:32,nganacha@in.ibm.com\n",
            "s is :  2019-07-02,06:20:42,nganacha@in.ibm.com\n"
          ],
          "name": "stdout"
        },
        {
          "output_type": "execute_result",
          "data": {
            "text/plain": [
              "<function TextIOWrapper.close>"
            ]
          },
          "metadata": {
            "tags": []
          },
          "execution_count": 106
        }
      ]
    }
  ]
}