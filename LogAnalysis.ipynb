{
  "nbformat": 4,
  "nbformat_minor": 0,
  "metadata": {
    "colab": {
      "name": "LogAnalysis.ipynb",
      "version": "0.3.2",
      "provenance": [],
      "include_colab_link": true
    },
    "kernelspec": {
      "name": "python3",
      "display_name": "Python 3"
    },
    "accelerator": "TPU"
  },
  "cells": [
    {
      "cell_type": "markdown",
      "metadata": {
        "id": "view-in-github",
        "colab_type": "text"
      },
      "source": [
        "<a href=\"https://colab.research.google.com/github/SudhakarAnemu/AI-DS-ML-DL-Materials/blob/master/LogAnalysis.ipynb\" target=\"_parent\"><img src=\"https://colab.research.google.com/assets/colab-badge.svg\" alt=\"Open In Colab\"/></a>"
      ]
    },
    {
      "cell_type": "markdown",
      "metadata": {
        "id": "HUAYJ1TyfdwD",
        "colab_type": "text"
      },
      "source": [
        "This program is talking about Log Analysis - js(Sudhakar Anemu)"
      ]
    },
    {
      "cell_type": "markdown",
      "metadata": {
        "id": "vcJo9dE6fncG",
        "colab_type": "text"
      },
      "source": [
        "# 1. Importing Libraries and the Flow of program"
      ]
    },
    {
      "cell_type": "markdown",
      "metadata": {
        "id": "Tf7ewyy3mDR3",
        "colab_type": "text"
      },
      "source": [
        "## 1.1 Implort all required Libraries"
      ]
    },
    {
      "cell_type": "code",
      "metadata": {
        "id": "4CSq7Q3GAZ6Y",
        "colab_type": "code",
        "outputId": "598479a7-a43d-42dd-9e0f-6474c4abeca6",
        "colab": {
          "base_uri": "https://localhost:8080/",
          "height": 36
        }
      },
      "source": [
        "import re\n",
        "import pandas as pd\n",
        "import csv\n",
        "import seaborn as sns\n",
        "import matplotlib.pyplot as plt\n",
        "%matplotlib inline\n",
        "import plotly \n",
        "import plotly.plotly as py\n",
        "import plotly.graph_objs as go\n",
        "plotly.tools.set_credentials_file(username='sudhakar.anemu', api_key='gsV5SUHPip75363I87dw')\n",
        "print(\"End of Import\")"
      ],
      "execution_count": 1,
      "outputs": [
        {
          "output_type": "stream",
          "text": [
            "End of Import\n"
          ],
          "name": "stdout"
        }
      ]
    },
    {
      "cell_type": "markdown",
      "metadata": {
        "id": "ZBR7NYPTlHYz",
        "colab_type": "text"
      },
      "source": [
        "## 1.2 Flow of the program\n",
        "\n",
        "1. Read the input file\n",
        "2. Create a file with content of employee id(Grep the employee id)\n",
        "3. Create a file with coma separation of three columns(Date, Time and Employee)\n",
        "4. Create a csv file with delimator of , (from the above file)\n",
        "5. Create Graph's(with dataframes, panda's)"
      ]
    },
    {
      "cell_type": "markdown",
      "metadata": {
        "id": "QiQrGlR8hFrE",
        "colab_type": "text"
      },
      "source": [
        "# 2 Playing with input files and createa a desired csv file"
      ]
    },
    {
      "cell_type": "markdown",
      "metadata": {
        "id": "y3WDrXxEfxbC",
        "colab_type": "text"
      },
      "source": [
        "## 2.1 Read the input file and create a new file with grep of emailid"
      ]
    },
    {
      "cell_type": "code",
      "metadata": {
        "id": "5GnGcQ6cArzF",
        "colab_type": "code",
        "outputId": "434bdcaa-48e0-45a8-e89a-72cf45e51654",
        "colab": {
          "base_uri": "https://localhost:8080/",
          "height": 36
        }
      },
      "source": [
        "file1 = open(\"second.txt\", \"r\")\n",
        "file2 = open(\"testfile.txt\",\"w\") \n",
        " \n",
        "pattern = r'emailId'\n",
        "\n",
        "for line in file1:\n",
        "  match = re.search(pattern,line)\n",
        "  if(match):\n",
        "    file2.write(line)\n",
        "\n",
        "print(\"End\")\n",
        "\n",
        "file1.close()\n",
        "file2.close() "
      ],
      "execution_count": 2,
      "outputs": [
        {
          "output_type": "stream",
          "text": [
            "End\n"
          ],
          "name": "stdout"
        }
      ]
    },
    {
      "cell_type": "markdown",
      "metadata": {
        "id": "PE2Kh4aYgGl1",
        "colab_type": "text"
      },
      "source": [
        "## 2.2 Read the above file and create a new one which contains only Date and Email"
      ]
    },
    {
      "cell_type": "code",
      "metadata": {
        "id": "OhDXByx7_Jc7",
        "colab_type": "code",
        "outputId": "76200edd-9ed6-43f1-c6d7-40f57399956a",
        "colab": {
          "base_uri": "https://localhost:8080/",
          "height": 410
        }
      },
      "source": [
        "file = open(\"testfile.txt\", \"r\")\n",
        "fila = open(\"testfile1.txt\",\"w\")   \n",
        "\n",
        "for line in file:\n",
        "  a = line.split()\n",
        "  b = a[7].split('\"')\n",
        "  s = a[0] +\",\"+ a[1]+\",\"+b[0]+\"\\n\"\n",
        "  print(\"s is : \", s)\n",
        "  fila.write(s)\n",
        "  \n",
        "print(\"end\")\n",
        "\n",
        "file.close()\n",
        "fila.close()"
      ],
      "execution_count": 3,
      "outputs": [
        {
          "output_type": "stream",
          "text": [
            "s is :  2019-07-02,03:19:53,raniagra@us.ibm.com\n",
            "\n",
            "s is :  2019-07-02,05:18:43,avinash.chandra@in.ibm.com\n",
            "\n",
            "s is :  2019-07-02,05:33:54,avinash.chandra@in.ibm.com\n",
            "\n",
            "s is :  2019-07-02,05:34:33,avinash.chandra@in.ibm.com\n",
            "\n",
            "s is :  2019-07-02,05:37:15,nganacha@in.ibm.com\n",
            "\n",
            "s is :  2019-07-02,05:37:33,nganacha@in.ibm.com\n",
            "\n",
            "s is :  2019-07-02,05:38:11,avinash.chandra@in.ibm.com\n",
            "\n",
            "s is :  2019-07-02,05:39:58,nganacha@in.ibm.com\n",
            "\n",
            "s is :  2019-07-02,05:40:06,nganacha@in.ibm.com\n",
            "\n",
            "s is :  2019-07-02,05:40:08,nganacha@in.ibm.com\n",
            "\n",
            "end\n"
          ],
          "name": "stdout"
        }
      ]
    },
    {
      "cell_type": "markdown",
      "metadata": {
        "id": "Ef999H-AhWDd",
        "colab_type": "text"
      },
      "source": [
        "# 3. Playing with csv file and generating graphs"
      ]
    },
    {
      "cell_type": "markdown",
      "metadata": {
        "id": "m0s9pvSHhd4k",
        "colab_type": "text"
      },
      "source": [
        "## 3.1 Create dataframe for the csv file"
      ]
    },
    {
      "cell_type": "code",
      "metadata": {
        "id": "N6TKemmN70oG",
        "colab_type": "code",
        "colab": {}
      },
      "source": [
        "df = pd.read_csv('2ConvCsvFile.csv')"
      ],
      "execution_count": 0,
      "outputs": []
    },
    {
      "cell_type": "markdown",
      "metadata": {
        "id": "-HqKtkVihing",
        "colab_type": "text"
      },
      "source": [
        "## 3.2 Assign columns"
      ]
    },
    {
      "cell_type": "code",
      "metadata": {
        "id": "575oyVJY8EEq",
        "colab_type": "code",
        "colab": {}
      },
      "source": [
        "df.columns = [\"Date\", \"Time\", \"Emailid\"]"
      ],
      "execution_count": 0,
      "outputs": []
    },
    {
      "cell_type": "markdown",
      "metadata": {
        "id": "f8JPwk6Vhlge",
        "colab_type": "text"
      },
      "source": [
        "## 3.3 Reading of first 50 rows"
      ]
    },
    {
      "cell_type": "code",
      "metadata": {
        "id": "e6oFRj9Q0zMt",
        "colab_type": "code",
        "outputId": "0f5dd423-9a27-4e8b-c58e-6ad9c6a1b9ce",
        "colab": {
          "base_uri": "https://localhost:8080/",
          "height": 1000
        }
      },
      "source": [
        "df.head(50)"
      ],
      "execution_count": 25,
      "outputs": [
        {
          "output_type": "execute_result",
          "data": {
            "text/html": [
              "<div>\n",
              "<style scoped>\n",
              "    .dataframe tbody tr th:only-of-type {\n",
              "        vertical-align: middle;\n",
              "    }\n",
              "\n",
              "    .dataframe tbody tr th {\n",
              "        vertical-align: top;\n",
              "    }\n",
              "\n",
              "    .dataframe thead th {\n",
              "        text-align: right;\n",
              "    }\n",
              "</style>\n",
              "<table border=\"1\" class=\"dataframe\">\n",
              "  <thead>\n",
              "    <tr style=\"text-align: right;\">\n",
              "      <th></th>\n",
              "      <th>Date</th>\n",
              "      <th>Time</th>\n",
              "      <th>Emailid</th>\n",
              "    </tr>\n",
              "  </thead>\n",
              "  <tbody>\n",
              "    <tr>\n",
              "      <th>0</th>\n",
              "      <td>2019-02-07</td>\n",
              "      <td>05:18:43</td>\n",
              "      <td>avinash.chandra@in.ibm.com</td>\n",
              "    </tr>\n",
              "    <tr>\n",
              "      <th>1</th>\n",
              "      <td>2019-02-07</td>\n",
              "      <td>05:33:54</td>\n",
              "      <td>avinash.chandra@in.ibm.com</td>\n",
              "    </tr>\n",
              "    <tr>\n",
              "      <th>2</th>\n",
              "      <td>2019-02-07</td>\n",
              "      <td>05:34:33</td>\n",
              "      <td>avinash.chandra@in.ibm.com</td>\n",
              "    </tr>\n",
              "    <tr>\n",
              "      <th>3</th>\n",
              "      <td>2019-02-07</td>\n",
              "      <td>05:37:15</td>\n",
              "      <td>nganacha@in.ibm.com</td>\n",
              "    </tr>\n",
              "    <tr>\n",
              "      <th>4</th>\n",
              "      <td>2019-02-07</td>\n",
              "      <td>05:37:33</td>\n",
              "      <td>nganacha@in.ibm.com</td>\n",
              "    </tr>\n",
              "    <tr>\n",
              "      <th>5</th>\n",
              "      <td>2019-02-07</td>\n",
              "      <td>05:38:11</td>\n",
              "      <td>avinash.chandra@in.ibm.com</td>\n",
              "    </tr>\n",
              "    <tr>\n",
              "      <th>6</th>\n",
              "      <td>2019-02-07</td>\n",
              "      <td>05:39:58</td>\n",
              "      <td>nganacha@in.ibm.com</td>\n",
              "    </tr>\n",
              "    <tr>\n",
              "      <th>7</th>\n",
              "      <td>2019-02-07</td>\n",
              "      <td>05:40:06</td>\n",
              "      <td>nganacha@in.ibm.com</td>\n",
              "    </tr>\n",
              "    <tr>\n",
              "      <th>8</th>\n",
              "      <td>2019-02-07</td>\n",
              "      <td>05:40:08</td>\n",
              "      <td>nganacha@in.ibm.com</td>\n",
              "    </tr>\n",
              "    <tr>\n",
              "      <th>9</th>\n",
              "      <td>2019-02-07</td>\n",
              "      <td>05:42:19</td>\n",
              "      <td>avinash.chandra@in.ibm.com</td>\n",
              "    </tr>\n",
              "    <tr>\n",
              "      <th>10</th>\n",
              "      <td>2019-02-07</td>\n",
              "      <td>05:42:49</td>\n",
              "      <td>anudchan@in.ibm.com</td>\n",
              "    </tr>\n",
              "    <tr>\n",
              "      <th>11</th>\n",
              "      <td>2019-02-07</td>\n",
              "      <td>05:47:14</td>\n",
              "      <td>kumarr03@avisbudget.com</td>\n",
              "    </tr>\n",
              "    <tr>\n",
              "      <th>12</th>\n",
              "      <td>2019-02-07</td>\n",
              "      <td>05:48:24</td>\n",
              "      <td>kumarr03@avisbudget.com</td>\n",
              "    </tr>\n",
              "    <tr>\n",
              "      <th>13</th>\n",
              "      <td>2019-02-07</td>\n",
              "      <td>06:03:36</td>\n",
              "      <td>nganacha@in.ibm.com</td>\n",
              "    </tr>\n",
              "    <tr>\n",
              "      <th>14</th>\n",
              "      <td>2019-02-07</td>\n",
              "      <td>06:08:23</td>\n",
              "      <td>avinash.chandra@in.ibm.com</td>\n",
              "    </tr>\n",
              "    <tr>\n",
              "      <th>15</th>\n",
              "      <td>2019-02-07</td>\n",
              "      <td>06:13:03</td>\n",
              "      <td>kumarr03@avisbudget.com</td>\n",
              "    </tr>\n",
              "    <tr>\n",
              "      <th>16</th>\n",
              "      <td>2019-02-07</td>\n",
              "      <td>06:14:29</td>\n",
              "      <td>avinash.chandra@in.ibm.com</td>\n",
              "    </tr>\n",
              "    <tr>\n",
              "      <th>17</th>\n",
              "      <td>2019-02-07</td>\n",
              "      <td>06:16:32</td>\n",
              "      <td>nganacha@in.ibm.com</td>\n",
              "    </tr>\n",
              "    <tr>\n",
              "      <th>18</th>\n",
              "      <td>2019-02-07</td>\n",
              "      <td>06:20:42</td>\n",
              "      <td>nganacha@in.ibm.com</td>\n",
              "    </tr>\n",
              "    <tr>\n",
              "      <th>19</th>\n",
              "      <td>2019-03-07</td>\n",
              "      <td>05:37:15</td>\n",
              "      <td>nganacha@in.ibm.com</td>\n",
              "    </tr>\n",
              "    <tr>\n",
              "      <th>20</th>\n",
              "      <td>2019-03-07</td>\n",
              "      <td>05:37:33</td>\n",
              "      <td>nganacha@in.ibm.com</td>\n",
              "    </tr>\n",
              "    <tr>\n",
              "      <th>21</th>\n",
              "      <td>2019-03-07</td>\n",
              "      <td>05:38:11</td>\n",
              "      <td>avinash.chandra@in.ibm.com</td>\n",
              "    </tr>\n",
              "    <tr>\n",
              "      <th>22</th>\n",
              "      <td>2019-03-07</td>\n",
              "      <td>05:39:58</td>\n",
              "      <td>nganacha@in.ibm.com</td>\n",
              "    </tr>\n",
              "    <tr>\n",
              "      <th>23</th>\n",
              "      <td>2019-03-07</td>\n",
              "      <td>05:40:06</td>\n",
              "      <td>nganacha@in.ibm.com</td>\n",
              "    </tr>\n",
              "    <tr>\n",
              "      <th>24</th>\n",
              "      <td>2019-03-07</td>\n",
              "      <td>05:40:08</td>\n",
              "      <td>nganacha@in.ibm.com</td>\n",
              "    </tr>\n",
              "    <tr>\n",
              "      <th>25</th>\n",
              "      <td>2019-03-07</td>\n",
              "      <td>05:42:19</td>\n",
              "      <td>avinash.chandra@in.ibm.com</td>\n",
              "    </tr>\n",
              "    <tr>\n",
              "      <th>26</th>\n",
              "      <td>2019-03-07</td>\n",
              "      <td>05:42:49</td>\n",
              "      <td>anudchan@in.ibm.com</td>\n",
              "    </tr>\n",
              "    <tr>\n",
              "      <th>27</th>\n",
              "      <td>2019-03-07</td>\n",
              "      <td>05:47:14</td>\n",
              "      <td>kumarr03@avisbudget.com</td>\n",
              "    </tr>\n",
              "    <tr>\n",
              "      <th>28</th>\n",
              "      <td>2019-04-07</td>\n",
              "      <td>05:40:06</td>\n",
              "      <td>nganacha@in.ibm.com</td>\n",
              "    </tr>\n",
              "    <tr>\n",
              "      <th>29</th>\n",
              "      <td>2019-04-07</td>\n",
              "      <td>05:40:08</td>\n",
              "      <td>nganacha@in.ibm.com</td>\n",
              "    </tr>\n",
              "    <tr>\n",
              "      <th>30</th>\n",
              "      <td>2019-04-07</td>\n",
              "      <td>05:42:19</td>\n",
              "      <td>avinash.chandra@in.ibm.com</td>\n",
              "    </tr>\n",
              "    <tr>\n",
              "      <th>31</th>\n",
              "      <td>2019-04-07</td>\n",
              "      <td>05:42:49</td>\n",
              "      <td>anudchan@in.ibm.com</td>\n",
              "    </tr>\n",
              "    <tr>\n",
              "      <th>32</th>\n",
              "      <td>2019-04-07</td>\n",
              "      <td>05:47:14</td>\n",
              "      <td>kumarr03@avisbudget.com</td>\n",
              "    </tr>\n",
              "    <tr>\n",
              "      <th>33</th>\n",
              "      <td>2019-04-07</td>\n",
              "      <td>05:48:24</td>\n",
              "      <td>kumarr03@avisbudget.com</td>\n",
              "    </tr>\n",
              "    <tr>\n",
              "      <th>34</th>\n",
              "      <td>2019-04-07</td>\n",
              "      <td>06:03:36</td>\n",
              "      <td>nganacha@in.ibm.com</td>\n",
              "    </tr>\n",
              "    <tr>\n",
              "      <th>35</th>\n",
              "      <td>2019-04-07</td>\n",
              "      <td>06:08:23</td>\n",
              "      <td>avinash.chandra@in.ibm.com</td>\n",
              "    </tr>\n",
              "  </tbody>\n",
              "</table>\n",
              "</div>"
            ],
            "text/plain": [
              "         Date      Time                     Emailid\n",
              "0  2019-02-07  05:18:43  avinash.chandra@in.ibm.com\n",
              "1  2019-02-07  05:33:54  avinash.chandra@in.ibm.com\n",
              "2  2019-02-07  05:34:33  avinash.chandra@in.ibm.com\n",
              "3  2019-02-07  05:37:15         nganacha@in.ibm.com\n",
              "4  2019-02-07  05:37:33         nganacha@in.ibm.com\n",
              "5  2019-02-07  05:38:11  avinash.chandra@in.ibm.com\n",
              "6  2019-02-07  05:39:58         nganacha@in.ibm.com\n",
              "7  2019-02-07  05:40:06         nganacha@in.ibm.com\n",
              "8  2019-02-07  05:40:08         nganacha@in.ibm.com\n",
              "9  2019-02-07  05:42:19  avinash.chandra@in.ibm.com\n",
              "10 2019-02-07  05:42:49         anudchan@in.ibm.com\n",
              "11 2019-02-07  05:47:14     kumarr03@avisbudget.com\n",
              "12 2019-02-07  05:48:24     kumarr03@avisbudget.com\n",
              "13 2019-02-07  06:03:36         nganacha@in.ibm.com\n",
              "14 2019-02-07  06:08:23  avinash.chandra@in.ibm.com\n",
              "15 2019-02-07  06:13:03     kumarr03@avisbudget.com\n",
              "16 2019-02-07  06:14:29  avinash.chandra@in.ibm.com\n",
              "17 2019-02-07  06:16:32         nganacha@in.ibm.com\n",
              "18 2019-02-07  06:20:42         nganacha@in.ibm.com\n",
              "19 2019-03-07  05:37:15         nganacha@in.ibm.com\n",
              "20 2019-03-07  05:37:33         nganacha@in.ibm.com\n",
              "21 2019-03-07  05:38:11  avinash.chandra@in.ibm.com\n",
              "22 2019-03-07  05:39:58         nganacha@in.ibm.com\n",
              "23 2019-03-07  05:40:06         nganacha@in.ibm.com\n",
              "24 2019-03-07  05:40:08         nganacha@in.ibm.com\n",
              "25 2019-03-07  05:42:19  avinash.chandra@in.ibm.com\n",
              "26 2019-03-07  05:42:49         anudchan@in.ibm.com\n",
              "27 2019-03-07  05:47:14     kumarr03@avisbudget.com\n",
              "28 2019-04-07  05:40:06         nganacha@in.ibm.com\n",
              "29 2019-04-07  05:40:08         nganacha@in.ibm.com\n",
              "30 2019-04-07  05:42:19  avinash.chandra@in.ibm.com\n",
              "31 2019-04-07  05:42:49         anudchan@in.ibm.com\n",
              "32 2019-04-07  05:47:14     kumarr03@avisbudget.com\n",
              "33 2019-04-07  05:48:24     kumarr03@avisbudget.com\n",
              "34 2019-04-07  06:03:36         nganacha@in.ibm.com\n",
              "35 2019-04-07  06:08:23  avinash.chandra@in.ibm.com"
            ]
          },
          "metadata": {
            "tags": []
          },
          "execution_count": 25
        }
      ]
    },
    {
      "cell_type": "markdown",
      "metadata": {
        "id": "OYUsrE0ohzv0",
        "colab_type": "text"
      },
      "source": [
        "## 3.4 Verify columns"
      ]
    },
    {
      "cell_type": "code",
      "metadata": {
        "id": "BFEOGG3n9JF5",
        "colab_type": "code",
        "outputId": "1b504391-c904-4069-84ad-35bef7c1c365",
        "colab": {
          "base_uri": "https://localhost:8080/",
          "height": 36
        }
      },
      "source": [
        "df.columns"
      ],
      "execution_count": 7,
      "outputs": [
        {
          "output_type": "execute_result",
          "data": {
            "text/plain": [
              "Index(['Date', 'Time', 'Emailid'], dtype='object')"
            ]
          },
          "metadata": {
            "tags": []
          },
          "execution_count": 7
        }
      ]
    },
    {
      "cell_type": "markdown",
      "metadata": {
        "id": "qAl_9nw0h3yJ",
        "colab_type": "text"
      },
      "source": [
        "## 3.5 Verify shape of the Dataframe"
      ]
    },
    {
      "cell_type": "code",
      "metadata": {
        "id": "vo-f0xOS06uK",
        "colab_type": "code",
        "outputId": "c5500dbf-92bd-4ad4-8ce9-5ccca3d2d5e4",
        "colab": {
          "base_uri": "https://localhost:8080/",
          "height": 36
        }
      },
      "source": [
        "df.shape"
      ],
      "execution_count": 8,
      "outputs": [
        {
          "output_type": "execute_result",
          "data": {
            "text/plain": [
              "(36, 3)"
            ]
          },
          "metadata": {
            "tags": []
          },
          "execution_count": 8
        }
      ]
    },
    {
      "cell_type": "markdown",
      "metadata": {
        "id": "jz1eLp-Bh7xb",
        "colab_type": "text"
      },
      "source": [
        "## 3.6 Verify information of the dataframe"
      ]
    },
    {
      "cell_type": "code",
      "metadata": {
        "id": "0Vgcqpob1ymi",
        "colab_type": "code",
        "outputId": "28ac1093-6b51-4097-80c3-c4bcfd3213ab",
        "colab": {
          "base_uri": "https://localhost:8080/",
          "height": 167
        }
      },
      "source": [
        "df.info()"
      ],
      "execution_count": 9,
      "outputs": [
        {
          "output_type": "stream",
          "text": [
            "<class 'pandas.core.frame.DataFrame'>\n",
            "RangeIndex: 36 entries, 0 to 35\n",
            "Data columns (total 3 columns):\n",
            "Date       36 non-null object\n",
            "Time       36 non-null object\n",
            "Emailid    36 non-null object\n",
            "dtypes: object(3)\n",
            "memory usage: 944.0+ bytes\n"
          ],
          "name": "stdout"
        }
      ]
    },
    {
      "cell_type": "markdown",
      "metadata": {
        "id": "XjstC1WciBOh",
        "colab_type": "text"
      },
      "source": [
        "## 3.7 Convert data type of the date format"
      ]
    },
    {
      "cell_type": "code",
      "metadata": {
        "id": "HfgagigpEzFI",
        "colab_type": "code",
        "colab": {}
      },
      "source": [
        "df[\"Date\"]=df[\"Date\"].astype(\"datetime64\")"
      ],
      "execution_count": 0,
      "outputs": []
    },
    {
      "cell_type": "markdown",
      "metadata": {
        "id": "RyBfHQBmiJh0",
        "colab_type": "text"
      },
      "source": [
        "## 3.8 Verify information of the dataframe"
      ]
    },
    {
      "cell_type": "code",
      "metadata": {
        "id": "c1jAVrZxE61d",
        "colab_type": "code",
        "outputId": "92ff9eec-8632-4c36-9e45-39f8665a3137",
        "colab": {
          "base_uri": "https://localhost:8080/",
          "height": 167
        }
      },
      "source": [
        "df.info()"
      ],
      "execution_count": 11,
      "outputs": [
        {
          "output_type": "stream",
          "text": [
            "<class 'pandas.core.frame.DataFrame'>\n",
            "RangeIndex: 36 entries, 0 to 35\n",
            "Data columns (total 3 columns):\n",
            "Date       36 non-null datetime64[ns]\n",
            "Time       36 non-null object\n",
            "Emailid    36 non-null object\n",
            "dtypes: datetime64[ns](1), object(2)\n",
            "memory usage: 944.0+ bytes\n"
          ],
          "name": "stdout"
        }
      ]
    },
    {
      "cell_type": "code",
      "metadata": {
        "id": "ZH3ZvygKFrKJ",
        "colab_type": "code",
        "outputId": "039f10fb-2c06-43c4-916f-5dd949857358",
        "colab": {
          "base_uri": "https://localhost:8080/",
          "height": 206
        }
      },
      "source": [
        "df.head(5)"
      ],
      "execution_count": 12,
      "outputs": [
        {
          "output_type": "execute_result",
          "data": {
            "text/html": [
              "<div>\n",
              "<style scoped>\n",
              "    .dataframe tbody tr th:only-of-type {\n",
              "        vertical-align: middle;\n",
              "    }\n",
              "\n",
              "    .dataframe tbody tr th {\n",
              "        vertical-align: top;\n",
              "    }\n",
              "\n",
              "    .dataframe thead th {\n",
              "        text-align: right;\n",
              "    }\n",
              "</style>\n",
              "<table border=\"1\" class=\"dataframe\">\n",
              "  <thead>\n",
              "    <tr style=\"text-align: right;\">\n",
              "      <th></th>\n",
              "      <th>Date</th>\n",
              "      <th>Time</th>\n",
              "      <th>Emailid</th>\n",
              "    </tr>\n",
              "  </thead>\n",
              "  <tbody>\n",
              "    <tr>\n",
              "      <th>0</th>\n",
              "      <td>2019-02-07</td>\n",
              "      <td>05:18:43</td>\n",
              "      <td>avinash.chandra@in.ibm.com</td>\n",
              "    </tr>\n",
              "    <tr>\n",
              "      <th>1</th>\n",
              "      <td>2019-02-07</td>\n",
              "      <td>05:33:54</td>\n",
              "      <td>avinash.chandra@in.ibm.com</td>\n",
              "    </tr>\n",
              "    <tr>\n",
              "      <th>2</th>\n",
              "      <td>2019-02-07</td>\n",
              "      <td>05:34:33</td>\n",
              "      <td>avinash.chandra@in.ibm.com</td>\n",
              "    </tr>\n",
              "    <tr>\n",
              "      <th>3</th>\n",
              "      <td>2019-02-07</td>\n",
              "      <td>05:37:15</td>\n",
              "      <td>nganacha@in.ibm.com</td>\n",
              "    </tr>\n",
              "    <tr>\n",
              "      <th>4</th>\n",
              "      <td>2019-02-07</td>\n",
              "      <td>05:37:33</td>\n",
              "      <td>nganacha@in.ibm.com</td>\n",
              "    </tr>\n",
              "  </tbody>\n",
              "</table>\n",
              "</div>"
            ],
            "text/plain": [
              "        Date      Time                     Emailid\n",
              "0 2019-02-07  05:18:43  avinash.chandra@in.ibm.com\n",
              "1 2019-02-07  05:33:54  avinash.chandra@in.ibm.com\n",
              "2 2019-02-07  05:34:33  avinash.chandra@in.ibm.com\n",
              "3 2019-02-07  05:37:15         nganacha@in.ibm.com\n",
              "4 2019-02-07  05:37:33         nganacha@in.ibm.com"
            ]
          },
          "metadata": {
            "tags": []
          },
          "execution_count": 12
        }
      ]
    },
    {
      "cell_type": "markdown",
      "metadata": {
        "id": "RN39bFhJiPov",
        "colab_type": "text"
      },
      "source": [
        "## 3.9 Verify description of the dataframe"
      ]
    },
    {
      "cell_type": "code",
      "metadata": {
        "id": "DOSa1GXj8bPZ",
        "colab_type": "code",
        "outputId": "79a4ae3c-ab2c-4f28-fc28-678b0f43368d",
        "colab": {
          "base_uri": "https://localhost:8080/",
          "height": 237
        }
      },
      "source": [
        "df.describe()"
      ],
      "execution_count": 13,
      "outputs": [
        {
          "output_type": "execute_result",
          "data": {
            "text/html": [
              "<div>\n",
              "<style scoped>\n",
              "    .dataframe tbody tr th:only-of-type {\n",
              "        vertical-align: middle;\n",
              "    }\n",
              "\n",
              "    .dataframe tbody tr th {\n",
              "        vertical-align: top;\n",
              "    }\n",
              "\n",
              "    .dataframe thead th {\n",
              "        text-align: right;\n",
              "    }\n",
              "</style>\n",
              "<table border=\"1\" class=\"dataframe\">\n",
              "  <thead>\n",
              "    <tr style=\"text-align: right;\">\n",
              "      <th></th>\n",
              "      <th>Date</th>\n",
              "      <th>Time</th>\n",
              "      <th>Emailid</th>\n",
              "    </tr>\n",
              "  </thead>\n",
              "  <tbody>\n",
              "    <tr>\n",
              "      <th>count</th>\n",
              "      <td>36</td>\n",
              "      <td>36</td>\n",
              "      <td>36</td>\n",
              "    </tr>\n",
              "    <tr>\n",
              "      <th>unique</th>\n",
              "      <td>3</td>\n",
              "      <td>19</td>\n",
              "      <td>4</td>\n",
              "    </tr>\n",
              "    <tr>\n",
              "      <th>top</th>\n",
              "      <td>2019-02-07 00:00:00</td>\n",
              "      <td>05:42:19</td>\n",
              "      <td>nganacha@in.ibm.com</td>\n",
              "    </tr>\n",
              "    <tr>\n",
              "      <th>freq</th>\n",
              "      <td>19</td>\n",
              "      <td>3</td>\n",
              "      <td>16</td>\n",
              "    </tr>\n",
              "    <tr>\n",
              "      <th>first</th>\n",
              "      <td>2019-02-07 00:00:00</td>\n",
              "      <td>NaN</td>\n",
              "      <td>NaN</td>\n",
              "    </tr>\n",
              "    <tr>\n",
              "      <th>last</th>\n",
              "      <td>2019-04-07 00:00:00</td>\n",
              "      <td>NaN</td>\n",
              "      <td>NaN</td>\n",
              "    </tr>\n",
              "  </tbody>\n",
              "</table>\n",
              "</div>"
            ],
            "text/plain": [
              "                       Date      Time              Emailid\n",
              "count                    36        36                   36\n",
              "unique                    3        19                    4\n",
              "top     2019-02-07 00:00:00  05:42:19  nganacha@in.ibm.com\n",
              "freq                     19         3                   16\n",
              "first   2019-02-07 00:00:00       NaN                  NaN\n",
              "last    2019-04-07 00:00:00       NaN                  NaN"
            ]
          },
          "metadata": {
            "tags": []
          },
          "execution_count": 13
        }
      ]
    },
    {
      "cell_type": "markdown",
      "metadata": {
        "id": "hqnMGTJpiXbX",
        "colab_type": "text"
      },
      "source": [
        "## 3.10 Verify null values of all feature"
      ]
    },
    {
      "cell_type": "code",
      "metadata": {
        "id": "4UM4QDBx9DoN",
        "colab_type": "code",
        "outputId": "554048d7-d830-4151-e2ac-af5fe7faee18",
        "colab": {
          "base_uri": "https://localhost:8080/",
          "height": 92
        }
      },
      "source": [
        "df.isnull().sum()"
      ],
      "execution_count": 14,
      "outputs": [
        {
          "output_type": "execute_result",
          "data": {
            "text/plain": [
              "Date       0\n",
              "Time       0\n",
              "Emailid    0\n",
              "dtype: int64"
            ]
          },
          "metadata": {
            "tags": []
          },
          "execution_count": 14
        }
      ]
    },
    {
      "cell_type": "markdown",
      "metadata": {
        "id": "edfXOWFNibnO",
        "colab_type": "text"
      },
      "source": [
        "## 3.11 Verify Unique values of each feature"
      ]
    },
    {
      "cell_type": "code",
      "metadata": {
        "id": "5TbPsr7w9qX6",
        "colab_type": "code",
        "outputId": "6289634b-44a7-4884-f08e-835c0bf451fd",
        "colab": {
          "base_uri": "https://localhost:8080/",
          "height": 467
        }
      },
      "source": [
        "colList = [\"Date\", \"Time\", \"Emailid\"]\n",
        "count=1\n",
        "for i in range(0,len(colList)):\n",
        "    print(\"~~~~~~~~~~~~~~~~~~~~~~~~~~~~~~~Start {} ~~~~~~~~~~~~~~~~~~~~~~~~~~~~~~~~~~~~~~~~~~~~~~~~~\\n\".format(count))\n",
        "    print(\"Name of the column : \",colList[i])\n",
        "    print(df[colList[i]].unique())\n",
        "    print(\"~~~~~~~~~~~~~~~~~~~~~~~~~~~~~~~End~~~~~~~~~~~~~~~~~~~~~~~~~~~~~~~~~~~~~~~~~~~~~~~~~\\n\")\n",
        "    count = count + 1\n",
        "print(\"End of For\")"
      ],
      "execution_count": 15,
      "outputs": [
        {
          "output_type": "stream",
          "text": [
            "~~~~~~~~~~~~~~~~~~~~~~~~~~~~~~~Start 1 ~~~~~~~~~~~~~~~~~~~~~~~~~~~~~~~~~~~~~~~~~~~~~~~~~\n",
            "\n",
            "Name of the column :  Date\n",
            "['2019-02-07T00:00:00.000000000' '2019-03-07T00:00:00.000000000'\n",
            " '2019-04-07T00:00:00.000000000']\n",
            "~~~~~~~~~~~~~~~~~~~~~~~~~~~~~~~End~~~~~~~~~~~~~~~~~~~~~~~~~~~~~~~~~~~~~~~~~~~~~~~~~\n",
            "\n",
            "~~~~~~~~~~~~~~~~~~~~~~~~~~~~~~~Start 2 ~~~~~~~~~~~~~~~~~~~~~~~~~~~~~~~~~~~~~~~~~~~~~~~~~\n",
            "\n",
            "Name of the column :  Time\n",
            "['05:18:43' '05:33:54' '05:34:33' '05:37:15' '05:37:33' '05:38:11'\n",
            " '05:39:58' '05:40:06' '05:40:08' '05:42:19' '05:42:49' '05:47:14'\n",
            " '05:48:24' '06:03:36' '06:08:23' '06:13:03' '06:14:29' '06:16:32'\n",
            " '06:20:42']\n",
            "~~~~~~~~~~~~~~~~~~~~~~~~~~~~~~~End~~~~~~~~~~~~~~~~~~~~~~~~~~~~~~~~~~~~~~~~~~~~~~~~~\n",
            "\n",
            "~~~~~~~~~~~~~~~~~~~~~~~~~~~~~~~Start 3 ~~~~~~~~~~~~~~~~~~~~~~~~~~~~~~~~~~~~~~~~~~~~~~~~~\n",
            "\n",
            "Name of the column :  Emailid\n",
            "['avinash.chandra@in.ibm.com' 'nganacha@in.ibm.com' 'anudchan@in.ibm.com'\n",
            " 'kumarr03@avisbudget.com']\n",
            "~~~~~~~~~~~~~~~~~~~~~~~~~~~~~~~End~~~~~~~~~~~~~~~~~~~~~~~~~~~~~~~~~~~~~~~~~~~~~~~~~\n",
            "\n",
            "End of For\n"
          ],
          "name": "stdout"
        }
      ]
    },
    {
      "cell_type": "markdown",
      "metadata": {
        "id": "PgoL6oH6iiIX",
        "colab_type": "text"
      },
      "source": [
        "## 3.12 Verify Count of each feature"
      ]
    },
    {
      "cell_type": "code",
      "metadata": {
        "id": "u6ju7zR397PM",
        "colab_type": "code",
        "outputId": "20e996a7-fca6-4e3c-f1c6-686755ad5928",
        "colab": {
          "base_uri": "https://localhost:8080/",
          "height": 92
        }
      },
      "source": [
        "df.count()"
      ],
      "execution_count": 16,
      "outputs": [
        {
          "output_type": "execute_result",
          "data": {
            "text/plain": [
              "Date       36\n",
              "Time       36\n",
              "Emailid    36\n",
              "dtype: int64"
            ]
          },
          "metadata": {
            "tags": []
          },
          "execution_count": 16
        }
      ]
    },
    {
      "cell_type": "markdown",
      "metadata": {
        "id": "vUiTo_7uin0A",
        "colab_type": "text"
      },
      "source": [
        "## 3.13 Verify Count of each Employee based on date"
      ]
    },
    {
      "cell_type": "code",
      "metadata": {
        "id": "muecWLMD-wMb",
        "colab_type": "code",
        "outputId": "17cbe3fe-76db-4f56-fec5-92a06d6a72cb",
        "colab": {
          "base_uri": "https://localhost:8080/",
          "height": 206
        }
      },
      "source": [
        "df.groupby('Emailid').count()[['Date']]"
      ],
      "execution_count": 17,
      "outputs": [
        {
          "output_type": "execute_result",
          "data": {
            "text/html": [
              "<div>\n",
              "<style scoped>\n",
              "    .dataframe tbody tr th:only-of-type {\n",
              "        vertical-align: middle;\n",
              "    }\n",
              "\n",
              "    .dataframe tbody tr th {\n",
              "        vertical-align: top;\n",
              "    }\n",
              "\n",
              "    .dataframe thead th {\n",
              "        text-align: right;\n",
              "    }\n",
              "</style>\n",
              "<table border=\"1\" class=\"dataframe\">\n",
              "  <thead>\n",
              "    <tr style=\"text-align: right;\">\n",
              "      <th></th>\n",
              "      <th>Date</th>\n",
              "    </tr>\n",
              "    <tr>\n",
              "      <th>Emailid</th>\n",
              "      <th></th>\n",
              "    </tr>\n",
              "  </thead>\n",
              "  <tbody>\n",
              "    <tr>\n",
              "      <th>anudchan@in.ibm.com</th>\n",
              "      <td>3</td>\n",
              "    </tr>\n",
              "    <tr>\n",
              "      <th>avinash.chandra@in.ibm.com</th>\n",
              "      <td>11</td>\n",
              "    </tr>\n",
              "    <tr>\n",
              "      <th>kumarr03@avisbudget.com</th>\n",
              "      <td>6</td>\n",
              "    </tr>\n",
              "    <tr>\n",
              "      <th>nganacha@in.ibm.com</th>\n",
              "      <td>16</td>\n",
              "    </tr>\n",
              "  </tbody>\n",
              "</table>\n",
              "</div>"
            ],
            "text/plain": [
              "                            Date\n",
              "Emailid                         \n",
              "anudchan@in.ibm.com            3\n",
              "avinash.chandra@in.ibm.com    11\n",
              "kumarr03@avisbudget.com        6\n",
              "nganacha@in.ibm.com           16"
            ]
          },
          "metadata": {
            "tags": []
          },
          "execution_count": 17
        }
      ]
    },
    {
      "cell_type": "markdown",
      "metadata": {
        "id": "2AQcdjeziutP",
        "colab_type": "text"
      },
      "source": [
        "## 3.14 Verify count of Employee based on date"
      ]
    },
    {
      "cell_type": "code",
      "metadata": {
        "id": "aFquUEM5A1F4",
        "colab_type": "code",
        "outputId": "abf8786e-b624-40f9-c8ba-99beb53f26b6",
        "colab": {
          "base_uri": "https://localhost:8080/",
          "height": 175
        }
      },
      "source": [
        "df.groupby('Date').count()[['Emailid']]"
      ],
      "execution_count": 18,
      "outputs": [
        {
          "output_type": "execute_result",
          "data": {
            "text/html": [
              "<div>\n",
              "<style scoped>\n",
              "    .dataframe tbody tr th:only-of-type {\n",
              "        vertical-align: middle;\n",
              "    }\n",
              "\n",
              "    .dataframe tbody tr th {\n",
              "        vertical-align: top;\n",
              "    }\n",
              "\n",
              "    .dataframe thead th {\n",
              "        text-align: right;\n",
              "    }\n",
              "</style>\n",
              "<table border=\"1\" class=\"dataframe\">\n",
              "  <thead>\n",
              "    <tr style=\"text-align: right;\">\n",
              "      <th></th>\n",
              "      <th>Emailid</th>\n",
              "    </tr>\n",
              "    <tr>\n",
              "      <th>Date</th>\n",
              "      <th></th>\n",
              "    </tr>\n",
              "  </thead>\n",
              "  <tbody>\n",
              "    <tr>\n",
              "      <th>2019-02-07</th>\n",
              "      <td>19</td>\n",
              "    </tr>\n",
              "    <tr>\n",
              "      <th>2019-03-07</th>\n",
              "      <td>9</td>\n",
              "    </tr>\n",
              "    <tr>\n",
              "      <th>2019-04-07</th>\n",
              "      <td>8</td>\n",
              "    </tr>\n",
              "  </tbody>\n",
              "</table>\n",
              "</div>"
            ],
            "text/plain": [
              "            Emailid\n",
              "Date               \n",
              "2019-02-07       19\n",
              "2019-03-07        9\n",
              "2019-04-07        8"
            ]
          },
          "metadata": {
            "tags": []
          },
          "execution_count": 18
        }
      ]
    },
    {
      "cell_type": "markdown",
      "metadata": {
        "id": "D2SVEl2xi2D2",
        "colab_type": "text"
      },
      "source": [
        "## 3.15 Graph - count of each employee"
      ]
    },
    {
      "cell_type": "code",
      "metadata": {
        "id": "tOQ9I_WOBKY6",
        "colab_type": "code",
        "outputId": "74076cde-9580-4327-e911-73d325a7f955",
        "colab": {
          "base_uri": "https://localhost:8080/",
          "height": 314
        }
      },
      "source": [
        "sns.countplot(x='Emailid', data=df).set_title('Count based on employee')"
      ],
      "execution_count": 19,
      "outputs": [
        {
          "output_type": "execute_result",
          "data": {
            "text/plain": [
              "Text(0.5, 1.0, 'Count based on employee')"
            ]
          },
          "metadata": {
            "tags": []
          },
          "execution_count": 19
        },
        {
          "output_type": "display_data",
          "data": {
            "image/png": "[encoded data removed]",
            "text/plain": [
              "<Figure size 432x288 with 1 Axes>"
            ]
          },
          "metadata": {
            "tags": []
          }
        }
      ]
    },
    {
      "cell_type": "markdown",
      "metadata": {
        "id": "HCEBB5IVi8gx",
        "colab_type": "text"
      },
      "source": [
        "## 3.16 Graph - Count of Date column"
      ]
    },
    {
      "cell_type": "code",
      "metadata": {
        "id": "8ALlDwmFFJDR",
        "colab_type": "code",
        "outputId": "fdbc7bd7-3a05-44d7-cc7c-1706d584da9c",
        "colab": {
          "base_uri": "https://localhost:8080/",
          "height": 314
        }
      },
      "source": [
        "sns.countplot(x='Date', data=df).set_title('Count based on Date')"
      ],
      "execution_count": 20,
      "outputs": [
        {
          "output_type": "execute_result",
          "data": {
            "text/plain": [
              "Text(0.5, 1.0, 'Count based on Date')"
            ]
          },
          "metadata": {
            "tags": []
          },
          "execution_count": 20
        },
        {
          "output_type": "display_data",
          "data": {
            "image/png": "[encoded data removed]",
            "text/plain": [
              "<Figure size 432x288 with 1 Axes>"
            ]
          },
          "metadata": {
            "tags": []
          }
        }
      ]
    },
    {
      "cell_type": "markdown",
      "metadata": {
        "id": "ZclZL2ZdjBI6",
        "colab_type": "text"
      },
      "source": [
        "## 3.17 Count based on Group by Date and Employee"
      ]
    },
    {
      "cell_type": "code",
      "metadata": {
        "id": "-6rUIf5EP1Pd",
        "colab_type": "code",
        "outputId": "49befa83-2c78-4a0a-b2ee-2a7fe945ceb1",
        "colab": {
          "base_uri": "https://localhost:8080/",
          "height": 426
        }
      },
      "source": [
        "df.groupby(['Date', 'Emailid']).size().reset_index(name='counts')"
      ],
      "execution_count": 21,
      "outputs": [
        {
          "output_type": "execute_result",
          "data": {
            "text/html": [
              "<div>\n",
              "<style scoped>\n",
              "    .dataframe tbody tr th:only-of-type {\n",
              "        vertical-align: middle;\n",
              "    }\n",
              "\n",
              "    .dataframe tbody tr th {\n",
              "        vertical-align: top;\n",
              "    }\n",
              "\n",
              "    .dataframe thead th {\n",
              "        text-align: right;\n",
              "    }\n",
              "</style>\n",
              "<table border=\"1\" class=\"dataframe\">\n",
              "  <thead>\n",
              "    <tr style=\"text-align: right;\">\n",
              "      <th></th>\n",
              "      <th>Date</th>\n",
              "      <th>Emailid</th>\n",
              "      <th>counts</th>\n",
              "    </tr>\n",
              "  </thead>\n",
              "  <tbody>\n",
              "    <tr>\n",
              "      <th>0</th>\n",
              "      <td>2019-02-07</td>\n",
              "      <td>anudchan@in.ibm.com</td>\n",
              "      <td>1</td>\n",
              "    </tr>\n",
              "    <tr>\n",
              "      <th>1</th>\n",
              "      <td>2019-02-07</td>\n",
              "      <td>avinash.chandra@in.ibm.com</td>\n",
              "      <td>7</td>\n",
              "    </tr>\n",
              "    <tr>\n",
              "      <th>2</th>\n",
              "      <td>2019-02-07</td>\n",
              "      <td>kumarr03@avisbudget.com</td>\n",
              "      <td>3</td>\n",
              "    </tr>\n",
              "    <tr>\n",
              "      <th>3</th>\n",
              "      <td>2019-02-07</td>\n",
              "      <td>nganacha@in.ibm.com</td>\n",
              "      <td>8</td>\n",
              "    </tr>\n",
              "    <tr>\n",
              "      <th>4</th>\n",
              "      <td>2019-03-07</td>\n",
              "      <td>anudchan@in.ibm.com</td>\n",
              "      <td>1</td>\n",
              "    </tr>\n",
              "    <tr>\n",
              "      <th>5</th>\n",
              "      <td>2019-03-07</td>\n",
              "      <td>avinash.chandra@in.ibm.com</td>\n",
              "      <td>2</td>\n",
              "    </tr>\n",
              "    <tr>\n",
              "      <th>6</th>\n",
              "      <td>2019-03-07</td>\n",
              "      <td>kumarr03@avisbudget.com</td>\n",
              "      <td>1</td>\n",
              "    </tr>\n",
              "    <tr>\n",
              "      <th>7</th>\n",
              "      <td>2019-03-07</td>\n",
              "      <td>nganacha@in.ibm.com</td>\n",
              "      <td>5</td>\n",
              "    </tr>\n",
              "    <tr>\n",
              "      <th>8</th>\n",
              "      <td>2019-04-07</td>\n",
              "      <td>anudchan@in.ibm.com</td>\n",
              "      <td>1</td>\n",
              "    </tr>\n",
              "    <tr>\n",
              "      <th>9</th>\n",
              "      <td>2019-04-07</td>\n",
              "      <td>avinash.chandra@in.ibm.com</td>\n",
              "      <td>2</td>\n",
              "    </tr>\n",
              "    <tr>\n",
              "      <th>10</th>\n",
              "      <td>2019-04-07</td>\n",
              "      <td>kumarr03@avisbudget.com</td>\n",
              "      <td>2</td>\n",
              "    </tr>\n",
              "    <tr>\n",
              "      <th>11</th>\n",
              "      <td>2019-04-07</td>\n",
              "      <td>nganacha@in.ibm.com</td>\n",
              "      <td>3</td>\n",
              "    </tr>\n",
              "  </tbody>\n",
              "</table>\n",
              "</div>"
            ],
            "text/plain": [
              "         Date                     Emailid  counts\n",
              "0  2019-02-07         anudchan@in.ibm.com       1\n",
              "1  2019-02-07  avinash.chandra@in.ibm.com       7\n",
              "2  2019-02-07     kumarr03@avisbudget.com       3\n",
              "3  2019-02-07         nganacha@in.ibm.com       8\n",
              "4  2019-03-07         anudchan@in.ibm.com       1\n",
              "5  2019-03-07  avinash.chandra@in.ibm.com       2\n",
              "6  2019-03-07     kumarr03@avisbudget.com       1\n",
              "7  2019-03-07         nganacha@in.ibm.com       5\n",
              "8  2019-04-07         anudchan@in.ibm.com       1\n",
              "9  2019-04-07  avinash.chandra@in.ibm.com       2\n",
              "10 2019-04-07     kumarr03@avisbudget.com       2\n",
              "11 2019-04-07         nganacha@in.ibm.com       3"
            ]
          },
          "metadata": {
            "tags": []
          },
          "execution_count": 21
        }
      ]
    },
    {
      "cell_type": "markdown",
      "metadata": {
        "id": "JJiljgKAjw0s",
        "colab_type": "text"
      },
      "source": [
        "## 3.18 Graph - Count of each Employee based on the Date"
      ]
    },
    {
      "cell_type": "code",
      "metadata": {
        "id": "F88abtD7Hb2F",
        "colab_type": "code",
        "outputId": "be7767dd-95ec-4170-e63e-1eda2f5c044e",
        "colab": {
          "base_uri": "https://localhost:8080/",
          "height": 496
        }
      },
      "source": [
        "sns.factorplot('Date', hue='Emailid', kind='count', data=df);\n",
        "plt.title('Factor plot for the Employee and Date')"
      ],
      "execution_count": 22,
      "outputs": [
        {
          "output_type": "stream",
          "text": [
            "/usr/local/lib/python3.6/dist-packages/seaborn/categorical.py:3666: UserWarning:\n",
            "\n",
            "The `factorplot` function has been renamed to `catplot`. The original name will be removed in a future release. Please update your code. Note that the default `kind` in `factorplot` (`'point'`) has changed `'strip'` in `catplot`.\n",
            "\n"
          ],
          "name": "stderr"
        },
        {
          "output_type": "execute_result",
          "data": {
            "text/plain": [
              "Text(0.5, 1.0, 'Factor plot for the Employee and Date')"
            ]
          },
          "metadata": {
            "tags": []
          },
          "execution_count": 22
        },
        {
          "output_type": "display_data",
          "data": {
            "image/png": "[encoded data removed]",
            "text/plain": [
              "<Figure size 544.875x360 with 1 Axes>"
            ]
          },
          "metadata": {
            "tags": []
          }
        }
      ]
    },
    {
      "cell_type": "markdown",
      "metadata": {
        "id": "-2wz_Pwij7pB",
        "colab_type": "text"
      },
      "source": [
        "## 3.19 Graph - Cont of the Date by each Employee"
      ]
    },
    {
      "cell_type": "code",
      "metadata": {
        "id": "-IhWrWRIQ0Y2",
        "colab_type": "code",
        "outputId": "0a4e740e-d136-4416-9b08-72b0a940852d",
        "colab": {
          "base_uri": "https://localhost:8080/",
          "height": 496
        }
      },
      "source": [
        "sns.factorplot('Emailid', hue='Date', kind='count', data=df);\n",
        "plt.title('Factor plot for the Employee and Date')"
      ],
      "execution_count": 23,
      "outputs": [
        {
          "output_type": "stream",
          "text": [
            "/usr/local/lib/python3.6/dist-packages/seaborn/categorical.py:3666: UserWarning:\n",
            "\n",
            "The `factorplot` function has been renamed to `catplot`. The original name will be removed in a future release. Please update your code. Note that the default `kind` in `factorplot` (`'point'`) has changed `'strip'` in `catplot`.\n",
            "\n"
          ],
          "name": "stderr"
        },
        {
          "output_type": "execute_result",
          "data": {
            "text/plain": [
              "Text(0.5, 1.0, 'Factor plot for the Employee and Date')"
            ]
          },
          "metadata": {
            "tags": []
          },
          "execution_count": 23
        },
        {
          "output_type": "display_data",
          "data": {
            "image/png": "[encoded data removed]",
            "text/plain": [
              "<Figure size 563.375x360 with 1 Axes>"
            ]
          },
          "metadata": {
            "tags": []
          }
        }
      ]
    }
  ]
}