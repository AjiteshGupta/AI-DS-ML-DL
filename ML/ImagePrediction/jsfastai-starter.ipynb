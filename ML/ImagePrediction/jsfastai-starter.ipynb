{
  "nbformat": 4,
  "nbformat_minor": 0,
  "metadata": {
    "kernelspec": {
      "name": "python3",
      "display_name": "Python 3"
    },
    "language_info": {
      "pygments_lexer": "ipython3",
      "nbconvert_exporter": "python",
      "version": "3.6.4",
      "file_extension": ".py",
      "codemirror_mode": {
        "name": "ipython",
        "version": 3
      },
      "name": "python",
      "mimetype": "text/x-python"
    },
    "colab": {
      "name": "jsfastai-starter.ipynb",
      "provenance": [],
      "include_colab_link": true
    },
    "accelerator": "GPU"
  },
  "cells": [
    {
      "cell_type": "markdown",
      "metadata": {
        "id": "view-in-github",
        "colab_type": "text"
      },
      "source": [
        "<a href=\"https://colab.research.google.com/github/SudhakarAnemu/AI-DS-ML-DL/blob/master/ML/ImagePrediction/jsfastai-starter.ipynb\" target=\"_parent\"><img src=\"https://colab.research.google.com/assets/colab-badge.svg\" alt=\"Open In Colab\"/></a>"
      ]
    },
    {
      "cell_type": "markdown",
      "metadata": {
        "id": "qtXbObgY_m_s",
        "colab_type": "text"
      },
      "source": [
        "# Image classification - Kaggle"
      ]
    },
    {
      "cell_type": "markdown",
      "metadata": {
        "id": "6sv5bn2gXqzF",
        "colab_type": "text"
      },
      "source": [
        "## 1. Import all Required packages"
      ]
    },
    {
      "cell_type": "code",
      "metadata": {
        "_uuid": "d629ff2d2480ee46fbb7e2d37f6b5fab8052498a",
        "_cell_guid": "79c7e3d0-c299-4dcb-8224-4455121ee9b0",
        "trusted": true,
        "id": "DfeU_mWW8FdS",
        "colab_type": "code",
        "outputId": "7a8976ad-af5f-425c-972b-9fe1a8bf7d36",
        "colab": {
          "base_uri": "https://localhost:8080/",
          "height": 34
        }
      },
      "source": [
        "from fastai.vision import *\n",
        "from fastai.metrics import accuracy\n",
        "from fastai.metrics import error_rate\n",
        "import time\n",
        "print(\"Import of requried Pkgs - Done : \", time.ctime())"
      ],
      "execution_count": 1,
      "outputs": [
        {
          "output_type": "stream",
          "text": [
            "Import of requried Pkgs - Done :  Wed Sep 18 14:10:00 2019\n"
          ],
          "name": "stdout"
        }
      ]
    },
    {
      "cell_type": "markdown",
      "metadata": {
        "id": "kj-NPnoyAFE3",
        "colab_type": "text"
      },
      "source": [
        "## 2. Copy data from GDrive to Notebook"
      ]
    },
    {
      "cell_type": "code",
      "metadata": {
        "id": "hTVA87jcAVHM",
        "colab_type": "code",
        "outputId": "2b587381-4711-4128-e6c8-a07b4d2a9f83",
        "colab": {
          "base_uri": "https://localhost:8080/",
          "height": 125
        }
      },
      "source": [
        "from google.colab import drive\n",
        "drive.mount('/content/drive')"
      ],
      "execution_count": 2,
      "outputs": [
        {
          "output_type": "stream",
          "text": [
            "Go to this URL in a browser: https://accounts.google.com/o/oauth2/auth?client_id=947318989803-6bn6qk8qdgf4n4g3pfee6491hc0brc4i.apps.googleusercontent.com&redirect_uri=urn%3Aietf%3Awg%3Aoauth%3A2.0%3Aoob&scope=email%20https%3A%2F%2Fwww.googleapis.com%2Fauth%2Fdocs.test%20https%3A%2F%2Fwww.googleapis.com%2Fauth%2Fdrive%20https%3A%2F%2Fwww.googleapis.com%2Fauth%2Fdrive.photos.readonly%20https%3A%2F%2Fwww.googleapis.com%2Fauth%2Fpeopleapi.readonly&response_type=code\n",
            "\n",
            "Enter your authorization code:\n",
            "··········\n",
            "Mounted at /content/drive\n"
          ],
          "name": "stdout"
        }
      ]
    },
    {
      "cell_type": "code",
      "metadata": {
        "id": "7gnaftxPAJag",
        "colab_type": "code",
        "outputId": "97ab8e96-34fb-4119-e783-07280431a318",
        "colab": {
          "base_uri": "https://localhost:8080/",
          "height": 34
        }
      },
      "source": [
        "!ls drive/'My Drive'/images/"
      ],
      "execution_count": 3,
      "outputs": [
        {
          "output_type": "stream",
          "text": [
            "datakaggle.tar\tsample_submission.csv  test  train\n"
          ],
          "name": "stdout"
        }
      ]
    },
    {
      "cell_type": "code",
      "metadata": {
        "id": "5h72J5A_A18_",
        "colab_type": "code",
        "colab": {}
      },
      "source": [
        "# !mkdir -p 'drive/data'  # error - mkdir: cannot create directory ‘drive/data’: Operation not supported\n",
        "!mkdir -p data"
      ],
      "execution_count": 0,
      "outputs": []
    },
    {
      "cell_type": "code",
      "metadata": {
        "id": "czLSDX8ZA9go",
        "colab_type": "code",
        "outputId": "6fc6839b-3e8b-40e2-f74b-14dcfd5d7686",
        "colab": {
          "base_uri": "https://localhost:8080/",
          "height": 34
        }
      },
      "source": [
        "start_time = time.time()\n",
        "!cp -R drive/'My Drive'/images/datakaggle.tar data/\n",
        "print(\"--- %s mins ---\" % ((time.time() - start_time)/60))"
      ],
      "execution_count": 5,
      "outputs": [
        {
          "output_type": "stream",
          "text": [
            "--- 0.39810934861501057 mins ---\n"
          ],
          "name": "stdout"
        }
      ]
    },
    {
      "cell_type": "code",
      "metadata": {
        "id": "VZ8iqnUwCMWO",
        "colab_type": "code",
        "colab": {}
      },
      "source": [
        "!cp drive/'My Drive'/images/sample_submission.csv data/sample_submission.csv"
      ],
      "execution_count": 0,
      "outputs": []
    },
    {
      "cell_type": "code",
      "metadata": {
        "id": "_B1cW81_E9rx",
        "colab_type": "code",
        "outputId": "6974d82d-5662-43f1-c585-5548e3ce4b47",
        "colab": {
          "base_uri": "https://localhost:8080/",
          "height": 34
        }
      },
      "source": [
        "!ls data"
      ],
      "execution_count": 7,
      "outputs": [
        {
          "output_type": "stream",
          "text": [
            "datakaggle.tar\tsample_submission.csv\n"
          ],
          "name": "stdout"
        }
      ]
    },
    {
      "cell_type": "code",
      "metadata": {
        "id": "8TqV1bVgHLVo",
        "colab_type": "code",
        "colab": {}
      },
      "source": [
        "start_time = time.time()\n",
        "!tar -xvf data/datakaggle.tar\n",
        "print(\"--- %s mins ---\" % ((time.time() - start_time)/60))"
      ],
      "execution_count": 0,
      "outputs": []
    },
    {
      "cell_type": "code",
      "metadata": {
        "id": "NOde6HjgJJ1k",
        "colab_type": "code",
        "outputId": "8bdfba9d-924d-4605-daf7-471e131bd2c7",
        "colab": {
          "base_uri": "https://localhost:8080/",
          "height": 121
        }
      },
      "source": [
        "help(fit_one_cycle)"
      ],
      "execution_count": 0,
      "outputs": [
        {
          "output_type": "stream",
          "text": [
            "Help on function fit_one_cycle in module fastai.train:\n",
            "\n",
            "fit_one_cycle(learn:fastai.basic_train.Learner, cyc_len:int, max_lr:Union[float, Collection[float], slice]=slice(None, 0.003, None), moms:Tuple[float, float]=(0.95, 0.85), div_factor:float=25.0, pct_start:float=0.3, final_div:float=None, wd:float=None, callbacks:Union[Collection[fastai.callback.Callback], NoneType]=None, tot_epochs:int=None, start_epoch:int=None) -> None\n",
            "    Fit a model following the 1cycle policy.\n",
            "\n"
          ],
          "name": "stdout"
        }
      ]
    },
    {
      "cell_type": "markdown",
      "metadata": {
        "id": "aHWLvxkRaBHj",
        "colab_type": "text"
      },
      "source": [
        "### 2.1 Content of the folder - datakaggle"
      ]
    },
    {
      "cell_type": "code",
      "metadata": {
        "id": "0JxsSX0_Z0Us",
        "colab_type": "code",
        "outputId": "0dc9b487-4149-4473-bf8d-a61015ef8193",
        "colab": {
          "base_uri": "https://localhost:8080/",
          "height": 34
        }
      },
      "source": [
        "!ls datakaggle"
      ],
      "execution_count": 9,
      "outputs": [
        {
          "output_type": "stream",
          "text": [
            "sample_submission.csv  test  train\n"
          ],
          "name": "stdout"
        }
      ]
    },
    {
      "cell_type": "markdown",
      "metadata": {
        "id": "uMcww6zV8FdY",
        "colab_type": "text"
      },
      "source": [
        "## 3. Playing with the Data\n",
        "<br>Folder datakaggle has all required files and folders"
      ]
    },
    {
      "cell_type": "code",
      "metadata": {
        "trusted": true,
        "id": "yI2DHCND8Fde",
        "colab_type": "code",
        "outputId": "06b0a2cb-d9ce-40d3-ab53-64f798c10aae",
        "colab": {
          "base_uri": "https://localhost:8080/",
          "height": 34
        }
      },
      "source": [
        "!ls datakaggle"
      ],
      "execution_count": 10,
      "outputs": [
        {
          "output_type": "stream",
          "text": [
            "sample_submission.csv  test  train\n"
          ],
          "name": "stdout"
        }
      ]
    },
    {
      "cell_type": "code",
      "metadata": {
        "_uuid": "8f2839f25d086af736a60e9eeb907d3b93b6e0e5",
        "_cell_guid": "b1076dfc-b9ad-4769-8c92-a6c4dae69d19",
        "trusted": true,
        "id": "D5TAX4M28Fdh",
        "colab_type": "code",
        "outputId": "dca32767-b76f-4894-929a-048c7b98ab4e",
        "colab": {
          "base_uri": "https://localhost:8080/",
          "height": 34
        }
      },
      "source": [
        "DATA_DIR = Path('datakaggle')\n",
        "print(\"Data Dir(DATA_DIR): \", DATA_DIR)"
      ],
      "execution_count": 11,
      "outputs": [
        {
          "output_type": "stream",
          "text": [
            "Data Dir(DATA_DIR):  datakaggle\n"
          ],
          "name": "stdout"
        }
      ]
    },
    {
      "cell_type": "code",
      "metadata": {
        "trusted": true,
        "id": "1woZpABG8Fdp",
        "colab_type": "code",
        "outputId": "a7e0daf9-03b8-4eff-add9-1ee266c167b3",
        "colab": {
          "base_uri": "https://localhost:8080/",
          "height": 34
        }
      },
      "source": [
        "DATA_DIR/'train'"
      ],
      "execution_count": 12,
      "outputs": [
        {
          "output_type": "execute_result",
          "data": {
            "text/plain": [
              "PosixPath('datakaggle/train')"
            ]
          },
          "metadata": {
            "tags": []
          },
          "execution_count": 12
        }
      ]
    },
    {
      "cell_type": "code",
      "metadata": {
        "trusted": true,
        "id": "dJUkf3YD8Fdu",
        "colab_type": "code",
        "outputId": "3ebffa4e-b4ef-486e-c674-dbf8919fa7b8",
        "colab": {
          "base_uri": "https://localhost:8080/",
          "height": 72
        }
      },
      "source": [
        "bs = 64 #bs - Batch size\n",
        "print(\"Batch size is : \", bs)\n",
        "tfms = get_transforms(do_flip=False)\n",
        "print(\"tfms : \", tfms)"
      ],
      "execution_count": 13,
      "outputs": [
        {
          "output_type": "stream",
          "text": [
            "Batch size is :  64\n",
            "tfms :  ([RandTransform(tfm=TfmCrop (crop_pad), kwargs={'row_pct': (0, 1), 'col_pct': (0, 1), 'padding_mode': 'reflection'}, p=1.0, resolved={}, do_run=True, is_random=True, use_on_y=True), RandTransform(tfm=TfmCoord (symmetric_warp), kwargs={'magnitude': (-0.2, 0.2)}, p=0.75, resolved={}, do_run=True, is_random=True, use_on_y=True), RandTransform(tfm=TfmAffine (rotate), kwargs={'degrees': (-10.0, 10.0)}, p=0.75, resolved={}, do_run=True, is_random=True, use_on_y=True), RandTransform(tfm=TfmAffine (zoom), kwargs={'scale': (1.0, 1.1), 'row_pct': (0, 1), 'col_pct': (0, 1)}, p=0.75, resolved={}, do_run=True, is_random=True, use_on_y=True), RandTransform(tfm=TfmLighting (brightness), kwargs={'change': (0.4, 0.6)}, p=0.75, resolved={}, do_run=True, is_random=True, use_on_y=True), RandTransform(tfm=TfmLighting (contrast), kwargs={'scale': (0.8, 1.25)}, p=0.75, resolved={}, do_run=True, is_random=True, use_on_y=True)], [RandTransform(tfm=TfmCrop (crop_pad), kwargs={}, p=1.0, resolved={}, do_run=True, is_random=True, use_on_y=True)])\n"
          ],
          "name": "stdout"
        }
      ]
    },
    {
      "cell_type": "code",
      "metadata": {
        "trusted": true,
        "id": "GX8XRkxx8Fdy",
        "colab_type": "code",
        "outputId": "aca22d2b-1155-4567-e5b1-e6a9b773f64c",
        "colab": {
          "base_uri": "https://localhost:8080/",
          "height": 34
        }
      },
      "source": [
        "#data = ImageDataBunch.from_folder(DATA_DIR, valid_pct=0.2, ds_tfms=get_transforms(flip_vert=\"True\"), bs=64, size=224)\n",
        "data = ImageDataBunch.from_folder(DATA_DIR, valid_pct=0.2, ds_tfms=tfms, bs=10, size=50)\n",
        "print(\"ImageDataBunch - Done\")"
      ],
      "execution_count": 14,
      "outputs": [
        {
          "output_type": "stream",
          "text": [
            "ImageDataBunch - Done\n"
          ],
          "name": "stdout"
        }
      ]
    },
    {
      "cell_type": "code",
      "metadata": {
        "trusted": true,
        "id": "EYR8USqG8Fd2",
        "colab_type": "code",
        "colab": {}
      },
      "source": [
        "# help(get_tranforms()) # error"
      ],
      "execution_count": 0,
      "outputs": []
    },
    {
      "cell_type": "markdown",
      "metadata": {
        "id": "t8BW06m2cxbs",
        "colab_type": "text"
      },
      "source": [
        ""
      ]
    },
    {
      "cell_type": "code",
      "metadata": {
        "trusted": true,
        "id": "Km9Qwn7K8Fd7",
        "colab_type": "code",
        "outputId": "ce3a5bc0-499c-4b04-aed0-8ac018956870",
        "colab": {
          "base_uri": "https://localhost:8080/",
          "height": 441
        }
      },
      "source": [
        "data.show_batch(rows=3, figsize=(7,6))"
      ],
      "execution_count": 15,
      "outputs": [
        {
          "output_type": "display_data",
          "data": {
            "image/png": "[encoded data removed]",
            "text/plain": [
              "<Figure size 504x432 with 9 Axes>"
            ]
          },
          "metadata": {
            "tags": []
          }
        }
      ]
    },
    {
      "cell_type": "markdown",
      "metadata": {
        "id": "9FHTE8NZ8FeC",
        "colab_type": "text"
      },
      "source": [
        "## 4. Playing with Model - accuracy"
      ]
    },
    {
      "cell_type": "code",
      "metadata": {
        "trusted": true,
        "id": "bvdgzneV8FeD",
        "colab_type": "code",
        "outputId": "77db7d9e-fa58-450d-af56-8b03c8c2fc7f",
        "colab": {
          "base_uri": "https://localhost:8080/",
          "height": 34
        }
      },
      "source": [
        "# learn = cnn_learner(data, models.resnet50, pretrained=False, metrics=accuracy)\n",
        "learn = cnn_learner(data, models.resnet18, pretrained=False, metrics=accuracy)\n",
        "print(\"Learn - Done\")"
      ],
      "execution_count": 0,
      "outputs": [
        {
          "output_type": "stream",
          "text": [
            "Learn - Done\n"
          ],
          "name": "stdout"
        }
      ]
    },
    {
      "cell_type": "code",
      "metadata": {
        "trusted": true,
        "id": "ltJnWg2H8FeJ",
        "colab_type": "code",
        "colab": {}
      },
      "source": [
        "learn.model\n"
      ],
      "execution_count": 0,
      "outputs": []
    },
    {
      "cell_type": "code",
      "metadata": {
        "trusted": true,
        "id": "3NrmYner8FeP",
        "colab_type": "code",
        "outputId": "ef5a4d52-6d10-47ca-dd05-49f52eaccf55",
        "colab": {
          "base_uri": "https://localhost:8080/",
          "height": 50
        }
      },
      "source": [
        "start_time = time.time()\n",
        "learn.lr_find()\n",
        "print(\"--- %s mins ---\" % ((time.time() - start_time)/60))"
      ],
      "execution_count": 0,
      "outputs": [
        {
          "output_type": "display_data",
          "data": {
            "text/html": [
              ""
            ],
            "text/plain": [
              "<IPython.core.display.HTML object>"
            ]
          },
          "metadata": {
            "tags": []
          }
        },
        {
          "output_type": "stream",
          "text": [
            "LR Finder is complete, type {learner_name}.recorder.plot() to see the graph.\n",
            "--- 4.431972388426463 mins ---\n"
          ],
          "name": "stdout"
        }
      ]
    },
    {
      "cell_type": "code",
      "metadata": {
        "trusted": true,
        "id": "-1ddMhmw8FeT",
        "colab_type": "code",
        "outputId": "582eedf3-cb45-4f68-cb7e-16a1004dba45",
        "colab": {
          "base_uri": "https://localhost:8080/",
          "height": 283
        }
      },
      "source": [
        "learn.recorder.plot()"
      ],
      "execution_count": 0,
      "outputs": [
        {
          "output_type": "display_data",
          "data": {
            "image/png": "[encoded data removed]",
            "text/plain": [
              "<Figure size 432x288 with 1 Axes>"
            ]
          },
          "metadata": {
            "tags": []
          }
        }
      ]
    },
    {
      "cell_type": "code",
      "metadata": {
        "trusted": true,
        "id": "nq-5LsfD8FeW",
        "colab_type": "code",
        "colab": {}
      },
      "source": [
        "# learn.fit_one_cycle(4, 3e-3)\n",
        "#learn.fit_one_cycle(4, 1e-01)"
      ],
      "execution_count": 0,
      "outputs": []
    },
    {
      "cell_type": "code",
      "metadata": {
        "id": "2H1EmBg5zHAc",
        "colab_type": "code",
        "outputId": "d4ab56c3-6233-4187-934b-7d1fb64d5ff9",
        "colab": {
          "base_uri": "https://localhost:8080/",
          "height": 106
        }
      },
      "source": [
        "learn.fit_one_cycle(2)"
      ],
      "execution_count": 0,
      "outputs": [
        {
          "output_type": "display_data",
          "data": {
            "text/html": [
              "<table border=\"1\" class=\"dataframe\">\n",
              "  <thead>\n",
              "    <tr style=\"text-align: left;\">\n",
              "      <th>epoch</th>\n",
              "      <th>train_loss</th>\n",
              "      <th>valid_loss</th>\n",
              "      <th>accuracy</th>\n",
              "      <th>time</th>\n",
              "    </tr>\n",
              "  </thead>\n",
              "  <tbody>\n",
              "    <tr>\n",
              "      <td>0</td>\n",
              "      <td>3.424408</td>\n",
              "      <td>2.964592</td>\n",
              "      <td>0.223030</td>\n",
              "      <td>05:55</td>\n",
              "    </tr>\n",
              "    <tr>\n",
              "      <td>1</td>\n",
              "      <td>3.014771</td>\n",
              "      <td>2.664442</td>\n",
              "      <td>0.256364</td>\n",
              "      <td>05:53</td>\n",
              "    </tr>\n",
              "  </tbody>\n",
              "</table>"
            ],
            "text/plain": [
              "<IPython.core.display.HTML object>"
            ]
          },
          "metadata": {
            "tags": []
          }
        }
      ]
    },
    {
      "cell_type": "code",
      "metadata": {
        "id": "5tYE6rAw2p1J",
        "colab_type": "code",
        "colab": {}
      },
      "source": [
        "learn.unfreeze()\n",
        "# learn.fit_one_cycle(3, max_lr=slice(1e-6,1e-2))\n",
        "# learn.fit_one_cycle(1, 1e-6)\n",
        "learn.fit_one_cycle(2)"
      ],
      "execution_count": 0,
      "outputs": []
    },
    {
      "cell_type": "code",
      "metadata": {
        "id": "zWZLdWaLbXwa",
        "colab_type": "code",
        "colab": {}
      },
      "source": [
        "# learn.fit_one_cycle(20)"
      ],
      "execution_count": 0,
      "outputs": []
    },
    {
      "cell_type": "code",
      "metadata": {
        "trusted": true,
        "id": "TP6ho7bh8Fea",
        "colab_type": "code",
        "colab": {}
      },
      "source": [
        "# Save the model\n",
        "learn.save('simple-model')"
      ],
      "execution_count": 0,
      "outputs": []
    },
    {
      "cell_type": "code",
      "metadata": {
        "trusted": true,
        "id": "2s7mb6IC8Fed",
        "colab_type": "code",
        "colab": {}
      },
      "source": [
        "# Load the model\n",
        "learn.load('simple-model');"
      ],
      "execution_count": 0,
      "outputs": []
    },
    {
      "cell_type": "markdown",
      "metadata": {
        "id": "fs6Ui0_Z46yL",
        "colab_type": "text"
      },
      "source": [
        "## 5. Playing with Model - error_rate"
      ]
    },
    {
      "cell_type": "code",
      "metadata": {
        "id": "JHRV82xR5IsA",
        "colab_type": "code",
        "outputId": "d9505ca3-70bf-4b01-e128-e173100988a3",
        "colab": {
          "base_uri": "https://localhost:8080/",
          "height": 34
        }
      },
      "source": [
        "learn = cnn_learner(data, models.resnet18, pretrained=False, metrics=error_rate)\n",
        "print(\"Learn - Done\")"
      ],
      "execution_count": 16,
      "outputs": [
        {
          "output_type": "stream",
          "text": [
            "Learn - Done\n"
          ],
          "name": "stdout"
        }
      ]
    },
    {
      "cell_type": "code",
      "metadata": {
        "id": "cyoIhyUd5PeX",
        "colab_type": "code",
        "colab": {}
      },
      "source": [
        "learn.model"
      ],
      "execution_count": 0,
      "outputs": []
    },
    {
      "cell_type": "code",
      "metadata": {
        "id": "PMD-fjO85R3Z",
        "colab_type": "code",
        "outputId": "9dbec742-ed2d-42cc-f7f4-69c4874d3d8e",
        "colab": {
          "base_uri": "https://localhost:8080/",
          "height": 52
        }
      },
      "source": [
        "start_time = time.time()\n",
        "learn.lr_find()\n",
        "print(\"--- %s mins ---\" % ((time.time() - start_time)/60))"
      ],
      "execution_count": 18,
      "outputs": [
        {
          "output_type": "display_data",
          "data": {
            "text/html": [
              ""
            ],
            "text/plain": [
              "<IPython.core.display.HTML object>"
            ]
          },
          "metadata": {
            "tags": []
          }
        },
        {
          "output_type": "stream",
          "text": [
            "LR Finder is complete, type {learner_name}.recorder.plot() to see the graph.\n",
            "--- 0.4705045223236084 mins ---\n"
          ],
          "name": "stdout"
        }
      ]
    },
    {
      "cell_type": "code",
      "metadata": {
        "id": "5yq22TN3upNq",
        "colab_type": "code",
        "colab": {
          "base_uri": "https://localhost:8080/",
          "height": 282
        },
        "outputId": "39544c56-e0f2-404a-e899-f21e96f27697"
      },
      "source": [
        "learn.recorder.plot()"
      ],
      "execution_count": 19,
      "outputs": [
        {
          "output_type": "display_data",
          "data": {
            "image/png": "[encoded data removed]",
            "text/plain": [
              "<Figure size 432x288 with 1 Axes>"
            ]
          },
          "metadata": {
            "tags": []
          }
        }
      ]
    },
    {
      "cell_type": "code",
      "metadata": {
        "id": "3CWEiYOdu5tm",
        "colab_type": "code",
        "colab": {
          "base_uri": "https://localhost:8080/",
          "height": 107
        },
        "outputId": "59eb759d-3e7a-4726-ab4d-76c243977ad4"
      },
      "source": [
        "# learn.fit_one_cycle(2)\n",
        "learn.fi"
      ],
      "execution_count": 20,
      "outputs": [
        {
          "output_type": "display_data",
          "data": {
            "text/html": [
              "<table border=\"1\" class=\"dataframe\">\n",
              "  <thead>\n",
              "    <tr style=\"text-align: left;\">\n",
              "      <th>epoch</th>\n",
              "      <th>train_loss</th>\n",
              "      <th>valid_loss</th>\n",
              "      <th>error_rate</th>\n",
              "      <th>time</th>\n",
              "    </tr>\n",
              "  </thead>\n",
              "  <tbody>\n",
              "    <tr>\n",
              "      <td>0</td>\n",
              "      <td>3.388295</td>\n",
              "      <td>3.029950</td>\n",
              "      <td>0.780000</td>\n",
              "      <td>04:01</td>\n",
              "    </tr>\n",
              "    <tr>\n",
              "      <td>1</td>\n",
              "      <td>2.955041</td>\n",
              "      <td>2.697986</td>\n",
              "      <td>0.739394</td>\n",
              "      <td>04:02</td>\n",
              "    </tr>\n",
              "  </tbody>\n",
              "</table>"
            ],
            "text/plain": [
              "<IPython.core.display.HTML object>"
            ]
          },
          "metadata": {
            "tags": []
          }
        }
      ]
    },
    {
      "cell_type": "markdown",
      "metadata": {
        "id": "Pw2x5lhO8Fek",
        "colab_type": "text"
      },
      "source": [
        "ea## Inferencerrn"
      ]
    },
    {
      "cell_type": "code",
      "metadata": {
        "trusted": true,
        "id": "hFGwrXX68Fem",
        "colab_type": "code",
        "outputId": "c649bd7f-23bb-40c1-8404-aa71877416f8",
        "colab": {
          "base_uri": "https://localhost:8080/",
          "height": 195
        }
      },
      "source": [
        "# Load submission file\n",
        "sample_df = pd.read_csv(DATA_DIR/'sample_submission.csv')\n",
        "sample_df.head()"
      ],
      "execution_count": 0,
      "outputs": [
        {
          "output_type": "execute_result",
          "data": {
            "text/html": [
              "<div>\n",
              "<style scoped>\n",
              "    .dataframe tbody tr th:only-of-type {\n",
              "        vertical-align: middle;\n",
              "    }\n",
              "\n",
              "    .dataframe tbody tr th {\n",
              "        vertical-align: top;\n",
              "    }\n",
              "\n",
              "    .dataframe thead th {\n",
              "        text-align: right;\n",
              "    }\n",
              "</style>\n",
              "<table border=\"1\" class=\"dataframe\">\n",
              "  <thead>\n",
              "    <tr style=\"text-align: right;\">\n",
              "      <th></th>\n",
              "      <th>id</th>\n",
              "      <th>predicted_class</th>\n",
              "    </tr>\n",
              "  </thead>\n",
              "  <tbody>\n",
              "    <tr>\n",
              "      <th>0</th>\n",
              "      <td>43de3c52-a0df-40fa-b10f-8d0db8c6ed36.jpg</td>\n",
              "      <td>Vincent_van_Gogh</td>\n",
              "    </tr>\n",
              "    <tr>\n",
              "      <th>1</th>\n",
              "      <td>501f0f8e-5bd2-465d-8774-ee14b8fc293e.jpg</td>\n",
              "      <td>Vincent_van_Gogh</td>\n",
              "    </tr>\n",
              "    <tr>\n",
              "      <th>2</th>\n",
              "      <td>164eb34f-31b9-42de-b3a8-4d75fd88558f.jpg</td>\n",
              "      <td>Vincent_van_Gogh</td>\n",
              "    </tr>\n",
              "    <tr>\n",
              "      <th>3</th>\n",
              "      <td>484857c2-534b-4099-814f-c66d64c06351.jpg</td>\n",
              "      <td>Vincent_van_Gogh</td>\n",
              "    </tr>\n",
              "    <tr>\n",
              "      <th>4</th>\n",
              "      <td>f656d82e-c9e7-436d-b7c6-4c33aab35ddf.jpg</td>\n",
              "      <td>Vincent_van_Gogh</td>\n",
              "    </tr>\n",
              "  </tbody>\n",
              "</table>\n",
              "</div>"
            ],
            "text/plain": [
              "                                         id   predicted_class\n",
              "0  43de3c52-a0df-40fa-b10f-8d0db8c6ed36.jpg  Vincent_van_Gogh\n",
              "1  501f0f8e-5bd2-465d-8774-ee14b8fc293e.jpg  Vincent_van_Gogh\n",
              "2  164eb34f-31b9-42de-b3a8-4d75fd88558f.jpg  Vincent_van_Gogh\n",
              "3  484857c2-534b-4099-814f-c66d64c06351.jpg  Vincent_van_Gogh\n",
              "4  f656d82e-c9e7-436d-b7c6-4c33aab35ddf.jpg  Vincent_van_Gogh"
            ]
          },
          "metadata": {
            "tags": []
          },
          "execution_count": 46
        }
      ]
    },
    {
      "cell_type": "code",
      "metadata": {
        "trusted": true,
        "id": "qvaiiZPJ8Fes",
        "colab_type": "code",
        "colab": {}
      },
      "source": [
        "# Generate test predictions\n",
        "learn.data.add_test(ImageList.from_df(sample_df,DATA_DIR,folder='test/test'))"
      ],
      "execution_count": 0,
      "outputs": []
    },
    {
      "cell_type": "code",
      "metadata": {
        "trusted": true,
        "id": "SqwYoypl8Fez",
        "colab_type": "code",
        "colab": {}
      },
      "source": [
        "# Load up submission file\n",
        "preds,y = learn.get_preds(DatasetType.Test)"
      ],
      "execution_count": 0,
      "outputs": []
    },
    {
      "cell_type": "code",
      "metadata": {
        "trusted": true,
        "id": "-OqVBU248Fe8",
        "colab_type": "code",
        "outputId": "908f7cbf-db45-4b47-a339-4ac416b745bb",
        "colab": {
          "base_uri": "https://localhost:8080/",
          "height": 185
        }
      },
      "source": [
        "# Convert predictions to classes\n",
        "pred_classes = [data.classes[c] for c in list(preds.argmax(dim=1).numpy())]\n",
        "pred_classes[:10]"
      ],
      "execution_count": 0,
      "outputs": [
        {
          "output_type": "execute_result",
          "data": {
            "text/plain": [
              "['Joan_Miro',\n",
              " 'Joan_Miro',\n",
              " 'Joan_Miro',\n",
              " 'Joan_Miro',\n",
              " 'Joan_Miro',\n",
              " 'Joan_Miro',\n",
              " 'Joan_Miro',\n",
              " 'Joan_Miro',\n",
              " 'Joan_Miro',\n",
              " 'Joan_Miro']"
            ]
          },
          "metadata": {
            "tags": []
          },
          "execution_count": 49
        }
      ]
    },
    {
      "cell_type": "code",
      "metadata": {
        "trusted": true,
        "id": "IfII_nOc8FfC",
        "colab_type": "code",
        "outputId": "448750f4-dd27-4dc3-e59d-f0779ecb05f1",
        "colab": {
          "base_uri": "https://localhost:8080/",
          "height": 195
        }
      },
      "source": [
        "# Add the prediction\n",
        "sample_df.predicted_class = pred_classes\n",
        "sample_df.head()"
      ],
      "execution_count": 0,
      "outputs": [
        {
          "output_type": "execute_result",
          "data": {
            "text/html": [
              "<div>\n",
              "<style scoped>\n",
              "    .dataframe tbody tr th:only-of-type {\n",
              "        vertical-align: middle;\n",
              "    }\n",
              "\n",
              "    .dataframe tbody tr th {\n",
              "        vertical-align: top;\n",
              "    }\n",
              "\n",
              "    .dataframe thead th {\n",
              "        text-align: right;\n",
              "    }\n",
              "</style>\n",
              "<table border=\"1\" class=\"dataframe\">\n",
              "  <thead>\n",
              "    <tr style=\"text-align: right;\">\n",
              "      <th></th>\n",
              "      <th>id</th>\n",
              "      <th>predicted_class</th>\n",
              "    </tr>\n",
              "  </thead>\n",
              "  <tbody>\n",
              "    <tr>\n",
              "      <th>0</th>\n",
              "      <td>43de3c52-a0df-40fa-b10f-8d0db8c6ed36.jpg</td>\n",
              "      <td>Joan_Miro</td>\n",
              "    </tr>\n",
              "    <tr>\n",
              "      <th>1</th>\n",
              "      <td>501f0f8e-5bd2-465d-8774-ee14b8fc293e.jpg</td>\n",
              "      <td>Joan_Miro</td>\n",
              "    </tr>\n",
              "    <tr>\n",
              "      <th>2</th>\n",
              "      <td>164eb34f-31b9-42de-b3a8-4d75fd88558f.jpg</td>\n",
              "      <td>Joan_Miro</td>\n",
              "    </tr>\n",
              "    <tr>\n",
              "      <th>3</th>\n",
              "      <td>484857c2-534b-4099-814f-c66d64c06351.jpg</td>\n",
              "      <td>Joan_Miro</td>\n",
              "    </tr>\n",
              "    <tr>\n",
              "      <th>4</th>\n",
              "      <td>f656d82e-c9e7-436d-b7c6-4c33aab35ddf.jpg</td>\n",
              "      <td>Joan_Miro</td>\n",
              "    </tr>\n",
              "  </tbody>\n",
              "</table>\n",
              "</div>"
            ],
            "text/plain": [
              "                                         id predicted_class\n",
              "0  43de3c52-a0df-40fa-b10f-8d0db8c6ed36.jpg       Joan_Miro\n",
              "1  501f0f8e-5bd2-465d-8774-ee14b8fc293e.jpg       Joan_Miro\n",
              "2  164eb34f-31b9-42de-b3a8-4d75fd88558f.jpg       Joan_Miro\n",
              "3  484857c2-534b-4099-814f-c66d64c06351.jpg       Joan_Miro\n",
              "4  f656d82e-c9e7-436d-b7c6-4c33aab35ddf.jpg       Joan_Miro"
            ]
          },
          "metadata": {
            "tags": []
          },
          "execution_count": 50
        }
      ]
    },
    {
      "cell_type": "code",
      "metadata": {
        "trusted": true,
        "id": "v-Hhv0M_8FfJ",
        "colab_type": "code",
        "colab": {}
      },
      "source": [
        "# Save the submission file\n",
        "sample_df.to_csv('submission2.csv',index=False)\n",
        "\n",
        "from IPython.display import FileLink\n",
        "FileLink('submission2.csv')"
      ],
      "execution_count": 0,
      "outputs": []
    },
    {
      "cell_type": "code",
      "metadata": {
        "trusted": true,
        "id": "Vvppd4Ni8FfM",
        "colab_type": "code",
        "outputId": "fc5cb1ad-4b5e-4a5e-f6a0-c29a30b53070",
        "colab": {
          "base_uri": "https://localhost:8080/",
          "height": 34
        }
      },
      "source": [
        "# Clean up (for commit)\n",
        "!cp -R data/models models # Move the models out\n",
        "!rm -rf data # Delete the data"
      ],
      "execution_count": 0,
      "outputs": [
        {
          "output_type": "stream",
          "text": [
            "cp: cannot stat 'data/models': No such file or directory\n"
          ],
          "name": "stdout"
        }
      ]
    }
  ]
}