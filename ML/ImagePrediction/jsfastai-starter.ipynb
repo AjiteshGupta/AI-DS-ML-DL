{
  "nbformat": 4,
  "nbformat_minor": 0,
  "metadata": {
    "kernelspec": {
      "name": "python3",
      "display_name": "Python 3"
    },
    "language_info": {
      "pygments_lexer": "ipython3",
      "nbconvert_exporter": "python",
      "version": "3.6.4",
      "file_extension": ".py",
      "codemirror_mode": {
        "name": "ipython",
        "version": 3
      },
      "name": "python",
      "mimetype": "text/x-python"
    },
    "colab": {
      "name": "jsfastai-starter.ipynb",
      "version": "0.3.2",
      "provenance": [],
      "toc_visible": true
    },
    "accelerator": "GPU"
  },
  "cells": [
    {
      "cell_type": "markdown",
      "metadata": {
        "id": "qtXbObgY_m_s",
        "colab_type": "text"
      },
      "source": [
        "# Image classification - Kaggle"
      ]
    },
    {
      "cell_type": "code",
      "metadata": {
        "_uuid": "d629ff2d2480ee46fbb7e2d37f6b5fab8052498a",
        "_cell_guid": "79c7e3d0-c299-4dcb-8224-4455121ee9b0",
        "trusted": true,
        "id": "DfeU_mWW8FdS",
        "colab_type": "code",
        "colab": {
          "base_uri": "https://localhost:8080/",
          "height": 34
        },
        "outputId": "08d6097b-4b0f-46c6-80e2-ae100b2bc7fb"
      },
      "source": [
        "from fastai.vision import *\n",
        "from fastai.metrics import accuracy\n",
        "import time\n",
        "print(\"Import of requried Pkgs - Done\")"
      ],
      "execution_count": 15,
      "outputs": [
        {
          "output_type": "stream",
          "text": [
            "Import of requried Pkgs - Done\n"
          ],
          "name": "stdout"
        }
      ]
    },
    {
      "cell_type": "markdown",
      "metadata": {
        "id": "kj-NPnoyAFE3",
        "colab_type": "text"
      },
      "source": [
        "# Copy data from GDrive to Notebook"
      ]
    },
    {
      "cell_type": "code",
      "metadata": {
        "id": "hTVA87jcAVHM",
        "colab_type": "code",
        "colab": {
          "base_uri": "https://localhost:8080/",
          "height": 121
        },
        "outputId": "8d810afd-963e-458c-970e-292d082b8077"
      },
      "source": [
        "from google.colab import drive\n",
        "drive.mount('/content/drive')"
      ],
      "execution_count": 2,
      "outputs": [
        {
          "output_type": "stream",
          "text": [
            "Go to this URL in a browser: https://accounts.google.com/o/oauth2/auth?client_id=947318989803-6bn6qk8qdgf4n4g3pfee6491hc0brc4i.apps.googleusercontent.com&redirect_uri=urn%3Aietf%3Awg%3Aoauth%3A2.0%3Aoob&scope=email%20https%3A%2F%2Fwww.googleapis.com%2Fauth%2Fdocs.test%20https%3A%2F%2Fwww.googleapis.com%2Fauth%2Fdrive%20https%3A%2F%2Fwww.googleapis.com%2Fauth%2Fdrive.photos.readonly%20https%3A%2F%2Fwww.googleapis.com%2Fauth%2Fpeopleapi.readonly&response_type=code\n",
            "\n",
            "Enter your authorization code:\n",
            "··········\n",
            "Mounted at /content/drive\n"
          ],
          "name": "stdout"
        }
      ]
    },
    {
      "cell_type": "code",
      "metadata": {
        "id": "7gnaftxPAJag",
        "colab_type": "code",
        "colab": {
          "base_uri": "https://localhost:8080/",
          "height": 34
        },
        "outputId": "8c262e33-527c-4c22-fd08-4409e78e97cc"
      },
      "source": [
        "!ls drive/'My Drive'/images/"
      ],
      "execution_count": 24,
      "outputs": [
        {
          "output_type": "stream",
          "text": [
            "sample_submission.csv  test  train\n"
          ],
          "name": "stdout"
        }
      ]
    },
    {
      "cell_type": "code",
      "metadata": {
        "id": "5h72J5A_A18_",
        "colab_type": "code",
        "colab": {
          "base_uri": "https://localhost:8080/",
          "height": 34
        },
        "outputId": "15f096bb-abd6-4650-ce25-a5c6f38341ce"
      },
      "source": [
        "# !mkdir -p 'drive/data'  # error - mkdir: cannot create directory ‘drive/data’: Operation not supported\n",
        "!mkdir -p data"
      ],
      "execution_count": 13,
      "outputs": [
        {
          "output_type": "stream",
          "text": [
            "mkdir: cannot create directory ‘drive/data’: Operation not supported\n"
          ],
          "name": "stdout"
        }
      ]
    },
    {
      "cell_type": "code",
      "metadata": {
        "id": "czLSDX8ZA9go",
        "colab_type": "code",
        "colab": {
          "base_uri": "https://localhost:8080/",
          "height": 50
        },
        "outputId": "ad9c806f-1411-428a-d97f-a29a15bd496e"
      },
      "source": [
        "start_time = time.time()\n",
        "!cp -R drive/'My Drive'/images/train/train data/train\n",
        "print(\"--- %s seconds ---\" % ((time.time() - start_time)/60))"
      ],
      "execution_count": 19,
      "outputs": [
        {
          "output_type": "stream",
          "text": [
            "^C\n",
            "--- 8.426594285170237 seconds ---\n"
          ],
          "name": "stdout"
        }
      ]
    },
    {
      "cell_type": "code",
      "metadata": {
        "id": "VZ8iqnUwCMWO",
        "colab_type": "code",
        "colab": {}
      },
      "source": [
        "!cp drive/'My Drive'/images/sample_submission.csv data/sample_submission.csv"
      ],
      "execution_count": 0,
      "outputs": []
    },
    {
      "cell_type": "code",
      "metadata": {
        "id": "_B1cW81_E9rx",
        "colab_type": "code",
        "colab": {
          "base_uri": "https://localhost:8080/",
          "height": 34
        },
        "outputId": "2cd376ee-e096-43df-f5c7-0eda1add0458"
      },
      "source": [
        "!ls"
      ],
      "execution_count": 20,
      "outputs": [
        {
          "output_type": "stream",
          "text": [
            "data  drive  dsnet-kaggledays-hackathon.zip  sample_data\n"
          ],
          "name": "stdout"
        }
      ]
    },
    {
      "cell_type": "code",
      "metadata": {
        "id": "8TqV1bVgHLVo",
        "colab_type": "code",
        "colab": {
          "base_uri": "https://localhost:8080/",
          "height": 168
        },
        "outputId": "838a74fc-4f6f-48ef-8667-5f93bf066c78"
      },
      "source": [
        "!tar -xvf datakaggle.tar"
      ],
      "execution_count": 22,
      "outputs": [
        {
          "output_type": "stream",
          "text": [
            "datakaggle/train/train/Edvard_Munch/Edvard_Munch_4.jpg\n",
            "datakaggle/test/test/892dbf13-27d0-443e-a6e3-c0b81f2c0c57.jpg\n",
            "datakaggle/train/train/Hieronymus_Bosch/Hieronymus_Bosch_85.jpg\n",
            "datakaggle/test/test/726377f4-0f12-4205-a5c1-507dba76254b.jpg\n",
            "datakaggle/train/train/Francisco_Goya/Francisco_Goya_228.jpg\n",
            "datakaggle/test/test/a501b83c-e241-4611-92ae-9767b49e8be1.jpg\n",
            "tar: Unexpected EOF in archive\n",
            "tar: rmtlseek not stopped at a record boundary\n",
            "tar: Error is not recoverable: exiting now\n"
          ],
          "name": "stdout"
        }
      ]
    },
    {
      "cell_type": "code",
      "metadata": {
        "id": "NOde6HjgJJ1k",
        "colab_type": "code",
        "colab": {
          "base_uri": "https://localhost:8080/",
          "height": 121
        },
        "outputId": "49e1a8b6-d7c4-446a-a3e4-71d544f52123"
      },
      "source": [
        "help(fit_one_cycle)"
      ],
      "execution_count": 23,
      "outputs": [
        {
          "output_type": "stream",
          "text": [
            "Help on function fit_one_cycle in module fastai.train:\n",
            "\n",
            "fit_one_cycle(learn:fastai.basic_train.Learner, cyc_len:int, max_lr:Union[float, Collection[float], slice]=slice(None, 0.003, None), moms:Tuple[float, float]=(0.95, 0.85), div_factor:float=25.0, pct_start:float=0.3, final_div:float=None, wd:float=None, callbacks:Union[Collection[fastai.callback.Callback], NoneType]=None, tot_epochs:int=None, start_epoch:int=None) -> None\n",
            "    Fit a model following the 1cycle policy.\n",
            "\n"
          ],
          "name": "stdout"
        }
      ]
    },
    {
      "cell_type": "markdown",
      "metadata": {
        "id": "uMcww6zV8FdY",
        "colab_type": "text"
      },
      "source": [
        "## Data"
      ]
    },
    {
      "cell_type": "code",
      "metadata": {
        "trusted": true,
        "id": "5MViJqWy8FdZ",
        "colab_type": "code",
        "colab": {}
      },
      "source": [
        "# # Copy for FastAI\n",
        "# !mkdir -p data\n",
        "# !cp -R ../input/dsnet-kaggledays-hackathon/train/train data/train\n",
        "# # !cp -R ../input/dsnet-kaggledays-hackathon/test/test data/test\n",
        "# !cp ../input/dsnet-kaggledays-hackathon/sample_submission.csv data/sample_submission.csv"
      ],
      "execution_count": 0,
      "outputs": []
    },
    {
      "cell_type": "code",
      "metadata": {
        "trusted": true,
        "id": "yI2DHCND8Fde",
        "colab_type": "code",
        "colab": {}
      },
      "source": [
        "!ls data"
      ],
      "execution_count": 0,
      "outputs": []
    },
    {
      "cell_type": "code",
      "metadata": {
        "_uuid": "8f2839f25d086af736a60e9eeb907d3b93b6e0e5",
        "_cell_guid": "b1076dfc-b9ad-4769-8c92-a6c4dae69d19",
        "trusted": true,
        "id": "D5TAX4M28Fdh",
        "colab_type": "code",
        "colab": {}
      },
      "source": [
        "DATA_DIR = Path('data')"
      ],
      "execution_count": 0,
      "outputs": []
    },
    {
      "cell_type": "code",
      "metadata": {
        "trusted": true,
        "id": "DihYK6qc8Fdl",
        "colab_type": "code",
        "colab": {}
      },
      "source": [
        "?Path"
      ],
      "execution_count": 0,
      "outputs": []
    },
    {
      "cell_type": "code",
      "metadata": {
        "trusted": true,
        "id": "1woZpABG8Fdp",
        "colab_type": "code",
        "colab": {}
      },
      "source": [
        "DATA_DIR/'train'"
      ],
      "execution_count": 0,
      "outputs": []
    },
    {
      "cell_type": "code",
      "metadata": {
        "trusted": true,
        "id": "dJUkf3YD8Fdu",
        "colab_type": "code",
        "colab": {}
      },
      "source": [
        "bs = 64"
      ],
      "execution_count": 0,
      "outputs": []
    },
    {
      "cell_type": "code",
      "metadata": {
        "trusted": true,
        "id": "GX8XRkxx8Fdy",
        "colab_type": "code",
        "colab": {}
      },
      "source": [
        "data = ImageDataBunch.from_folder(DATA_DIR, valid_pct=0.2, ds_tfms=get_transforms(flip_vert=\"True\"), bs=180, size=64)"
      ],
      "execution_count": 0,
      "outputs": []
    },
    {
      "cell_type": "code",
      "metadata": {
        "trusted": true,
        "id": "EYR8USqG8Fd2",
        "colab_type": "code",
        "colab": {}
      },
      "source": [
        "?get_tranforms()"
      ],
      "execution_count": 0,
      "outputs": []
    },
    {
      "cell_type": "code",
      "metadata": {
        "trusted": true,
        "id": "Km9Qwn7K8Fd7",
        "colab_type": "code",
        "colab": {}
      },
      "source": [
        "data.show_batch(rows=3, figsize=(7,6))"
      ],
      "execution_count": 0,
      "outputs": []
    },
    {
      "cell_type": "markdown",
      "metadata": {
        "id": "9FHTE8NZ8FeC",
        "colab_type": "text"
      },
      "source": [
        "## Model"
      ]
    },
    {
      "cell_type": "code",
      "metadata": {
        "trusted": true,
        "id": "bvdgzneV8FeD",
        "colab_type": "code",
        "colab": {}
      },
      "source": [
        "learn = cnn_learner(data, models.resnet18, pretrained=False, metrics=accuracy)"
      ],
      "execution_count": 0,
      "outputs": []
    },
    {
      "cell_type": "code",
      "metadata": {
        "trusted": true,
        "id": "ltJnWg2H8FeJ",
        "colab_type": "code",
        "colab": {}
      },
      "source": [
        "learn.model"
      ],
      "execution_count": 0,
      "outputs": []
    },
    {
      "cell_type": "code",
      "metadata": {
        "trusted": true,
        "id": "3NrmYner8FeP",
        "colab_type": "code",
        "colab": {}
      },
      "source": [
        "learn.lr_find()"
      ],
      "execution_count": 0,
      "outputs": []
    },
    {
      "cell_type": "code",
      "metadata": {
        "trusted": true,
        "id": "-1ddMhmw8FeT",
        "colab_type": "code",
        "colab": {}
      },
      "source": [
        "learn.recorder.plot()"
      ],
      "execution_count": 0,
      "outputs": []
    },
    {
      "cell_type": "code",
      "metadata": {
        "trusted": true,
        "id": "nq-5LsfD8FeW",
        "colab_type": "code",
        "colab": {}
      },
      "source": [
        "learn.fit_one_cycle(4, 3e-3)"
      ],
      "execution_count": 0,
      "outputs": []
    },
    {
      "cell_type": "code",
      "metadata": {
        "trusted": true,
        "id": "TP6ho7bh8Fea",
        "colab_type": "code",
        "colab": {}
      },
      "source": [
        "# Save the model\n",
        "learn.save('simple-model')"
      ],
      "execution_count": 0,
      "outputs": []
    },
    {
      "cell_type": "code",
      "metadata": {
        "trusted": true,
        "id": "2s7mb6IC8Fed",
        "colab_type": "code",
        "colab": {}
      },
      "source": [
        "# Load the model\n",
        "learn.load('simple-model');"
      ],
      "execution_count": 0,
      "outputs": []
    },
    {
      "cell_type": "code",
      "metadata": {
        "trusted": true,
        "id": "va8wBgLL8Feh",
        "colab_type": "code",
        "colab": {}
      },
      "source": [
        "!cp -R ../input/dsnet-kaggledays-hackathon/test/test data/test"
      ],
      "execution_count": 0,
      "outputs": []
    },
    {
      "cell_type": "markdown",
      "metadata": {
        "id": "Pw2x5lhO8Fek",
        "colab_type": "text"
      },
      "source": [
        "## Inference"
      ]
    },
    {
      "cell_type": "code",
      "metadata": {
        "trusted": true,
        "id": "hFGwrXX68Fem",
        "colab_type": "code",
        "colab": {}
      },
      "source": [
        "# Load submission file\n",
        "sample_df = pd.read_csv(DATA_DIR/'sample_submission.csv')\n",
        "sample_df.head()"
      ],
      "execution_count": 0,
      "outputs": []
    },
    {
      "cell_type": "code",
      "metadata": {
        "trusted": true,
        "id": "qvaiiZPJ8Fes",
        "colab_type": "code",
        "colab": {}
      },
      "source": [
        "# Generate test predictions\n",
        "learn.data.add_test(ImageList.from_df(sample_df,DATA_DIR,folder='test'))"
      ],
      "execution_count": 0,
      "outputs": []
    },
    {
      "cell_type": "code",
      "metadata": {
        "trusted": true,
        "id": "SqwYoypl8Fez",
        "colab_type": "code",
        "colab": {}
      },
      "source": [
        "# Load up submission file\n",
        "preds,y = learn.get_preds(DatasetType.Test)"
      ],
      "execution_count": 0,
      "outputs": []
    },
    {
      "cell_type": "code",
      "metadata": {
        "trusted": true,
        "id": "-OqVBU248Fe8",
        "colab_type": "code",
        "colab": {}
      },
      "source": [
        "# Convert predictions to classes\n",
        "pred_classes = [data.classes[c] for c in list(preds.argmax(dim=1).numpy())]\n",
        "pred_classes[:10]"
      ],
      "execution_count": 0,
      "outputs": []
    },
    {
      "cell_type": "code",
      "metadata": {
        "trusted": true,
        "id": "IfII_nOc8FfC",
        "colab_type": "code",
        "colab": {}
      },
      "source": [
        "# Add the prediction\n",
        "sample_df.predicted_class = pred_classes\n",
        "sample_df.head()"
      ],
      "execution_count": 0,
      "outputs": []
    },
    {
      "cell_type": "code",
      "metadata": {
        "trusted": true,
        "id": "v-Hhv0M_8FfJ",
        "colab_type": "code",
        "colab": {}
      },
      "source": [
        "# Save the submission file\n",
        "sample_df.to_csv('submission.csv',index=False)\n",
        "\n",
        "from IPython.display import FileLink\n",
        "FileLink('submission.csv')"
      ],
      "execution_count": 0,
      "outputs": []
    },
    {
      "cell_type": "code",
      "metadata": {
        "trusted": true,
        "id": "Vvppd4Ni8FfM",
        "colab_type": "code",
        "colab": {}
      },
      "source": [
        "# Clean up (for commit)\n",
        "!cp -R data/models models # Move the models out\n",
        "!rm -rf data # Delete the data"
      ],
      "execution_count": 0,
      "outputs": []
    }
  ]
}