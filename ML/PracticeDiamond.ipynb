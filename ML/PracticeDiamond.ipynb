{
  "nbformat": 4,
  "nbformat_minor": 0,
  "metadata": {
    "colab": {
      "name": "PracticeDiamond.ipynb",
      "version": "0.3.2",
      "provenance": [],
      "toc_visible": true
    },
    "language_info": {
      "codemirror_mode": {
        "name": "ipython",
        "version": 3
      },
      "file_extension": ".py",
      "mimetype": "text/x-python",
      "name": "python",
      "nbconvert_exporter": "python",
      "pygments_lexer": "ipython3",
      "version": "3.6.3"
    },
    "kernelspec": {
      "display_name": "Python 3",
      "language": "python",
      "name": "python3"
    }
  },
  "cells": [
    {
      "cell_type": "markdown",
      "metadata": {
        "id": "lRzk5dVGdFOD",
        "colab_type": "text"
      },
      "source": [
        "# JS- Exploring Linear Regression with an Example. (Diamond)\n",
        "\n",
        "\n",
        "Scenario: We need to Predict the price of a Diamond by different features."
      ]
    },
    {
      "cell_type": "markdown",
      "metadata": {
        "id": "N0ap8wOLd0LF",
        "colab_type": "text"
      },
      "source": [
        "# Importing All required packages"
      ]
    },
    {
      "cell_type": "code",
      "metadata": {
        "id": "6pHkwQtgd4kU",
        "colab_type": "code",
        "colab": {
          "base_uri": "https://localhost:8080/",
          "height": 34
        },
        "outputId": "189a0ef6-1187-44d4-9e31-9b54fbd13cfc"
      },
      "source": [
        "import pandas as pd\n",
        "import seaborn as sns\n",
        "import matplotlib.pyplot as plt\n",
        "from sklearn import metrics\n",
        "import numpy as np\n",
        "# allow plots to appear direcly in the notebook\n",
        "%matplotlib inline\n",
        "print(\"Import completed\")"
      ],
      "execution_count": 3,
      "outputs": [
        {
          "output_type": "stream",
          "text": [
            "Import completed\n"
          ],
          "name": "stdout"
        }
      ]
    },
    {
      "cell_type": "markdown",
      "metadata": {
        "id": "slbcOcjbeFG5",
        "colab_type": "text"
      },
      "source": [
        "# Importing the Dataset (Diamond)"
      ]
    },
    {
      "cell_type": "code",
      "metadata": {
        "id": "9RD9B2tOeKp5",
        "colab_type": "code",
        "colab": {
          "base_uri": "https://localhost:8080/",
          "height": 204
        },
        "outputId": "18e99bcb-3698-4009-9184-c821eef2fa5b"
      },
      "source": [
        "ds = pd.read_csv('https://raw.githubusercontent.com/SudhakarAnemu/Term-2/master/Data/diamonds.csv', index_col=0)\n",
        "ds.head()"
      ],
      "execution_count": 4,
      "outputs": [
        {
          "output_type": "execute_result",
          "data": {
            "text/html": [
              "<div>\n",
              "<style scoped>\n",
              "    .dataframe tbody tr th:only-of-type {\n",
              "        vertical-align: middle;\n",
              "    }\n",
              "\n",
              "    .dataframe tbody tr th {\n",
              "        vertical-align: top;\n",
              "    }\n",
              "\n",
              "    .dataframe thead th {\n",
              "        text-align: right;\n",
              "    }\n",
              "</style>\n",
              "<table border=\"1\" class=\"dataframe\">\n",
              "  <thead>\n",
              "    <tr style=\"text-align: right;\">\n",
              "      <th></th>\n",
              "      <th>carat</th>\n",
              "      <th>cut</th>\n",
              "      <th>color</th>\n",
              "      <th>clarity</th>\n",
              "      <th>depth</th>\n",
              "      <th>table</th>\n",
              "      <th>price</th>\n",
              "      <th>x</th>\n",
              "      <th>y</th>\n",
              "      <th>z</th>\n",
              "    </tr>\n",
              "  </thead>\n",
              "  <tbody>\n",
              "    <tr>\n",
              "      <th>1</th>\n",
              "      <td>0.23</td>\n",
              "      <td>Ideal</td>\n",
              "      <td>E</td>\n",
              "      <td>SI2</td>\n",
              "      <td>61.5</td>\n",
              "      <td>55.0</td>\n",
              "      <td>326</td>\n",
              "      <td>3.95</td>\n",
              "      <td>3.98</td>\n",
              "      <td>2.43</td>\n",
              "    </tr>\n",
              "    <tr>\n",
              "      <th>2</th>\n",
              "      <td>0.21</td>\n",
              "      <td>Premium</td>\n",
              "      <td>E</td>\n",
              "      <td>SI1</td>\n",
              "      <td>59.8</td>\n",
              "      <td>61.0</td>\n",
              "      <td>326</td>\n",
              "      <td>3.89</td>\n",
              "      <td>3.84</td>\n",
              "      <td>2.31</td>\n",
              "    </tr>\n",
              "    <tr>\n",
              "      <th>3</th>\n",
              "      <td>0.23</td>\n",
              "      <td>Good</td>\n",
              "      <td>E</td>\n",
              "      <td>VS1</td>\n",
              "      <td>56.9</td>\n",
              "      <td>65.0</td>\n",
              "      <td>327</td>\n",
              "      <td>4.05</td>\n",
              "      <td>4.07</td>\n",
              "      <td>2.31</td>\n",
              "    </tr>\n",
              "    <tr>\n",
              "      <th>4</th>\n",
              "      <td>0.29</td>\n",
              "      <td>Premium</td>\n",
              "      <td>I</td>\n",
              "      <td>VS2</td>\n",
              "      <td>62.4</td>\n",
              "      <td>58.0</td>\n",
              "      <td>334</td>\n",
              "      <td>4.20</td>\n",
              "      <td>4.23</td>\n",
              "      <td>2.63</td>\n",
              "    </tr>\n",
              "    <tr>\n",
              "      <th>5</th>\n",
              "      <td>0.31</td>\n",
              "      <td>Good</td>\n",
              "      <td>J</td>\n",
              "      <td>SI2</td>\n",
              "      <td>63.3</td>\n",
              "      <td>58.0</td>\n",
              "      <td>335</td>\n",
              "      <td>4.34</td>\n",
              "      <td>4.35</td>\n",
              "      <td>2.75</td>\n",
              "    </tr>\n",
              "  </tbody>\n",
              "</table>\n",
              "</div>"
            ],
            "text/plain": [
              "   carat      cut color clarity  depth  table  price     x     y     z\n",
              "1   0.23    Ideal     E     SI2   61.5   55.0    326  3.95  3.98  2.43\n",
              "2   0.21  Premium     E     SI1   59.8   61.0    326  3.89  3.84  2.31\n",
              "3   0.23     Good     E     VS1   56.9   65.0    327  4.05  4.07  2.31\n",
              "4   0.29  Premium     I     VS2   62.4   58.0    334  4.20  4.23  2.63\n",
              "5   0.31     Good     J     SI2   63.3   58.0    335  4.34  4.35  2.75"
            ]
          },
          "metadata": {
            "tags": []
          },
          "execution_count": 4
        }
      ]
    },
    {
      "cell_type": "markdown",
      "metadata": {
        "id": "W7eTqDplgPXS",
        "colab_type": "text"
      },
      "source": [
        "Price is the dependent variable where we need to predict this based on independent features like carat, cut, coloer, clarity, depth and table."
      ]
    },
    {
      "cell_type": "markdown",
      "metadata": {
        "id": "iBIBJkJagavi",
        "colab_type": "text"
      },
      "source": [
        "# # EDA (Exploratory Data Analysis)"
      ]
    },
    {
      "cell_type": "code",
      "metadata": {
        "id": "2pNxw7GCgcvF",
        "colab_type": "code",
        "colab": {
          "base_uri": "https://localhost:8080/",
          "height": 836
        },
        "outputId": "6fcd23cb-49ca-4622-eeda-f1a8e3c3baf8"
      },
      "source": [
        "print(\"~~~~~~~~~~~~~~~~~~~~~~~~~~~~~~~~~~~~~~~~~~~~~~~~~~~~~~~~~\")\n",
        "print(\"Shape of the Dataset : \", ds.shape)\n",
        "print(\"~~~~~~~~~~~~~~~~~~~~~~~~~~~~~~~~~~~~~~~~~~~~~~~~~~~~~~~~~\")\n",
        "print(\"Columns of the data frame : \",ds.columns)\n",
        "print(\"~~~~~~~~~~~~~~~~~~~~~~~~~~~~~~~~~~~~~~~~~~~~~~~~~~~~~~~~~\")\n",
        "print(\"Info of the Dataset : \", ds.info())\n",
        "print(\"~~~~~~~~~~~~~~~~~~~~~~~~~~~~~~~~~~~~~~~~~~~~~~~~~~~~~~~~~\")\n",
        "print(\"Description of the Dataset : \", ds.describe())\n",
        "print(\"~~~~~~~~~~~~~~~~~~~~~~~~~~~~~~~~~~~~~~~~~~~~~~~~~~~~~~~~~\")\n",
        "print(\"Verify the count of Null\", ds.isnull().sum())"
      ],
      "execution_count": 8,
      "outputs": [
        {
          "output_type": "stream",
          "text": [
            "~~~~~~~~~~~~~~~~~~~~~~~~~~~~~~~~~~~~~~~~~~~~~~~~~~~~~~~~~\n",
            "Shape of the Dataset :  (53940, 10)\n",
            "~~~~~~~~~~~~~~~~~~~~~~~~~~~~~~~~~~~~~~~~~~~~~~~~~~~~~~~~~\n",
            "Columns of the data frame :  Index(['carat', 'cut', 'color', 'clarity', 'depth', 'table', 'price', 'x', 'y',\n",
            "       'z'],\n",
            "      dtype='object')\n",
            "~~~~~~~~~~~~~~~~~~~~~~~~~~~~~~~~~~~~~~~~~~~~~~~~~~~~~~~~~\n",
            "<class 'pandas.core.frame.DataFrame'>\n",
            "Int64Index: 53940 entries, 1 to 53940\n",
            "Data columns (total 10 columns):\n",
            "carat      53940 non-null float64\n",
            "cut        53940 non-null object\n",
            "color      53940 non-null object\n",
            "clarity    53940 non-null object\n",
            "depth      53940 non-null float64\n",
            "table      53940 non-null float64\n",
            "price      53940 non-null int64\n",
            "x          53940 non-null float64\n",
            "y          53940 non-null float64\n",
            "z          53940 non-null float64\n",
            "dtypes: float64(6), int64(1), object(3)\n",
            "memory usage: 4.5+ MB\n",
            "Info of the Dataset :  None\n",
            "~~~~~~~~~~~~~~~~~~~~~~~~~~~~~~~~~~~~~~~~~~~~~~~~~~~~~~~~~\n",
            "Description of the Dataset :                carat         depth  ...             y             z\n",
            "count  53940.000000  53940.000000  ...  53940.000000  53940.000000\n",
            "mean       0.797940     61.749405  ...      5.734526      3.538734\n",
            "std        0.474011      1.432621  ...      1.142135      0.705699\n",
            "min        0.200000     43.000000  ...      0.000000      0.000000\n",
            "25%        0.400000     61.000000  ...      4.720000      2.910000\n",
            "50%        0.700000     61.800000  ...      5.710000      3.530000\n",
            "75%        1.040000     62.500000  ...      6.540000      4.040000\n",
            "max        5.010000     79.000000  ...     58.900000     31.800000\n",
            "\n",
            "[8 rows x 7 columns]\n",
            "~~~~~~~~~~~~~~~~~~~~~~~~~~~~~~~~~~~~~~~~~~~~~~~~~~~~~~~~~\n",
            "Verify the count of Null carat      0\n",
            "cut        0\n",
            "color      0\n",
            "clarity    0\n",
            "depth      0\n",
            "table      0\n",
            "price      0\n",
            "x          0\n",
            "y          0\n",
            "z          0\n",
            "dtype: int64\n"
          ],
          "name": "stdout"
        }
      ]
    }
  ]
}