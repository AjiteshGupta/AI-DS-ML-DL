{
  "nbformat": 4,
  "nbformat_minor": 0,
  "metadata": {
    "colab": {
      "name": "PracticeDiamond.ipynb",
      "version": "0.3.2",
      "provenance": []
    },
    "language_info": {
      "codemirror_mode": {
        "name": "ipython",
        "version": 3
      },
      "file_extension": ".py",
      "mimetype": "text/x-python",
      "name": "python",
      "nbconvert_exporter": "python",
      "pygments_lexer": "ipython3",
      "version": "3.6.3"
    },
    "kernelspec": {
      "display_name": "Python 3",
      "language": "python",
      "name": "python3"
    }
  },
  "cells": [
    {
      "cell_type": "markdown",
      "metadata": {
        "id": "lRzk5dVGdFOD",
        "colab_type": "text"
      },
      "source": [
        "# Exploring Linear Regression with an Example. (Diamond)\n",
        "\n",
        "\n",
        "Scenario: We need to Predict the price of a Diamond by different features."
      ]
    },
    {
      "cell_type": "markdown",
      "metadata": {
        "id": "N0ap8wOLd0LF",
        "colab_type": "text"
      },
      "source": [
        "# Importing All required packages"
      ]
    },
    {
      "cell_type": "code",
      "metadata": {
        "id": "6pHkwQtgd4kU",
        "colab_type": "code",
        "outputId": "efe38b3a-50f1-4253-cc2d-fa3c4d82eacb",
        "colab": {
          "base_uri": "https://localhost:8080/",
          "height": 34
        }
      },
      "source": [
        "import pandas as pd\n",
        "import seaborn as sns\n",
        "import matplotlib.pyplot as plt\n",
        "from sklearn import metrics\n",
        "import numpy as np\n",
        "import plotly \n",
        "import plotly.plotly as py\n",
        "import plotly.graph_objs as go\n",
        "# allow plots to appear direcly in the notebook\n",
        "%matplotlib inline\n",
        "plotly.tools.set_credentials_file(username='sudhakar.anemu', api_key='gsV5SUHPip75363I87dw')\n",
        "print(\"Import completed\")"
      ],
      "execution_count": 19,
      "outputs": [
        {
          "output_type": "stream",
          "text": [
            "Import completed\n"
          ],
          "name": "stdout"
        }
      ]
    },
    {
      "cell_type": "code",
      "metadata": {
        "id": "weISEsPZ8QUF",
        "colab_type": "code",
        "colab": {}
      },
      "source": [
        "#pip install plotly "
      ],
      "execution_count": 0,
      "outputs": []
    },
    {
      "cell_type": "markdown",
      "metadata": {
        "id": "slbcOcjbeFG5",
        "colab_type": "text"
      },
      "source": [
        "# Importing the Dataset (Diamond)"
      ]
    },
    {
      "cell_type": "code",
      "metadata": {
        "id": "9RD9B2tOeKp5",
        "colab_type": "code",
        "outputId": "de89dd72-cc9d-454d-d83c-7fbcf2efb400",
        "colab": {
          "base_uri": "https://localhost:8080/",
          "height": 195
        }
      },
      "source": [
        "ds = pd.read_csv('https://raw.githubusercontent.com/SudhakarAnemu/Term-2/master/Data/diamonds.csv', index_col=0)\n",
        "ds.head()"
      ],
      "execution_count": 21,
      "outputs": [
        {
          "output_type": "execute_result",
          "data": {
            "text/html": [
              "<div>\n",
              "<style scoped>\n",
              "    .dataframe tbody tr th:only-of-type {\n",
              "        vertical-align: middle;\n",
              "    }\n",
              "\n",
              "    .dataframe tbody tr th {\n",
              "        vertical-align: top;\n",
              "    }\n",
              "\n",
              "    .dataframe thead th {\n",
              "        text-align: right;\n",
              "    }\n",
              "</style>\n",
              "<table border=\"1\" class=\"dataframe\">\n",
              "  <thead>\n",
              "    <tr style=\"text-align: right;\">\n",
              "      <th></th>\n",
              "      <th>carat</th>\n",
              "      <th>cut</th>\n",
              "      <th>color</th>\n",
              "      <th>clarity</th>\n",
              "      <th>depth</th>\n",
              "      <th>table</th>\n",
              "      <th>price</th>\n",
              "      <th>x</th>\n",
              "      <th>y</th>\n",
              "      <th>z</th>\n",
              "    </tr>\n",
              "  </thead>\n",
              "  <tbody>\n",
              "    <tr>\n",
              "      <th>1</th>\n",
              "      <td>0.23</td>\n",
              "      <td>Ideal</td>\n",
              "      <td>E</td>\n",
              "      <td>SI2</td>\n",
              "      <td>61.5</td>\n",
              "      <td>55.0</td>\n",
              "      <td>326</td>\n",
              "      <td>3.95</td>\n",
              "      <td>3.98</td>\n",
              "      <td>2.43</td>\n",
              "    </tr>\n",
              "    <tr>\n",
              "      <th>2</th>\n",
              "      <td>0.21</td>\n",
              "      <td>Premium</td>\n",
              "      <td>E</td>\n",
              "      <td>SI1</td>\n",
              "      <td>59.8</td>\n",
              "      <td>61.0</td>\n",
              "      <td>326</td>\n",
              "      <td>3.89</td>\n",
              "      <td>3.84</td>\n",
              "      <td>2.31</td>\n",
              "    </tr>\n",
              "    <tr>\n",
              "      <th>3</th>\n",
              "      <td>0.23</td>\n",
              "      <td>Good</td>\n",
              "      <td>E</td>\n",
              "      <td>VS1</td>\n",
              "      <td>56.9</td>\n",
              "      <td>65.0</td>\n",
              "      <td>327</td>\n",
              "      <td>4.05</td>\n",
              "      <td>4.07</td>\n",
              "      <td>2.31</td>\n",
              "    </tr>\n",
              "    <tr>\n",
              "      <th>4</th>\n",
              "      <td>0.29</td>\n",
              "      <td>Premium</td>\n",
              "      <td>I</td>\n",
              "      <td>VS2</td>\n",
              "      <td>62.4</td>\n",
              "      <td>58.0</td>\n",
              "      <td>334</td>\n",
              "      <td>4.20</td>\n",
              "      <td>4.23</td>\n",
              "      <td>2.63</td>\n",
              "    </tr>\n",
              "    <tr>\n",
              "      <th>5</th>\n",
              "      <td>0.31</td>\n",
              "      <td>Good</td>\n",
              "      <td>J</td>\n",
              "      <td>SI2</td>\n",
              "      <td>63.3</td>\n",
              "      <td>58.0</td>\n",
              "      <td>335</td>\n",
              "      <td>4.34</td>\n",
              "      <td>4.35</td>\n",
              "      <td>2.75</td>\n",
              "    </tr>\n",
              "  </tbody>\n",
              "</table>\n",
              "</div>"
            ],
            "text/plain": [
              "   carat      cut color clarity  depth  table  price     x     y     z\n",
              "1   0.23    Ideal     E     SI2   61.5   55.0    326  3.95  3.98  2.43\n",
              "2   0.21  Premium     E     SI1   59.8   61.0    326  3.89  3.84  2.31\n",
              "3   0.23     Good     E     VS1   56.9   65.0    327  4.05  4.07  2.31\n",
              "4   0.29  Premium     I     VS2   62.4   58.0    334  4.20  4.23  2.63\n",
              "5   0.31     Good     J     SI2   63.3   58.0    335  4.34  4.35  2.75"
            ]
          },
          "metadata": {
            "tags": []
          },
          "execution_count": 21
        }
      ]
    },
    {
      "cell_type": "markdown",
      "metadata": {
        "id": "2_v0ka3fVEFO",
        "colab_type": "text"
      },
      "source": [
        "## Description of each Feature\n",
        "\n",
        "S.No | Feature | Descripton|Range(DataSet) |\n",
        "-|----------------|---------------|----|\n",
        "1|Carat|Carat weight is the measurement of how much a diamond weighs.|0.2 to 5.01 Milligrams|\n",
        "2|Cut|Style or Design of a Diamond|'Ideal' 'Premium' 'Good' 'Very Good' 'Fair'\n",
        "3|Color|Color of the Diamond|'E' 'I' 'J' 'H' 'F' 'G' 'D'\n",
        "4|Clarity|Flawless category (FL) diamonds have no inclusions or blemishes visible under 10x magnification.|'SI2' 'SI1' 'VS1' 'VS2' 'VVS2' 'VVS1' 'I1' 'IF'\n",
        "5|Depth|Depth of a Diamond|43 to 79 mm\n",
        "6|Table|Lenght of flat face of a Diamond|43 to 95mm\n",
        "7|Price|Price of a Diamond|326 $ to 18823 $\n",
        "\n"
      ]
    },
    {
      "cell_type": "markdown",
      "metadata": {
        "id": "W7eTqDplgPXS",
        "colab_type": "text"
      },
      "source": [
        "Price is the dependent variable where we need to predict this based on independent features like carat, cut, coloer, clarity, depth and table."
      ]
    },
    {
      "cell_type": "markdown",
      "metadata": {
        "id": "iBIBJkJagavi",
        "colab_type": "text"
      },
      "source": [
        "# EDA (Exploratory Data Analysis)"
      ]
    },
    {
      "cell_type": "code",
      "metadata": {
        "id": "2pNxw7GCgcvF",
        "colab_type": "code",
        "outputId": "a96c06af-d99a-4519-c77e-6b1da2f6008e",
        "colab": {
          "base_uri": "https://localhost:8080/",
          "height": 806
        }
      },
      "source": [
        "print(\"~~~~~~~~~~~~~~~~~~~~~~~~~~~~~~~~~~~~~~~~~~~~~~~~~~~~~~~~~\")\n",
        "print(\"Shape of the Dataset : \", ds.shape)\n",
        "print(\"~~~~~~~~~~~~~~~~~~~~~~~~~~~~~~~~~~~~~~~~~~~~~~~~~~~~~~~~~\")\n",
        "print(\"Columns of the data frame : \",ds.columns)\n",
        "print(\"~~~~~~~~~~~~~~~~~~~~~~~~~~~~~~~~~~~~~~~~~~~~~~~~~~~~~~~~~\")\n",
        "print(\"Info of the Dataset : \", ds.info())\n",
        "print(\"~~~~~~~~~~~~~~~~~~~~~~~~~~~~~~~~~~~~~~~~~~~~~~~~~~~~~~~~~\")\n",
        "print(\"Description of the Dataset : \", ds.describe())\n",
        "print(\"~~~~~~~~~~~~~~~~~~~~~~~~~~~~~~~~~~~~~~~~~~~~~~~~~~~~~~~~~\")\n",
        "print(\"Verify the count of Null\", ds.isnull().sum())"
      ],
      "execution_count": 22,
      "outputs": [
        {
          "output_type": "stream",
          "text": [
            "~~~~~~~~~~~~~~~~~~~~~~~~~~~~~~~~~~~~~~~~~~~~~~~~~~~~~~~~~\n",
            "Shape of the Dataset :  (53940, 10)\n",
            "~~~~~~~~~~~~~~~~~~~~~~~~~~~~~~~~~~~~~~~~~~~~~~~~~~~~~~~~~\n",
            "Columns of the data frame :  Index(['carat', 'cut', 'color', 'clarity', 'depth', 'table', 'price', 'x', 'y',\n",
            "       'z'],\n",
            "      dtype='object')\n",
            "~~~~~~~~~~~~~~~~~~~~~~~~~~~~~~~~~~~~~~~~~~~~~~~~~~~~~~~~~\n",
            "<class 'pandas.core.frame.DataFrame'>\n",
            "Int64Index: 53940 entries, 1 to 53940\n",
            "Data columns (total 10 columns):\n",
            "carat      53940 non-null float64\n",
            "cut        53940 non-null object\n",
            "color      53940 non-null object\n",
            "clarity    53940 non-null object\n",
            "depth      53940 non-null float64\n",
            "table      53940 non-null float64\n",
            "price      53940 non-null int64\n",
            "x          53940 non-null float64\n",
            "y          53940 non-null float64\n",
            "z          53940 non-null float64\n",
            "dtypes: float64(6), int64(1), object(3)\n",
            "memory usage: 4.5+ MB\n",
            "Info of the Dataset :  None\n",
            "~~~~~~~~~~~~~~~~~~~~~~~~~~~~~~~~~~~~~~~~~~~~~~~~~~~~~~~~~\n",
            "Description of the Dataset :                carat         depth  ...             y             z\n",
            "count  53940.000000  53940.000000  ...  53940.000000  53940.000000\n",
            "mean       0.797940     61.749405  ...      5.734526      3.538734\n",
            "std        0.474011      1.432621  ...      1.142135      0.705699\n",
            "min        0.200000     43.000000  ...      0.000000      0.000000\n",
            "25%        0.400000     61.000000  ...      4.720000      2.910000\n",
            "50%        0.700000     61.800000  ...      5.710000      3.530000\n",
            "75%        1.040000     62.500000  ...      6.540000      4.040000\n",
            "max        5.010000     79.000000  ...     58.900000     31.800000\n",
            "\n",
            "[8 rows x 7 columns]\n",
            "~~~~~~~~~~~~~~~~~~~~~~~~~~~~~~~~~~~~~~~~~~~~~~~~~~~~~~~~~\n",
            "Verify the count of Null carat      0\n",
            "cut        0\n",
            "color      0\n",
            "clarity    0\n",
            "depth      0\n",
            "table      0\n",
            "price      0\n",
            "x          0\n",
            "y          0\n",
            "z          0\n",
            "dtype: int64\n"
          ],
          "name": "stdout"
        }
      ]
    },
    {
      "cell_type": "markdown",
      "metadata": {
        "id": "5YR45MfHlxn3",
        "colab_type": "text"
      },
      "source": [
        "## Pre Profiling : \n",
        "\n",
        "SA : Price is the independent variable where it is dependent on Carat so analyzing how it is very correlated with Carat.\n",
        "price is highly correlated with carat (ρ = 0.92159) Rejected\n",
        "\n",
        "SA : Deleting below three features since these are highliy coreated with Carat\n",
        "\n",
        "x is highly correlated with carat (ρ = 0.97509) Rejected\n",
        "y is highly correlated with x (ρ = 0.9747) Rejected\n",
        "z is highly correlated with y (ρ = 0.95201) Rejected\n",
        "\n"
      ]
    },
    {
      "cell_type": "markdown",
      "metadata": {
        "id": "jK9CrP-ToZeu",
        "colab_type": "text"
      },
      "source": [
        "## FInding unique values of all Features"
      ]
    },
    {
      "cell_type": "code",
      "metadata": {
        "id": "owk_sWpwluEW",
        "colab_type": "code",
        "outputId": "b428ea56-dabc-42ed-b280-d0a83f80e802",
        "colab": {
          "base_uri": "https://localhost:8080/",
          "height": 84
        }
      },
      "source": [
        "print(\"Dataframe Before Droping features : \", ds.columns)\n",
        "ds.drop('x', axis=1, inplace=True)\n",
        "ds.drop('y', axis=1, inplace=True)\n",
        "ds.drop('z', axis=1, inplace=True)\n",
        "print(\"Dataframe After Droping features : \", ds.columns)"
      ],
      "execution_count": 23,
      "outputs": [
        {
          "output_type": "stream",
          "text": [
            "Dataframe Before Droping features :  Index(['carat', 'cut', 'color', 'clarity', 'depth', 'table', 'price', 'x', 'y',\n",
            "       'z'],\n",
            "      dtype='object')\n",
            "Dataframe After Droping features :  Index(['carat', 'cut', 'color', 'clarity', 'depth', 'table', 'price'], dtype='object')\n"
          ],
          "name": "stdout"
        }
      ]
    },
    {
      "cell_type": "code",
      "metadata": {
        "id": "1CS-_vTKCaup",
        "colab_type": "code",
        "colab": {}
      },
      "source": [
        ""
      ],
      "execution_count": 0,
      "outputs": []
    },
    {
      "cell_type": "code",
      "metadata": {
        "id": "KhfggDiEoWst",
        "colab_type": "code",
        "outputId": "b53f7404-8e47-4b06-df36-68f842122864",
        "colab": {
          "base_uri": "https://localhost:8080/",
          "height": 1428
        }
      },
      "source": [
        "colList = ['carat', 'cut', 'color', 'clarity', 'depth', 'table', 'price']\n",
        "for i in range(0,len(colList)):\n",
        "    print(\"Name of the column : \",colList[i])\n",
        "    print(\"~~~~~~~~~~~~~~~~~~~~~~~~~~~~~~~Start~~~~~~~~~~~~~~~~~~~~~~~~~~~~~~~~~~~~~~~~~~~~~~~~~\\n\")\n",
        "    print(ds[colList[i]].unique())\n",
        "    print(\"~~~~~~~~~~~~~~~~~~~~~~~~~~~~~~~End~~~~~~~~~~~~~~~~~~~~~~~~~~~~~~~~~~~~~~~~~~~~~~~~~\\n\")\n",
        "print(\"End of For\")"
      ],
      "execution_count": 24,
      "outputs": [
        {
          "output_type": "stream",
          "text": [
            "Name of the column :  carat\n",
            "~~~~~~~~~~~~~~~~~~~~~~~~~~~~~~~Start~~~~~~~~~~~~~~~~~~~~~~~~~~~~~~~~~~~~~~~~~~~~~~~~~\n",
            "\n",
            "[0.23 0.21 0.29 0.31 0.24 0.26 0.22 0.3  0.2  0.32 0.33 0.25 0.35 0.42\n",
            " 0.28 0.38 0.7  0.86 0.71 0.78 0.96 0.73 0.8  0.75 0.74 0.81 0.59 0.9\n",
            " 0.91 0.61 0.77 0.63 0.76 0.64 0.72 0.79 0.58 1.17 0.6  0.83 0.54 0.98\n",
            " 0.52 1.01 0.53 0.84 0.51 1.05 0.55 0.87 1.   0.57 0.82 1.04 0.93 1.2\n",
            " 0.99 0.34 0.43 0.36 0.95 0.89 1.02 0.97 0.56 0.85 0.92 1.27 0.66 1.12\n",
            " 0.68 1.03 0.62 1.22 1.08 0.88 0.5  1.19 0.39 0.65 1.24 1.5  0.27 0.41\n",
            " 1.13 1.06 0.69 0.4  1.14 0.94 1.29 1.52 1.16 1.21 1.23 1.09 0.67 1.11\n",
            " 1.1  1.18 1.15 1.25 1.07 1.28 1.51 0.37 1.31 1.26 1.39 1.44 1.35 1.3\n",
            " 1.32 1.41 1.36 1.45 1.34 1.58 1.54 1.38 1.33 1.74 1.64 1.47 1.4  1.55\n",
            " 1.95 2.   1.37 1.83 1.62 1.57 1.69 2.06 1.72 1.66 2.14 1.49 1.46 2.15\n",
            " 1.96 2.22 1.7  1.53 1.85 2.01 2.27 1.68 1.56 1.81 1.65 1.82 2.03 1.73\n",
            " 1.59 1.42 1.43 2.08 1.48 1.6  2.49 1.71 2.02 2.07 3.   2.21 2.1  1.91\n",
            " 2.25 2.17 2.32 2.72 1.61 2.23 2.11 2.05 1.63 2.3  2.31 1.75 2.04 2.12\n",
            " 1.77 2.5  1.8  1.67 1.84 2.2  3.01 1.88 2.33 2.68 2.34 1.9  2.16 2.74\n",
            " 1.78 1.76 2.28 1.79 1.94 2.43 1.86 3.11 1.87 2.09 1.89 2.52 2.19 2.18\n",
            " 2.77 2.63 3.05 2.46 3.02 2.38 2.24 2.26 2.36 1.99 2.29 3.65 2.45 2.4\n",
            " 2.54 3.24 2.13 2.58 3.22 3.5  2.48 1.98 2.44 2.75 1.93 2.41 2.61 2.35\n",
            " 2.51 2.7  2.55 1.97 2.53 2.37 2.47 2.8  4.01 2.56 3.04 1.92 2.39 3.4\n",
            " 4.   3.67 2.42 2.66 2.65 2.59 2.6  2.57 2.71 4.13 2.64 5.01 4.5  2.67\n",
            " 3.51 0.44 0.45 0.47 0.46 0.48 0.49]\n",
            "~~~~~~~~~~~~~~~~~~~~~~~~~~~~~~~End~~~~~~~~~~~~~~~~~~~~~~~~~~~~~~~~~~~~~~~~~~~~~~~~~\n",
            "\n",
            "Name of the column :  cut\n",
            "~~~~~~~~~~~~~~~~~~~~~~~~~~~~~~~Start~~~~~~~~~~~~~~~~~~~~~~~~~~~~~~~~~~~~~~~~~~~~~~~~~\n",
            "\n",
            "['Ideal' 'Premium' 'Good' 'Very Good' 'Fair']\n",
            "~~~~~~~~~~~~~~~~~~~~~~~~~~~~~~~End~~~~~~~~~~~~~~~~~~~~~~~~~~~~~~~~~~~~~~~~~~~~~~~~~\n",
            "\n",
            "Name of the column :  color\n",
            "~~~~~~~~~~~~~~~~~~~~~~~~~~~~~~~Start~~~~~~~~~~~~~~~~~~~~~~~~~~~~~~~~~~~~~~~~~~~~~~~~~\n",
            "\n",
            "['E' 'I' 'J' 'H' 'F' 'G' 'D']\n",
            "~~~~~~~~~~~~~~~~~~~~~~~~~~~~~~~End~~~~~~~~~~~~~~~~~~~~~~~~~~~~~~~~~~~~~~~~~~~~~~~~~\n",
            "\n",
            "Name of the column :  clarity\n",
            "~~~~~~~~~~~~~~~~~~~~~~~~~~~~~~~Start~~~~~~~~~~~~~~~~~~~~~~~~~~~~~~~~~~~~~~~~~~~~~~~~~\n",
            "\n",
            "['SI2' 'SI1' 'VS1' 'VS2' 'VVS2' 'VVS1' 'I1' 'IF']\n",
            "~~~~~~~~~~~~~~~~~~~~~~~~~~~~~~~End~~~~~~~~~~~~~~~~~~~~~~~~~~~~~~~~~~~~~~~~~~~~~~~~~\n",
            "\n",
            "Name of the column :  depth\n",
            "~~~~~~~~~~~~~~~~~~~~~~~~~~~~~~~Start~~~~~~~~~~~~~~~~~~~~~~~~~~~~~~~~~~~~~~~~~~~~~~~~~\n",
            "\n",
            "[61.5 59.8 56.9 62.4 63.3 62.8 62.3 61.9 65.1 59.4 64.  60.4 62.2 60.2\n",
            " 60.9 62.  63.4 63.8 62.7 61.  58.1 62.5 60.5 60.  60.7 59.5 58.2 64.1\n",
            " 60.8 61.8 61.2 61.1 65.2 58.4 63.1 61.6 59.3 62.6 63.  63.2 62.1 61.4\n",
            " 62.9 63.7 59.2 59.9 57.9 55.1 57.5 66.3 61.7 58.8 64.5 65.3 59.6 64.4\n",
            " 65.7 63.6 61.3 60.1 60.3 58.  64.6 59.7 57.8 67.9 60.6 57.2 64.2 65.8\n",
            " 67.4 59.  63.5 67.3 58.7 66.4 68.1 63.9 55.  58.6 64.3 58.5 65.  56.\n",
            " 58.3 53.1 64.9 59.1 58.9 66.7 57.7 65.4 53.3 53.  67.8 66.1 55.8 67.6\n",
            " 68.2 65.5 67.7 69.5 56.6 56.3 66.9 66.  67.  57.6 67.1 65.6 64.8 69.3\n",
            " 66.2 55.4 66.8 64.7 66.6 55.9 57.3 57.4 68.3 68.5 56.2 65.9 56.5 56.1\n",
            " 66.5 68.4 69.7 57.1 68.7 56.7 68.6 71.6 43.  68.8 67.5 69.  55.2 68.9\n",
            " 69.6 57.  56.4 56.8 44.  67.2 70.1 71.3 70.6 69.8 71.8 53.8 53.2 70.\n",
            " 69.4 68.  70.2 50.8 55.6 70.5 71.  69.1 55.3 54.2 51.  70.8 54.6 54.\n",
            " 54.4 52.3 55.5 78.2 71.2 52.7 54.3 69.2 73.6 52.2 69.9 53.4 72.2 79.\n",
            " 72.9 54.7]\n",
            "~~~~~~~~~~~~~~~~~~~~~~~~~~~~~~~End~~~~~~~~~~~~~~~~~~~~~~~~~~~~~~~~~~~~~~~~~~~~~~~~~\n",
            "\n",
            "Name of the column :  table\n",
            "~~~~~~~~~~~~~~~~~~~~~~~~~~~~~~~Start~~~~~~~~~~~~~~~~~~~~~~~~~~~~~~~~~~~~~~~~~~~~~~~~~\n",
            "\n",
            "[55.  61.  65.  58.  57.  56.  54.  62.  59.  63.  60.  55.3 69.  53.\n",
            " 64.  56.4 60.5 67.  52.  55.8 66.  70.  68.  54.4 57.1 53.6 54.8 54.2\n",
            " 54.9 56.7 53.9 57.8 54.1 55.1 51.  58.1 56.9 56.5 53.7 60.7 56.2 56.6\n",
            " 56.1 56.3 57.2 57.5 60.9 59.8 62.3 60.1 55.9 50.1 62.2 54.5 55.7 53.4\n",
            " 54.7 58.8 59.4 62.5 54.3 60.6 55.2 58.6 49.  50.  54.6 62.6 57.7 56.8\n",
            " 57.9 60.3 55.6 59.5 57.4 62.4 60.4 53.3 60.2 60.8 58.5 57.6 43.  59.9\n",
            " 63.5 57.3 61.4 58.3 55.4 58.2 53.5 59.7 55.5 58.7 53.8 59.1 53.2 59.3\n",
            " 61.1 51.6 95.  61.2 59.2 58.4 53.1 52.8 44.  61.3 61.9 61.8 59.6 61.5\n",
            " 58.9 64.3 62.8 71.  52.4 63.3 61.7 64.2 73.  65.4 63.4 62.1 79.  76.\n",
            " 61.6]\n",
            "~~~~~~~~~~~~~~~~~~~~~~~~~~~~~~~End~~~~~~~~~~~~~~~~~~~~~~~~~~~~~~~~~~~~~~~~~~~~~~~~~\n",
            "\n",
            "Name of the column :  price\n",
            "~~~~~~~~~~~~~~~~~~~~~~~~~~~~~~~Start~~~~~~~~~~~~~~~~~~~~~~~~~~~~~~~~~~~~~~~~~~~~~~~~~\n",
            "\n",
            "[ 326  327  334 ... 2753 2755 2756]\n",
            "~~~~~~~~~~~~~~~~~~~~~~~~~~~~~~~End~~~~~~~~~~~~~~~~~~~~~~~~~~~~~~~~~~~~~~~~~~~~~~~~~\n",
            "\n",
            "End of For\n"
          ],
          "name": "stdout"
        }
      ]
    },
    {
      "cell_type": "code",
      "metadata": {
        "id": "hmoaSISRAdIM",
        "colab_type": "code",
        "outputId": "77d9cb9c-9a83-4b57-8d59-b0a475c34f62",
        "colab": {
          "base_uri": "https://localhost:8080/",
          "height": 298
        }
      },
      "source": [
        "ds[\"carat\"].value_counts().plot.bar()"
      ],
      "execution_count": 25,
      "outputs": [
        {
          "output_type": "execute_result",
          "data": {
            "text/plain": [
              "<matplotlib.axes._subplots.AxesSubplot at 0x7fe8ac199208>"
            ]
          },
          "metadata": {
            "tags": []
          },
          "execution_count": 25
        },
        {
          "output_type": "display_data",
          "data": {
            "image/png": "[encoded data removed]",
            "text/plain": [
              "<Figure size 432x288 with 1 Axes>"
            ]
          },
          "metadata": {
            "tags": []
          }
        }
      ]
    },
    {
      "cell_type": "code",
      "metadata": {
        "id": "q5OgYvfhA3Qs",
        "colab_type": "code",
        "outputId": "49eaa567-a99c-4f7c-af68-f5a8b5f2e3a5",
        "colab": {
          "base_uri": "https://localhost:8080/",
          "height": 34
        }
      },
      "source": [
        "ds[\"price\"].value_counts().plot.bar()"
      ],
      "execution_count": 0,
      "outputs": [
        {
          "output_type": "execute_result",
          "data": {
            "text/plain": [
              "<matplotlib.axes._subplots.AxesSubplot at 0x7fe8abe6a080>"
            ]
          },
          "metadata": {
            "tags": []
          },
          "execution_count": 26
        }
      ]
    },
    {
      "cell_type": "markdown",
      "metadata": {
        "id": "TSqViVK1rc-T",
        "colab_type": "text"
      },
      "source": [
        "## Distribution of Features"
      ]
    },
    {
      "cell_type": "code",
      "metadata": {
        "id": "IKLyQj5zriUG",
        "colab_type": "code",
        "colab": {}
      },
      "source": [
        "f, axes = plt.subplots(2, 2, figsize=(15, 15), sharex=True)   \n",
        "\n",
        "sns.despine(left=True) #It removes the border of each plot\n",
        "sns.distplot(ds.carat, color=\"b\", ax=axes[0, 0])\n",
        "sns.distplot(ds.table, color=\"r\", ax=axes[0, 1])\n",
        "sns.distplot(ds.depth, color=\"y\", ax=axes[1, 0])  \n",
        "\n",
        "#\n",
        "#SA : \n",
        "#1. This graph will not support for Category.\n",
        "#2. sns.despine #It removes the border of each plot\n",
        "#3 - #sns.distplot(ds.price, color=\"g\", ax=axes[0, 1])  -- I removed this since it is effecting lot to other features since Price reange is very high if we compare with others. \n",
        "#"
      ],
      "execution_count": 0,
      "outputs": []
    },
    {
      "cell_type": "code",
      "metadata": {
        "id": "IbqrhrHQGzAH",
        "colab_type": "code",
        "colab": {}
      },
      "source": [
        "arr = ds[\"price\"].unique()\n",
        "print(\"Price data : \", arr)\n",
        "print(\"Price data : Min\", arr.min())\n",
        "print(\"Price data : Max\", arr.max())\n",
        "print(\"Price data : Mean\", arr.mean())\n",
        "sns.set();\n",
        "sns.distplot(ds.price, color=\"r\", hist=True, kde=True)"
      ],
      "execution_count": 0,
      "outputs": []
    },
    {
      "cell_type": "code",
      "metadata": {
        "id": "QYVtp6ZTKLJE",
        "colab_type": "code",
        "colab": {}
      },
      "source": [
        "arr = ds[\"carat\"].unique()\n",
        "print(\"carat data : \", arr)\n",
        "print(\"carat data : Min\", arr.min())\n",
        "print(\"carat data : Max\", arr.max())\n",
        "print(\"carat data : Mean\", arr.mean())\n",
        "sns.set();\n",
        "sns.distplot(ds.carat, color=\"g\", hist=True, kde=True)"
      ],
      "execution_count": 0,
      "outputs": []
    },
    {
      "cell_type": "code",
      "metadata": {
        "id": "js3JuaBZKS5o",
        "colab_type": "code",
        "colab": {}
      },
      "source": [
        "arr = ds[\"table\"].unique()\n",
        "print(\"table data : \", arr)\n",
        "print(\"table data : Min\", arr.min())\n",
        "print(\"table data : Max\", arr.max())\n",
        "print(\"table data : Mean\", arr.mean())\n",
        "sns.set();\n",
        "sns.distplot(ds.table, color=\"y\", hist=True, kde=True)"
      ],
      "execution_count": 0,
      "outputs": []
    },
    {
      "cell_type": "code",
      "metadata": {
        "id": "X4ZqUxhAKYqj",
        "colab_type": "code",
        "colab": {}
      },
      "source": [
        "arr = ds[\"depth\"].unique()\n",
        "print(\"depth data : \", arr)\n",
        "print(\"depth data : Min\", arr.min())\n",
        "print(\"depth data : Max\", arr.max())\n",
        "print(\"depth data : Mean\", arr.mean())\n",
        "sns.set();\n",
        "sns.distplot(ds.depth, color=\"b\", hist=True, kde=True)"
      ],
      "execution_count": 0,
      "outputs": []
    },
    {
      "cell_type": "code",
      "metadata": {
        "id": "f1zim9iRKYn2",
        "colab_type": "code",
        "colab": {}
      },
      "source": [
        ""
      ],
      "execution_count": 0,
      "outputs": []
    },
    {
      "cell_type": "code",
      "metadata": {
        "id": "vOUjf4SR_Xvg",
        "colab_type": "code",
        "colab": {}
      },
      "source": [
        "JG1 = sns.jointplot(\"carat\", \"price\", data=ds, kind='reg')\n",
        "JG2 = sns.jointplot(\"table\", \"price\", data=ds, kind='reg')\n",
        "JG3 = sns.jointplot(\"depth\", \"price\", data=ds, kind='reg')\n",
        "\n",
        "#subplots migration\n",
        "f = plt.figure()\n",
        "for J in [JG1, JG2,JG3]:\n",
        "    for A in J.fig.axes:\n",
        "        f._axstack.add(f._make_key(A), A)"
      ],
      "execution_count": 0,
      "outputs": []
    },
    {
      "cell_type": "markdown",
      "metadata": {
        "id": "2CzvBB9g-w92",
        "colab_type": "text"
      },
      "source": [
        "# js SA tries\n"
      ]
    },
    {
      "cell_type": "code",
      "metadata": {
        "id": "7A1MmjoO-1Yy",
        "colab_type": "code",
        "colab": {}
      },
      "source": [
        "import plotly.plotly as py\n",
        "import plotly.graph_objs as go\n",
        "\n",
        "trace0 = go.Scatter(\n",
        "    x=[1, 2, 3, 4],\n",
        "    y=[10, 15, 13, 17]\n",
        ")\n",
        "trace1 = go.Scatter(\n",
        "    x=[1, 2, 3, 4],\n",
        "    y=[16, 5, 11, 9]\n",
        ")\n",
        "data = [trace0, trace1]\n",
        "\n",
        "#py.plot(data, filename = 'basic-line', auto_open=True)\n",
        "py.iplot(data, filename = 'basic-line')\n",
        "\n"
      ],
      "execution_count": 0,
      "outputs": []
    },
    {
      "cell_type": "code",
      "metadata": {
        "id": "Po89oEnz_0P6",
        "colab_type": "code",
        "colab": {}
      },
      "source": [
        "import plotly\n",
        "plotly.__version__"
      ],
      "execution_count": 0,
      "outputs": []
    },
    {
      "cell_type": "code",
      "metadata": {
        "id": "_dpneunz__ct",
        "colab_type": "code",
        "colab": {}
      },
      "source": [
        "import plotly\n",
        "import plotly.graph_objs as go\n",
        "\n",
        "plotly.offline.plot({\n",
        "    \"data\": [go.Scatter(x=[1, 2, 3, 4], y=[4, 3, 2, 1])],\n",
        "    \"layout\": go.Layout(title=\"hello world\")\n",
        "}, auto_open=True)"
      ],
      "execution_count": 0,
      "outputs": []
    },
    {
      "cell_type": "code",
      "metadata": {
        "id": "4EPUHaYQANKg",
        "colab_type": "code",
        "colab": {}
      },
      "source": [
        "import plotly\n",
        "import plotly.graph_objs as go\n",
        "\n",
        "plotly.offline.init_notebook_mode(connected=True)\n",
        "\n",
        "plotly.offline.iplot({\n",
        "    \"data\": [go.Scatter(x=[1, 2, 3, 4], y=[4, 3, 2, 1])],\n",
        "    \"layout\": go.Layout(title=\"hello world\")\n",
        "})\n"
      ],
      "execution_count": 0,
      "outputs": []
    },
    {
      "cell_type": "code",
      "metadata": {
        "id": "ONwQU69fAknO",
        "colab_type": "code",
        "colab": {}
      },
      "source": [
        "import plotly.plotly as py\n",
        "import plotly.graph_objs as go\n",
        "import pandas as pd\n",
        "\n",
        "df = pd.read_csv('https://raw.githubusercontent.com/plotly/datasets/master/gapminder2007.csv')\n",
        "\n",
        "fig = {\n",
        "    'data': [\n",
        "          {\n",
        "          'x': df.gdpPercap, \n",
        "            'y': df.lifeExp, \n",
        "            'text': df.country, \n",
        "            'mode': 'markers', \n",
        "            'name': '2007'},\n",
        "    ],\n",
        "    'layout': {\n",
        "        'xaxis': {'title': 'GDP per Capita', 'type': 'log'},\n",
        "        'yaxis': {'title': \"Life Expectancy\"}\n",
        "    }\n",
        "}\n",
        "\n",
        "#py.iplot(fig, filename='pandas-multiple-scatter')\n",
        "py.iplot(fig)"
      ],
      "execution_count": 0,
      "outputs": []
    }
  ]
}