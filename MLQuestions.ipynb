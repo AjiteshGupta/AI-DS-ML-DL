{
  "nbformat": 4,
  "nbformat_minor": 0,
  "metadata": {
    "colab": {
      "name": "MLQuestions.ipynb",
      "version": "0.3.2",
      "provenance": [],
      "include_colab_link": true
    },
    "kernelspec": {
      "name": "python3",
      "display_name": "Python 3"
    }
  },
  "cells": [
    {
      "cell_type": "markdown",
      "metadata": {
        "id": "view-in-github",
        "colab_type": "text"
      },
      "source": [
        "<a href=\"https://colab.research.google.com/github/SudhakarAnemu/AI-DS-ML-DL-Materials/blob/master/MLQuestions.ipynb\" target=\"_parent\"><img src=\"https://colab.research.google.com/assets/colab-badge.svg\" alt=\"Open In Colab\"/></a>"
      ]
    },
    {
      "cell_type": "code",
      "metadata": {
        "id": "VcY86Cvn3ByY",
        "colab_type": "code",
        "colab": {}
      },
      "source": [
        ""
      ],
      "execution_count": 0,
      "outputs": []
    },
    {
      "cell_type": "markdown",
      "metadata": {
        "id": "-ztJozmb3G25",
        "colab_type": "text"
      },
      "source": [
        "#                        **ML Questions**\n",
        "\n",
        "MM - 27th May 2019(Monday)\n",
        "\n",
        "Objective : \n",
        "\n",
        "1. Preparing Questions and Strategies\n",
        "2. Prepare a document by the URL's provided (ML flow, Planning, Dev and Testing, etc. (We need to revisit and confirm about this point). \n",
        "\n",
        "Participants : \n",
        "\n",
        "1. Arun Kumar V\n",
        "2. Ankita\n",
        "3. Indu K\n",
        "4. Santosh\n",
        "5. Sudhakar A\n",
        "\n",
        "Classes w.r.t dates and the status : \n",
        "\n",
        "S.No | Date | Free? | Assignee\n",
        "-|----------------|---------------|-------------\n",
        "1|13th Apr 2019|No|Indu\n",
        "2|14th Apr 2019|No|Arun\n",
        "3|20th Apr 2019|No|Arun\n",
        "4|21st Apr 2019|No|Arun\n",
        "5|27th Apr 2019|No|Indu\n",
        "6|28th Apr 2019|No|Indu\n",
        "7|4th May 2019|\n",
        "8|11th May 2019\n",
        "9|12th May 2019\n",
        "10|18th May 2019\n",
        "11|19th May 2019\n",
        "12|25th May 2019\n",
        "13|26th May 2019\n",
        "\n",
        "\n",
        "\n",
        "Dates w.r.t Team member : \n",
        "\n",
        "(Indu)13th, 14th Apr (Arun)\n",
        "(Arun) 20th, 21st Apr\n",
        "(Indu) 27th, 28th Apr\n",
        "(Sudhakar) 4th May\n",
        "(Sudhakar) 11th, 12th May\n",
        "(Ankita)18th, 19th May\n",
        "(Santosh) 25th, 26th May\n",
        "\n",
        "*************************************************************************************************\n",
        "Next meeting - 30th May (Thursday). 9.15 pm IST. \n",
        "Each person will prepare their own document, we will revisit on 30th for further details. \n",
        "\n",
        "\n",
        "\n",
        "\n"
      ]
    },
    {
      "cell_type": "code",
      "metadata": {
        "id": "6TeWyXh43Cos",
        "colab_type": "code",
        "colab": {}
      },
      "source": [
        ""
      ],
      "execution_count": 0,
      "outputs": []
    }
  ]
}