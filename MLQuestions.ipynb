{
  "nbformat": 4,
  "nbformat_minor": 0,
  "metadata": {
    "colab": {
      "name": "MLQuestions.ipynb",
      "version": "0.3.2",
      "provenance": [],
      "collapsed_sections": [],
      "include_colab_link": true
    },
    "kernelspec": {
      "name": "python3",
      "display_name": "Python 3"
    }
  },
  "cells": [
    {
      "cell_type": "markdown",
      "metadata": {
        "id": "view-in-github",
        "colab_type": "text"
      },
      "source": [
        "<a href=\"https://colab.research.google.com/github/SudhakarAnemu/AI-DS-ML-DL-Materials/blob/master/MLQuestions.ipynb\" target=\"_parent\"><img src=\"https://colab.research.google.com/assets/colab-badge.svg\" alt=\"Open In Colab\"/></a>"
      ]
    },
    {
      "cell_type": "markdown",
      "metadata": {
        "id": "-ztJozmb3G25",
        "colab_type": "text"
      },
      "source": [
        "#                        **ML Questions**\n",
        "\n",
        "Caution - Do not edit and you are free to add more data\n",
        "*********************************************************\n",
        "*********************************************************\n",
        "\n",
        "MM - 27th May 2019(Monday)\n",
        "\n",
        "Objective : \n",
        "\n",
        "1. Preparing Questions and Strategies\n",
        "2. Prepare a document by the URL's provided (ML flow, Planning, Dev and Testing, etc. (We need to revisit and confirm about this point). \n",
        "\n",
        "Participants : \n",
        "\n",
        "1. Arun Kumar V\n",
        "2. Ankita\n",
        "3. Indu K\n",
        "4. Santosh\n",
        "5. Sudhakar A\n",
        "\n",
        "Classes w.r.t dates and the status : \n",
        "\n",
        "S.No | Date | Free? | Assignee|Status|\n",
        "-|----------------|---------------|-------------|------\n",
        "1|13th Apr 2019|N|Indu|\n",
        "2|14th Apr 2019|N|Arun|\n",
        "3|20th Apr 2019|N|Arun|\n",
        "4|21st Apr 2019|N|Arun|\n",
        "5|27th Apr 2019|N|Indu|\n",
        "6|28th Apr 2019|N|Indu|\n",
        "7|4th May 2019|N|Sudhakar|\n",
        "8|11th May 2019|N|Sudhakar|\n",
        "9|12th May 2019|N|Sudhakar|\n",
        "10|18th May 2019|N|Ankita|\n",
        "11|19th May 2019|Yes||\n",
        "12|25th May 2019|N|Santosh|\n",
        "13|26th May 2019|N|Santosh|\n",
        "14|1st June 2019|Yes||\n",
        "15|2nd June 2019|Yes||\n",
        "\n",
        "\n",
        "*********************************************************\n",
        "*********************************************************\n",
        "Next meeting - 31st May (Friday). 9.15 pm IST. \n",
        "Each person will prepare their own document and then we will revisit on 31st May for further details. \n",
        "\n",
        "\n"
      ]
    }
  ]
}