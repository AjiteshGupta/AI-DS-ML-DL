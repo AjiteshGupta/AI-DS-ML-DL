{
  "nbformat": 4,
  "nbformat_minor": 0,
  "metadata": {
    "colab": {
      "name": "ML_Questions_TeamWork.ipynb",
      "version": "0.3.2",
      "provenance": []
    },
    "language_info": {
      "codemirror_mode": {
        "name": "ipython",
        "version": 3
      },
      "file_extension": ".py",
      "mimetype": "text/x-python",
      "name": "python",
      "nbconvert_exporter": "python",
      "pygments_lexer": "ipython3",
      "version": "3.7.3"
    },
    "kernelspec": {
      "display_name": "Python 3",
      "language": "python",
      "name": "python3"
    }
  },
  "cells": [
    {
      "cell_type": "markdown",
      "metadata": {
        "id": "61VBQ8Ly1XCR",
        "colab_type": "text"
      },
      "source": [
        "## 4th May 2019\n",
        "\n",
        "## 11th May 2019\n",
        "1. What is RMSE, why do we use it?\n",
        "2. Why RMSE is better than R-Square and Adjusted R-Square\n",
        "3. From the example of Sales predict(TV, Newspaper, Radio) : When we remove the NP then the net effect is 30%to40% but when we remove both NP and Radio the net effect is 5%. By this what can we conclude?\n",
        "4. Would not feature selection need trying all combination between features? is there any shortcut in case of a large number of features?\n",
        "5. Why are we removing features? why it is so important?\n",
        "6. Category Data(0,1,2/string's) how we will represent in Linear regression?\n",
        "7. Dummy Variable: what will happen when we take all n variables?\n",
        "8. multiple columns will be created when we apply Dummy on category variables? right, again these individual columns are a category, right? then why are we doing it?\n",
        "9. How can we deal with 100 column's if all are Dummy variables?\n",
        "10. What is the conclusion of a best-fit line?\n",
        "11. From the example of Sales predict(TV, Newspaper, Radio): how confident can we be with the predicted sales value? do we need to give confidence interval based on the RMSE?\n",
        "12. Why Logistic Regression is regression? though it is classification algorithm. \n",
        "13. Let if we have all -ve continuous values as input values, then can we conclude the lower value of RMSE indicates the best fit?"
      ]
    },
    {
      "cell_type": "code",
      "metadata": {
        "id": "BVeo6FzU1XCU",
        "colab_type": "code",
        "colab": {}
      },
      "source": [
        ""
      ],
      "execution_count": 0,
      "outputs": []
    }
  ]
}