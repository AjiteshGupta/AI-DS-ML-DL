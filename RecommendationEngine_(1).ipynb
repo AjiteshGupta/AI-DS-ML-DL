{
  "nbformat": 4,
  "nbformat_minor": 0,
  "metadata": {
    "colab": {
      "name": "RecommendationEngine (1).ipynb",
      "provenance": [],
      "include_colab_link": true
    },
    "hide_input": false,
    "kernelspec": {
      "display_name": "Python 3",
      "language": "python",
      "name": "python3"
    },
    "language_info": {
      "codemirror_mode": {
        "name": "ipython",
        "version": 3
      },
      "file_extension": ".py",
      "mimetype": "text/x-python",
      "name": "python",
      "nbconvert_exporter": "python",
      "pygments_lexer": "ipython3",
      "version": "3.7.4"
    },
    "toc": {
      "base_numbering": 1,
      "nav_menu": {},
      "number_sections": false,
      "sideBar": true,
      "skip_h1_title": false,
      "title_cell": "Table of Contents",
      "title_sidebar": "Contents",
      "toc_cell": false,
      "toc_position": {},
      "toc_section_display": true,
      "toc_window_display": false
    },
    "varInspector": {
      "cols": {
        "lenName": 16,
        "lenType": 16,
        "lenVar": 40
      },
      "kernels_config": {
        "python": {
          "delete_cmd_postfix": "",
          "delete_cmd_prefix": "del ",
          "library": "var_list.py",
          "varRefreshCmd": "print(var_dic_list())"
        },
        "r": {
          "delete_cmd_postfix": ") ",
          "delete_cmd_prefix": "rm(",
          "library": "var_list.r",
          "varRefreshCmd": "cat(var_dic_list()) "
        }
      },
      "types_to_exclude": [
        "module",
        "function",
        "builtin_function_or_method",
        "instance",
        "_Feature"
      ],
      "window_display": false
    }
  },
  "cells": [
    {
      "cell_type": "markdown",
      "metadata": {
        "id": "view-in-github",
        "colab_type": "text"
      },
      "source": [
        "<a href=\"https://colab.research.google.com/github/SudhakarAnemu/AI-DS-ML-DL/blob/master/RecommendationEngine_(1).ipynb\" target=\"_parent\"><img src=\"https://colab.research.google.com/assets/colab-badge.svg\" alt=\"Open In Colab\"/></a>"
      ]
    },
    {
      "cell_type": "markdown",
      "metadata": {
        "colab_type": "text",
        "id": "QcETaD_bzGmX"
      },
      "source": [
        "<img src = 'https://github.com/insaid2018/Term-1/blob/master/Images/INSAID_Full%20Logo.png?raw=true' width=\"240\" height=\"360\">\n",
        "\n",
        "# <center> <font color = red> RECOMMENDER SYSTEM </center>\n",
        "\n",
        "<img src = \"https://raw.githubusercontent.com/insaid2018/Term-4/master/images/start.png\">"
      ]
    },
    {
      "cell_type": "markdown",
      "metadata": {
        "colab_type": "text",
        "id": "Z5IPU0fWzGma"
      },
      "source": [
        "### INTRODUCTION"
      ]
    },
    {
      "cell_type": "markdown",
      "metadata": {
        "colab_type": "text",
        "id": "30tO-jnDzGmd"
      },
      "source": [
        "A **recommender system** or a **recommendation system** is a subclass of information filtering system that seeks to predict the \"rating\" or \"preference\" a user would give t an item. The primary focus is in commercial applications.<br><br>\n",
        "\n",
        "Recommender systems are utilized in a variety of areas, and are most commonly recognized as\n",
        "- Playlist generators for video and music services like Netflix, YouTube and SPotify, \n",
        "- Product recommenders for services such as Amazon or \n",
        "- Content recommenders for social media platforms such as Facebook and Twitter.\n",
        "    \n",
        "The system can operate using a single input, like music, or multiple inputs within and across platforms like news, books, search queries and ahve been developed to explore research articles and experts, collaborators, financial services and life insurance. "
      ]
    },
    {
      "cell_type": "markdown",
      "metadata": {
        "colab_type": "text",
        "id": "pzz4F_BIzGmf"
      },
      "source": [
        "<img src = \"https://raw.githubusercontent.com/insaid2018/Term-4/master/images/rec1.png\">"
      ]
    },
    {
      "cell_type": "markdown",
      "metadata": {
        "colab_type": "text",
        "id": "ZRZ0MLeszGmh"
      },
      "source": [
        "### STRUCTURE"
      ]
    },
    {
      "cell_type": "markdown",
      "metadata": {
        "colab_type": "text",
        "id": "XC7XWYCyzGmj"
      },
      "source": [
        "<img src = \"https://raw.githubusercontent.com/insaid2018/Term-4/master/images/rec.jpg\">"
      ]
    },
    {
      "cell_type": "markdown",
      "metadata": {
        "colab_type": "text",
        "id": "qf8BK_ZRzGml"
      },
      "source": [
        "### CONTENT BASED APPROACH"
      ]
    },
    {
      "cell_type": "markdown",
      "metadata": {
        "colab_type": "text",
        "id": "tQbTKeGpzGmn"
      },
      "source": [
        "This algorithm recommends products which are similar to the ones that a user has liked in the past.<br><br>\n",
        "__Consider the example of Netflix__ : \n",
        "<img src = \"https://raw.githubusercontent.com/insaid2018/Term-4/master/images/rec_netflix.png\">\n",
        "- They save all the __information related to each user__ in a vector form called __profile vector__. \n",
        "- Profile vector contains the past behaviour of the user, i.e. the movies liked/disliked by the user and the ratings given by them. \n",
        "- All the __information related to movies__ is stored in another vector called __item vector__. \n",
        "- Item vector contais the details of each movies, like genre, cast, director, etc."
      ]
    },
    {
      "cell_type": "markdown",
      "metadata": {
        "colab_type": "text",
        "id": "RLw_q_S8zGmp"
      },
      "source": [
        "#### HOW TO CREATE PROFILE VECTOR?"
      ]
    },
    {
      "cell_type": "markdown",
      "metadata": {
        "colab_type": "text",
        "id": "SnjLs1kizGmr"
      },
      "source": [
        "- Each item will have an item profile\n",
        "- A table structure will list these properties\n",
        "- Comparing what and how many features match and collect scores\n",
        "- Recommend highest scored item\n",
        "- Code will be based on a algorithm, by given some item, the most similar item will be found.\n",
        "- Best scoring match will be provide to the user\n",
        "- This method relies on item features only, and not the user preferences."
      ]
    },
    {
      "cell_type": "markdown",
      "metadata": {
        "colab_type": "text",
        "id": "EL2KykNVzGmu"
      },
      "source": [
        "5 items profile are being constructed as an example, basd on top 5 sushi places in India. Sushi A, Sushi B, Sushi C, Sushi D and Sushi E.<br>\n",
        "\n",
        "<img src = \"https://raw.githubusercontent.com/insaid2018/Term-4/master/images/reco1.PNG\">"
      ]
    },
    {
      "cell_type": "markdown",
      "metadata": {
        "colab_type": "text",
        "id": "ZTzDdYaQzGmv"
      },
      "source": [
        "Focusing on the featured words in the tables: Salmon, Tuna, Eel, Crab and Ramen.\n",
        "\n",
        "<img src = \"https://raw.githubusercontent.com/insaid2018/Term-4/master/images/reco3.PNG\">"
      ]
    },
    {
      "cell_type": "markdown",
      "metadata": {
        "colab_type": "text",
        "id": "hbWGtyTFzGmw"
      },
      "source": [
        "Similarities were being compared between 5 sushi places, to see how many matches. It showed:\n",
        "- 4 matches between Sushi A and Sushi B.\n",
        "- 5 matches between Sushi A and Sushi C.\n",
        "- 4 matches between Sushi A and Sushi D.\n",
        "- 3 matches between Sushi A and Sushi E.\n",
        "\n",
        "\n",
        "**The Best match for Sushi A is Sushi C**"
      ]
    },
    {
      "cell_type": "markdown",
      "metadata": {
        "colab_type": "text",
        "id": "zwK4_2sTzGmx"
      },
      "source": [
        "#### ONE HOT ENCODING "
      ]
    },
    {
      "cell_type": "markdown",
      "metadata": {
        "colab_type": "text",
        "id": "0woUf2aXzGmz"
      },
      "source": [
        "Giving categorical data to a computer for processing is like talking to a tree in Mandarin and expecting a reply.<br>\n",
        "- A one hot encoding is a representation of categorical variables as binary vectors\n",
        "- It is first required that the categorical values be mapped to integer values.\n",
        "- Then, each integer value is respresented as a binary vector that is al zero values except the index of the integer, which is marked wit a 1."
      ]
    },
    {
      "cell_type": "markdown",
      "metadata": {
        "colab_type": "text",
        "id": "IK_25XduzGm0"
      },
      "source": [
        "<div class=\"alert alert-block alert-info\">\n",
        "<b>Source:</b> sklearn.preprocessing.OneHotEncoder\n",
        "</div>"
      ]
    },
    {
      "cell_type": "markdown",
      "metadata": {
        "colab_type": "text",
        "id": "HTPM3ztxzGm1"
      },
      "source": [
        "#### TF-IDF(Term Frequency - Inverse Document Frequency)"
      ]
    },
    {
      "cell_type": "markdown",
      "metadata": {
        "colab_type": "text",
        "id": "ht5gJGOMzGm3"
      },
      "source": [
        "- <font color = red>TF</font> - It signifies the occurrence of the word in a document.\n",
        "\n",
        "\n",
        "<img src = \"https://raw.githubusercontent.com/insaid2018/Term-4/master/images/tf.PNG\">\n",
        "\n",
        "- <font color = red>IDF</font> - It signifies the rarity of the word as the word occuring in the document.\n",
        "\n",
        "<img src = \"https://raw.githubusercontent.com/insaid2018/Term-4/master/images/idf.PNG\">\n",
        "\n",
        "- <font color = red>TF-IDF</font> - It is a measure used to evaluate how important a word is to a document in a document corpus. The importance of word increases proportionally to the number of times a word appears in the document but is offset by the frequency of the word in the corpus.\n",
        "\n",
        "\n",
        "TF-IDF is used mainly because of two reasons:\n",
        "- Suppose we search for \"the rise of AI\" on Google. It is certain that \"the\" will occur more frequently than \"AI\", but the relative importance of AI is higher.\n",
        "- In such case, TF-IDF weighting negates the effect of high frequency words in determining the importance of an item. "
      ]
    },
    {
      "cell_type": "markdown",
      "metadata": {
        "colab_type": "text",
        "id": "eignefcszGm4"
      },
      "source": [
        "#### COSINE SIMILARITY"
      ]
    },
    {
      "cell_type": "markdown",
      "metadata": {
        "colab_type": "text",
        "id": "KIuT_ArHzGm5"
      },
      "source": [
        "The content based filtering algorithm finds the cosine of the angle between the profile vector and item vector, i.e. __cosine similarity__.\n",
        "\n",
        "<img src = \"https://raw.githubusercontent.com/insaid2018/Term-4/master/images/cos.png\">\n",
        "\n",
        "Based on the cosine value, which ranges from __-1 to 1__, the movies are arranged in __descending order__ and one of the below two approaches is used for recommendations:\n",
        "\n",
        "- __Top-n approach__ : where the top n items are recommended.\n",
        "- __Rating scale approach__ : Where a threshold is set and all the items above that threshold are recommended"
      ]
    },
    {
      "cell_type": "markdown",
      "metadata": {
        "colab_type": "text",
        "id": "PWNEwoCRzGm6"
      },
      "source": [
        "### COLLABORATIVE FILTERING"
      ]
    },
    {
      "cell_type": "markdown",
      "metadata": {
        "colab_type": "text",
        "id": "-AuSRNZOzGm9"
      },
      "source": [
        "Collaborative filtering, also referred as social filtering, filters information by using the recommendations of other people.\n",
        "- It is based on idea that people who agreed in their evaluation of certain items in the past are likely to agree again in the future.\n",
        "- A person who wants to watch a movie for example, might ask for recommendations from others.\n",
        "- This information is used in the decision on which movie to see.\n",
        "\n",
        "\n",
        "This technique is commonly used to build personalized recommendations on the Web. Some popular websites that make use of the collabaorative filtering technology include <font color = red>**Amazon**, **Netflix**, **iTunes**, **LastFM**</font>.<br><br>\n",
        "In collaborative filtering, algorithms are used too make automatic predictions about a user's interests by compiling preferences from several users.<br><br>\n",
        "\n",
        "<img src = \"https://raw.githubusercontent.com/insaid2018/Term-4/master/images/reco.gif\">\n",
        "\n",
        "**Types of Collaborative filtering techniques**<br>\n",
        "- <font color = blue> Neighbourhood Base Approach</font>\n",
        "    - User Based\n",
        "    - Item Based\n",
        "    \n",
        "- <font color = blue>Model Based Approach</font>\n",
        "    - Nearest Neighbours\n",
        "    - Matrix Factorization(SVD)\n",
        "   \n",
        "- <font color = blue>Hybrid Models</font>"
      ]
    },
    {
      "cell_type": "markdown",
      "metadata": {
        "colab_type": "text",
        "id": "XZKGwuEuzGm-"
      },
      "source": [
        "#### NEIGHBOURHOOD BASED APPROACH"
      ]
    },
    {
      "cell_type": "markdown",
      "metadata": {
        "colab_type": "text",
        "id": "HmFY72mBzGnA"
      },
      "source": [
        "Recommender systems based on neighborhood automate the common principle of word-of-mouth, where one relies on the opinion of like-minded people or other trusted sources to evaluate the value of an item (movie, book, articles, album, etc.) according to his own preferences."
      ]
    },
    {
      "cell_type": "markdown",
      "metadata": {
        "colab_type": "text",
        "id": "-VxZyt29zGnA"
      },
      "source": [
        "<img src = \"https://raw.githubusercontent.com/insaid2018/Term-4/master/images/rec13.png\">"
      ]
    },
    {
      "cell_type": "markdown",
      "metadata": {
        "colab_type": "text",
        "id": "b0wgHN-szGnC"
      },
      "source": [
        "In the image below, there are three user rating on five movies.\n",
        "- The rating is from 1 to 5.\n",
        "- 1 indidcates that the user does not like the movie at all.\n",
        "- 5 indicated the user adores it.\n",
        "- ? means that the movie hasn't been rated by the user.\n",
        "\n",
        "<img src = \"https://raw.githubusercontent.com/insaid2018/Term-4/master/images/reco5.PNG\">"
      ]
    },
    {
      "cell_type": "markdown",
      "metadata": {
        "colab_type": "text",
        "id": "xAKjQg-LzGnD"
      },
      "source": [
        "The objective is to recommend top-N movies to a specific user, in here for Alex. In order to accomplish it,t he ratings of movies that are not not rated by Alex need to be prdicted first."
      ]
    },
    {
      "cell_type": "markdown",
      "metadata": {
        "colab_type": "text",
        "id": "BZ2JuKkQzGnE"
      },
      "source": [
        "#### User Based Collbaorative Filtering<br>\n",
        "**<font color = red>Step 1:</font> Claculating similarity between Alex and all other users.**"
      ]
    },
    {
      "cell_type": "markdown",
      "metadata": {
        "colab_type": "text",
        "id": "DC_AEsNkzGnF"
      },
      "source": [
        "The calculation for the similarity between Alex and Bob can be derived as follows: \n",
        "\n",
        "\n",
        "\\begin{align}\n",
        "sim(Alex, Bob) = \\frac{(4 * 5 + 2 * 3 + 4 * 3)}{[sqrt(4²+ 2²+ 4²) * sqrt(5² + 3² + 3²)]} = 0.97\\\\\n",
        "\\end{align}"
      ]
    },
    {
      "cell_type": "markdown",
      "metadata": {
        "colab_type": "text",
        "id": "J8cOwqa3zGnG"
      },
      "source": [
        "**<font color = red>Step 2:</font> Predict the ratings of the movies thata re rated by Alex**"
      ]
    },
    {
      "cell_type": "markdown",
      "metadata": {
        "colab_type": "text",
        "id": "PaFG9MZgzGnH"
      },
      "source": [
        "First k value is needs to be calculated by injecting the similarity values:\n",
        "\n",
        "\\begin{align}\n",
        "k = \\frac{1}{(0.97+1)} = 0.51\\\\\n",
        "\\end{align}"
      ]
    },
    {
      "cell_type": "markdown",
      "metadata": {
        "colab_type": "text",
        "id": "VtnUDevRzGnI"
      },
      "source": [
        "Now the movie Thor unrated by Alex can be worked by following calculation\n",
        "\n",
        "\\begin{align}\n",
        "R(Alex, Thor) =\\ k * [sim(Alex, Bob) * R(Bob, Thor)+ sim(Alex, Tom) * R(Tom, Thor)]= 0.51 * (0.97 * 4 + 1 * 4) = 4.02\\\\\n",
        "\\end{align}"
      ]
    },
    {
      "cell_type": "markdown",
      "metadata": {
        "colab_type": "text",
        "id": "XCOUOprjzGnK"
      },
      "source": [
        "<img src = \"https://raw.githubusercontent.com/insaid2018/Term-4/master/images/reco6.PNG\">"
      ]
    },
    {
      "cell_type": "markdown",
      "metadata": {
        "colab_type": "text",
        "id": "CbqAgs7KzGnL"
      },
      "source": [
        "**<font color = red>Step 3:</font> Select top-2 rated movies**<br>\n",
        "Since now the non-rated movie have been predicted, it is starightforward to find top-2 movies, which are Spider-man and Thor.  "
      ]
    },
    {
      "cell_type": "markdown",
      "metadata": {
        "colab_type": "text",
        "id": "MiSxm8NKzGnM"
      },
      "source": [
        "#### Item-Based Collaborative Filtering"
      ]
    },
    {
      "cell_type": "markdown",
      "metadata": {
        "colab_type": "text",
        "id": "JLD7GLlFzGnO"
      },
      "source": [
        "**<font color = red>Step 1:</font>Transpose the user-item matrix to the item-user matrix**"
      ]
    },
    {
      "cell_type": "markdown",
      "metadata": {
        "colab_type": "text",
        "id": "BPAH1YKXzGnP"
      },
      "source": [
        "<img src = \"https://raw.githubusercontent.com/insaid2018/Term-4/master/images/reco7.PNG\">"
      ]
    },
    {
      "cell_type": "markdown",
      "metadata": {
        "colab_type": "text",
        "id": "EdMOl8A3zGnQ"
      },
      "source": [
        "**<font color = red>Step 2:</font> Calculate the similarity between any two items and fill up the item-item similarity matrix**"
      ]
    },
    {
      "cell_type": "markdown",
      "metadata": {
        "colab_type": "text",
        "id": "Bdd90V5hzGnR"
      },
      "source": [
        "Calculating similarity between Avenger and Star wars is demonstrated below:\n",
        "\n",
        "\\begin{align}\n",
        "sim(Avengers, Star wars) = \\frac{(4 * 2 + 5 * 3)}{[sqrt(4² + 5²) * sqrt(2² + 3²)]} = 0.99624059\\\\\n",
        "\\end{align}"
      ]
    },
    {
      "cell_type": "markdown",
      "metadata": {
        "colab_type": "text",
        "id": "7CX3sR8_zGnT"
      },
      "source": [
        "In the similar way, the item-item similarity matrix is calculated and filled in the below table, where 0 means the similarity between the two movies cannot be calculated due to **data sparsity**."
      ]
    },
    {
      "cell_type": "markdown",
      "metadata": {
        "colab_type": "text",
        "id": "99mIWqtnzGnU"
      },
      "source": [
        "<img src = \"https://raw.githubusercontent.com/insaid2018/Term-4/master/images/reco8.PNG\">"
      ]
    },
    {
      "cell_type": "markdown",
      "metadata": {
        "colab_type": "text",
        "id": "KwF_6MTAzGnV"
      },
      "source": [
        "**<font color = red>Step 3:</font> Predict the ratings of movies that are rated by Alex**"
      ]
    },
    {
      "cell_type": "markdown",
      "metadata": {
        "colab_type": "text",
        "id": "Y20xWxTSzGnV"
      },
      "source": [
        "After builidng the item-item similarity matrix, the rating can be injected which are not present as following:\n",
        "\n",
        "\\begin{align}\n",
        "R(Alex, Thor) = \\frac{(sim(Thor,Avengers) * R(Alex,Avengers) + sim(Thor, Iron man) * R(Alex, Iron man))}{(sim(Thor, Avengers) + sim(Thor, Iron man))} = 4\\\\\n",
        "\\end{align}"
      ]
    },
    {
      "cell_type": "markdown",
      "metadata": {
        "colab_type": "text",
        "id": "kU-J5IM5zGnX"
      },
      "source": [
        "**<font color = red>Step 4:</font> Select top-2 rated movies for Alex**"
      ]
    },
    {
      "cell_type": "markdown",
      "metadata": {
        "colab_type": "text",
        "id": "PXNvtXDxzGnX"
      },
      "source": [
        "It in now obvious here that three movies tie for second place, so the top-2 rated movies by Alex is comprised of Spider-man and one of the three tied movies - Avengers, Thor and Iron man.\n",
        "\n",
        "<img src = \"https://raw.githubusercontent.com/insaid2018/Term-4/master/images/reco9.PNG\">"
      ]
    },
    {
      "cell_type": "markdown",
      "metadata": {
        "colab_type": "text",
        "id": "0-JiWR62zGnY"
      },
      "source": [
        "#### MODEL BASED APPROACH"
      ]
    },
    {
      "cell_type": "markdown",
      "metadata": {
        "colab_type": "text",
        "id": "lvY43I2WzGnZ"
      },
      "source": [
        "<img src = \"https://raw.githubusercontent.com/insaid2018/Term-4/master/images/modelbased.PNG\">"
      ]
    },
    {
      "cell_type": "markdown",
      "metadata": {
        "colab_type": "text",
        "id": "DpDYbCYtzGnb"
      },
      "source": [
        "#### Clustering based approach"
      ]
    },
    {
      "cell_type": "markdown",
      "metadata": {
        "colab_type": "text",
        "id": "ZrQ9q3oxzGnd"
      },
      "source": [
        "In clustering based approach, the recommendations are transformed into a clustering like problem, where the similarity measure is based on \"How close two items are, while generating recommendations\"?\n",
        "- The measure for generating recommednation will be on the basis of similarity of two items like vector distance between these itmes.\n",
        "- The idea is same as that of memory based recommendations, using similarity between user/items and use them as weights to predict a rating from a user and an item.\n",
        "- In this the only difference is that similarities are calculated based on an unspervised learning model, rather than Pearson correlation or cosine similarity.\n",
        "- In this, we limit the number of similar users as k, which makes the system more scalable."
      ]
    },
    {
      "cell_type": "markdown",
      "metadata": {
        "colab_type": "text",
        "id": "JPX8k9UdzGnf"
      },
      "source": [
        "<img src = \"https://raw.githubusercontent.com/insaid2018/Term-4/master/images/clustering.jpg\">"
      ]
    },
    {
      "cell_type": "markdown",
      "metadata": {
        "colab_type": "text",
        "id": "w5PbTvgzzGng"
      },
      "source": [
        "#### Matrix Factorization"
      ]
    },
    {
      "cell_type": "markdown",
      "metadata": {
        "colab_type": "text",
        "id": "75NtxhAHzGng"
      },
      "source": [
        "**Most important technique in recommendation system**<br><br>\n",
        "- When a user gives feedback to a cerrtain movie they saw, this collection of feedback can be collected in the form of a matrix.\n",
        "- Each row represents each users,\n",
        "- Each column represents different movies.\n",
        "- The matrix will be sparse since not everyone is going to watch every movies."
      ]
    },
    {
      "cell_type": "markdown",
      "metadata": {
        "colab_type": "text",
        "id": "5KxjHFLLzGnh"
      },
      "source": [
        "<img src = \"https://raw.githubusercontent.com/insaid2018/Term-4/master/images/rec14.png\">"
      ]
    },
    {
      "cell_type": "markdown",
      "metadata": {
        "colab_type": "text",
        "id": "LbmNGmsszGni"
      },
      "source": [
        "The idea behind such models is that the preference of a user can be determined by a small number of hidden factors. We can call these factors as **Embeddings**.<br><br>\n",
        "\n",
        "**Let's understand what is SVD**<br><br>\n",
        "Singular Value Decomposition(SVD) is a variability localization technique in which we represent data in form of matrix and then reduce the number of columns it has in order to maximize loss of dimensionality while minimizing loss of variability in the data being processed.<br>\n",
        "Why wouldn’t the data be lost? The answer for that question is the essence of SVD.\n",
        "\n",
        "Basically, SVD breaks a matrix into three other matrices called u, v, and d.\n",
        "\n",
        "1- A is the real matrix with m*n elements.\n",
        "\n",
        "2- U is an Orthogonal matrix with m*m elements\n",
        "\n",
        "3- V is an Orthogonal matrix with n*n elements.\n",
        "\n",
        "4- D is a diagonal matrix with m*n elements.\n",
        "\n",
        "Orthogonal matrix is a matrix that does not get its properties changed if multiplied by other numbers."
      ]
    },
    {
      "cell_type": "markdown",
      "metadata": {
        "colab_type": "text",
        "id": "Vq7t4ocxzGnj"
      },
      "source": [
        "<img src = \"https://raw.githubusercontent.com/insaid2018/Term-4/master/images/svd.png\">"
      ]
    },
    {
      "cell_type": "markdown",
      "metadata": {
        "colab_type": "text",
        "id": "PobDFi6bzGnl"
      },
      "source": [
        "**What is the use of it?**<br><br>\n",
        "When we decompose our matrix A into (U, D, V), a few left-most columns of all three matrices represent almost all the information we need to recover our actual data. For example 92% of the information in just 5% of total columns which is a pretty good deal given that you have reduced the size of your data set tremendously.\n",
        "\n",
        "This means that SVD found some relation between all the columns of the matrix A and represented this same information with fewer columns.\n",
        "\n",
        "The curse of dimensionality is no longer able to affect your performance."
      ]
    },
    {
      "cell_type": "markdown",
      "metadata": {
        "colab_type": "text",
        "id": "HVUR4qHXzGnm"
      },
      "source": [
        "**Matrix decompostion can be formulated as  an optimization problem with loss functions and constraints**"
      ]
    },
    {
      "cell_type": "markdown",
      "metadata": {
        "colab_type": "text",
        "id": "eDqnY8OFzGnm"
      },
      "source": [
        "We can understand embeddings as low dimensional hidden factors for items and users.<br>\n",
        "Let's say, we have 5 dimensional (D or n_factors = 5) embeddings for both items and users. Then for user-X and movie-A, we can say those 5 numbers might represent 5 different characterestics about the movies, like:\n",
        "- How much movie-A is sci-fi intense?\n",
        "- How recent is the movie?\n",
        "- How much special effects ar in movie?\n",
        "- How dialogue drive is the movie?\n",
        "\n",
        "\n",
        "Like wise some numbers in user embedding matrix might represents,\n",
        "- How much does user-X like sci-fi movies?\n",
        "- How much does user-X like recent movies?"
      ]
    },
    {
      "cell_type": "markdown",
      "metadata": {
        "colab_type": "text",
        "id": "Km76fY01zGno"
      },
      "source": [
        "<img src= \"https://raw.githubusercontent.com/insaid2018/Term-4/master/images/Shubham's%20crap.PNG\">\n",
        "\n",
        "- Source: [https://www.youtube.com/watch?v=ZspR5PZemcs](https://www.youtube.com/watch?v=ZspR5PZemcs)"
      ]
    },
    {
      "cell_type": "markdown",
      "metadata": {
        "colab_type": "text",
        "id": "8TxHEGGCzGno"
      },
      "source": [
        "### HYBRID MODELS"
      ]
    },
    {
      "cell_type": "markdown",
      "metadata": {
        "colab_type": "text",
        "id": "3L7YokaXzGnr"
      },
      "source": [
        "Both content-based filtering and collaborative filtering have there strengths and weaknesses.<br>\n",
        "Content-based filtering:\n",
        "- Content description\n",
        "- Over-specialization\n",
        "- Subjective Domain problem\n",
        "\n",
        "Collabprative filtering:\n",
        "- Early rater problem\n",
        "- Sparsity\n",
        "- Data Scalability\n",
        "\n",
        "A system that combines content-based filtering and collaborative filtering could take advantage from both the representation of the content as well as similarities among users."
      ]
    },
    {
      "cell_type": "markdown",
      "metadata": {
        "colab_type": "text",
        "id": "tsaKtx3gzGns"
      },
      "source": [
        "**Collaboration via Content**<br><br>\n",
        "- In this, both the rated items and content of the items are used to construct a user profile. \n",
        "- The selection of terms which describe the content of the items is done using content-based techniques.\n",
        "- The weight of terms indicate how important they are to the users.\n",
        "\n",
        "Five terms and movie ratings:\n",
        "<img src = \"https://raw.githubusercontent.com/insaid2018/Term-4/master/images/cvc.PNG\">"
      ]
    },
    {
      "cell_type": "markdown",
      "metadata": {
        "colab_type": "text",
        "id": "JHvFcsUCzGnt"
      },
      "source": [
        "In here,\n",
        "- In collaborative, instead of determining the correlation with users ratings, term weights are used.\n",
        "- Unlike content based filtering, predicitions are based on the impressions of other users which could lead to recommendations outside the normal environment of a user."
      ]
    },
    {
      "cell_type": "markdown",
      "metadata": {
        "colab_type": "text",
        "id": "wpl2qcZbzGnu"
      },
      "source": [
        "### PROS AND CONS OF HYBRID MODELS"
      ]
    },
    {
      "cell_type": "markdown",
      "metadata": {
        "colab_type": "text",
        "id": "9nlYhf_hzGnu"
      },
      "source": [
        "Pros:\n",
        "- Fast to implement\n",
        "- Fast to execute\n",
        "- Not much storage space required\n",
        "- Very successful in broad applications for large populations such as shelf layout in retail stores.\n",
        "\n",
        "Cons:\n",
        "- Not suitable of knowledge of prefernce change rapidly.\n",
        "- Sometime may lead to stupid recommendations"
      ]
    },
    {
      "cell_type": "markdown",
      "metadata": {
        "colab_type": "text",
        "id": "d6qbbQlUzGnv"
      },
      "source": [
        "## The MovieLens Dataset\n",
        "One of the most common datasets that is available on the internet for building a Recommender System is the [MovieLens DataSet](https://grouplens.org/datasets/movielens/). This version of the dataset that I'm working with ([1M](https://grouplens.org/datasets/movielens/1m/)) contains 1,000,209 anonymous ratings of approximately 3,900 movies made by 6,040 MovieLens users who joined MovieLens in 2000.\n",
        "\n",
        "The data was collected by GroupLens researchers over various periods of time, depending on the size of the set. This 1M version was released on February 2003. Users were selected at random for inclusion. All users selected had rated at least 20 movies. Each user is represented by an id, and no other information is provided.\n",
        "\n",
        "The original data are contained in three files, [movies.dat](https://github.com/khanhnamle1994/movielens/blob/master/dat/movies.dat), [ratings.dat](https://github.com/khanhnamle1994/movielens/blob/master/dat/ratings.dat) and [users.dat](https://github.com/khanhnamle1994/movielens/blob/master/dat/users.dat). To make it easier to work with the data, I converted them into csv files. The process can be viewed in my [Data Processing Notebook].\n",
        "\n",
        "<img src =\"https://raw.githubusercontent.com/insaid2018/Term-4/master/images/movie.jpeg\">"
      ]
    },
    {
      "cell_type": "markdown",
      "metadata": {
        "colab_type": "text",
        "id": "O6y496dOzGnv"
      },
      "source": [
        "## Data Preparation"
      ]
    },
    {
      "cell_type": "code",
      "metadata": {
        "colab_type": "code",
        "id": "I_YRg_pMzGnx",
        "colab": {}
      },
      "source": [
        "import pandas as pd\n",
        "import numpy as np\n",
        "import matplotlib.pyplot as plt\n",
        "\n",
        "# Reading ratings file\n",
        "# Ignore the timestamp column\n",
        "ratings = pd.read_csv('https://raw.githubusercontent.com/insaid2018/Term-4/master/Data/Assignment/ratings.csv', sep='\\t', encoding='latin-1', usecols=['user_id', 'movie_id', 'rating'])\n",
        "\n",
        "# Reading users file\n",
        "users = pd.read_csv('https://raw.githubusercontent.com/insaid2018/Term-4/master/Data/Assignment/users.csv', sep='\\t', encoding='latin-1', usecols=['user_id', 'gender', 'zipcode', 'age_desc', 'occ_desc'])\n",
        "\n",
        "# Reading movies file\n",
        "movies = pd.read_csv('https://raw.githubusercontent.com/insaid2018/Term-4/master/Data/Assignment/movies.csv', sep='\\t', encoding='latin-1', usecols=['movie_id', 'title', 'genres'])"
      ],
      "execution_count": 0,
      "outputs": []
    },
    {
      "cell_type": "markdown",
      "metadata": {
        "colab_type": "text",
        "id": "bJWb-q8mzGn2"
      },
      "source": [
        "Now lets take a peak into the content of each file to understand them better.\n",
        "\n",
        "### Ratings Dataset"
      ]
    },
    {
      "cell_type": "code",
      "metadata": {
        "colab_type": "code",
        "id": "ALtZ-bxGzGn2",
        "outputId": "c690a589-73c8-46ea-f165-3ad2531cd9ad",
        "colab": {}
      },
      "source": [
        "# Check the top 5 rows\n",
        "print(ratings.head())"
      ],
      "execution_count": 0,
      "outputs": [
        {
          "output_type": "stream",
          "text": [
            "   user_id  movie_id  rating\n",
            "0        1      1193       5\n",
            "1        1       661       3\n",
            "2        1       914       3\n",
            "3        1      3408       4\n",
            "4        1      2355       5\n"
          ],
          "name": "stdout"
        }
      ]
    },
    {
      "cell_type": "code",
      "metadata": {
        "colab_type": "code",
        "id": "m1dI75z0zGn6",
        "outputId": "80a65a6c-5d41-4ee5-9bef-1a444ee43bae",
        "colab": {}
      },
      "source": [
        "# Check the file info\n",
        "print(ratings.info())"
      ],
      "execution_count": 0,
      "outputs": [
        {
          "output_type": "stream",
          "text": [
            "<class 'pandas.core.frame.DataFrame'>\n",
            "RangeIndex: 1000209 entries, 0 to 1000208\n",
            "Data columns (total 3 columns):\n",
            "user_id     1000209 non-null int64\n",
            "movie_id    1000209 non-null int64\n",
            "rating      1000209 non-null int64\n",
            "dtypes: int64(3)\n",
            "memory usage: 22.9 MB\n",
            "None\n"
          ],
          "name": "stdout"
        }
      ]
    },
    {
      "cell_type": "markdown",
      "metadata": {
        "colab_type": "text",
        "id": "QHEZlaMBzGn-"
      },
      "source": [
        "This confirms that there are 1M ratings for different user and movie combinations.\n",
        "\n",
        "### Users Dataset"
      ]
    },
    {
      "cell_type": "code",
      "metadata": {
        "colab_type": "code",
        "id": "iOy7FqUczGn-",
        "outputId": "4eeaaf03-5d38-4626-b391-f86daab09023",
        "colab": {}
      },
      "source": [
        "# Check the top 5 rows\n",
        "print(users.head())"
      ],
      "execution_count": 0,
      "outputs": [
        {
          "output_type": "stream",
          "text": [
            "   user_id gender zipcode  age_desc              occ_desc\n",
            "0        1      F   48067  Under 18          K-12 student\n",
            "1        2      M   70072       56+         self-employed\n",
            "2        3      M   55117     25-34             scientist\n",
            "3        4      M   02460     45-49  executive/managerial\n",
            "4        5      M   55455     25-34                writer\n"
          ],
          "name": "stdout"
        }
      ]
    },
    {
      "cell_type": "code",
      "metadata": {
        "colab_type": "code",
        "id": "KmSndzmDzGoD",
        "outputId": "1a8e5db2-7fef-4f42-d5ac-b1253e596fa7",
        "colab": {}
      },
      "source": [
        "# Check the file info\n",
        "print(users.info())"
      ],
      "execution_count": 0,
      "outputs": [
        {
          "output_type": "stream",
          "text": [
            "<class 'pandas.core.frame.DataFrame'>\n",
            "RangeIndex: 6040 entries, 0 to 6039\n",
            "Data columns (total 5 columns):\n",
            "user_id     6040 non-null int64\n",
            "gender      6040 non-null object\n",
            "zipcode     6040 non-null object\n",
            "age_desc    6040 non-null object\n",
            "occ_desc    6040 non-null object\n",
            "dtypes: int64(1), object(4)\n",
            "memory usage: 236.0+ KB\n",
            "None\n"
          ],
          "name": "stdout"
        }
      ]
    },
    {
      "cell_type": "markdown",
      "metadata": {
        "colab_type": "text",
        "id": "lpL6nzwwzGoG"
      },
      "source": [
        "This confirms that there are 6040 users and we have 5 features for each (unique user ID, gender, age, occupation and the zip code they are living in).\n",
        "\n",
        "### Movies Dataset"
      ]
    },
    {
      "cell_type": "code",
      "metadata": {
        "colab_type": "code",
        "id": "OKbJxVESzGoH",
        "outputId": "82aa13f3-87a2-49ac-ddd5-72142b33f7da",
        "colab": {}
      },
      "source": [
        "# Check the top 5 rows\n",
        "print(movies.head())"
      ],
      "execution_count": 0,
      "outputs": [
        {
          "output_type": "stream",
          "text": [
            "   movie_id                               title                        genres\n",
            "0         1                    Toy Story (1995)   Animation|Children's|Comedy\n",
            "1         2                      Jumanji (1995)  Adventure|Children's|Fantasy\n",
            "2         3             Grumpier Old Men (1995)                Comedy|Romance\n",
            "3         4            Waiting to Exhale (1995)                  Comedy|Drama\n",
            "4         5  Father of the Bride Part II (1995)                        Comedy\n"
          ],
          "name": "stdout"
        }
      ]
    },
    {
      "cell_type": "code",
      "metadata": {
        "colab_type": "code",
        "id": "-dn0DTq4zGoK",
        "outputId": "c948c614-fc45-4593-e96b-4e58a378c1cb",
        "colab": {}
      },
      "source": [
        "# Check the file info\n",
        "print(movies.info())"
      ],
      "execution_count": 0,
      "outputs": [
        {
          "output_type": "stream",
          "text": [
            "<class 'pandas.core.frame.DataFrame'>\n",
            "RangeIndex: 3883 entries, 0 to 3882\n",
            "Data columns (total 3 columns):\n",
            "movie_id    3883 non-null int64\n",
            "title       3883 non-null object\n",
            "genres      3883 non-null object\n",
            "dtypes: int64(1), object(2)\n",
            "memory usage: 91.1+ KB\n",
            "None\n"
          ],
          "name": "stdout"
        }
      ]
    },
    {
      "cell_type": "markdown",
      "metadata": {
        "colab_type": "text",
        "id": "ibERsMYjzGoN"
      },
      "source": [
        "This dataset contains attributes of the 3883 movies. There are 3 columns including the movie ID, their titles, and their genres. Genres are pipe-separated and are selected from 18 genres (Action, Adventure, Animation, Children's, Comedy, Crime, Documentary, Drama, Fantasy, Film-Noir, Horror, Musical, Mystery, Romance, Sci-Fi, Thriller, War, Western)."
      ]
    },
    {
      "cell_type": "markdown",
      "metadata": {
        "colab_type": "text",
        "id": "YUXUVeQPzGoO"
      },
      "source": [
        "## Data Exploration\n",
        "### Ratings"
      ]
    },
    {
      "cell_type": "code",
      "metadata": {
        "colab_type": "code",
        "id": "eIk9BdplzGoP",
        "outputId": "e6158c48-258f-497d-b2da-ef99ec3853dc",
        "colab": {}
      },
      "source": [
        "# Get summary statistics of rating\n",
        "ratings['rating'].describe()"
      ],
      "execution_count": 0,
      "outputs": [
        {
          "output_type": "execute_result",
          "data": {
            "text/plain": [
              "count    1.000209e+06\n",
              "mean     3.581564e+00\n",
              "std      1.117102e+00\n",
              "min      1.000000e+00\n",
              "25%      3.000000e+00\n",
              "50%      4.000000e+00\n",
              "75%      4.000000e+00\n",
              "max      5.000000e+00\n",
              "Name: rating, dtype: float64"
            ]
          },
          "metadata": {
            "tags": []
          },
          "execution_count": 9
        }
      ]
    },
    {
      "cell_type": "code",
      "metadata": {
        "colab_type": "code",
        "id": "KQsze5t1zGoS",
        "outputId": "f3b2a205-b4d8-4911-d78a-e11af0551be4",
        "colab": {}
      },
      "source": [
        "import seaborn as sns\n",
        "sns.set_style('whitegrid')\n",
        "sns.set(font_scale=1.5)\n",
        "%matplotlib inline\n",
        "\n",
        "# Display distribution of rating\n",
        "sns.distplot(ratings['rating'].fillna(ratings['rating'].median()))"
      ],
      "execution_count": 0,
      "outputs": [
        {
          "output_type": "execute_result",
          "data": {
            "text/plain": [
              "<matplotlib.axes._subplots.AxesSubplot at 0x1c10504a208>"
            ]
          },
          "metadata": {
            "tags": []
          },
          "execution_count": 10
        },
        {
          "output_type": "display_data",
          "data": {
            "image/png": "[encoded data removed]",
            "text/plain": [
              "<Figure size 432x288 with 1 Axes>"
            ]
          },
          "metadata": {
            "tags": [],
            "needs_background": "light"
          }
        }
      ]
    },
    {
      "cell_type": "markdown",
      "metadata": {
        "colab_type": "text",
        "id": "nXpuW6cizGoV"
      },
      "source": [
        "- It appears that users are quite generous in their ratings. \n",
        "- The mean rating is 3.58 on a scale of 5. Half the movies have a rating of 4 and 5.\n",
        "- Each user rated at least 20 movies, so I doubt the distribution could be caused just by chance variance in the quality of movies.\n",
        "\n",
        "Let's also take a look at a subset of 20 movies with the highest rating."
      ]
    },
    {
      "cell_type": "markdown",
      "metadata": {
        "colab_type": "text",
        "id": "wifspEz6zGoW"
      },
      "source": [
        "#### Join all 3 files into one dataframe"
      ]
    },
    {
      "cell_type": "code",
      "metadata": {
        "colab_type": "code",
        "id": "CZizbbv0zGoW",
        "colab": {}
      },
      "source": [
        "dataset = pd.merge(pd.merge(movies, ratings),users)"
      ],
      "execution_count": 0,
      "outputs": []
    },
    {
      "cell_type": "markdown",
      "metadata": {
        "colab_type": "text",
        "id": "WXoWnte1zGoZ"
      },
      "source": [
        "#### Display 20 movies with highest ratings"
      ]
    },
    {
      "cell_type": "code",
      "metadata": {
        "colab_type": "code",
        "id": "uimNZ5CjzGoa",
        "outputId": "de66d929-99a5-453c-f62d-2e95ce1371fc",
        "colab": {}
      },
      "source": [
        "dataset[['title','genres','rating']].sort_values('rating', ascending=False).head(20)"
      ],
      "execution_count": 0,
      "outputs": [
        {
          "output_type": "execute_result",
          "data": {
            "text/html": [
              "<div>\n",
              "<style scoped>\n",
              "    .dataframe tbody tr th:only-of-type {\n",
              "        vertical-align: middle;\n",
              "    }\n",
              "\n",
              "    .dataframe tbody tr th {\n",
              "        vertical-align: top;\n",
              "    }\n",
              "\n",
              "    .dataframe thead th {\n",
              "        text-align: right;\n",
              "    }\n",
              "</style>\n",
              "<table border=\"1\" class=\"dataframe\">\n",
              "  <thead>\n",
              "    <tr style=\"text-align: right;\">\n",
              "      <th></th>\n",
              "      <th>title</th>\n",
              "      <th>genres</th>\n",
              "      <th>rating</th>\n",
              "    </tr>\n",
              "  </thead>\n",
              "  <tbody>\n",
              "    <tr>\n",
              "      <th>0</th>\n",
              "      <td>Toy Story (1995)</td>\n",
              "      <td>Animation|Children's|Comedy</td>\n",
              "      <td>5</td>\n",
              "    </tr>\n",
              "    <tr>\n",
              "      <th>489283</th>\n",
              "      <td>American Beauty (1999)</td>\n",
              "      <td>Comedy|Drama</td>\n",
              "      <td>5</td>\n",
              "    </tr>\n",
              "    <tr>\n",
              "      <th>489259</th>\n",
              "      <td>Election (1999)</td>\n",
              "      <td>Comedy</td>\n",
              "      <td>5</td>\n",
              "    </tr>\n",
              "    <tr>\n",
              "      <th>489257</th>\n",
              "      <td>Matrix, The (1999)</td>\n",
              "      <td>Action|Sci-Fi|Thriller</td>\n",
              "      <td>5</td>\n",
              "    </tr>\n",
              "    <tr>\n",
              "      <th>489256</th>\n",
              "      <td>Dead Ringers (1988)</td>\n",
              "      <td>Drama|Thriller</td>\n",
              "      <td>5</td>\n",
              "    </tr>\n",
              "    <tr>\n",
              "      <th>489237</th>\n",
              "      <td>Rushmore (1998)</td>\n",
              "      <td>Comedy</td>\n",
              "      <td>5</td>\n",
              "    </tr>\n",
              "    <tr>\n",
              "      <th>489236</th>\n",
              "      <td>Simple Plan, A (1998)</td>\n",
              "      <td>Crime|Thriller</td>\n",
              "      <td>5</td>\n",
              "    </tr>\n",
              "    <tr>\n",
              "      <th>489226</th>\n",
              "      <td>Hands on a Hard Body (1996)</td>\n",
              "      <td>Documentary</td>\n",
              "      <td>5</td>\n",
              "    </tr>\n",
              "    <tr>\n",
              "      <th>489224</th>\n",
              "      <td>Pleasantville (1998)</td>\n",
              "      <td>Comedy</td>\n",
              "      <td>5</td>\n",
              "    </tr>\n",
              "    <tr>\n",
              "      <th>489212</th>\n",
              "      <td>Say Anything... (1989)</td>\n",
              "      <td>Comedy|Drama|Romance</td>\n",
              "      <td>5</td>\n",
              "    </tr>\n",
              "    <tr>\n",
              "      <th>489207</th>\n",
              "      <td>Beetlejuice (1988)</td>\n",
              "      <td>Comedy|Fantasy</td>\n",
              "      <td>5</td>\n",
              "    </tr>\n",
              "    <tr>\n",
              "      <th>489190</th>\n",
              "      <td>Roger &amp; Me (1989)</td>\n",
              "      <td>Comedy|Documentary</td>\n",
              "      <td>5</td>\n",
              "    </tr>\n",
              "    <tr>\n",
              "      <th>489172</th>\n",
              "      <td>Buffalo 66 (1998)</td>\n",
              "      <td>Action|Comedy|Drama</td>\n",
              "      <td>5</td>\n",
              "    </tr>\n",
              "    <tr>\n",
              "      <th>489171</th>\n",
              "      <td>Out of Sight (1998)</td>\n",
              "      <td>Action|Crime|Romance</td>\n",
              "      <td>5</td>\n",
              "    </tr>\n",
              "    <tr>\n",
              "      <th>489170</th>\n",
              "      <td>I Went Down (1997)</td>\n",
              "      <td>Action|Comedy|Crime</td>\n",
              "      <td>5</td>\n",
              "    </tr>\n",
              "    <tr>\n",
              "      <th>489168</th>\n",
              "      <td>Opposite of Sex, The (1998)</td>\n",
              "      <td>Comedy|Drama</td>\n",
              "      <td>5</td>\n",
              "    </tr>\n",
              "    <tr>\n",
              "      <th>489157</th>\n",
              "      <td>Good Will Hunting (1997)</td>\n",
              "      <td>Drama</td>\n",
              "      <td>5</td>\n",
              "    </tr>\n",
              "    <tr>\n",
              "      <th>489152</th>\n",
              "      <td>Fast, Cheap &amp; Out of Control (1997)</td>\n",
              "      <td>Documentary</td>\n",
              "      <td>5</td>\n",
              "    </tr>\n",
              "    <tr>\n",
              "      <th>489149</th>\n",
              "      <td>L.A. Confidential (1997)</td>\n",
              "      <td>Crime|Film-Noir|Mystery|Thriller</td>\n",
              "      <td>5</td>\n",
              "    </tr>\n",
              "    <tr>\n",
              "      <th>489145</th>\n",
              "      <td>Contact (1997)</td>\n",
              "      <td>Drama|Sci-Fi</td>\n",
              "      <td>5</td>\n",
              "    </tr>\n",
              "  </tbody>\n",
              "</table>\n",
              "</div>"
            ],
            "text/plain": [
              "                                      title                            genres  \\\n",
              "0                          Toy Story (1995)       Animation|Children's|Comedy   \n",
              "489283               American Beauty (1999)                      Comedy|Drama   \n",
              "489259                      Election (1999)                            Comedy   \n",
              "489257                   Matrix, The (1999)            Action|Sci-Fi|Thriller   \n",
              "489256                  Dead Ringers (1988)                    Drama|Thriller   \n",
              "489237                      Rushmore (1998)                            Comedy   \n",
              "489236                Simple Plan, A (1998)                    Crime|Thriller   \n",
              "489226          Hands on a Hard Body (1996)                       Documentary   \n",
              "489224                 Pleasantville (1998)                            Comedy   \n",
              "489212               Say Anything... (1989)              Comedy|Drama|Romance   \n",
              "489207                   Beetlejuice (1988)                    Comedy|Fantasy   \n",
              "489190                    Roger & Me (1989)                Comedy|Documentary   \n",
              "489172                    Buffalo 66 (1998)               Action|Comedy|Drama   \n",
              "489171                  Out of Sight (1998)              Action|Crime|Romance   \n",
              "489170                   I Went Down (1997)               Action|Comedy|Crime   \n",
              "489168          Opposite of Sex, The (1998)                      Comedy|Drama   \n",
              "489157             Good Will Hunting (1997)                             Drama   \n",
              "489152  Fast, Cheap & Out of Control (1997)                       Documentary   \n",
              "489149             L.A. Confidential (1997)  Crime|Film-Noir|Mystery|Thriller   \n",
              "489145                       Contact (1997)                      Drama|Sci-Fi   \n",
              "\n",
              "        rating  \n",
              "0            5  \n",
              "489283       5  \n",
              "489259       5  \n",
              "489257       5  \n",
              "489256       5  \n",
              "489237       5  \n",
              "489236       5  \n",
              "489226       5  \n",
              "489224       5  \n",
              "489212       5  \n",
              "489207       5  \n",
              "489190       5  \n",
              "489172       5  \n",
              "489171       5  \n",
              "489170       5  \n",
              "489168       5  \n",
              "489157       5  \n",
              "489152       5  \n",
              "489149       5  \n",
              "489145       5  "
            ]
          },
          "metadata": {
            "tags": []
          },
          "execution_count": 12
        }
      ]
    },
    {
      "cell_type": "markdown",
      "metadata": {
        "colab_type": "text",
        "id": "Voz_DbOnzGoc"
      },
      "source": [
        "### Genres\n",
        "The genres variable will surely be important while building the recommendation engines since it describes the content of the film (i.e. Animation, Horror, Sci-Fi). A basic assumption is that films in the same genre should have similar contents. I'll attempt to see exactly which genres are the most popular."
      ]
    },
    {
      "cell_type": "code",
      "metadata": {
        "colab_type": "code",
        "id": "R-Mv2tNjzGod",
        "outputId": "bf45cfa9-2d0c-4312-c2d2-4c2f18f1e334",
        "colab": {}
      },
      "source": [
        "# Make a census of the genre keywords\n",
        "genre_labels = set()\n",
        "for s in movies['genres'].str.split('|').values:\n",
        "    genre_labels = genre_labels.union(set(s))\n",
        "\n",
        "# Function that counts the number of times each of the genre keywords appear\n",
        "def count_word(dataset, ref_col, census):\n",
        "    keyword_count = dict()\n",
        "    for s in census: \n",
        "        keyword_count[s] = 0\n",
        "    for census_keywords in dataset[ref_col].str.split('|'):        \n",
        "        if type(census_keywords) == float and pd.isnull(census_keywords): \n",
        "            continue        \n",
        "        for s in [s for s in census_keywords if s in census]: \n",
        "            if pd.notnull(s): \n",
        "                keyword_count[s] += 1\n",
        "    #______________________________________________________________________\n",
        "    # convert the dictionary in a list to sort the keywords by frequency\n",
        "    keyword_occurences = []\n",
        "    for k,v in keyword_count.items():\n",
        "        keyword_occurences.append([k,v])\n",
        "    keyword_occurences.sort(key = lambda x:x[1], reverse = True)\n",
        "    return keyword_occurences, keyword_count\n",
        "\n",
        "# Calling this function gives access to a list of genre keywords which are sorted by decreasing frequency\n",
        "keyword_occurences, dum = count_word(movies, 'genres', genre_labels)\n",
        "keyword_occurences[:5]"
      ],
      "execution_count": 0,
      "outputs": [
        {
          "output_type": "execute_result",
          "data": {
            "text/plain": [
              "[['Drama', 1603],\n",
              " ['Comedy', 1200],\n",
              " ['Action', 503],\n",
              " ['Thriller', 492],\n",
              " ['Romance', 471]]"
            ]
          },
          "metadata": {
            "tags": []
          },
          "execution_count": 13
        }
      ]
    },
    {
      "cell_type": "markdown",
      "metadata": {
        "colab_type": "text",
        "id": "_xr9MtzKzGog"
      },
      "source": [
        "The top 5 genres are, in that respect order: \n",
        "1. Drama, \n",
        "2. Comedy, \n",
        "3. Action, \n",
        "4. Thriller, and \n",
        "5. Romance."
      ]
    },
    {
      "cell_type": "markdown",
      "metadata": {
        "colab_type": "text",
        "id": "ordzrZhfzGog"
      },
      "source": [
        "## Content-Based Recommendation Model\n",
        "\n",
        "### Implementation\n",
        "We will build a Content-Based Recommendation Engine that computes similarity between movies based on movie genres. It will suggest movies that are most similar to a particular movie based on its genre. \n",
        "- To do so, I will make use of the file **movies.csv**."
      ]
    },
    {
      "cell_type": "code",
      "metadata": {
        "colab_type": "code",
        "id": "7b1IEZk4zGoi",
        "colab": {}
      },
      "source": [
        "# Break up the big genre string into a string array\n",
        "movies['genres'] = movies['genres'].str.split('|')\n",
        "\n",
        "\n",
        "# Convert genres to string value\n",
        "movies['genres'] = movies['genres'].fillna(\"\").astype('str')"
      ],
      "execution_count": 0,
      "outputs": []
    },
    {
      "cell_type": "markdown",
      "metadata": {
        "colab_type": "text",
        "id": "-A1EZAuszGok"
      },
      "source": [
        "- We do not have a quantitative metric to judge our machine's performance so this will have to be done qualitatively. \n",
        "- In order to do so, we'll use **TfidfVectorizer** function from **scikit-learn**, which transforms text to feature vectors that can be used as input to estimator."
      ]
    },
    {
      "cell_type": "code",
      "metadata": {
        "colab_type": "code",
        "id": "brxKF8C_zGok",
        "outputId": "874cad5a-5fca-4d84-94c1-213bbbf3bde0",
        "colab": {}
      },
      "source": [
        "from sklearn.feature_extraction.text import TfidfVectorizer\n",
        "tf = TfidfVectorizer(analyzer='word',ngram_range=(1, 2),min_df=0, stop_words='english')\n",
        "tfidf_matrix = tf.fit_transform(movies['genres'])\n",
        "tfidf_matrix.shape"
      ],
      "execution_count": 0,
      "outputs": [
        {
          "output_type": "execute_result",
          "data": {
            "text/plain": [
              "(3883, 127)"
            ]
          },
          "metadata": {
            "tags": []
          },
          "execution_count": 15
        }
      ]
    },
    {
      "cell_type": "markdown",
      "metadata": {
        "colab_type": "text",
        "id": "e7rOxbnAzGom"
      },
      "source": [
        "- Further we will be using the **Cosine Similarity** to calculate a numeric quantity that denotes the similarity between two movies. \n",
        "- Since we have used the TF-IDF Vectorizer, calculating the Dot Product will directly give us the Cosine Similarity Score.\n",
        "- Therefore, we will use sklearn's **linear_kernel** instead of cosine_similarities since it is much faster."
      ]
    },
    {
      "cell_type": "code",
      "metadata": {
        "colab_type": "code",
        "id": "m-iQ4w35zGon",
        "outputId": "c8328e28-7da8-4592-8b77-9ea223d580f0",
        "colab": {}
      },
      "source": [
        "from sklearn.metrics.pairwise import linear_kernel\n",
        "cosine_sim = linear_kernel(tfidf_matrix, tfidf_matrix)\n",
        "cosine_sim[:4, :4]"
      ],
      "execution_count": 0,
      "outputs": [
        {
          "output_type": "execute_result",
          "data": {
            "text/plain": [
              "array([[1.        , 0.14193614, 0.09010857, 0.1056164 ],\n",
              "       [0.14193614, 1.        , 0.        , 0.        ],\n",
              "       [0.09010857, 0.        , 1.        , 0.1719888 ],\n",
              "       [0.1056164 , 0.        , 0.1719888 , 1.        ]])"
            ]
          },
          "metadata": {
            "tags": []
          },
          "execution_count": 16
        }
      ]
    },
    {
      "cell_type": "code",
      "metadata": {
        "colab_type": "code",
        "id": "nPXeqx-qzGoq",
        "outputId": "ad3ba4c8-3457-4396-feec-073eeb238ab7",
        "colab": {}
      },
      "source": [
        "cosine_sim.shape"
      ],
      "execution_count": 0,
      "outputs": [
        {
          "output_type": "execute_result",
          "data": {
            "text/plain": [
              "(3883, 3883)"
            ]
          },
          "metadata": {
            "tags": []
          },
          "execution_count": 17
        }
      ]
    },
    {
      "cell_type": "markdown",
      "metadata": {
        "colab_type": "text",
        "id": "GL_9Mr29zGou"
      },
      "source": [
        "- Now have a pairwise cosine similarity matrix for all the movies in the dataset. \n",
        "- Create a function that returns the 20 most similar movies based on the cosine similarity score."
      ]
    },
    {
      "cell_type": "markdown",
      "metadata": {
        "colab_type": "text",
        "id": "b8AXHs4pzGou"
      },
      "source": [
        "#### Build a 1-dimensional array with movie titles"
      ]
    },
    {
      "cell_type": "code",
      "metadata": {
        "colab_type": "code",
        "id": "s-Mqd2TEzGov",
        "colab": {}
      },
      "source": [
        "titles = movies['title']\n",
        "indices = pd.Series(movies.index, index=movies['title'])"
      ],
      "execution_count": 0,
      "outputs": []
    },
    {
      "cell_type": "markdown",
      "metadata": {
        "colab_type": "text",
        "id": "1x61Q-XTzGox"
      },
      "source": [
        "#### Function that get movie recommendations based on the cosine similarity score of movie genres"
      ]
    },
    {
      "cell_type": "code",
      "metadata": {
        "colab_type": "code",
        "id": "Ql7g2p07zGox",
        "colab": {}
      },
      "source": [
        "def genre_recommendations(title):\n",
        "    idx = indices[title]\n",
        "    sim_scores = list(enumerate(cosine_sim[idx]))\n",
        "    sim_scores = sorted(sim_scores, key=lambda x: x[1], reverse=True)\n",
        "    sim_scores = sim_scores[1:21]\n",
        "    movie_indices = [i[0] for i in sim_scores]\n",
        "    return titles.iloc[movie_indices]"
      ],
      "execution_count": 0,
      "outputs": []
    },
    {
      "cell_type": "markdown",
      "metadata": {
        "colab_type": "text",
        "id": "ynlgukRYzGoz"
      },
      "source": [
        "Let's try and get the top recommendations for a few movies and see how good the recommendations are."
      ]
    },
    {
      "cell_type": "code",
      "metadata": {
        "colab_type": "code",
        "id": "iUW2-U9BzGo0",
        "outputId": "3b103c63-7383-4f9f-b026-8fab97fafcf4",
        "colab": {}
      },
      "source": [
        "genre_recommendations('Good Will Hunting (1997)').head(10)"
      ],
      "execution_count": 0,
      "outputs": [
        {
          "output_type": "execute_result",
          "data": {
            "text/plain": [
              "25                                       Othello (1995)\n",
              "26                                  Now and Then (1995)\n",
              "29    Shanghai Triad (Yao a yao yao dao waipo qiao) ...\n",
              "30                               Dangerous Minds (1995)\n",
              "35                              Dead Man Walking (1995)\n",
              "39                      Cry, the Beloved Country (1995)\n",
              "42                                   Restoration (1995)\n",
              "52                                      Lamerica (1994)\n",
              "54                                       Georgia (1995)\n",
              "56                         Home for the Holidays (1995)\n",
              "Name: title, dtype: object"
            ]
          },
          "metadata": {
            "tags": []
          },
          "execution_count": 20
        }
      ]
    },
    {
      "cell_type": "code",
      "metadata": {
        "colab_type": "code",
        "id": "oXV5MuAnzGo3",
        "outputId": "689c8afe-f27d-43cb-9005-f41a3f14f9e6",
        "colab": {}
      },
      "source": [
        "genre_recommendations('Toy Story (1995)').head(10)"
      ],
      "execution_count": 0,
      "outputs": [
        {
          "output_type": "execute_result",
          "data": {
            "text/plain": [
              "1050            Aladdin and the King of Thieves (1996)\n",
              "2072                          American Tail, An (1986)\n",
              "2073        American Tail: Fievel Goes West, An (1991)\n",
              "2285                         Rugrats Movie, The (1998)\n",
              "2286                              Bug's Life, A (1998)\n",
              "3045                                Toy Story 2 (1999)\n",
              "3542                             Saludos Amigos (1943)\n",
              "3682                                Chicken Run (2000)\n",
              "3685    Adventures of Rocky and Bullwinkle, The (2000)\n",
              "236                              Goofy Movie, A (1995)\n",
              "Name: title, dtype: object"
            ]
          },
          "metadata": {
            "tags": []
          },
          "execution_count": 21
        }
      ]
    },
    {
      "cell_type": "code",
      "metadata": {
        "colab_type": "code",
        "id": "xPcxASEmzGo5",
        "outputId": "1b24e9c8-918a-4271-b3b6-6591e5eeede7",
        "colab": {}
      },
      "source": [
        "genre_recommendations('Saving Private Ryan (1998)').head(10)"
      ],
      "execution_count": 0,
      "outputs": [
        {
          "output_type": "execute_result",
          "data": {
            "text/plain": [
              "461            Heaven & Earth (1993)\n",
              "1204        Full Metal Jacket (1987)\n",
              "1214     Boat, The (Das Boot) (1981)\n",
              "1222                    Glory (1989)\n",
              "1545                G.I. Jane (1997)\n",
              "1959      Saving Private Ryan (1998)\n",
              "2358       Thin Red Line, The (1998)\n",
              "2993         Longest Day, The (1962)\n",
              "3559            Flying Tigers (1942)\n",
              "3574    Fighting Seabees, The (1944)\n",
              "Name: title, dtype: object"
            ]
          },
          "metadata": {
            "tags": []
          },
          "execution_count": 22
        }
      ]
    },
    {
      "cell_type": "markdown",
      "metadata": {
        "colab_type": "text",
        "id": "SH5aS6-7zGo-"
      },
      "source": [
        "As we can see, we have quite a decent list of recommendation for **Good Will Hunting** (Drama), **Toy Story** (Animation, Children's, Comedy), and **Saving Private Ryan** (Action, Thriller, War).\n",
        "\n",
        "Overall, here are the pros of using content-based recommendation:\n",
        "* No need for data on other users, thus no cold-start or sparsity problems.\n",
        "* Can recommend to users with unique tastes.\n",
        "* Can recommend new & unpopular items.\n",
        "* Can provide explanations for recommended items by listing content-features that caused an item to be recommended (in this case, movie genres)\n",
        "\n",
        "However, there are some cons of using this approach:\n",
        "* Finding the appropriate features is hard.\n",
        "* Does not recommend items outside a user's content profile.\n",
        "* Unable to exploit quality judgments of other users."
      ]
    },
    {
      "cell_type": "markdown",
      "metadata": {
        "colab_type": "text",
        "id": "yhhhfXiNzGo-"
      },
      "source": [
        "## Collaborative Filtering Recommendation Model\n",
        "\n",
        "### Implementation\n",
        "I will use the file **ratings.csv** first as it contains User ID, Movie IDs and Ratings. These three elements are all we need for determining the similarity of the users based on their ratings for a particular movie.\n",
        "\n",
        "First I do some quick data processing:"
      ]
    },
    {
      "cell_type": "code",
      "metadata": {
        "colab_type": "code",
        "id": "xtG3ZaoXzGo_",
        "colab": {}
      },
      "source": [
        "# Fill NaN values in user_id and movie_id column with 0\n",
        "ratings['user_id'] = ratings['user_id'].fillna(0)\n",
        "ratings['movie_id'] = ratings['movie_id'].fillna(0)\n",
        "\n",
        "# Replace NaN values in rating column with average of all values\n",
        "ratings['rating'] = ratings['rating'].fillna(ratings['rating'].mean())"
      ],
      "execution_count": 0,
      "outputs": []
    },
    {
      "cell_type": "markdown",
      "metadata": {
        "colab_type": "text",
        "id": "OFfhnlmczGpB"
      },
      "source": [
        "Due to the limited computing power, we will build the recommender system using only a subset of the ratings. We will take a random sample of 20,000 ratings (2%) from the 1M ratings."
      ]
    },
    {
      "cell_type": "code",
      "metadata": {
        "colab_type": "code",
        "id": "_mZlqo1wzGpC",
        "outputId": "53ed061b-7477-417b-edaa-bdcc18c10347",
        "colab": {}
      },
      "source": [
        "# Randomly sample 1% of the ratings dataset\n",
        "small_data = ratings.sample(frac=0.02)\n",
        "\n",
        "# Check the sample info\n",
        "print(small_data.info())"
      ],
      "execution_count": 0,
      "outputs": [
        {
          "output_type": "stream",
          "text": [
            "<class 'pandas.core.frame.DataFrame'>\n",
            "Int64Index: 20004 entries, 260439 to 206063\n",
            "Data columns (total 3 columns):\n",
            "user_id     20004 non-null int64\n",
            "movie_id    20004 non-null int64\n",
            "rating      20004 non-null int64\n",
            "dtypes: int64(3)\n",
            "memory usage: 625.1 KB\n",
            "None\n"
          ],
          "name": "stdout"
        }
      ]
    },
    {
      "cell_type": "markdown",
      "metadata": {
        "colab_type": "text",
        "id": "c4-WL_lYzGpE"
      },
      "source": [
        "### Splitting the data"
      ]
    },
    {
      "cell_type": "code",
      "metadata": {
        "colab_type": "code",
        "id": "MUr3SkUczGpE",
        "colab": {}
      },
      "source": [
        "from sklearn import model_selection as cv\n",
        "train_data, test_data = cv.train_test_split(small_data, test_size=0.2)"
      ],
      "execution_count": 0,
      "outputs": []
    },
    {
      "cell_type": "markdown",
      "metadata": {
        "colab_type": "text",
        "id": "X3Xdm-PwzGpH"
      },
      "source": [
        "Now I need to create a user-item matrix. Since I have splitted the data into testing and training, I need to create two matrices. The training matrix contains 80% of the ratings and the testing matrix contains 20% of the ratings."
      ]
    },
    {
      "cell_type": "code",
      "metadata": {
        "colab_type": "code",
        "id": "QmvmZz8GzGpH",
        "outputId": "0dfa1585-0ed3-4779-e08a-10b5aea53c40",
        "colab": {}
      },
      "source": [
        "# Create two user-item matrices, one for training and another for testing\n",
        "train_data_matrix = train_data.as_matrix(columns = ['user_id', 'movie_id', 'rating'])\n",
        "test_data_matrix = test_data.as_matrix(columns = ['user_id', 'movie_id', 'rating'])\n",
        "\n",
        "# Check their shape\n",
        "print(train_data_matrix.shape)\n",
        "print(test_data_matrix.shape)"
      ],
      "execution_count": 0,
      "outputs": [
        {
          "output_type": "stream",
          "text": [
            "(16003, 3)\n",
            "(4001, 3)\n"
          ],
          "name": "stdout"
        },
        {
          "output_type": "stream",
          "text": [
            "C:\\Users\\mrshu\\Anaconda3\\lib\\site-packages\\ipykernel_launcher.py:2: FutureWarning: Method .as_matrix will be removed in a future version. Use .values instead.\n",
            "  \n",
            "C:\\Users\\mrshu\\Anaconda3\\lib\\site-packages\\ipykernel_launcher.py:3: FutureWarning: Method .as_matrix will be removed in a future version. Use .values instead.\n",
            "  This is separate from the ipykernel package so we can avoid doing imports until\n"
          ],
          "name": "stderr"
        }
      ]
    },
    {
      "cell_type": "markdown",
      "metadata": {
        "colab_type": "text",
        "id": "_nKB7n4tzGpJ"
      },
      "source": [
        "Now I use the **pairwise_distances** function from sklearn to calculate the [Pearson Correlation Coefficient](https://stackoverflow.com/questions/1838806/euclidean-distance-vs-pearson-correlation-vs-cosine-similarity). This method provides a safe way to take a distance matrix as input, while preserving compatibility with many other algorithms that take a vector array."
      ]
    },
    {
      "cell_type": "code",
      "metadata": {
        "colab_type": "code",
        "id": "XZbbZApczGpJ",
        "outputId": "e135827e-9bae-4e44-e90a-d2b5400b0508",
        "colab": {}
      },
      "source": [
        "from sklearn.metrics.pairwise import pairwise_distances\n",
        "\n",
        "# User Similarity Matrix\n",
        "user_correlation = 1 - pairwise_distances(train_data, metric='correlation')\n",
        "user_correlation[np.isnan(user_correlation)] = 0\n",
        "print(user_correlation[:4, :4])"
      ],
      "execution_count": 0,
      "outputs": [
        {
          "output_type": "stream",
          "text": [
            "[[ 1.         -0.35352541  0.42937122  0.56532779]\n",
            " [-0.35352541  1.          0.69301489  0.57174279]\n",
            " [ 0.42937122  0.69301489  1.          0.98769545]\n",
            " [ 0.56532779  0.57174279  0.98769545  1.        ]]\n"
          ],
          "name": "stdout"
        }
      ]
    },
    {
      "cell_type": "code",
      "metadata": {
        "colab_type": "code",
        "id": "LX4c73zqzGpL",
        "outputId": "33243c1c-0660-467c-8fbe-a87e14c30175",
        "colab": {}
      },
      "source": [
        "# Item Similarity Matrix\n",
        "item_correlation = 1 - pairwise_distances(train_data_matrix.T, metric='correlation')\n",
        "item_correlation[np.isnan(item_correlation)] = 0\n",
        "print(item_correlation[:4, :4])"
      ],
      "execution_count": 0,
      "outputs": [
        {
          "output_type": "stream",
          "text": [
            "[[ 1.         -0.02302269  0.00179613]\n",
            " [-0.02302269  1.         -0.07502622]\n",
            " [ 0.00179613 -0.07502622  1.        ]]\n"
          ],
          "name": "stdout"
        }
      ]
    },
    {
      "cell_type": "markdown",
      "metadata": {
        "colab_type": "text",
        "id": "LIFm5Vx_zGpQ"
      },
      "source": [
        "- Using the similarity matrix, we can now predict the ratings that were not included with the data. \n",
        "- Using these predictions, we can then compare them with the test data to attempt to validate the quality of our recommender model.\n",
        "\n",
        "For the user-user CF case, we will look at the similarity between 2 users (A and B, for example) as weights that are multiplied by the ratings of a similar user B (corrected for the average rating of that user). \n",
        "- We also need to normalize it so that the ratings stay between 1 and 5 and, as a final step, sum the average ratings for the user that we are trying to predict. \n",
        "- The idea here is that some users may tend always to give high or low ratings to all movies. \n",
        "- The relative difference in the ratings that these users give is more important than the absolute values. "
      ]
    },
    {
      "cell_type": "markdown",
      "metadata": {
        "colab_type": "text",
        "id": "O91PlnLizGpS"
      },
      "source": [
        "#### Function to predict ratings"
      ]
    },
    {
      "cell_type": "code",
      "metadata": {
        "colab_type": "code",
        "id": "gn4hhyvczGpS",
        "colab": {}
      },
      "source": [
        "def predict(ratings, similarity, type='user'):\n",
        "    if type == 'user':\n",
        "        mean_user_rating = ratings.mean(axis=1)\n",
        "        # Use np.newaxis so that mean_user_rating has same format as ratings\n",
        "        ratings_diff = (ratings - mean_user_rating[:, np.newaxis])\n",
        "        pred = mean_user_rating[:, np.newaxis] + similarity.dot(ratings_diff) / np.array([np.abs(similarity).sum(axis=1)]).T\n",
        "    elif type == 'item':\n",
        "        pred = ratings.dot(similarity) / np.array([np.abs(similarity).sum(axis=1)])\n",
        "    return pred"
      ],
      "execution_count": 0,
      "outputs": []
    },
    {
      "cell_type": "markdown",
      "metadata": {
        "colab_type": "text",
        "id": "SOHvXv2SzGpT"
      },
      "source": [
        "### Evaluation"
      ]
    },
    {
      "cell_type": "code",
      "metadata": {
        "colab_type": "code",
        "id": "7BSc1T1WzGpU",
        "colab": {}
      },
      "source": [
        "from sklearn.metrics import mean_squared_error\n",
        "from math import sqrt\n",
        "\n",
        "# Function to calculate RMSE\n",
        "def rmse(pred, actual):\n",
        "    # Ignore nonzero terms.\n",
        "    pred = pred[actual.nonzero()].flatten()\n",
        "    actual = actual[actual.nonzero()].flatten()\n",
        "    return sqrt(mean_squared_error(pred, actual))"
      ],
      "execution_count": 0,
      "outputs": []
    },
    {
      "cell_type": "code",
      "metadata": {
        "colab_type": "code",
        "id": "Kx1V2oVEzGpV",
        "outputId": "b4b14e55-9e8d-451f-c98a-bdbcfbb2f506",
        "colab": {}
      },
      "source": [
        "# Predict ratings on the training data with both similarity score\n",
        "user_prediction = predict(train_data_matrix, user_correlation, type='user')\n",
        "item_prediction = predict(train_data_matrix, item_correlation, type='item')\n",
        "\n",
        "# RMSE on the test data\n",
        "print('User-based CF RMSE: ' + str(rmse(user_prediction, test_data_matrix)))\n",
        "print('Item-based CF RMSE: ' + str(rmse(item_prediction, test_data_matrix)))"
      ],
      "execution_count": 0,
      "outputs": [
        {
          "output_type": "stream",
          "text": [
            "User-based CF RMSE: 1429.5205313711454\n",
            "Item-based CF RMSE: 1651.5841324348046\n"
          ],
          "name": "stdout"
        }
      ]
    },
    {
      "cell_type": "code",
      "metadata": {
        "colab_type": "code",
        "id": "QrPN0JROzGpY",
        "outputId": "ef6c20dc-83ac-4e08-c1e2-996c1d0cb448",
        "colab": {}
      },
      "source": [
        "# RMSE on the train data\n",
        "print('User-based CF RMSE: ' + str(rmse(user_prediction, train_data_matrix)))\n",
        "print('Item-based CF RMSE: ' + str(rmse(item_prediction, train_data_matrix)))"
      ],
      "execution_count": 0,
      "outputs": [
        {
          "output_type": "stream",
          "text": [
            "User-based CF RMSE: 693.469654142388\n",
            "Item-based CF RMSE: 184.36392949947972\n"
          ],
          "name": "stdout"
        }
      ]
    },
    {
      "cell_type": "markdown",
      "metadata": {
        "colab_type": "text",
        "id": "IS5ofZ6mzGpa"
      },
      "source": [
        "RMSE of training of model is a metric which measure how much the signal and the noise is explained by the model. I noticed that my RMSE is quite big. I suppose I might have overfitted the training data.\n",
        "\n",
        "Overall, Memory-based Collaborative Filtering is easy to implement and produce reasonable prediction quality. However, there are some drawback of this approach:\n",
        "\n",
        "* It doesn't address the well-known cold-start problem, that is when new user or new item enters the system. \n",
        "* It can't deal with sparse data, meaning it's hard to find users that have rated the same items.\n",
        "* It suffers when new users or items that don't have any ratings enter the system.\n",
        "* It tends to recommend popular items."
      ]
    },
    {
      "cell_type": "markdown",
      "metadata": {
        "colab_type": "text",
        "id": "Q7aSaEkSzGpa"
      },
      "source": [
        "### Implementing Singular Vector Decoposition\n",
        "\n",
        "#### Using Ratings data"
      ]
    },
    {
      "cell_type": "code",
      "metadata": {
        "colab_type": "code",
        "id": "kQoCYknVzGpb",
        "outputId": "12d40130-45eb-47ca-8241-d85e23cdaf24",
        "colab": {}
      },
      "source": [
        "n_users = ratings.user_id.unique().shape[0]\n",
        "n_movies = ratings.movie_id.unique().shape[0]\n",
        "print ('Number of users = ' + str(n_users) + ' | Number of movies = ' + str(n_movies))"
      ],
      "execution_count": 0,
      "outputs": [
        {
          "output_type": "stream",
          "text": [
            "Number of users = 6040 | Number of movies = 3706\n"
          ],
          "name": "stdout"
        }
      ]
    },
    {
      "cell_type": "markdown",
      "metadata": {
        "colab_type": "text",
        "id": "x61S5aMGzGpc"
      },
      "source": [
        "- We want the format of my ratings matrix to be one row per user and one column per movie. \n",
        "- We'll pivot *ratings* to get that and call the new variable *Ratings* (with a capital *R)."
      ]
    },
    {
      "cell_type": "code",
      "metadata": {
        "colab_type": "code",
        "id": "Z0wDvZlYzGpd",
        "outputId": "615a3602-09b2-4e99-8d5b-f4ac9392285e",
        "colab": {}
      },
      "source": [
        "Ratings = ratings.pivot(index = 'user_id', columns ='movie_id', values = 'rating').fillna(0)\n",
        "Ratings.head()"
      ],
      "execution_count": 0,
      "outputs": [
        {
          "output_type": "execute_result",
          "data": {
            "text/html": [
              "<div>\n",
              "<style scoped>\n",
              "    .dataframe tbody tr th:only-of-type {\n",
              "        vertical-align: middle;\n",
              "    }\n",
              "\n",
              "    .dataframe tbody tr th {\n",
              "        vertical-align: top;\n",
              "    }\n",
              "\n",
              "    .dataframe thead th {\n",
              "        text-align: right;\n",
              "    }\n",
              "</style>\n",
              "<table border=\"1\" class=\"dataframe\">\n",
              "  <thead>\n",
              "    <tr style=\"text-align: right;\">\n",
              "      <th>movie_id</th>\n",
              "      <th>1</th>\n",
              "      <th>2</th>\n",
              "      <th>3</th>\n",
              "      <th>4</th>\n",
              "      <th>5</th>\n",
              "      <th>6</th>\n",
              "      <th>7</th>\n",
              "      <th>8</th>\n",
              "      <th>9</th>\n",
              "      <th>10</th>\n",
              "      <th>...</th>\n",
              "      <th>3943</th>\n",
              "      <th>3944</th>\n",
              "      <th>3945</th>\n",
              "      <th>3946</th>\n",
              "      <th>3947</th>\n",
              "      <th>3948</th>\n",
              "      <th>3949</th>\n",
              "      <th>3950</th>\n",
              "      <th>3951</th>\n",
              "      <th>3952</th>\n",
              "    </tr>\n",
              "    <tr>\n",
              "      <th>user_id</th>\n",
              "      <th></th>\n",
              "      <th></th>\n",
              "      <th></th>\n",
              "      <th></th>\n",
              "      <th></th>\n",
              "      <th></th>\n",
              "      <th></th>\n",
              "      <th></th>\n",
              "      <th></th>\n",
              "      <th></th>\n",
              "      <th></th>\n",
              "      <th></th>\n",
              "      <th></th>\n",
              "      <th></th>\n",
              "      <th></th>\n",
              "      <th></th>\n",
              "      <th></th>\n",
              "      <th></th>\n",
              "      <th></th>\n",
              "      <th></th>\n",
              "      <th></th>\n",
              "    </tr>\n",
              "  </thead>\n",
              "  <tbody>\n",
              "    <tr>\n",
              "      <th>1</th>\n",
              "      <td>5.0</td>\n",
              "      <td>0.0</td>\n",
              "      <td>0.0</td>\n",
              "      <td>0.0</td>\n",
              "      <td>0.0</td>\n",
              "      <td>0.0</td>\n",
              "      <td>0.0</td>\n",
              "      <td>0.0</td>\n",
              "      <td>0.0</td>\n",
              "      <td>0.0</td>\n",
              "      <td>...</td>\n",
              "      <td>0.0</td>\n",
              "      <td>0.0</td>\n",
              "      <td>0.0</td>\n",
              "      <td>0.0</td>\n",
              "      <td>0.0</td>\n",
              "      <td>0.0</td>\n",
              "      <td>0.0</td>\n",
              "      <td>0.0</td>\n",
              "      <td>0.0</td>\n",
              "      <td>0.0</td>\n",
              "    </tr>\n",
              "    <tr>\n",
              "      <th>2</th>\n",
              "      <td>0.0</td>\n",
              "      <td>0.0</td>\n",
              "      <td>0.0</td>\n",
              "      <td>0.0</td>\n",
              "      <td>0.0</td>\n",
              "      <td>0.0</td>\n",
              "      <td>0.0</td>\n",
              "      <td>0.0</td>\n",
              "      <td>0.0</td>\n",
              "      <td>0.0</td>\n",
              "      <td>...</td>\n",
              "      <td>0.0</td>\n",
              "      <td>0.0</td>\n",
              "      <td>0.0</td>\n",
              "      <td>0.0</td>\n",
              "      <td>0.0</td>\n",
              "      <td>0.0</td>\n",
              "      <td>0.0</td>\n",
              "      <td>0.0</td>\n",
              "      <td>0.0</td>\n",
              "      <td>0.0</td>\n",
              "    </tr>\n",
              "    <tr>\n",
              "      <th>3</th>\n",
              "      <td>0.0</td>\n",
              "      <td>0.0</td>\n",
              "      <td>0.0</td>\n",
              "      <td>0.0</td>\n",
              "      <td>0.0</td>\n",
              "      <td>0.0</td>\n",
              "      <td>0.0</td>\n",
              "      <td>0.0</td>\n",
              "      <td>0.0</td>\n",
              "      <td>0.0</td>\n",
              "      <td>...</td>\n",
              "      <td>0.0</td>\n",
              "      <td>0.0</td>\n",
              "      <td>0.0</td>\n",
              "      <td>0.0</td>\n",
              "      <td>0.0</td>\n",
              "      <td>0.0</td>\n",
              "      <td>0.0</td>\n",
              "      <td>0.0</td>\n",
              "      <td>0.0</td>\n",
              "      <td>0.0</td>\n",
              "    </tr>\n",
              "    <tr>\n",
              "      <th>4</th>\n",
              "      <td>0.0</td>\n",
              "      <td>0.0</td>\n",
              "      <td>0.0</td>\n",
              "      <td>0.0</td>\n",
              "      <td>0.0</td>\n",
              "      <td>0.0</td>\n",
              "      <td>0.0</td>\n",
              "      <td>0.0</td>\n",
              "      <td>0.0</td>\n",
              "      <td>0.0</td>\n",
              "      <td>...</td>\n",
              "      <td>0.0</td>\n",
              "      <td>0.0</td>\n",
              "      <td>0.0</td>\n",
              "      <td>0.0</td>\n",
              "      <td>0.0</td>\n",
              "      <td>0.0</td>\n",
              "      <td>0.0</td>\n",
              "      <td>0.0</td>\n",
              "      <td>0.0</td>\n",
              "      <td>0.0</td>\n",
              "    </tr>\n",
              "    <tr>\n",
              "      <th>5</th>\n",
              "      <td>0.0</td>\n",
              "      <td>0.0</td>\n",
              "      <td>0.0</td>\n",
              "      <td>0.0</td>\n",
              "      <td>0.0</td>\n",
              "      <td>2.0</td>\n",
              "      <td>0.0</td>\n",
              "      <td>0.0</td>\n",
              "      <td>0.0</td>\n",
              "      <td>0.0</td>\n",
              "      <td>...</td>\n",
              "      <td>0.0</td>\n",
              "      <td>0.0</td>\n",
              "      <td>0.0</td>\n",
              "      <td>0.0</td>\n",
              "      <td>0.0</td>\n",
              "      <td>0.0</td>\n",
              "      <td>0.0</td>\n",
              "      <td>0.0</td>\n",
              "      <td>0.0</td>\n",
              "      <td>0.0</td>\n",
              "    </tr>\n",
              "  </tbody>\n",
              "</table>\n",
              "<p>5 rows × 3706 columns</p>\n",
              "</div>"
            ],
            "text/plain": [
              "movie_id  1     2     3     4     5     6     7     8     9     10    ...   \\\n",
              "user_id                                                               ...    \n",
              "1          5.0   0.0   0.0   0.0   0.0   0.0   0.0   0.0   0.0   0.0  ...    \n",
              "2          0.0   0.0   0.0   0.0   0.0   0.0   0.0   0.0   0.0   0.0  ...    \n",
              "3          0.0   0.0   0.0   0.0   0.0   0.0   0.0   0.0   0.0   0.0  ...    \n",
              "4          0.0   0.0   0.0   0.0   0.0   0.0   0.0   0.0   0.0   0.0  ...    \n",
              "5          0.0   0.0   0.0   0.0   0.0   2.0   0.0   0.0   0.0   0.0  ...    \n",
              "\n",
              "movie_id  3943  3944  3945  3946  3947  3948  3949  3950  3951  3952  \n",
              "user_id                                                               \n",
              "1          0.0   0.0   0.0   0.0   0.0   0.0   0.0   0.0   0.0   0.0  \n",
              "2          0.0   0.0   0.0   0.0   0.0   0.0   0.0   0.0   0.0   0.0  \n",
              "3          0.0   0.0   0.0   0.0   0.0   0.0   0.0   0.0   0.0   0.0  \n",
              "4          0.0   0.0   0.0   0.0   0.0   0.0   0.0   0.0   0.0   0.0  \n",
              "5          0.0   0.0   0.0   0.0   0.0   0.0   0.0   0.0   0.0   0.0  \n",
              "\n",
              "[5 rows x 3706 columns]"
            ]
          },
          "metadata": {
            "tags": []
          },
          "execution_count": 34
        }
      ]
    },
    {
      "cell_type": "markdown",
      "metadata": {
        "colab_type": "text",
        "id": "SF2VUHFPzGpf"
      },
      "source": [
        "We need to de-normalize the data (normalize by each users mean) and convert it from a dataframe to a numpy array."
      ]
    },
    {
      "cell_type": "code",
      "metadata": {
        "colab_type": "code",
        "id": "D293LnqXzGpf",
        "outputId": "975d1846-83e8-4efa-df44-baa6b87f1240",
        "colab": {}
      },
      "source": [
        "R = Ratings.as_matrix()\n",
        "user_ratings_mean = np.mean(R, axis = 1)\n",
        "Ratings_demeaned = R - user_ratings_mean.reshape(-1, 1)"
      ],
      "execution_count": 0,
      "outputs": [
        {
          "output_type": "stream",
          "text": [
            "C:\\Users\\mrshu\\Anaconda3\\lib\\site-packages\\ipykernel_launcher.py:1: FutureWarning: Method .as_matrix will be removed in a future version. Use .values instead.\n",
            "  \"\"\"Entry point for launching an IPython kernel.\n"
          ],
          "name": "stderr"
        }
      ]
    },
    {
      "cell_type": "markdown",
      "metadata": {
        "colab_type": "text",
        "id": "pNuZuqJ8zGpg"
      },
      "source": [
        "- With the ratings matrix properly formatted and normalized, we can do some dimensionality reduction."
      ]
    },
    {
      "cell_type": "markdown",
      "metadata": {
        "colab_type": "text",
        "id": "fE2a55X4zGph"
      },
      "source": [
        "## Model-Based Collaborative Filtering"
      ]
    },
    {
      "cell_type": "markdown",
      "metadata": {
        "colab_type": "text",
        "id": "Q4deX-vBzGph"
      },
      "source": [
        "### Using K-NN"
      ]
    },
    {
      "cell_type": "code",
      "metadata": {
        "colab_type": "code",
        "id": "FHrzmnwSzGph",
        "outputId": "f95f97c2-db2d-4993-fb93-9c4d0727cf87",
        "colab": {}
      },
      "source": [
        "from sklearn.neighbors import NearestNeighbors\n",
        "\n",
        "model_knn = NearestNeighbors(metric = 'cosine', algorithm = 'brute')\n",
        "model_knn.fit(Ratings)"
      ],
      "execution_count": 0,
      "outputs": [
        {
          "output_type": "execute_result",
          "data": {
            "text/plain": [
              "NearestNeighbors(algorithm='brute', leaf_size=30, metric='cosine',\n",
              "                 metric_params=None, n_jobs=None, n_neighbors=5, p=2,\n",
              "                 radius=1.0)"
            ]
          },
          "metadata": {
            "tags": []
          },
          "execution_count": 36
        }
      ]
    },
    {
      "cell_type": "markdown",
      "metadata": {
        "colab_type": "text",
        "id": "s_OYKBdvzGpj"
      },
      "source": [
        "#### Testing our model and making some recommendations"
      ]
    },
    {
      "cell_type": "code",
      "metadata": {
        "colab_type": "code",
        "id": "HhR7ulQnzGpk",
        "outputId": "e5266c66-9719-4f37-d252-34501b0d3b21",
        "colab": {}
      },
      "source": [
        "Ratings.index[0]"
      ],
      "execution_count": 0,
      "outputs": [
        {
          "output_type": "execute_result",
          "data": {
            "text/plain": [
              "1"
            ]
          },
          "metadata": {
            "tags": []
          },
          "execution_count": 37
        }
      ]
    },
    {
      "cell_type": "code",
      "metadata": {
        "colab_type": "code",
        "id": "HPlCRqj5zGpm",
        "outputId": "8bbab869-d546-4c67-c59b-2d543ed8f9de",
        "colab": {}
      },
      "source": [
        "query_index = np.random.choice(Ratings.shape[0])\n",
        "distances, indices = model_knn.kneighbors(Ratings.iloc[query_index, :].values.reshape(1, -1), n_neighbors = 6)\n",
        "\n",
        "for i in range(0, len(distances.flatten())):\n",
        "    if i == 0:\n",
        "        print('Recommendation for {0}:\\n'.format(Ratings.index[query_index]))\n",
        "    else:\n",
        "        print('{0}: {1}, with distance of {2}:'.format(i, Ratings.index[indices.flatten()[i]],distances.flatten()[i]))"
      ],
      "execution_count": 0,
      "outputs": [
        {
          "output_type": "stream",
          "text": [
            "Recommendation for 1444:\n",
            "\n",
            "1: 1700, with distance of 0.5352794410649253:\n",
            "2: 1240, with distance of 0.5476242095354455:\n",
            "3: 1979, with distance of 0.5765319901451248:\n",
            "4: 1037, with distance of 0.5923497601175811:\n",
            "5: 3149, with distance of 0.5983273443059975:\n"
          ],
          "name": "stdout"
        }
      ]
    },
    {
      "cell_type": "markdown",
      "metadata": {
        "colab_type": "text",
        "id": "3amJ4zypzGpn"
      },
      "source": [
        "#### Checking sparisty level of the dataset"
      ]
    },
    {
      "cell_type": "code",
      "metadata": {
        "colab_type": "code",
        "id": "00kkUQdizGpo",
        "outputId": "5d9ab97d-66f0-42e8-d625-c77f0c4da2e2",
        "colab": {}
      },
      "source": [
        "sparsity = round(1.0 - len(ratings) / float(n_users * n_movies), 3)\n",
        "print('The sparsity level of MovieLens1M dataset is ' +  str(sparsity * 100) + '%')"
      ],
      "execution_count": 0,
      "outputs": [
        {
          "output_type": "stream",
          "text": [
            "The sparsity level of MovieLens1M dataset is 95.5%\n"
          ],
          "name": "stdout"
        }
      ]
    },
    {
      "cell_type": "markdown",
      "metadata": {
        "colab_type": "text",
        "id": "hXhGBmcPzGpq"
      },
      "source": [
        "### Setting Up SVD\n",
        "Scipy and Numpy both have functions to do the singular value decomposition. I'm going to use the Scipy function *svds* because it let's me choose how many latent factors I want to use to approximate the original ratings matrix (instead of having to truncate it after)."
      ]
    },
    {
      "cell_type": "code",
      "metadata": {
        "colab_type": "code",
        "id": "uZABVEe8zGpr",
        "colab": {}
      },
      "source": [
        "from scipy.sparse.linalg import svds\n",
        "U, sigma, Vt = svds(Ratings_demeaned, k = 50)"
      ],
      "execution_count": 0,
      "outputs": []
    },
    {
      "cell_type": "markdown",
      "metadata": {
        "colab_type": "text",
        "id": "vfsSGlg1zGps"
      },
      "source": [
        "As I'm going to leverage matrix multiplication to get predictions, I'll convert the $\\Sigma$ (now are values) to the diagonal matrix form."
      ]
    },
    {
      "cell_type": "code",
      "metadata": {
        "colab_type": "code",
        "id": "eyzaqA5VzGps",
        "colab": {}
      },
      "source": [
        "sigma = np.diag(sigma)"
      ],
      "execution_count": 0,
      "outputs": []
    },
    {
      "cell_type": "markdown",
      "metadata": {
        "colab_type": "text",
        "id": "PpheuSc0zGpv"
      },
      "source": [
        "### Making Predictions from the Decomposed Matrices\n",
        "I now have everything I need to make movie ratings predictions for every user. I can do it all at once by following the math and matrix multiply $U$, $\\Sigma$, and $V^{T}$ back to get the rank $k=50$ approximation of $A$.\n",
        "\n",
        "But first, I need to add the user means back to get the actual star ratings prediction."
      ]
    },
    {
      "cell_type": "code",
      "metadata": {
        "colab_type": "code",
        "id": "NCo5dxWDzGpv",
        "colab": {}
      },
      "source": [
        "all_user_predicted_ratings = np.dot(np.dot(U, sigma), Vt) + user_ratings_mean.reshape(-1, 1)"
      ],
      "execution_count": 0,
      "outputs": []
    },
    {
      "cell_type": "markdown",
      "metadata": {
        "colab_type": "text",
        "id": "RiVjXf2KzGpx"
      },
      "source": [
        "With the predictions matrix for every user, I can build a function to recommend movies for any user. I return the list of movies the user has already rated, for the sake of comparison."
      ]
    },
    {
      "cell_type": "code",
      "metadata": {
        "colab_type": "code",
        "id": "CDhTfldvzGpy",
        "outputId": "8d3e72fd-7777-4691-90b0-897041df6f30",
        "colab": {}
      },
      "source": [
        "preds = pd.DataFrame(all_user_predicted_ratings, columns = Ratings.columns)\n",
        "preds.head()"
      ],
      "execution_count": 0,
      "outputs": [
        {
          "output_type": "execute_result",
          "data": {
            "text/html": [
              "<div>\n",
              "<style scoped>\n",
              "    .dataframe tbody tr th:only-of-type {\n",
              "        vertical-align: middle;\n",
              "    }\n",
              "\n",
              "    .dataframe tbody tr th {\n",
              "        vertical-align: top;\n",
              "    }\n",
              "\n",
              "    .dataframe thead th {\n",
              "        text-align: right;\n",
              "    }\n",
              "</style>\n",
              "<table border=\"1\" class=\"dataframe\">\n",
              "  <thead>\n",
              "    <tr style=\"text-align: right;\">\n",
              "      <th>movie_id</th>\n",
              "      <th>1</th>\n",
              "      <th>2</th>\n",
              "      <th>3</th>\n",
              "      <th>4</th>\n",
              "      <th>5</th>\n",
              "      <th>6</th>\n",
              "      <th>7</th>\n",
              "      <th>8</th>\n",
              "      <th>9</th>\n",
              "      <th>10</th>\n",
              "      <th>...</th>\n",
              "      <th>3943</th>\n",
              "      <th>3944</th>\n",
              "      <th>3945</th>\n",
              "      <th>3946</th>\n",
              "      <th>3947</th>\n",
              "      <th>3948</th>\n",
              "      <th>3949</th>\n",
              "      <th>3950</th>\n",
              "      <th>3951</th>\n",
              "      <th>3952</th>\n",
              "    </tr>\n",
              "  </thead>\n",
              "  <tbody>\n",
              "    <tr>\n",
              "      <th>0</th>\n",
              "      <td>4.288861</td>\n",
              "      <td>0.143055</td>\n",
              "      <td>-0.195080</td>\n",
              "      <td>-0.018843</td>\n",
              "      <td>0.012232</td>\n",
              "      <td>-0.176604</td>\n",
              "      <td>-0.074120</td>\n",
              "      <td>0.141358</td>\n",
              "      <td>-0.059553</td>\n",
              "      <td>-0.195950</td>\n",
              "      <td>...</td>\n",
              "      <td>0.027807</td>\n",
              "      <td>0.001640</td>\n",
              "      <td>0.026395</td>\n",
              "      <td>-0.022024</td>\n",
              "      <td>-0.085415</td>\n",
              "      <td>0.403529</td>\n",
              "      <td>0.105579</td>\n",
              "      <td>0.031912</td>\n",
              "      <td>0.050450</td>\n",
              "      <td>0.088910</td>\n",
              "    </tr>\n",
              "    <tr>\n",
              "      <th>1</th>\n",
              "      <td>0.744716</td>\n",
              "      <td>0.169659</td>\n",
              "      <td>0.335418</td>\n",
              "      <td>0.000758</td>\n",
              "      <td>0.022475</td>\n",
              "      <td>1.353050</td>\n",
              "      <td>0.051426</td>\n",
              "      <td>0.071258</td>\n",
              "      <td>0.161601</td>\n",
              "      <td>1.567246</td>\n",
              "      <td>...</td>\n",
              "      <td>-0.056502</td>\n",
              "      <td>-0.013733</td>\n",
              "      <td>-0.010580</td>\n",
              "      <td>0.062576</td>\n",
              "      <td>-0.016248</td>\n",
              "      <td>0.155790</td>\n",
              "      <td>-0.418737</td>\n",
              "      <td>-0.101102</td>\n",
              "      <td>-0.054098</td>\n",
              "      <td>-0.140188</td>\n",
              "    </tr>\n",
              "    <tr>\n",
              "      <th>2</th>\n",
              "      <td>1.818824</td>\n",
              "      <td>0.456136</td>\n",
              "      <td>0.090978</td>\n",
              "      <td>-0.043037</td>\n",
              "      <td>-0.025694</td>\n",
              "      <td>-0.158617</td>\n",
              "      <td>-0.131778</td>\n",
              "      <td>0.098977</td>\n",
              "      <td>0.030551</td>\n",
              "      <td>0.735470</td>\n",
              "      <td>...</td>\n",
              "      <td>0.040481</td>\n",
              "      <td>-0.005301</td>\n",
              "      <td>0.012832</td>\n",
              "      <td>0.029349</td>\n",
              "      <td>0.020866</td>\n",
              "      <td>0.121532</td>\n",
              "      <td>0.076205</td>\n",
              "      <td>0.012345</td>\n",
              "      <td>0.015148</td>\n",
              "      <td>-0.109956</td>\n",
              "    </tr>\n",
              "    <tr>\n",
              "      <th>3</th>\n",
              "      <td>0.408057</td>\n",
              "      <td>-0.072960</td>\n",
              "      <td>0.039642</td>\n",
              "      <td>0.089363</td>\n",
              "      <td>0.041950</td>\n",
              "      <td>0.237753</td>\n",
              "      <td>-0.049426</td>\n",
              "      <td>0.009467</td>\n",
              "      <td>0.045469</td>\n",
              "      <td>-0.111370</td>\n",
              "      <td>...</td>\n",
              "      <td>0.008571</td>\n",
              "      <td>-0.005425</td>\n",
              "      <td>-0.008500</td>\n",
              "      <td>-0.003417</td>\n",
              "      <td>-0.083982</td>\n",
              "      <td>0.094512</td>\n",
              "      <td>0.057557</td>\n",
              "      <td>-0.026050</td>\n",
              "      <td>0.014841</td>\n",
              "      <td>-0.034224</td>\n",
              "    </tr>\n",
              "    <tr>\n",
              "      <th>4</th>\n",
              "      <td>1.574272</td>\n",
              "      <td>0.021239</td>\n",
              "      <td>-0.051300</td>\n",
              "      <td>0.246884</td>\n",
              "      <td>-0.032406</td>\n",
              "      <td>1.552281</td>\n",
              "      <td>-0.199630</td>\n",
              "      <td>-0.014920</td>\n",
              "      <td>-0.060498</td>\n",
              "      <td>0.450512</td>\n",
              "      <td>...</td>\n",
              "      <td>0.110151</td>\n",
              "      <td>0.046010</td>\n",
              "      <td>0.006934</td>\n",
              "      <td>-0.015940</td>\n",
              "      <td>-0.050080</td>\n",
              "      <td>-0.052539</td>\n",
              "      <td>0.507189</td>\n",
              "      <td>0.033830</td>\n",
              "      <td>0.125706</td>\n",
              "      <td>0.199244</td>\n",
              "    </tr>\n",
              "  </tbody>\n",
              "</table>\n",
              "<p>5 rows × 3706 columns</p>\n",
              "</div>"
            ],
            "text/plain": [
              "movie_id      1         2         3         4         5         6     \\\n",
              "0         4.288861  0.143055 -0.195080 -0.018843  0.012232 -0.176604   \n",
              "1         0.744716  0.169659  0.335418  0.000758  0.022475  1.353050   \n",
              "2         1.818824  0.456136  0.090978 -0.043037 -0.025694 -0.158617   \n",
              "3         0.408057 -0.072960  0.039642  0.089363  0.041950  0.237753   \n",
              "4         1.574272  0.021239 -0.051300  0.246884 -0.032406  1.552281   \n",
              "\n",
              "movie_id      7         8         9         10      ...         3943  \\\n",
              "0        -0.074120  0.141358 -0.059553 -0.195950    ...     0.027807   \n",
              "1         0.051426  0.071258  0.161601  1.567246    ...    -0.056502   \n",
              "2        -0.131778  0.098977  0.030551  0.735470    ...     0.040481   \n",
              "3        -0.049426  0.009467  0.045469 -0.111370    ...     0.008571   \n",
              "4        -0.199630 -0.014920 -0.060498  0.450512    ...     0.110151   \n",
              "\n",
              "movie_id      3944      3945      3946      3947      3948      3949  \\\n",
              "0         0.001640  0.026395 -0.022024 -0.085415  0.403529  0.105579   \n",
              "1        -0.013733 -0.010580  0.062576 -0.016248  0.155790 -0.418737   \n",
              "2        -0.005301  0.012832  0.029349  0.020866  0.121532  0.076205   \n",
              "3        -0.005425 -0.008500 -0.003417 -0.083982  0.094512  0.057557   \n",
              "4         0.046010  0.006934 -0.015940 -0.050080 -0.052539  0.507189   \n",
              "\n",
              "movie_id      3950      3951      3952  \n",
              "0         0.031912  0.050450  0.088910  \n",
              "1        -0.101102 -0.054098 -0.140188  \n",
              "2         0.012345  0.015148 -0.109956  \n",
              "3        -0.026050  0.014841 -0.034224  \n",
              "4         0.033830  0.125706  0.199244  \n",
              "\n",
              "[5 rows x 3706 columns]"
            ]
          },
          "metadata": {
            "tags": []
          },
          "execution_count": 41
        }
      ]
    },
    {
      "cell_type": "markdown",
      "metadata": {
        "colab_type": "text",
        "id": "coxQr7IOzGpz"
      },
      "source": [
        "Now I write a function to return the movies with the highest predicted rating that the specified user hasn't already rated. Though I didn't use any explicit movie content features (such as genre or title), I'll merge in that information to get a more complete picture of the recommendations."
      ]
    },
    {
      "cell_type": "code",
      "metadata": {
        "colab_type": "code",
        "id": "HcCiiVjBzGpz",
        "colab": {}
      },
      "source": [
        "def recommend_movies(predictions, userID, movies, original_ratings, num_recommendations):\n",
        "    \n",
        "    # Get and sort the user's predictions\n",
        "    user_row_number = userID - 1 # User ID starts at 1, not 0\n",
        "    sorted_user_predictions = preds.iloc[user_row_number].sort_values(ascending=False) # User ID starts at 1\n",
        "    \n",
        "    # Get the user's data and merge in the movie information.\n",
        "    user_data = original_ratings[original_ratings.user_id == (userID)]\n",
        "    user_full = (user_data.merge(movies, how = 'left', left_on = 'movie_id', right_on = 'movie_id').\n",
        "                     sort_values(['rating'], ascending=False)\n",
        "                 )\n",
        "\n",
        "    print('User {0} has already rated {1} movies.'.format(userID, user_full.shape[0]))\n",
        "    print('Recommending highest {0} predicted ratings movies not already rated.'.format(num_recommendations))\n",
        "    \n",
        "    # Recommend the highest predicted rating movies that the user hasn't seen yet.\n",
        "    recommendations = (movies[~movies['movie_id'].isin(user_full['movie_id'])].\n",
        "         merge(pd.DataFrame(sorted_user_predictions).reset_index(), how = 'left',\n",
        "               left_on = 'movie_id',\n",
        "               right_on = 'movie_id').\n",
        "         rename(columns = {user_row_number: 'Predictions'}).\n",
        "         sort_values('Predictions', ascending = False).\n",
        "                       iloc[:num_recommendations, :-1]\n",
        "                      )\n",
        "\n",
        "    return user_full, recommendations"
      ],
      "execution_count": 0,
      "outputs": []
    },
    {
      "cell_type": "markdown",
      "metadata": {
        "colab_type": "text",
        "id": "yZEpac4RzGp2"
      },
      "source": [
        "Let's try to recommend 20 movies for user with ID 1310."
      ]
    },
    {
      "cell_type": "code",
      "metadata": {
        "colab_type": "code",
        "id": "p7WajgxHzGp3",
        "outputId": "f3e43e21-53fc-4fdb-a0ca-1494a07f0c36",
        "colab": {}
      },
      "source": [
        "already_rated, predictions = recommend_movies(preds, 1310, movies, ratings, 20)"
      ],
      "execution_count": 0,
      "outputs": [
        {
          "output_type": "stream",
          "text": [
            "User 1310 has already rated 24 movies.\n",
            "Recommending highest 20 predicted ratings movies not already rated.\n"
          ],
          "name": "stdout"
        }
      ]
    },
    {
      "cell_type": "code",
      "metadata": {
        "colab_type": "code",
        "id": "1uAIJWzkzGp6",
        "outputId": "0a4c6dc3-b339-4ac1-9904-3f35e9a8371c",
        "colab": {}
      },
      "source": [
        "# Top 10 movies that User 1310 has rated \n",
        "already_rated.head(10)"
      ],
      "execution_count": 0,
      "outputs": [
        {
          "output_type": "execute_result",
          "data": {
            "text/html": [
              "<div>\n",
              "<style scoped>\n",
              "    .dataframe tbody tr th:only-of-type {\n",
              "        vertical-align: middle;\n",
              "    }\n",
              "\n",
              "    .dataframe tbody tr th {\n",
              "        vertical-align: top;\n",
              "    }\n",
              "\n",
              "    .dataframe thead th {\n",
              "        text-align: right;\n",
              "    }\n",
              "</style>\n",
              "<table border=\"1\" class=\"dataframe\">\n",
              "  <thead>\n",
              "    <tr style=\"text-align: right;\">\n",
              "      <th></th>\n",
              "      <th>user_id</th>\n",
              "      <th>movie_id</th>\n",
              "      <th>rating</th>\n",
              "      <th>title</th>\n",
              "      <th>genres</th>\n",
              "    </tr>\n",
              "  </thead>\n",
              "  <tbody>\n",
              "    <tr>\n",
              "      <th>5</th>\n",
              "      <td>1310</td>\n",
              "      <td>2248</td>\n",
              "      <td>5</td>\n",
              "      <td>Say Anything... (1989)</td>\n",
              "      <td>['Comedy', 'Drama', 'Romance']</td>\n",
              "    </tr>\n",
              "    <tr>\n",
              "      <th>6</th>\n",
              "      <td>1310</td>\n",
              "      <td>2620</td>\n",
              "      <td>5</td>\n",
              "      <td>This Is My Father (1998)</td>\n",
              "      <td>['Drama', 'Romance']</td>\n",
              "    </tr>\n",
              "    <tr>\n",
              "      <th>7</th>\n",
              "      <td>1310</td>\n",
              "      <td>3683</td>\n",
              "      <td>5</td>\n",
              "      <td>Blood Simple (1984)</td>\n",
              "      <td>['Drama', 'Film-Noir']</td>\n",
              "    </tr>\n",
              "    <tr>\n",
              "      <th>15</th>\n",
              "      <td>1310</td>\n",
              "      <td>1704</td>\n",
              "      <td>5</td>\n",
              "      <td>Good Will Hunting (1997)</td>\n",
              "      <td>['Drama']</td>\n",
              "    </tr>\n",
              "    <tr>\n",
              "      <th>1</th>\n",
              "      <td>1310</td>\n",
              "      <td>1293</td>\n",
              "      <td>5</td>\n",
              "      <td>Gandhi (1982)</td>\n",
              "      <td>['Drama']</td>\n",
              "    </tr>\n",
              "    <tr>\n",
              "      <th>12</th>\n",
              "      <td>1310</td>\n",
              "      <td>3101</td>\n",
              "      <td>4</td>\n",
              "      <td>Fatal Attraction (1987)</td>\n",
              "      <td>['Thriller']</td>\n",
              "    </tr>\n",
              "    <tr>\n",
              "      <th>11</th>\n",
              "      <td>1310</td>\n",
              "      <td>1343</td>\n",
              "      <td>4</td>\n",
              "      <td>Cape Fear (1991)</td>\n",
              "      <td>['Thriller']</td>\n",
              "    </tr>\n",
              "    <tr>\n",
              "      <th>20</th>\n",
              "      <td>1310</td>\n",
              "      <td>2000</td>\n",
              "      <td>4</td>\n",
              "      <td>Lethal Weapon (1987)</td>\n",
              "      <td>['Action', 'Comedy', 'Crime', 'Drama']</td>\n",
              "    </tr>\n",
              "    <tr>\n",
              "      <th>18</th>\n",
              "      <td>1310</td>\n",
              "      <td>3526</td>\n",
              "      <td>4</td>\n",
              "      <td>Parenthood (1989)</td>\n",
              "      <td>['Comedy', 'Drama']</td>\n",
              "    </tr>\n",
              "    <tr>\n",
              "      <th>17</th>\n",
              "      <td>1310</td>\n",
              "      <td>3360</td>\n",
              "      <td>4</td>\n",
              "      <td>Hoosiers (1986)</td>\n",
              "      <td>['Drama']</td>\n",
              "    </tr>\n",
              "  </tbody>\n",
              "</table>\n",
              "</div>"
            ],
            "text/plain": [
              "    user_id  movie_id  rating                     title  \\\n",
              "5      1310      2248       5    Say Anything... (1989)   \n",
              "6      1310      2620       5  This Is My Father (1998)   \n",
              "7      1310      3683       5       Blood Simple (1984)   \n",
              "15     1310      1704       5  Good Will Hunting (1997)   \n",
              "1      1310      1293       5             Gandhi (1982)   \n",
              "12     1310      3101       4   Fatal Attraction (1987)   \n",
              "11     1310      1343       4          Cape Fear (1991)   \n",
              "20     1310      2000       4      Lethal Weapon (1987)   \n",
              "18     1310      3526       4         Parenthood (1989)   \n",
              "17     1310      3360       4           Hoosiers (1986)   \n",
              "\n",
              "                                    genres  \n",
              "5           ['Comedy', 'Drama', 'Romance']  \n",
              "6                     ['Drama', 'Romance']  \n",
              "7                   ['Drama', 'Film-Noir']  \n",
              "15                               ['Drama']  \n",
              "1                                ['Drama']  \n",
              "12                            ['Thriller']  \n",
              "11                            ['Thriller']  \n",
              "20  ['Action', 'Comedy', 'Crime', 'Drama']  \n",
              "18                     ['Comedy', 'Drama']  \n",
              "17                               ['Drama']  "
            ]
          },
          "metadata": {
            "tags": []
          },
          "execution_count": 44
        }
      ]
    },
    {
      "cell_type": "code",
      "metadata": {
        "colab_type": "code",
        "id": "RloRT2aazGp7",
        "outputId": "f6326d54-f570-426b-a0cf-0e8117fb5b42",
        "colab": {}
      },
      "source": [
        "# Top 20 movies that User 1310 hopefully will enjoy\n",
        "predictions"
      ],
      "execution_count": 0,
      "outputs": [
        {
          "output_type": "execute_result",
          "data": {
            "text/html": [
              "<div>\n",
              "<style scoped>\n",
              "    .dataframe tbody tr th:only-of-type {\n",
              "        vertical-align: middle;\n",
              "    }\n",
              "\n",
              "    .dataframe tbody tr th {\n",
              "        vertical-align: top;\n",
              "    }\n",
              "\n",
              "    .dataframe thead th {\n",
              "        text-align: right;\n",
              "    }\n",
              "</style>\n",
              "<table border=\"1\" class=\"dataframe\">\n",
              "  <thead>\n",
              "    <tr style=\"text-align: right;\">\n",
              "      <th></th>\n",
              "      <th>movie_id</th>\n",
              "      <th>title</th>\n",
              "      <th>genres</th>\n",
              "    </tr>\n",
              "  </thead>\n",
              "  <tbody>\n",
              "    <tr>\n",
              "      <th>1618</th>\n",
              "      <td>1674</td>\n",
              "      <td>Witness (1985)</td>\n",
              "      <td>['Drama', 'Romance', 'Thriller']</td>\n",
              "    </tr>\n",
              "    <tr>\n",
              "      <th>1880</th>\n",
              "      <td>1961</td>\n",
              "      <td>Rain Man (1988)</td>\n",
              "      <td>['Drama']</td>\n",
              "    </tr>\n",
              "    <tr>\n",
              "      <th>1187</th>\n",
              "      <td>1210</td>\n",
              "      <td>Star Wars: Episode VI - Return of the Jedi (1983)</td>\n",
              "      <td>['Action', 'Adventure', 'Romance', 'Sci-Fi', '...</td>\n",
              "    </tr>\n",
              "    <tr>\n",
              "      <th>1216</th>\n",
              "      <td>1242</td>\n",
              "      <td>Glory (1989)</td>\n",
              "      <td>['Action', 'Drama', 'War']</td>\n",
              "    </tr>\n",
              "    <tr>\n",
              "      <th>1202</th>\n",
              "      <td>1225</td>\n",
              "      <td>Amadeus (1984)</td>\n",
              "      <td>['Drama']</td>\n",
              "    </tr>\n",
              "    <tr>\n",
              "      <th>1273</th>\n",
              "      <td>1302</td>\n",
              "      <td>Field of Dreams (1989)</td>\n",
              "      <td>['Drama']</td>\n",
              "    </tr>\n",
              "    <tr>\n",
              "      <th>1220</th>\n",
              "      <td>1246</td>\n",
              "      <td>Dead Poets Society (1989)</td>\n",
              "      <td>['Drama']</td>\n",
              "    </tr>\n",
              "    <tr>\n",
              "      <th>1881</th>\n",
              "      <td>1962</td>\n",
              "      <td>Driving Miss Daisy (1989)</td>\n",
              "      <td>['Drama']</td>\n",
              "    </tr>\n",
              "    <tr>\n",
              "      <th>1877</th>\n",
              "      <td>1957</td>\n",
              "      <td>Chariots of Fire (1981)</td>\n",
              "      <td>['Drama']</td>\n",
              "    </tr>\n",
              "    <tr>\n",
              "      <th>1938</th>\n",
              "      <td>2020</td>\n",
              "      <td>Dangerous Liaisons (1988)</td>\n",
              "      <td>['Drama', 'Romance']</td>\n",
              "    </tr>\n",
              "    <tr>\n",
              "      <th>1233</th>\n",
              "      <td>1259</td>\n",
              "      <td>Stand by Me (1986)</td>\n",
              "      <td>['Adventure', 'Comedy', 'Drama']</td>\n",
              "    </tr>\n",
              "    <tr>\n",
              "      <th>3011</th>\n",
              "      <td>3098</td>\n",
              "      <td>Natural, The (1984)</td>\n",
              "      <td>['Drama']</td>\n",
              "    </tr>\n",
              "    <tr>\n",
              "      <th>2112</th>\n",
              "      <td>2194</td>\n",
              "      <td>Untouchables, The (1987)</td>\n",
              "      <td>['Action', 'Crime', 'Drama']</td>\n",
              "    </tr>\n",
              "    <tr>\n",
              "      <th>1876</th>\n",
              "      <td>1956</td>\n",
              "      <td>Ordinary People (1980)</td>\n",
              "      <td>['Drama']</td>\n",
              "    </tr>\n",
              "    <tr>\n",
              "      <th>1268</th>\n",
              "      <td>1296</td>\n",
              "      <td>Room with a View, A (1986)</td>\n",
              "      <td>['Drama', 'Romance']</td>\n",
              "    </tr>\n",
              "    <tr>\n",
              "      <th>2267</th>\n",
              "      <td>2352</td>\n",
              "      <td>Big Chill, The (1983)</td>\n",
              "      <td>['Comedy', 'Drama']</td>\n",
              "    </tr>\n",
              "    <tr>\n",
              "      <th>1278</th>\n",
              "      <td>1307</td>\n",
              "      <td>When Harry Met Sally... (1989)</td>\n",
              "      <td>['Comedy', 'Romance']</td>\n",
              "    </tr>\n",
              "    <tr>\n",
              "      <th>1165</th>\n",
              "      <td>1186</td>\n",
              "      <td>Sex, Lies, and Videotape (1989)</td>\n",
              "      <td>['Drama']</td>\n",
              "    </tr>\n",
              "    <tr>\n",
              "      <th>1199</th>\n",
              "      <td>1222</td>\n",
              "      <td>Full Metal Jacket (1987)</td>\n",
              "      <td>['Action', 'Drama', 'War']</td>\n",
              "    </tr>\n",
              "    <tr>\n",
              "      <th>2833</th>\n",
              "      <td>2919</td>\n",
              "      <td>Year of Living Dangerously (1982)</td>\n",
              "      <td>['Drama', 'Romance']</td>\n",
              "    </tr>\n",
              "  </tbody>\n",
              "</table>\n",
              "</div>"
            ],
            "text/plain": [
              "      movie_id                                              title  \\\n",
              "1618      1674                                     Witness (1985)   \n",
              "1880      1961                                    Rain Man (1988)   \n",
              "1187      1210  Star Wars: Episode VI - Return of the Jedi (1983)   \n",
              "1216      1242                                       Glory (1989)   \n",
              "1202      1225                                     Amadeus (1984)   \n",
              "1273      1302                             Field of Dreams (1989)   \n",
              "1220      1246                          Dead Poets Society (1989)   \n",
              "1881      1962                          Driving Miss Daisy (1989)   \n",
              "1877      1957                            Chariots of Fire (1981)   \n",
              "1938      2020                          Dangerous Liaisons (1988)   \n",
              "1233      1259                                 Stand by Me (1986)   \n",
              "3011      3098                                Natural, The (1984)   \n",
              "2112      2194                           Untouchables, The (1987)   \n",
              "1876      1956                             Ordinary People (1980)   \n",
              "1268      1296                         Room with a View, A (1986)   \n",
              "2267      2352                              Big Chill, The (1983)   \n",
              "1278      1307                     When Harry Met Sally... (1989)   \n",
              "1165      1186                    Sex, Lies, and Videotape (1989)   \n",
              "1199      1222                           Full Metal Jacket (1987)   \n",
              "2833      2919                  Year of Living Dangerously (1982)   \n",
              "\n",
              "                                                 genres  \n",
              "1618                   ['Drama', 'Romance', 'Thriller']  \n",
              "1880                                          ['Drama']  \n",
              "1187  ['Action', 'Adventure', 'Romance', 'Sci-Fi', '...  \n",
              "1216                         ['Action', 'Drama', 'War']  \n",
              "1202                                          ['Drama']  \n",
              "1273                                          ['Drama']  \n",
              "1220                                          ['Drama']  \n",
              "1881                                          ['Drama']  \n",
              "1877                                          ['Drama']  \n",
              "1938                               ['Drama', 'Romance']  \n",
              "1233                   ['Adventure', 'Comedy', 'Drama']  \n",
              "3011                                          ['Drama']  \n",
              "2112                       ['Action', 'Crime', 'Drama']  \n",
              "1876                                          ['Drama']  \n",
              "1268                               ['Drama', 'Romance']  \n",
              "2267                                ['Comedy', 'Drama']  \n",
              "1278                              ['Comedy', 'Romance']  \n",
              "1165                                          ['Drama']  \n",
              "1199                         ['Action', 'Drama', 'War']  \n",
              "2833                               ['Drama', 'Romance']  "
            ]
          },
          "metadata": {
            "tags": []
          },
          "execution_count": 45
        }
      ]
    },
    {
      "cell_type": "markdown",
      "metadata": {
        "colab_type": "text",
        "id": "TV81qcrkzGp9"
      },
      "source": [
        "- It's good to see that, although I didn't actually use the genre of the movie as a feature, the truncated matrix factorization features \"picked up\" on the underlying tastes and preferences of the user. \n",
        "- We've recommended some comedy, drama, and romance movies - all of which were genres of some of this user's top rated movies."
      ]
    },
    {
      "cell_type": "markdown",
      "metadata": {
        "colab_type": "text",
        "id": "5nlzFT_szGp9"
      },
      "source": [
        "### Model Evaluation\n",
        "\n",
        "We will use the [Surprise](https://pypi.python.org/pypi/scikit-surprise) library that provided various ready-to-use powerful prediction algorithms including (SVD) to evaluate its RMSE (Root Mean Squared Error) on the MovieLens dataset. It is a Python scikit building and analyzing recommender systems."
      ]
    },
    {
      "cell_type": "code",
      "metadata": {
        "colab_type": "code",
        "id": "7hBj8b-azGp-",
        "colab": {}
      },
      "source": [
        "# Import libraries from Surprise package\n",
        "from surprise import Reader, Dataset, SVD, evaluate\n",
        "\n",
        "# Load Reader library\n",
        "reader = Reader()\n",
        "\n",
        "# Load ratings dataset with Dataset library\n",
        "data = Dataset.load_from_df(ratings[['user_id', 'movie_id', 'rating']], reader)\n",
        "\n",
        "# Split the dataset for 5-fold evaluation\n",
        "data.split(n_folds=5)"
      ],
      "execution_count": 0,
      "outputs": []
    },
    {
      "cell_type": "code",
      "metadata": {
        "colab_type": "code",
        "id": "VJUkmYkFzGp_",
        "colab": {}
      },
      "source": [
        "from sklearn import model_selection"
      ],
      "execution_count": 0,
      "outputs": []
    },
    {
      "cell_type": "code",
      "metadata": {
        "colab_type": "code",
        "id": "hRTocB8SzGqA",
        "outputId": "3b9e6361-5c73-4c3b-801a-2a22a52eb063",
        "colab": {}
      },
      "source": [
        "# Use the SVD algorithm.\n",
        "svd = SVD()\n",
        "\n",
        "# Compute the RMSE of the SVD algorithm.\n",
        "evaluate(svd, data, measures=['RMSE'])"
      ],
      "execution_count": 0,
      "outputs": [
        {
          "output_type": "stream",
          "text": [
            "C:\\Users\\mrshu\\Anaconda3\\lib\\site-packages\\surprise\\evaluate.py:66: UserWarning: The evaluate() method is deprecated. Please use model_selection.cross_validate() instead.\n",
            "  'model_selection.cross_validate() instead.', UserWarning)\n",
            "C:\\Users\\mrshu\\Anaconda3\\lib\\site-packages\\surprise\\dataset.py:193: UserWarning: Using data.split() or using load_from_folds() without using a CV iterator is now deprecated. \n",
            "  UserWarning)\n"
          ],
          "name": "stderr"
        },
        {
          "output_type": "stream",
          "text": [
            "Evaluating RMSE of algorithm SVD.\n",
            "\n",
            "------------\n",
            "Fold 1\n",
            "RMSE: 0.8727\n",
            "------------\n",
            "Fold 2\n",
            "RMSE: 0.8756\n",
            "------------\n",
            "Fold 3\n",
            "RMSE: 0.8752\n",
            "------------\n",
            "Fold 4\n",
            "RMSE: 0.8744\n",
            "------------\n",
            "Fold 5\n",
            "RMSE: 0.8713\n",
            "------------\n",
            "------------\n",
            "Mean RMSE: 0.8738\n",
            "------------\n",
            "------------\n"
          ],
          "name": "stdout"
        },
        {
          "output_type": "execute_result",
          "data": {
            "text/plain": [
              "CaseInsensitiveDefaultDict(list,\n",
              "                           {'rmse': [0.8726963419998826,\n",
              "                             0.8755547872740207,\n",
              "                             0.8752116569129924,\n",
              "                             0.8743713997537512,\n",
              "                             0.871329651096296]})"
            ]
          },
          "metadata": {
            "tags": []
          },
          "execution_count": 48
        }
      ]
    },
    {
      "cell_type": "markdown",
      "metadata": {
        "colab_type": "text",
        "id": "0-CtVKJIzGqB"
      },
      "source": [
        "- Root Mean Square Error of 0.8736 which is pretty good. \n",
        "- Now train on the dataset and arrive at predictions."
      ]
    },
    {
      "cell_type": "code",
      "metadata": {
        "colab_type": "code",
        "id": "PLN0jQ85zGqC",
        "outputId": "4c640088-5fdf-4354-ca0b-03b8cadc55cb",
        "colab": {}
      },
      "source": [
        "trainset = data.build_full_trainset()\n",
        "svd.train(trainset)"
      ],
      "execution_count": 0,
      "outputs": [
        {
          "output_type": "stream",
          "text": [
            "C:\\Users\\mrshu\\Anaconda3\\lib\\site-packages\\surprise\\prediction_algorithms\\algo_base.py:51: UserWarning: train() is deprecated. Use fit() instead\n",
            "  warnings.warn('train() is deprecated. Use fit() instead', UserWarning)\n"
          ],
          "name": "stderr"
        },
        {
          "output_type": "execute_result",
          "data": {
            "text/plain": [
              "<surprise.prediction_algorithms.matrix_factorization.SVD at 0x23cb8a7ca90>"
            ]
          },
          "metadata": {
            "tags": []
          },
          "execution_count": 49
        }
      ]
    },
    {
      "cell_type": "markdown",
      "metadata": {
        "colab_type": "text",
        "id": "5EsO2bOVzGqH"
      },
      "source": [
        "We'll pick again user with ID 1310 and check the ratings he has given."
      ]
    },
    {
      "cell_type": "code",
      "metadata": {
        "colab_type": "code",
        "id": "pWALy14yzGqH",
        "outputId": "b44ef2d6-7a44-4d25-bf8a-9be94a35fded",
        "colab": {}
      },
      "source": [
        "ratings[ratings['user_id'] == 1310][:5]"
      ],
      "execution_count": 0,
      "outputs": [
        {
          "output_type": "execute_result",
          "data": {
            "text/html": [
              "<div>\n",
              "<style scoped>\n",
              "    .dataframe tbody tr th:only-of-type {\n",
              "        vertical-align: middle;\n",
              "    }\n",
              "\n",
              "    .dataframe tbody tr th {\n",
              "        vertical-align: top;\n",
              "    }\n",
              "\n",
              "    .dataframe thead th {\n",
              "        text-align: right;\n",
              "    }\n",
              "</style>\n",
              "<table border=\"1\" class=\"dataframe\">\n",
              "  <thead>\n",
              "    <tr style=\"text-align: right;\">\n",
              "      <th></th>\n",
              "      <th>user_id</th>\n",
              "      <th>movie_id</th>\n",
              "      <th>rating</th>\n",
              "    </tr>\n",
              "  </thead>\n",
              "  <tbody>\n",
              "    <tr>\n",
              "      <th>215928</th>\n",
              "      <td>1310</td>\n",
              "      <td>2988</td>\n",
              "      <td>3</td>\n",
              "    </tr>\n",
              "    <tr>\n",
              "      <th>215929</th>\n",
              "      <td>1310</td>\n",
              "      <td>1293</td>\n",
              "      <td>5</td>\n",
              "    </tr>\n",
              "    <tr>\n",
              "      <th>215930</th>\n",
              "      <td>1310</td>\n",
              "      <td>1295</td>\n",
              "      <td>2</td>\n",
              "    </tr>\n",
              "    <tr>\n",
              "      <th>215931</th>\n",
              "      <td>1310</td>\n",
              "      <td>1299</td>\n",
              "      <td>4</td>\n",
              "    </tr>\n",
              "    <tr>\n",
              "      <th>215932</th>\n",
              "      <td>1310</td>\n",
              "      <td>2243</td>\n",
              "      <td>4</td>\n",
              "    </tr>\n",
              "  </tbody>\n",
              "</table>\n",
              "</div>"
            ],
            "text/plain": [
              "        user_id  movie_id  rating\n",
              "215928     1310      2988       3\n",
              "215929     1310      1293       5\n",
              "215930     1310      1295       2\n",
              "215931     1310      1299       4\n",
              "215932     1310      2243       4"
            ]
          },
          "metadata": {
            "tags": []
          },
          "execution_count": 50
        }
      ]
    },
    {
      "cell_type": "markdown",
      "metadata": {
        "colab_type": "text",
        "id": "oSVOIrStzGqJ"
      },
      "source": [
        "Now let's use SVD to predict the rating that User with ID 1310 will give to a random movie (let's say with Movie ID 1994)."
      ]
    },
    {
      "cell_type": "code",
      "metadata": {
        "colab_type": "code",
        "id": "tZipkvLYzGqJ",
        "outputId": "8c986fe1-8a8a-4e9b-9c4e-cd98f629eb83",
        "colab": {}
      },
      "source": [
        "svd.predict(1310, 1994)"
      ],
      "execution_count": 0,
      "outputs": [
        {
          "output_type": "execute_result",
          "data": {
            "text/plain": [
              "Prediction(uid=1310, iid=1994, r_ui=None, est=3.6797961882102457, details={'was_impossible': False})"
            ]
          },
          "metadata": {
            "tags": []
          },
          "execution_count": 51
        }
      ]
    },
    {
      "cell_type": "markdown",
      "metadata": {
        "colab_type": "text",
        "id": "jd8kpMtbzGqL"
      },
      "source": [
        "For movie with ID 1994, I get an estimated prediction of 3.349. The recommender system works purely on the basis of an assigned movie ID and tries to predict ratings based on how the other users have predicted the movie."
      ]
    },
    {
      "cell_type": "markdown",
      "metadata": {
        "colab_type": "text",
        "id": "0lY7r8EwzGqM"
      },
      "source": [
        "## Conclusion\n",
        "In this notebook, I attempted to build a model-based Collaborative Filtering movie recommendation sytem based on latent features from a low rank matrix factorization method called SVD. As it captures the underlying features driving the raw data, it can scale significantly better to massive datasets as well as make better recommendations based on user's tastes.\n",
        "\n",
        "However, we still likely lose some meaningful signals by using a low-rank approximation. Specifically, there's an interpretability problem as a singular vector specifies a linear combination of all input columns or rows. There's also a lack of sparsity when the singular vectors are quite dense. Thus, SVD approach is limited to linear projections."
      ]
    }
  ]
}