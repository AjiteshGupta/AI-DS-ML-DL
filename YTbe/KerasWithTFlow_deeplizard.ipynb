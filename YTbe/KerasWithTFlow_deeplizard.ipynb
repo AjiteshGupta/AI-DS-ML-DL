{
  "nbformat": 4,
  "nbformat_minor": 0,
  "metadata": {
    "colab": {
      "name": "KerasWithTFlow_deeplizard.ipynb",
      "provenance": []
    },
    "kernelspec": {
      "name": "python3",
      "display_name": "Python 3"
    }
  },
  "cells": [
    {
      "cell_type": "markdown",
      "metadata": {
        "id": "R5ESP9YaIPSS",
        "colab_type": "text"
      },
      "source": [
        "#js\n",
        "# Youtube - Keras with Tensorflow"
      ]
    },
    {
      "cell_type": "markdown",
      "metadata": {
        "id": "J0ZoIiyQPixg",
        "colab_type": "text"
      },
      "source": [
        "#1 . Keras with TensorFlow Prerequisites - Getting Started With Neural Networks"
      ]
    },
    {
      "cell_type": "markdown",
      "metadata": {
        "id": "V2IjsaBlQUBT",
        "colab_type": "text"
      },
      "source": [
        "# 2 . TensorFlow and Keras GPU Support - CUDA GPU Setup\n",
        "<br>1. Cudo toolkit\n",
        "<br>2. Nvidia\n",
        "<br>3. Point- windows : Loading gpu code using Tensorflow. (It's one of the initial step)\n",
        "<br>4. "
      ]
    },
    {
      "cell_type": "code",
      "metadata": {
        "id": "S2ZE8AaTHuOJ",
        "colab_type": "code",
        "colab": {
          "base_uri": "https://localhost:8080/",
          "height": 34
        },
        "outputId": "8d00cda6-4470-419d-df3f-9ba23808f104"
      },
      "source": [
        "import tensorflow as tf\n",
        "print(\"Imported tensorflow package\")"
      ],
      "execution_count": 1,
      "outputs": [
        {
          "output_type": "stream",
          "text": [
            "Imported tensorflow package\n"
          ],
          "name": "stdout"
        }
      ]
    },
    {
      "cell_type": "code",
      "metadata": {
        "id": "OVWgCVZvVm0A",
        "colab_type": "code",
        "colab": {
          "base_uri": "https://localhost:8080/",
          "height": 68
        },
        "outputId": "3b3e3186-3ef6-4785-e662-b2cbaeba4d33"
      },
      "source": [
        "print(\"Version of the tensorflow : \", tf.__version__)\n",
        "print(\"\\nNew GPUs Available : \", len(tf.config.experimental.list_physical_devices('GPU')))"
      ],
      "execution_count": 4,
      "outputs": [
        {
          "output_type": "stream",
          "text": [
            "Version of the tensorflow :  2.3.0\n",
            "\n",
            "New GPUs Available :  0\n"
          ],
          "name": "stdout"
        }
      ]
    },
    {
      "cell_type": "markdown",
      "metadata": {
        "id": "DgP-MTbNWqgT",
        "colab_type": "text"
      },
      "source": [
        "# 3 . Keras with TensorFlow - Data Processing for Neural Network Training\n",
        "<br>1. fit function of the tensorflow\n",
        "<br>2. Example data : (customized scenario)\n",
        "<br>a. An experimental drug was tested on individuals from ages 13 to 100 in a clinical trial. \n",
        "<br>b. Thr trial had 2100 participants. Half were under 65 years old, half were 65 years or older. \n",
        "<br> c. 95% of patients 65 or older experienced side effects. \n",
        "<br> d. 95% of patients under 65 experienced no side effects.  "
      ]
    },
    {
      "cell_type": "markdown",
      "metadata": {
        "id": "EUgVkhW3X_fH",
        "colab_type": "text"
      },
      "source": [
        "## Data preparation and process"
      ]
    },
    {
      "cell_type": "code",
      "metadata": {
        "id": "dQBulXsAYDyv",
        "colab_type": "code",
        "colab": {
          "base_uri": "https://localhost:8080/",
          "height": 51
        },
        "outputId": "05265c17-3944-44ec-b36b-d6e9ee919713"
      },
      "source": [
        "import numpy as np\n",
        "from random import randint\n",
        "from sklearn.preprocessing import MinMaxScaler\n",
        "from sklearn.utils import shuffle\n",
        "\n",
        "print(\"Done - Import\")\n",
        "\n",
        "train_labels = []\n",
        "train_samples = []\n",
        "\n",
        "print(\"Done - Configuring train arrays\")"
      ],
      "execution_count": 6,
      "outputs": [
        {
          "output_type": "stream",
          "text": [
            "Done - Import\n",
            "Done - Configuring train arrays\n"
          ],
          "name": "stdout"
        }
      ]
    },
    {
      "cell_type": "code",
      "metadata": {
        "id": "eHD4oz-9aHDO",
        "colab_type": "code",
        "colab": {
          "base_uri": "https://localhost:8080/",
          "height": 34
        },
        "outputId": "865072db-dfa3-41da-9a75-5b02407804f2"
      },
      "source": [
        "for i in range(50):\n",
        "  # 5% of young individuals who did experiances side effects. \n",
        "  random_young = randint(13,64)\n",
        "  train_samples.append(random_young)\n",
        "  train_labels.append(1)\n",
        "\n",
        "  # 5% of old individuals who did not experiances side effects. \n",
        "  random_old = randint(65,100)\n",
        "  train_samples.append(random_old)\n",
        "  train_labels.append(0)\n",
        "\n",
        "\n",
        "\n",
        "print(\"End - Assigning age and labels.\")"
      ],
      "execution_count": 7,
      "outputs": [
        {
          "output_type": "stream",
          "text": [
            "End - for\n"
          ],
          "name": "stdout"
        }
      ]
    }
  ]
}