{
  "nbformat": 4,
  "nbformat_minor": 0,
  "metadata": {
    "colab": {
      "name": "jsDSDLMLwithPython_Udemy.ipynb",
      "provenance": [],
      "include_colab_link": true
    },
    "kernelspec": {
      "name": "python3",
      "display_name": "Python 3"
    }
  },
  "cells": [
    {
      "cell_type": "markdown",
      "metadata": {
        "id": "view-in-github",
        "colab_type": "text"
      },
      "source": [
        "<a href=\"https://colab.research.google.com/github/SudhakarAnemu/AI-DS-ML-DL/blob/master/jsDSDLMLwithPython_Udemy.ipynb\" target=\"_parent\"><img src=\"https://colab.research.google.com/assets/colab-badge.svg\" alt=\"Open In Colab\"/></a>"
      ]
    },
    {
      "cell_type": "code",
      "metadata": {
        "id": "TKuxhZu_XoB5",
        "colab_type": "code",
        "colab": {}
      },
      "source": [
        ""
      ],
      "execution_count": 0,
      "outputs": []
    },
    {
      "cell_type": "markdown",
      "metadata": {
        "id": "Xhkli6EYXuo0",
        "colab_type": "text"
      },
      "source": [
        "# Major types of Data\n",
        "a. Numerical\n",
        "Quantitaive(measure - height, weight), Discrete(count), \n",
        "Continuous(time, rain)\n",
        "b. Categorical\n",
        "Qualitative - M/F, Y/N\n",
        "c. Ordinal\n",
        "order, scale\n",
        "\n",
        "#Mean, Median and Mode\n",
        "\n",
        "\n",
        "\n"
      ]
    }
  ]
}