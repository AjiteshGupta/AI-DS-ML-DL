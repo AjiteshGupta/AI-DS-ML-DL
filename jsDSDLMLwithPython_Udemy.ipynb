{
  "nbformat": 4,
  "nbformat_minor": 0,
  "metadata": {
    "colab": {
      "name": "jsDSDLMLwithPython_Udemy.ipynb",
      "provenance": [],
      "include_colab_link": true
    },
    "kernelspec": {
      "name": "python3",
      "display_name": "Python 3"
    },
    "accelerator": "GPU"
  },
  "cells": [
    {
      "cell_type": "markdown",
      "metadata": {
        "id": "view-in-github",
        "colab_type": "text"
      },
      "source": [
        "<a href=\"https://colab.research.google.com/github/SudhakarAnemu/AI-DS-ML-DL/blob/master/jsDSDLMLwithPython_Udemy.ipynb\" target=\"_parent\"><img src=\"https://colab.research.google.com/assets/colab-badge.svg\" alt=\"Open In Colab\"/></a>"
      ]
    },
    {
      "cell_type": "markdown",
      "metadata": {
        "id": "Y43bhvUXcr9V",
        "colab_type": "text"
      },
      "source": [
        "## Importing all required pacages"
      ]
    },
    {
      "cell_type": "code",
      "metadata": {
        "id": "TKuxhZu_XoB5",
        "colab_type": "code",
        "colab": {
          "base_uri": "https://localhost:8080/",
          "height": 34
        },
        "outputId": "04f4b8d3-dcc3-40d8-c89b-c17d3fe370bb"
      },
      "source": [
        "import numpy as np\n",
        "%matplotlib inline\n",
        "import matplotlib.pyplot as plt\n",
        "from scipy import stats\n",
        "print(\"Import is completed\")"
      ],
      "execution_count": 31,
      "outputs": [
        {
          "output_type": "stream",
          "text": [
            "Import is completed\n"
          ],
          "name": "stdout"
        }
      ]
    },
    {
      "cell_type": "markdown",
      "metadata": {
        "id": "hPzy35LLPfSP",
        "colab_type": "text"
      },
      "source": [
        "# Sec2 : Prob and Stat"
      ]
    },
    {
      "cell_type": "markdown",
      "metadata": {
        "id": "Xhkli6EYXuo0",
        "colab_type": "text"
      },
      "source": [
        "## 12 Types of Data\n",
        "\n",
        "1. Numerical Data : \n",
        "quantity : height, page laod time, stock price\n",
        "2. Discrete Data : flip h/tail\n",
        "3. Continuous Data : \n",
        "rain fell in a day\n",
        "\n",
        "\n",
        "Categorical data : \n",
        "gender m/f, y/n\n",
        "\n",
        "\n",
        "Ordinal\n",
        "1/2 rating\n",
        "\n",
        "\n"
      ]
    },
    {
      "cell_type": "markdown",
      "metadata": {
        "id": "SV4hr_F5QKUf",
        "colab_type": "text"
      },
      "source": [
        "\n",
        "\n"
      ]
    },
    {
      "cell_type": "markdown",
      "metadata": {
        "id": "HEmG9leySI3E",
        "colab_type": "text"
      },
      "source": [
        "## 13 Mean, Median and Mode\n",
        "\n",
        "Mean : Avg\n",
        "Median : Mid value after sorting\n",
        "Mode : Most repeated valude"
      ]
    },
    {
      "cell_type": "markdown",
      "metadata": {
        "id": "rHVNa14caRdf",
        "colab_type": "text"
      },
      "source": [
        "## 14 Activity - Mean, Median and Mode"
      ]
    },
    {
      "cell_type": "code",
      "metadata": {
        "id": "Rnp5fozTaYlA",
        "colab_type": "code",
        "colab": {
          "base_uri": "https://localhost:8080/",
          "height": 67
        },
        "outputId": "b7a35429-a20b-49ff-9a55-6c5169e94d1d"
      },
      "source": [
        "incomes = np.random.normal(27000,15000,10000) # mean, std, # of data points\n",
        "print(\"Few values of incomes \", incomes)\n",
        "print(\"Mean : {} Mean : {}\".format(incomes.mean(), np.mean(incomes)))"
      ],
      "execution_count": 32,
      "outputs": [
        {
          "output_type": "stream",
          "text": [
            "Few values of incomes  [24527.28964241 26047.88671991 14529.73907574 ...  2674.539788\n",
            " 41223.1147656  41698.51886747]\n",
            "Mean : 26962.458311631493 Mean : 26962.458311631493\n"
          ],
          "name": "stdout"
        }
      ]
    },
    {
      "cell_type": "code",
      "metadata": {
        "id": "JHFFNjCJc6h3",
        "colab_type": "code",
        "colab": {
          "base_uri": "https://localhost:8080/",
          "height": 269
        },
        "outputId": "de842e58-fb2d-4ca1-9472-9e216f470d31"
      },
      "source": [
        "plt.hist(incomes,100)\n",
        "plt.show()"
      ],
      "execution_count": 33,
      "outputs": [
        {
          "output_type": "display_data",
          "data": {
            "image/png": "[encoded data removed]",
            "text/plain": [
              "<Figure size 432x288 with 1 Axes>"
            ]
          },
          "metadata": {
            "tags": []
          }
        }
      ]
    },
    {
      "cell_type": "code",
      "metadata": {
        "id": "gqgUbpVldqI1",
        "colab_type": "code",
        "colab": {
          "base_uri": "https://localhost:8080/",
          "height": 34
        },
        "outputId": "79cec376-3ddd-422a-ce51-a672be04e6d2"
      },
      "source": [
        "print(\"Median : {}, Mean : {}\".format(np.median(incomes),np.mean(incomes)))"
      ],
      "execution_count": 34,
      "outputs": [
        {
          "output_type": "stream",
          "text": [
            "Median : 27036.47730387752, Mean : 26962.458311631493\n"
          ],
          "name": "stdout"
        }
      ]
    },
    {
      "cell_type": "code",
      "metadata": {
        "id": "8rN9v6dhePyW",
        "colab_type": "code",
        "colab": {
          "base_uri": "https://localhost:8080/",
          "height": 50
        },
        "outputId": "13323a72-56ab-4486-c884-609c378286f4"
      },
      "source": [
        "print(\"Adding a huge number to check the diff between Median and Mean\")\n",
        "incomes = np.append(incomes,[1000000000])\n",
        "print(\"Median : {}, Mean : {}\".format(np.median(incomes),np.mean(incomes)))"
      ],
      "execution_count": 35,
      "outputs": [
        {
          "output_type": "stream",
          "text": [
            "Adding a huge number to check the diff between Median and Mean\n",
            "Median : 27037.53583527989, Mean : 126949.76333529796\n"
          ],
          "name": "stdout"
        }
      ]
    },
    {
      "cell_type": "code",
      "metadata": {
        "id": "yt-VFR1sbKPL",
        "colab_type": "code",
        "colab": {
          "base_uri": "https://localhost:8080/",
          "height": 282
        },
        "outputId": "b4c8713c-90c9-4de5-8448-a7424d487f03"
      },
      "source": [
        "plt.hist(incomes,100)\n",
        "plt.show()"
      ],
      "execution_count": 36,
      "outputs": [
        {
          "output_type": "display_data",
          "data": {
            "image/png": "[encoded data removed]",
            "text/plain": [
              "<Figure size 432x288 with 1 Axes>"
            ]
          },
          "metadata": {
            "tags": []
          }
        }
      ]
    },
    {
      "cell_type": "code",
      "metadata": {
        "id": "QfasBAnde89C",
        "colab_type": "code",
        "colab": {
          "base_uri": "https://localhost:8080/",
          "height": 538
        },
        "outputId": "a29f8038-22ad-4934-d19a-659da00c3af0"
      },
      "source": [
        "print(\"Lets work on Mode \")\n",
        "ages = np.random.randint(18, high = 90, size = 500)\n",
        "ages"
      ],
      "execution_count": 37,
      "outputs": [
        {
          "output_type": "stream",
          "text": [
            "Lets work on Mode \n"
          ],
          "name": "stdout"
        },
        {
          "output_type": "execute_result",
          "data": {
            "text/plain": [
              "array([53, 41, 45, 55, 31, 20, 86, 70, 65, 43, 37, 59, 41, 79, 41, 62, 21,\n",
              "       44, 38, 64, 83, 50, 67, 51, 35, 82, 71, 46, 40, 37, 83, 77, 58, 67,\n",
              "       43, 22, 36, 33, 79, 33, 22, 58, 32, 64, 42, 68, 27, 35, 72, 75, 35,\n",
              "       88, 66, 45, 58, 60, 48, 18, 53, 18, 72, 53, 52, 63, 75, 82, 60, 54,\n",
              "       69, 72, 55, 71, 48, 85, 81, 42, 86, 37, 45, 69, 25, 69, 67, 72, 53,\n",
              "       43, 36, 24, 30, 59, 79, 83, 32, 66, 26, 25, 47, 67, 29, 76, 72, 33,\n",
              "       18, 76, 19, 35, 63, 86, 31, 31, 28, 66, 54, 35, 50, 71, 64, 54, 71,\n",
              "       26, 61, 71, 69, 60, 67, 52, 58, 26, 42, 21, 65, 57, 48, 86, 54, 33,\n",
              "       45, 55, 78, 21, 86, 61, 25, 42, 27, 35, 50, 61, 24, 27, 75, 45, 67,\n",
              "       53, 39, 25, 81, 88, 64, 37, 56, 44, 46, 81, 44, 33, 44, 44, 87, 87,\n",
              "       61, 78, 49, 55, 33, 84, 77, 80, 79, 43, 84, 82, 88, 84, 70, 61, 40,\n",
              "       18, 26, 68, 33, 32, 22, 21, 53, 81, 49, 28, 69, 48, 42, 37, 51, 50,\n",
              "       62, 45, 33, 45, 44, 87, 84, 24, 79, 68, 82, 55, 55, 33, 72, 57, 67,\n",
              "       83, 42, 62, 79, 77, 38, 84, 53, 36, 38, 59, 40, 36, 79, 39, 39, 59,\n",
              "       41, 76, 26, 44, 61, 38, 35, 27, 20, 84, 62, 27, 74, 64, 54, 70, 37,\n",
              "       60, 40, 52, 44, 39, 58, 76, 79, 43, 70, 60, 24, 40, 80, 80, 56, 89,\n",
              "       49, 61, 38, 88, 65, 40, 36, 32, 77, 41, 41, 61, 47, 44, 51, 72, 50,\n",
              "       78, 51, 73, 48, 79, 60, 54, 74, 51, 58, 65, 36, 24, 38, 60, 48, 23,\n",
              "       86, 89, 82, 71, 52, 82, 73, 51, 71, 61, 78, 80, 58, 74, 41, 89, 79,\n",
              "       71, 71, 18, 42, 19, 83, 71, 72, 36, 60, 65, 36, 47, 63, 80, 47, 27,\n",
              "       55, 37, 68, 50, 38, 87, 35, 32, 73, 87, 89, 84, 52, 32, 86, 33, 35,\n",
              "       44, 63, 48, 59, 35, 62, 71, 85, 58, 68, 56, 34, 66, 79, 86, 55, 55,\n",
              "       31, 82, 59, 56, 48, 39, 80, 61, 70, 52, 52, 80, 18, 28, 22, 61, 81,\n",
              "       26, 23, 88, 80, 76, 33, 88, 20, 71, 38, 73, 59, 45, 82, 78, 73, 49,\n",
              "       36, 57, 32, 43, 27, 87, 68, 45, 88, 34, 60, 39, 60, 63, 57, 53, 39,\n",
              "       38, 73, 89, 56, 70, 26, 19, 77, 25, 48, 89, 46, 34, 22, 18, 35, 28,\n",
              "       52, 35, 46, 24, 26, 43, 75, 70, 74, 43, 32, 69, 30, 46, 59, 25, 27,\n",
              "       62, 65, 86, 63, 83, 33, 31, 41, 88, 76, 84, 32, 44, 53, 62, 61, 20,\n",
              "       24, 37, 56, 77, 28, 44, 47, 75, 25, 74, 79, 74, 35, 31, 36, 58, 49,\n",
              "       39, 63, 61, 75, 84, 75, 49])"
            ]
          },
          "metadata": {
            "tags": []
          },
          "execution_count": 37
        }
      ]
    },
    {
      "cell_type": "code",
      "metadata": {
        "id": "xYml-_ccfOqg",
        "colab_type": "code",
        "colab": {
          "base_uri": "https://localhost:8080/",
          "height": 454
        },
        "outputId": "b223366d-2a52-405f-d0f2-234c137b4458"
      },
      "source": [
        "plt.hist(ages,50)"
      ],
      "execution_count": 38,
      "outputs": [
        {
          "output_type": "execute_result",
          "data": {
            "text/plain": [
              "(array([10.,  4.,  9.,  2., 14.,  8.,  8.,  6.,  2., 15., 12., 16., 10.,\n",
              "         8., 17.,  6., 15.,  8., 12., 14.,  5., 15.,  6., 14.,  9.,  6.,\n",
              "        15.,  4., 17., 10., 20.,  7.,  5., 10.,  7., 12.,  7., 12., 14.,\n",
              "         6., 13.,  6., 17.,  8.,  5., 14.,  9., 11.,  6., 14.]),\n",
              " array([18.  , 19.42, 20.84, 22.26, 23.68, 25.1 , 26.52, 27.94, 29.36,\n",
              "        30.78, 32.2 , 33.62, 35.04, 36.46, 37.88, 39.3 , 40.72, 42.14,\n",
              "        43.56, 44.98, 46.4 , 47.82, 49.24, 50.66, 52.08, 53.5 , 54.92,\n",
              "        56.34, 57.76, 59.18, 60.6 , 62.02, 63.44, 64.86, 66.28, 67.7 ,\n",
              "        69.12, 70.54, 71.96, 73.38, 74.8 , 76.22, 77.64, 79.06, 80.48,\n",
              "        81.9 , 83.32, 84.74, 86.16, 87.58, 89.  ]),\n",
              " <a list of 50 Patch objects>)"
            ]
          },
          "metadata": {
            "tags": []
          },
          "execution_count": 38
        },
        {
          "output_type": "display_data",
          "data": {
            "image/png": "[encoded data removed]",
            "text/plain": [
              "<Figure size 432x288 with 1 Axes>"
            ]
          },
          "metadata": {
            "tags": []
          }
        }
      ]
    },
    {
      "cell_type": "code",
      "metadata": {
        "id": "tNV1ldCRfiia",
        "colab_type": "code",
        "colab": {
          "base_uri": "https://localhost:8080/",
          "height": 34
        },
        "outputId": "fdea6d35-a38c-44cd-b46a-6cf0ff52d1a3"
      },
      "source": [
        "print(\"Mode of age : \", stats.mode(ages))"
      ],
      "execution_count": 39,
      "outputs": [
        {
          "output_type": "stream",
          "text": [
            "Mode of age :  ModeResult(mode=array([35]), count=array([13]))\n"
          ],
          "name": "stdout"
        }
      ]
    }
  ]
}