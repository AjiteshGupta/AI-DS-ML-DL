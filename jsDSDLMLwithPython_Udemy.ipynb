{
  "nbformat": 4,
  "nbformat_minor": 0,
  "metadata": {
    "colab": {
      "name": "jsDSDLMLwithPython_Udemy.ipynb",
      "provenance": [],
      "include_colab_link": true
    },
    "kernelspec": {
      "name": "python3",
      "display_name": "Python 3"
    },
    "accelerator": "GPU"
  },
  "cells": [
    {
      "cell_type": "markdown",
      "metadata": {
        "id": "view-in-github",
        "colab_type": "text"
      },
      "source": [
        "<a href=\"https://colab.research.google.com/github/SudhakarAnemu/AI-DS-ML-DL/blob/master/jsDSDLMLwithPython_Udemy.ipynb\" target=\"_parent\"><img src=\"https://colab.research.google.com/assets/colab-badge.svg\" alt=\"Open In Colab\"/></a>"
      ]
    },
    {
      "cell_type": "markdown",
      "metadata": {
        "id": "Y43bhvUXcr9V",
        "colab_type": "text"
      },
      "source": [
        "## Importing all required pacages"
      ]
    },
    {
      "cell_type": "code",
      "metadata": {
        "id": "TKuxhZu_XoB5",
        "colab_type": "code",
        "outputId": "420fa0de-c08f-4122-ac75-7c033c51de7a",
        "colab": {
          "base_uri": "https://localhost:8080/",
          "height": 34
        }
      },
      "source": [
        "import numpy as np\n",
        "import scipy.stats as sp\n",
        "import matplotlib.pyplot as plt\n",
        "\n",
        "%matplotlib inline\n",
        "\n",
        "from scipy import stats\n",
        "from scipy.stats import norm\n",
        "from scipy.stats import expon\n",
        "from scipy.stats import binom\n",
        "from scipy.stats import poisson\n",
        "\n",
        "print(\"Import is completed\")"
      ],
      "execution_count": 41,
      "outputs": [
        {
          "output_type": "stream",
          "text": [
            "Import is completed\n"
          ],
          "name": "stdout"
        }
      ]
    },
    {
      "cell_type": "markdown",
      "metadata": {
        "id": "hPzy35LLPfSP",
        "colab_type": "text"
      },
      "source": [
        "# Sec2 : Prob and Stat"
      ]
    },
    {
      "cell_type": "markdown",
      "metadata": {
        "id": "Xhkli6EYXuo0",
        "colab_type": "text"
      },
      "source": [
        "## 12 Types of Data\n",
        "\n",
        "1. Numerical Data : \n",
        "quantity : height, page laod time, stock price\n",
        "2. Discrete Data : flip h/tail\n",
        "3. Continuous Data : \n",
        "rain fell in a day\n",
        "\n",
        "\n",
        "Categorical data : \n",
        "gender m/f, y/n\n",
        "\n",
        "\n",
        "Ordinal\n",
        "1/2 rating\n",
        "\n",
        "\n"
      ]
    },
    {
      "cell_type": "markdown",
      "metadata": {
        "id": "SV4hr_F5QKUf",
        "colab_type": "text"
      },
      "source": [
        "\n",
        "\n"
      ]
    },
    {
      "cell_type": "markdown",
      "metadata": {
        "id": "HEmG9leySI3E",
        "colab_type": "text"
      },
      "source": [
        "## 13 Mean, Median and Mode\n",
        "\n",
        "Mean : Avg\n",
        "Median : Mid value after sorting\n",
        "Mode : Most repeated valude"
      ]
    },
    {
      "cell_type": "markdown",
      "metadata": {
        "id": "rHVNa14caRdf",
        "colab_type": "text"
      },
      "source": [
        "## 14 Activity - Mean, Median and Mode"
      ]
    },
    {
      "cell_type": "code",
      "metadata": {
        "id": "Rnp5fozTaYlA",
        "colab_type": "code",
        "outputId": "b7a35429-a20b-49ff-9a55-6c5169e94d1d",
        "colab": {
          "base_uri": "https://localhost:8080/",
          "height": 67
        }
      },
      "source": [
        "incomes = np.random.normal(27000,15000,10000) # mean, std, # of data points\n",
        "print(\"Few values of incomes \", incomes)\n",
        "print(\"Mean : {} Mean : {}\".format(incomes.mean(), np.mean(incomes)))"
      ],
      "execution_count": 0,
      "outputs": [
        {
          "output_type": "stream",
          "text": [
            "Few values of incomes  [24527.28964241 26047.88671991 14529.73907574 ...  2674.539788\n",
            " 41223.1147656  41698.51886747]\n",
            "Mean : 26962.458311631493 Mean : 26962.458311631493\n"
          ],
          "name": "stdout"
        }
      ]
    },
    {
      "cell_type": "code",
      "metadata": {
        "id": "JHFFNjCJc6h3",
        "colab_type": "code",
        "outputId": "de842e58-fb2d-4ca1-9472-9e216f470d31",
        "colab": {
          "base_uri": "https://localhost:8080/",
          "height": 269
        }
      },
      "source": [
        "plt.hist(incomes,100)\n",
        "plt.show()"
      ],
      "execution_count": 0,
      "outputs": [
        {
          "output_type": "display_data",
          "data": {
            "image/png": "[encoded data removed]",
            "text/plain": [
              "<Figure size 432x288 with 1 Axes>"
            ]
          },
          "metadata": {
            "tags": []
          }
        }
      ]
    },
    {
      "cell_type": "code",
      "metadata": {
        "id": "gqgUbpVldqI1",
        "colab_type": "code",
        "outputId": "79cec376-3ddd-422a-ce51-a672be04e6d2",
        "colab": {
          "base_uri": "https://localhost:8080/",
          "height": 34
        }
      },
      "source": [
        "print(\"Median : {}, Mean : {}\".format(np.median(incomes),np.mean(incomes)))"
      ],
      "execution_count": 0,
      "outputs": [
        {
          "output_type": "stream",
          "text": [
            "Median : 27036.47730387752, Mean : 26962.458311631493\n"
          ],
          "name": "stdout"
        }
      ]
    },
    {
      "cell_type": "code",
      "metadata": {
        "id": "8rN9v6dhePyW",
        "colab_type": "code",
        "outputId": "13323a72-56ab-4486-c884-609c378286f4",
        "colab": {
          "base_uri": "https://localhost:8080/",
          "height": 50
        }
      },
      "source": [
        "print(\"Adding a huge number to check the diff between Median and Mean\")\n",
        "incomes = np.append(incomes,[1000000000])\n",
        "print(\"Median : {}, Mean : {}\".format(np.median(incomes),np.mean(incomes)))"
      ],
      "execution_count": 0,
      "outputs": [
        {
          "output_type": "stream",
          "text": [
            "Adding a huge number to check the diff between Median and Mean\n",
            "Median : 27037.53583527989, Mean : 126949.76333529796\n"
          ],
          "name": "stdout"
        }
      ]
    },
    {
      "cell_type": "code",
      "metadata": {
        "id": "yt-VFR1sbKPL",
        "colab_type": "code",
        "outputId": "b4c8713c-90c9-4de5-8448-a7424d487f03",
        "colab": {
          "base_uri": "https://localhost:8080/",
          "height": 282
        }
      },
      "source": [
        "plt.hist(incomes,100)\n",
        "plt.show()"
      ],
      "execution_count": 0,
      "outputs": [
        {
          "output_type": "display_data",
          "data": {
            "image/png": "[encoded data removed]",
            "text/plain": [
              "<Figure size 432x288 with 1 Axes>"
            ]
          },
          "metadata": {
            "tags": []
          }
        }
      ]
    },
    {
      "cell_type": "code",
      "metadata": {
        "id": "QfasBAnde89C",
        "colab_type": "code",
        "outputId": "a29f8038-22ad-4934-d19a-659da00c3af0",
        "colab": {
          "base_uri": "https://localhost:8080/",
          "height": 538
        }
      },
      "source": [
        "print(\"Lets work on Mode \")\n",
        "ages = np.random.randint(18, high = 90, size = 500)\n",
        "ages"
      ],
      "execution_count": 0,
      "outputs": [
        {
          "output_type": "stream",
          "text": [
            "Lets work on Mode \n"
          ],
          "name": "stdout"
        },
        {
          "output_type": "execute_result",
          "data": {
            "text/plain": [
              "array([53, 41, 45, 55, 31, 20, 86, 70, 65, 43, 37, 59, 41, 79, 41, 62, 21,\n",
              "       44, 38, 64, 83, 50, 67, 51, 35, 82, 71, 46, 40, 37, 83, 77, 58, 67,\n",
              "       43, 22, 36, 33, 79, 33, 22, 58, 32, 64, 42, 68, 27, 35, 72, 75, 35,\n",
              "       88, 66, 45, 58, 60, 48, 18, 53, 18, 72, 53, 52, 63, 75, 82, 60, 54,\n",
              "       69, 72, 55, 71, 48, 85, 81, 42, 86, 37, 45, 69, 25, 69, 67, 72, 53,\n",
              "       43, 36, 24, 30, 59, 79, 83, 32, 66, 26, 25, 47, 67, 29, 76, 72, 33,\n",
              "       18, 76, 19, 35, 63, 86, 31, 31, 28, 66, 54, 35, 50, 71, 64, 54, 71,\n",
              "       26, 61, 71, 69, 60, 67, 52, 58, 26, 42, 21, 65, 57, 48, 86, 54, 33,\n",
              "       45, 55, 78, 21, 86, 61, 25, 42, 27, 35, 50, 61, 24, 27, 75, 45, 67,\n",
              "       53, 39, 25, 81, 88, 64, 37, 56, 44, 46, 81, 44, 33, 44, 44, 87, 87,\n",
              "       61, 78, 49, 55, 33, 84, 77, 80, 79, 43, 84, 82, 88, 84, 70, 61, 40,\n",
              "       18, 26, 68, 33, 32, 22, 21, 53, 81, 49, 28, 69, 48, 42, 37, 51, 50,\n",
              "       62, 45, 33, 45, 44, 87, 84, 24, 79, 68, 82, 55, 55, 33, 72, 57, 67,\n",
              "       83, 42, 62, 79, 77, 38, 84, 53, 36, 38, 59, 40, 36, 79, 39, 39, 59,\n",
              "       41, 76, 26, 44, 61, 38, 35, 27, 20, 84, 62, 27, 74, 64, 54, 70, 37,\n",
              "       60, 40, 52, 44, 39, 58, 76, 79, 43, 70, 60, 24, 40, 80, 80, 56, 89,\n",
              "       49, 61, 38, 88, 65, 40, 36, 32, 77, 41, 41, 61, 47, 44, 51, 72, 50,\n",
              "       78, 51, 73, 48, 79, 60, 54, 74, 51, 58, 65, 36, 24, 38, 60, 48, 23,\n",
              "       86, 89, 82, 71, 52, 82, 73, 51, 71, 61, 78, 80, 58, 74, 41, 89, 79,\n",
              "       71, 71, 18, 42, 19, 83, 71, 72, 36, 60, 65, 36, 47, 63, 80, 47, 27,\n",
              "       55, 37, 68, 50, 38, 87, 35, 32, 73, 87, 89, 84, 52, 32, 86, 33, 35,\n",
              "       44, 63, 48, 59, 35, 62, 71, 85, 58, 68, 56, 34, 66, 79, 86, 55, 55,\n",
              "       31, 82, 59, 56, 48, 39, 80, 61, 70, 52, 52, 80, 18, 28, 22, 61, 81,\n",
              "       26, 23, 88, 80, 76, 33, 88, 20, 71, 38, 73, 59, 45, 82, 78, 73, 49,\n",
              "       36, 57, 32, 43, 27, 87, 68, 45, 88, 34, 60, 39, 60, 63, 57, 53, 39,\n",
              "       38, 73, 89, 56, 70, 26, 19, 77, 25, 48, 89, 46, 34, 22, 18, 35, 28,\n",
              "       52, 35, 46, 24, 26, 43, 75, 70, 74, 43, 32, 69, 30, 46, 59, 25, 27,\n",
              "       62, 65, 86, 63, 83, 33, 31, 41, 88, 76, 84, 32, 44, 53, 62, 61, 20,\n",
              "       24, 37, 56, 77, 28, 44, 47, 75, 25, 74, 79, 74, 35, 31, 36, 58, 49,\n",
              "       39, 63, 61, 75, 84, 75, 49])"
            ]
          },
          "metadata": {
            "tags": []
          },
          "execution_count": 37
        }
      ]
    },
    {
      "cell_type": "code",
      "metadata": {
        "id": "xYml-_ccfOqg",
        "colab_type": "code",
        "outputId": "b223366d-2a52-405f-d0f2-234c137b4458",
        "colab": {
          "base_uri": "https://localhost:8080/",
          "height": 454
        }
      },
      "source": [
        "plt.hist(ages,50)"
      ],
      "execution_count": 0,
      "outputs": [
        {
          "output_type": "execute_result",
          "data": {
            "text/plain": [
              "(array([10.,  4.,  9.,  2., 14.,  8.,  8.,  6.,  2., 15., 12., 16., 10.,\n",
              "         8., 17.,  6., 15.,  8., 12., 14.,  5., 15.,  6., 14.,  9.,  6.,\n",
              "        15.,  4., 17., 10., 20.,  7.,  5., 10.,  7., 12.,  7., 12., 14.,\n",
              "         6., 13.,  6., 17.,  8.,  5., 14.,  9., 11.,  6., 14.]),\n",
              " array([18.  , 19.42, 20.84, 22.26, 23.68, 25.1 , 26.52, 27.94, 29.36,\n",
              "        30.78, 32.2 , 33.62, 35.04, 36.46, 37.88, 39.3 , 40.72, 42.14,\n",
              "        43.56, 44.98, 46.4 , 47.82, 49.24, 50.66, 52.08, 53.5 , 54.92,\n",
              "        56.34, 57.76, 59.18, 60.6 , 62.02, 63.44, 64.86, 66.28, 67.7 ,\n",
              "        69.12, 70.54, 71.96, 73.38, 74.8 , 76.22, 77.64, 79.06, 80.48,\n",
              "        81.9 , 83.32, 84.74, 86.16, 87.58, 89.  ]),\n",
              " <a list of 50 Patch objects>)"
            ]
          },
          "metadata": {
            "tags": []
          },
          "execution_count": 38
        },
        {
          "output_type": "display_data",
          "data": {
            "image/png": "[encoded data removed]",
            "text/plain": [
              "<Figure size 432x288 with 1 Axes>"
            ]
          },
          "metadata": {
            "tags": []
          }
        }
      ]
    },
    {
      "cell_type": "code",
      "metadata": {
        "id": "tNV1ldCRfiia",
        "colab_type": "code",
        "outputId": "fdea6d35-a38c-44cd-b46a-6cf0ff52d1a3",
        "colab": {
          "base_uri": "https://localhost:8080/",
          "height": 34
        }
      },
      "source": [
        "print(\"Mode of age : \", stats.mode(ages))"
      ],
      "execution_count": 0,
      "outputs": [
        {
          "output_type": "stream",
          "text": [
            "Mode of age :  ModeResult(mode=array([35]), count=array([13]))\n"
          ],
          "name": "stdout"
        }
      ]
    },
    {
      "cell_type": "markdown",
      "metadata": {
        "id": "GPplV58yYxJJ",
        "colab_type": "text"
      },
      "source": [
        "## 15 Variation, Standard deviation, Population, Sample\n",
        "->talks abut shape of distribution of the dataset\n",
        "->Variance talks about how spread of the dataset\n",
        "->Variance(Sigma square):is simply the avg of squared diff from the mean\n",
        "Ex : Variance of (1,4,5,4,8)\n",
        "mean = (1+4+5+4+8)/5 = 4.4\n",
        "Diff from the mena : -3.4,-0.4,0.6,-0.4,3.6\n",
        "Squared diff : 11.56,0.16,0.36,0.16,12.96\n",
        "Find the avg of the sqrd diff=\n",
        "=(11.56+0.16+0.36+0.16+12.96)/5 = 5.04\n",
        "\n",
        "Std Deviation = sqrt of the Variance\n",
        "= Sqrt of 5.04 = 2.24\n",
        "\n",
        "- Papulation -> talks about full dataset\n",
        "- Sample -> talks about subset of the dataset\n",
        "Population Variance (sigma sqr) = sum(x-u)square/N\n",
        "Sample variance Ssquare = sum(x-m)square/N-1\n",
        "\n",
        "\n"
      ]
    },
    {
      "cell_type": "code",
      "metadata": {
        "id": "Zer-S-ylZAk9",
        "colab_type": "code",
        "colab": {
          "base_uri": "https://localhost:8080/",
          "height": 51
        },
        "outputId": "acfb6e7f-9e12-49b2-9325-b3f5b5d543bd"
      },
      "source": [
        "incomes=np.random.normal(100.0,20.0,10000)\n",
        "# s = np.random.normal(mu, sigma, 1000) -- sima = std deviation, mu - centered around 100\n",
        "incomes"
      ],
      "execution_count": 4,
      "outputs": [
        {
          "output_type": "execute_result",
          "data": {
            "text/plain": [
              "array([111.17392821,  85.20128462, 100.81231971, ..., 116.60069577,\n",
              "        88.60195178, 129.51486117])"
            ]
          },
          "metadata": {
            "tags": []
          },
          "execution_count": 4
        }
      ]
    },
    {
      "cell_type": "code",
      "metadata": {
        "id": "VhHMbwxigvQw",
        "colab_type": "code",
        "colab": {
          "base_uri": "https://localhost:8080/",
          "height": 269
        },
        "outputId": "c00ef01f-32ee-480d-96fc-eb7cf55311f5"
      },
      "source": [
        "plt.hist(incomes,50)\n",
        "plt.show()"
      ],
      "execution_count": 7,
      "outputs": [
        {
          "output_type": "display_data",
          "data": {
            "image/png": "[encoded data removed]",
            "text/plain": [
              "<Figure size 432x288 with 1 Axes>"
            ]
          },
          "metadata": {
            "tags": []
          }
        }
      ]
    },
    {
      "cell_type": "code",
      "metadata": {
        "id": "2BdctqLDhTba",
        "colab_type": "code",
        "colab": {
          "base_uri": "https://localhost:8080/",
          "height": 34
        },
        "outputId": "b014de18-e28a-4af7-f6e4-e53d89d5924a"
      },
      "source": [
        "print(\"Std : {} Variance : {}\".format(incomes.std(),incomes.var()))"
      ],
      "execution_count": 8,
      "outputs": [
        {
          "output_type": "stream",
          "text": [
            "Std : 19.8430258739519 Variance : 393.7456758343245\n"
          ],
          "name": "stdout"
        }
      ]
    },
    {
      "cell_type": "markdown",
      "metadata": {
        "id": "fmYJzHLmifSb",
        "colab_type": "text"
      },
      "source": [
        "## 16 Probability Density, Mass Functions\n",
        "\n"
      ]
    },
    {
      "cell_type": "markdown",
      "metadata": {
        "id": "WsLxu-3pjmJp",
        "colab_type": "text"
      },
      "source": [
        "## 17 Common Data Distributions\n"
      ]
    },
    {
      "cell_type": "code",
      "metadata": {
        "id": "0eMqbpoTjt1l",
        "colab_type": "code",
        "colab": {
          "base_uri": "https://localhost:8080/",
          "height": 269
        },
        "outputId": "d27645e4-3e4b-4ab0-b889-415766e7ea9b"
      },
      "source": [
        "values = np.random.uniform(-10.0,10.0,100000) #range(-10 to 10), # points\n",
        "plt.hist(values,100)\n",
        "plt.show()"
      ],
      "execution_count": 10,
      "outputs": [
        {
          "output_type": "display_data",
          "data": {
            "image/png": "[encoded data removed]",
            "text/plain": [
              "<Figure size 432x288 with 1 Axes>"
            ]
          },
          "metadata": {
            "tags": []
          }
        }
      ]
    },
    {
      "cell_type": "markdown",
      "metadata": {
        "id": "Vo3OyzlakUIW",
        "colab_type": "text"
      },
      "source": [
        "### Normal / Gaussion - Visualize the probability density function : "
      ]
    },
    {
      "cell_type": "code",
      "metadata": {
        "id": "Tk5mI_XxkOZv",
        "colab_type": "code",
        "colab": {
          "base_uri": "https://localhost:8080/",
          "height": 286
        },
        "outputId": "03554862-4fa4-430a-edf9-7324a7d00664"
      },
      "source": [
        "x = np.arange(-3,3,0.001) # x axist between -3,3 with increment of 0.001\n",
        "plt.plot(x,norm.pdf(x))"
      ],
      "execution_count": 13,
      "outputs": [
        {
          "output_type": "execute_result",
          "data": {
            "text/plain": [
              "[<matplotlib.lines.Line2D at 0x7fb135d60198>]"
            ]
          },
          "metadata": {
            "tags": []
          },
          "execution_count": 13
        },
        {
          "output_type": "display_data",
          "data": {
            "image/png": "[encoded data removed]",
            "text/plain": [
              "<Figure size 432x288 with 1 Axes>"
            ]
          },
          "metadata": {
            "tags": []
          }
        }
      ]
    },
    {
      "cell_type": "code",
      "metadata": {
        "id": "-eoJn2hxlMfW",
        "colab_type": "code",
        "colab": {
          "base_uri": "https://localhost:8080/",
          "height": 269
        },
        "outputId": "843b8b94-5c7f-4419-cfd8-42e63e4c009f"
      },
      "source": [
        "#Generate some random numbers with a normal distribution, \n",
        "# mu is the desired mean\n",
        "# sigma is the standard deviation \n",
        "\n",
        "mu = 5.0\n",
        "sigma = 2.0\n",
        "values = np.random.normal(mu,sigma,10000)\n",
        "plt.hist(values,100)\n",
        "plt.show()"
      ],
      "execution_count": 16,
      "outputs": [
        {
          "output_type": "display_data",
          "data": {
            "image/png": "[encoded data removed]",
            "text/plain": [
              "<Figure size 432x288 with 1 Axes>"
            ]
          },
          "metadata": {
            "tags": []
          }
        }
      ]
    },
    {
      "cell_type": "code",
      "metadata": {
        "id": "Jyc5r2vol1R2",
        "colab_type": "code",
        "colab": {
          "base_uri": "https://localhost:8080/",
          "height": 286
        },
        "outputId": "b7cfaae6-059c-4bb8-e3b0-334717138f2f"
      },
      "source": [
        "# Exponential PDF / \"Power Law\"\n",
        "\n",
        "x = np.arange(0,10,0.001)\n",
        "plt.plot(x, expon.pdf(x))"
      ],
      "execution_count": 22,
      "outputs": [
        {
          "output_type": "execute_result",
          "data": {
            "text/plain": [
              "[<matplotlib.lines.Line2D at 0x7fb13862e080>]"
            ]
          },
          "metadata": {
            "tags": []
          },
          "execution_count": 22
        },
        {
          "output_type": "display_data",
          "data": {
            "image/png": "[encoded data removed]",
            "text/plain": [
              "<Figure size 432x288 with 1 Axes>"
            ]
          },
          "metadata": {
            "tags": []
          }
        }
      ]
    },
    {
      "cell_type": "code",
      "metadata": {
        "id": "X-luZJz8m6oz",
        "colab_type": "code",
        "colab": {
          "base_uri": "https://localhost:8080/",
          "height": 286
        },
        "outputId": "b25e57c6-daa2-42cd-8141-ca997fef20b4"
      },
      "source": [
        "# Binomial Probability Mass Function \n",
        "\n",
        "n,p = 10, 0.5\n",
        "x=np.arange(0,10,0.001)\n",
        "plt.plot(x, binom.pmf(x,n,p))"
      ],
      "execution_count": 26,
      "outputs": [
        {
          "output_type": "execute_result",
          "data": {
            "text/plain": [
              "[<matplotlib.lines.Line2D at 0x7fb135af2160>]"
            ]
          },
          "metadata": {
            "tags": []
          },
          "execution_count": 26
        },
        {
          "output_type": "display_data",
          "data": {
            "image/png": "[encoded data removed]",
            "text/plain": [
              "<Figure size 432x288 with 1 Axes>"
            ]
          },
          "metadata": {
            "tags": []
          }
        }
      ]
    },
    {
      "cell_type": "code",
      "metadata": {
        "id": "FZlZdEaenlJV",
        "colab_type": "code",
        "colab": {
          "base_uri": "https://localhost:8080/",
          "height": 286
        },
        "outputId": "9562fbc8-4e39-4f44-b0f9-1adcb000b7b8"
      },
      "source": [
        "# Poisson Probability Mass Functon \n",
        "# my website gets on avg 500 visits per day, \n",
        "# whats the odds of getting 550?\n",
        "mu = 500\n",
        "x = np.arange(400, 600, 0.5)\n",
        "plt.plot(x, poisson.pmf(x,mu))"
      ],
      "execution_count": 29,
      "outputs": [
        {
          "output_type": "execute_result",
          "data": {
            "text/plain": [
              "[<matplotlib.lines.Line2D at 0x7fb135a97518>]"
            ]
          },
          "metadata": {
            "tags": []
          },
          "execution_count": 29
        },
        {
          "output_type": "display_data",
          "data": {
            "image/png": "[encoded data removed]",
            "text/plain": [
              "<Figure size 432x288 with 1 Axes>"
            ]
          },
          "metadata": {
            "tags": []
          }
        }
      ]
    },
    {
      "cell_type": "code",
      "metadata": {
        "id": "u0u0PbqTkFSu",
        "colab_type": "code",
        "colab": {}
      },
      "source": [
        "# What's the equivalent of probabilty distribution function\n",
        "# when using discrete instead of continuous data?\n",
        "# Ans : Prob mass function "
      ],
      "execution_count": 0,
      "outputs": []
    },
    {
      "cell_type": "markdown",
      "metadata": {
        "id": "gFaSQZYQoxms",
        "colab_type": "text"
      },
      "source": [
        "## 18 Percentiles and Moments\n",
        "\n",
        "a. Percentils\n",
        "in a data set, what is the point at which x% of the values are less than that value?\n",
        "ex : income distribution \n",
        "\n",
        "b. Moments : Quantitative measures of the shape of a probability density function\n"
      ]
    },
    {
      "cell_type": "code",
      "metadata": {
        "id": "AH6vyATqr552",
        "colab_type": "code",
        "colab": {
          "base_uri": "https://localhost:8080/",
          "height": 270
        },
        "outputId": "7a6db043-050a-415d-e60e-526be37a7ec7"
      },
      "source": [
        "vals = np.random.normal(0,0.5,10000)\n",
        "plt.hist(vals,50)\n",
        "plt.show()"
      ],
      "execution_count": 32,
      "outputs": [
        {
          "output_type": "display_data",
          "data": {
            "image/png": "[encoded data removed]",
            "text/plain": [
              "<Figure size 432x288 with 1 Axes>"
            ]
          },
          "metadata": {
            "tags": []
          }
        }
      ]
    },
    {
      "cell_type": "code",
      "metadata": {
        "id": "mySaibi0tQhe",
        "colab_type": "code",
        "colab": {
          "base_uri": "https://localhost:8080/",
          "height": 68
        },
        "outputId": "4de54bc1-b1b0-46ef-bef4-5af983b20e20"
      },
      "source": [
        "print(\"percentile 50 : \", np.percentile(vals,50))\n",
        "print(\"percentile 90 : \", np.percentile(vals,90))\n",
        "print(\"percentile 20 : \", np.percentile(vals,20))"
      ],
      "execution_count": 34,
      "outputs": [
        {
          "output_type": "stream",
          "text": [
            "percentile 50 :  0.005631614079274413\n",
            "percentile 90 :  0.6555137156089667\n",
            "percentile 20 :  -0.4220350298834048\n"
          ],
          "name": "stdout"
        }
      ]
    },
    {
      "cell_type": "code",
      "metadata": {
        "id": "kK6a1ETJuhuo",
        "colab_type": "code",
        "colab": {
          "base_uri": "https://localhost:8080/",
          "height": 269
        },
        "outputId": "9985036d-13eb-45c6-95bc-1b97e7b8d306"
      },
      "source": [
        "# Moments\n",
        "vals = np.random.normal(0,0.5,10000)\n",
        "plt.hist(vals,100)\n",
        "plt.show()"
      ],
      "execution_count": 37,
      "outputs": [
        {
          "output_type": "display_data",
          "data": {
            "image/png": "[encoded data removed]",
            "text/plain": [
              "<Figure size 432x288 with 1 Axes>"
            ]
          },
          "metadata": {
            "tags": []
          }
        }
      ]
    },
    {
      "cell_type": "code",
      "metadata": {
        "id": "Dh5iTBwEvRXe",
        "colab_type": "code",
        "colab": {
          "base_uri": "https://localhost:8080/",
          "height": 51
        },
        "outputId": "f815320c-6628-406d-9e3c-e1792c565af2"
      },
      "source": [
        "# The rist movement is the mean, \n",
        "# this data should avg out to about 0\n",
        "print(\"Mean : \", np.mean(vals))\n",
        "# the second moment is the variance\n",
        "print(\"Vals : \", np.var(vals))"
      ],
      "execution_count": 39,
      "outputs": [
        {
          "output_type": "stream",
          "text": [
            "Mean :  0.0037557898667150893\n",
            "Vals :  0.2494083121239028\n"
          ],
          "name": "stdout"
        }
      ]
    },
    {
      "cell_type": "code",
      "metadata": {
        "id": "eJS3A6YgwF1K",
        "colab_type": "code",
        "colab": {
          "base_uri": "https://localhost:8080/",
          "height": 34
        },
        "outputId": "dfc934a4-57bf-4890-b8dc-f3448e0149db"
      },
      "source": [
        "# The third moment is skew,\n",
        "# since our data is nicely centered around 0, it should be almos 0\n",
        "sp.skew(vals)"
      ],
      "execution_count": 43,
      "outputs": [
        {
          "output_type": "execute_result",
          "data": {
            "text/plain": [
              "-0.021692548010588567"
            ]
          },
          "metadata": {
            "tags": []
          },
          "execution_count": 43
        }
      ]
    },
    {
      "cell_type": "code",
      "metadata": {
        "id": "PjMypLpywSST",
        "colab_type": "code",
        "colab": {
          "base_uri": "https://localhost:8080/",
          "height": 34
        },
        "outputId": "e0001e0d-1e65-455d-f275-c199efb766c9"
      },
      "source": [
        "# Kurtosis, \n",
        "# which describes the shape of the tail, for normal distribution it is 0\n",
        "sp.kurtosis(vals)"
      ],
      "execution_count": 44,
      "outputs": [
        {
          "output_type": "execute_result",
          "data": {
            "text/plain": [
              "-0.06320939003398651"
            ]
          },
          "metadata": {
            "tags": []
          },
          "execution_count": 44
        }
      ]
    }
  ]
}