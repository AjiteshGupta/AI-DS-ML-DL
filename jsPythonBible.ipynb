{
  "nbformat": 4,
  "nbformat_minor": 0,
  "metadata": {
    "colab": {
      "name": "jsPythonBible.ipynb",
      "provenance": [],
      "include_colab_link": true
    },
    "kernelspec": {
      "name": "python3",
      "display_name": "Python 3"
    },
    "accelerator": "GPU"
  },
  "cells": [
    {
      "cell_type": "markdown",
      "metadata": {
        "id": "view-in-github",
        "colab_type": "text"
      },
      "source": [
        "<a href=\"https://colab.research.google.com/github/SudhakarAnemu/AI-DS-ML-DL/blob/master/jsPythonBible.ipynb\" target=\"_parent\"><img src=\"https://colab.research.google.com/assets/colab-badge.svg\" alt=\"Open In Colab\"/></a>"
      ]
    },
    {
      "cell_type": "markdown",
      "metadata": {
        "id": "AV_iQCiL8KJS",
        "colab_type": "text"
      },
      "source": [
        "# Importing required packages"
      ]
    },
    {
      "cell_type": "code",
      "metadata": {
        "id": "1Glcj8D57gzU",
        "colab_type": "code",
        "colab": {}
      },
      "source": [
        "import random"
      ],
      "execution_count": 0,
      "outputs": []
    },
    {
      "cell_type": "markdown",
      "metadata": {
        "id": "k-WPdDve7k3c",
        "colab_type": "text"
      },
      "source": [
        "# Playing with Numbers"
      ]
    },
    {
      "cell_type": "code",
      "metadata": {
        "id": "HYJX0EAn7rfl",
        "colab_type": "code",
        "colab": {
          "base_uri": "https://localhost:8080/",
          "height": 35
        },
        "outputId": "770a6d65-09d9-4818-ef6d-6914857b9d43"
      },
      "source": [
        "health = 50\n",
        "print(\"Value of the health variable is : \", health)"
      ],
      "execution_count": 1,
      "outputs": [
        {
          "output_type": "stream",
          "text": [
            "Value of the health variable is :  50\n"
          ],
          "name": "stdout"
        }
      ]
    },
    {
      "cell_type": "code",
      "metadata": {
        "id": "0vBrZdCC8qRH",
        "colab_type": "code",
        "colab": {
          "base_uri": "https://localhost:8080/",
          "height": 35
        },
        "outputId": "95ee00dd-9bca-436b-8e44-320dca25ba12"
      },
      "source": [
        "portion_health = random.randint(25,50)\n",
        "# health = random.\n",
        "\n",
        "print(\"Value of the health variable is : \", portion_health)"
      ],
      "execution_count": 14,
      "outputs": [
        {
          "output_type": "stream",
          "text": [
            "Value of the health variable is :  27\n"
          ],
          "name": "stdout"
        }
      ]
    }
  ]
}