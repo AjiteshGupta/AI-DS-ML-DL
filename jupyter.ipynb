{
  "nbformat": 4,
  "nbformat_minor": 0,
  "metadata": {
    "kernelspec": {
      "display_name": "Python 3",
      "language": "python",
      "name": "python3"
    },
    "language_info": {
      "codemirror_mode": {
        "name": "ipython",
        "version": 3
      },
      "file_extension": ".py",
      "mimetype": "text/x-python",
      "name": "python",
      "nbconvert_exporter": "python",
      "pygments_lexer": "ipython3",
      "version": "3.6.4"
    },
    "colab": {
      "name": "jupyter.ipynb",
      "version": "0.3.2",
      "provenance": [],
      "include_colab_link": true
    }
  },
  "cells": [
    {
      "cell_type": "markdown",
      "metadata": {
        "id": "view-in-github",
        "colab_type": "text"
      },
      "source": [
        "<a href=\"https://colab.research.google.com/github/SudhakarAnemu/AI-DS-ML-DL/blob/master/jupyter.ipynb\" target=\"_parent\"><img src=\"https://colab.research.google.com/assets/colab-badge.svg\" alt=\"Open In Colab\"/></a>"
      ]
    },
    {
      "cell_type": "markdown",
      "metadata": {
        "id": "VNetWN4t7Vc6",
        "colab_type": "text"
      },
      "source": [
        "# Intro: Matt & Jupyter\n",
        "\n",
        "Matt Harrison (@\\_\\_mharrison\\_\\_)\n",
        "\n",
        "Matt provide corporate training and consulting through MetaSnake. He has written best-selling books on Pandas (*Learning the Pandas Library*) and Python (*Illustrated Guide to Python 3*).\n",
        "\n",
        "If you have questions on Python syntax, check out https://github.com/mattharrison/Tiny-Python-3.6-Notebook"
      ]
    },
    {
      "cell_type": "code",
      "metadata": {
        "id": "b5zJzpSl7Vc8",
        "colab_type": "code",
        "colab": {
          "base_uri": "https://localhost:8080/",
          "height": 34
        },
        "outputId": "64290ab0-4d74-420e-a680-48b0ae183383"
      },
      "source": [
        "print(\"js\")"
      ],
      "execution_count": 1,
      "outputs": [
        {
          "output_type": "stream",
          "text": [
            "js\n"
          ],
          "name": "stdout"
        }
      ]
    },
    {
      "cell_type": "markdown",
      "metadata": {
        "id": "AXLeB18b7VdC",
        "colab_type": "text"
      },
      "source": [
        "# Jupyter Intro\n",
        "\n",
        "Jupyter notebook is an environment for combining interactive coding and text in a webbrowser. This allows us to easily share code as well as narrative around that code. An example that was popular in the scientific community was [the discovery of gravitational waves.](https://losc.ligo.org/s/events/GW150914/GW150914_tutorial.html)\n",
        "\n",
        "The name Jupyter is a rebranding of an open source project previously known as iPython Notebook. The rebranding was to emphasize that although the backend is written in Python, it supports various *kernals* to run other languages, including Julia (the \"Ju\" portion), Python (\"pyt\"), and R (\"er\"). All popular *data science* programming languages.\n",
        "\n",
        "The architecture of Jupyter includes a server running various kernals. Using a *notebook* we can interact with a kernal. Typically we use a webbrowser to do this, but there are other iterfaces, such as an emacs mode (ein).\n",
        "\n",
        "## Using Jupyter\n",
        "\n",
        "After we create a notebook, we are presented with a page with an empty cell. The cell will have a blue outline, ane the text:\n",
        "\n",
        "    In [ ]: \n",
        "    \n",
        "on the side. The blue outline indicates that we are in *command mode*. There are two modes in Jupyter, command mode and *edit mode*.\n",
        "\n",
        "To enter edit mode simply hit the enter or return key. You will notice that the outline will change to green. In edit mode, with a Python kernel, we can type Python code. Type:\n",
        "\n",
        "    print(\"hello world\")\n",
        "    \n",
        "You will notice that unlike a normal Python REPL, this will note print anything after hitting return again. To *execute* the cell, you need to hold down control and hit enter (``C-Enter``). This will run the code, print the results of the cell and put you back into edit mode.     \n",
        "\n",
        "## Edit Mode\n",
        "\n",
        "To enter *Edit Mode* you need to click on a cell or hit enter when it is surrounded by the blue outline. You will see that it goes green if you are in edit mode. In edit mode you have basic editing functionality. A few keys to know:\n",
        "\n",
        "* Ctr-Enter - Run cell (execute Python code, render Markdown)\n",
        "* ESC - Go back to command mode\n",
        "* TAB - Tab completion\n",
        "* Shift-TAB - Bring up tooltip (ESC to dismiss)\n",
        "\n",
        "\n",
        "## Command Mode\n",
        "\n",
        "*Command Mode* gives to the ability to create, copy, paste, move, and execute cells. A few keys to know:\n",
        "\n",
        "* h - Bring up help (ESC to dismiss)\n",
        "* b - Create cell below\n",
        "* a - Create cell above\n",
        "* c - Copy cell\n",
        "* v - Paste cell below\n",
        "* Enter - Go into Edit Mode\n",
        "* m - Change cell type to Markdown\n",
        "* y - Change cell type to code\n",
        "* ii - Interrupt kernel\n",
        "* oo - Restart kernel\n",
        "\n",
        "## Cell Types\n",
        "\n",
        "* Code\n",
        "* Markdown\n",
        "\n",
        "\n",
        "## Markdown\n",
        "\n",
        "Can make *italicized*, **bold**, and ``monospaced text``:\n",
        "\n",
        "    Can make *italicized*, **bold**, and ``monospaced text``\n",
        "\n",
        "\n",
        "Headers:\n",
        "\n",
        "    # H1\n",
        "    ## H2\n",
        "    ### H3\n",
        " \n",
        "Lists:\n",
        "\n",
        "    * First item\n",
        "    * Second item\n",
        "    \n",
        "Code:\n",
        "\n",
        "    If you indent by four spaces you have code:\n",
        "    \n",
        "        def add(x, y):\n",
        "            return x + yt\n",
        "    \n",
        "## Cell Magic\n",
        "\n",
        "type and run ``%lsmagic`` in a cell.\n",
        "\n",
        "Common magics include:\n",
        "\n",
        "* ``%%time`` - time how long it takes to run cell\n",
        "* ``%%!`` - run shell command\n",
        "* ``%matplotlib inline`` - show matplotlib plots\n",
        "\n",
        "\n",
        "## IPython Help\n",
        "Add ? after function, method, etc for documentation (can also run shift-tab 4 times in notebook). Add ?? after function, method, etc to see the source."
      ]
    },
    {
      "cell_type": "markdown",
      "metadata": {
        "id": "WCBS4ruY7VdD",
        "colab_type": "text"
      },
      "source": [
        "# Setup"
      ]
    },
    {
      "cell_type": "code",
      "metadata": {
        "id": "crTpz78A7VdE",
        "colab_type": "code",
        "colab": {},
        "outputId": "0bae0685-3248-4f3c-a9ea-33c5e9a30fe9"
      },
      "source": [
        "import pandas as pd\n",
        "import matplotlib\n",
        "import numpy as np\n",
        "\n",
        "pd.__version__, matplotlib.__version__, np.__version__"
      ],
      "execution_count": 0,
      "outputs": [
        {
          "output_type": "execute_result",
          "data": {
            "text/plain": [
              "('0.22.0', '2.1.2', '1.14.0')"
            ]
          },
          "metadata": {
            "tags": []
          },
          "execution_count": 13
        }
      ]
    },
    {
      "cell_type": "code",
      "metadata": {
        "id": "GyuTPM-v7VdM",
        "colab_type": "code",
        "colab": {},
        "outputId": "34d552b0-5fcc-40d4-e4f7-2ddd4aff7185"
      },
      "source": [
        "# test for unicode\n",
        "'\\N{SNAKE}'"
      ],
      "execution_count": 0,
      "outputs": [
        {
          "output_type": "execute_result",
          "data": {
            "text/plain": [
              "'🐍'"
            ]
          },
          "metadata": {
            "tags": []
          },
          "execution_count": 14
        }
      ]
    },
    {
      "cell_type": "code",
      "metadata": {
        "id": "_zlDDR9H7VdQ",
        "colab_type": "code",
        "colab": {},
        "outputId": "52088740-2ac3-4859-cc72-41ade464a516"
      },
      "source": [
        "import sys\n",
        "sys.getdefaultencoding() "
      ],
      "execution_count": 0,
      "outputs": [
        {
          "output_type": "execute_result",
          "data": {
            "text/plain": [
              "'utf-8'"
            ]
          },
          "metadata": {
            "tags": []
          },
          "execution_count": 15
        }
      ]
    },
    {
      "cell_type": "code",
      "metadata": {
        "id": "D3qQtVVQ7VdT",
        "colab_type": "code",
        "colab": {},
        "outputId": "232ef1ec-91b2-4dba-ec6d-52e8dc7b2c33"
      },
      "source": [
        "sys.version"
      ],
      "execution_count": 0,
      "outputs": [
        {
          "output_type": "execute_result",
          "data": {
            "text/plain": [
              "'3.6.4 (default, Jan  3 2018, 12:27:11) \\n[GCC 4.2.1 Compatible Apple LLVM 9.0.0 (clang-900.0.39.2)]'"
            ]
          },
          "metadata": {
            "tags": []
          },
          "execution_count": 16
        }
      ]
    },
    {
      "cell_type": "code",
      "metadata": {
        "id": "QKaGu9Wn7VdW",
        "colab_type": "code",
        "colab": {}
      },
      "source": [
        ""
      ],
      "execution_count": 0,
      "outputs": []
    },
    {
      "cell_type": "code",
      "metadata": {
        "id": "EzHu8MLq7VdZ",
        "colab_type": "code",
        "colab": {}
      },
      "source": [
        ""
      ],
      "execution_count": 0,
      "outputs": []
    }
  ]
}